{
 "cells": [
  {
   "cell_type": "code",
   "execution_count": 1,
   "metadata": {},
   "outputs": [],
   "source": [
    "import json \n",
    "assignmentsInfo = {\n",
    "    \"firstName\": \"Yufang\",\n",
    "    \"LastName\": \"Wang\",\n",
    "    \"studentID\": \"s3808394\",\n",
    "    \"sshGitHub\": \"git@github.com:Yufanggg/GitTry.git\"\n",
    "}\n",
    "\n",
    "with open( \"assignments.json\", \"w\" ) as f:        # [5] run this cell to generate assignments.json file\n",
    "    json.dump( obj = assignmentsInfo, fp = f )"
   ]
  },
  {
   "cell_type": "markdown",
   "metadata": {},
   "source": [
    "# Python standard libraries and scripts\n",
    "\n",
    "## Exceptions\n",
    "\n",
    "### Observe several exceptions\n",
    "\n",
    "Here are many exceptions defined in Python\n",
    "Hera are a few examples of code raising exceptions:"
   ]
  },
  {
   "cell_type": "code",
   "execution_count": null,
   "metadata": {},
   "outputs": [],
   "source": [
    "def fun(div):\n",
    "    print(f\"fun({div}) start\")\n",
    "\n",
    "    try:\n",
    "        print(f\"fun ({div}) try start\")\n",
    "        1/div\n",
    "        print(f\"fun ({div}) try done\")\n",
    "    except ZeroDivisionError:\n",
    "        print(f\"fun({div}) except ZeroDivision Error\")\n",
    "    finally:\n",
    "        print(f\"fun{div} finally\")\n",
    "              \n",
    "    print(f\"fun({div} end)\")"
   ]
  },
  {
   "cell_type": "code",
   "execution_count": 3,
   "metadata": {},
   "outputs": [],
   "source": [
    "ls = [\"oat flakes\", \"sugar\", \"half milk\", \"water\", \"banana\", \"blueberries\"]\n",
    "\n",
    "fileName = \"testfile.txt\"\n",
    "with open(file = fileName, mode = \"w\") as f:\n",
    "    for l in ls:\n",
    "        f.write(l)\n",
    "        f.write(\"\\n\")"
   ]
  },
  {
   "cell_type": "markdown",
   "metadata": {},
   "source": [
    "### Reading text files\n",
    "\n",
    "Use `mode = \"r\"` in `open(...)` to get reading access to a file.\n",
    "\n",
    "The `readlines()` method reads all lines from a file into a list of `str` texts"
   ]
  },
  {
   "cell_type": "code",
   "execution_count": 5,
   "metadata": {},
   "outputs": [
    {
     "data": {
      "text/plain": [
       "['oat flakes\\n',\n",
       " 'sugar\\n',\n",
       " 'half milk\\n',\n",
       " 'water\\n',\n",
       " 'banana\\n',\n",
       " 'blueberries\\n']"
      ]
     },
     "execution_count": 5,
     "metadata": {},
     "output_type": "execute_result"
    }
   ],
   "source": [
    "fileName = \"testfile.txt\"\n",
    "with open(file = fileName, mode = \"r\") as f:\n",
    "    lines = f.readlines()\n",
    "\n",
    "lines"
   ]
  },
  {
   "cell_type": "markdown",
   "metadata": {},
   "source": [
    "It is possible to process a file line-by-line without full reading into memory.\n",
    "\n",
    "Here, single lines are iterated over in a comprehension:\n"
   ]
  },
  {
   "cell_type": "code",
   "execution_count": 7,
   "metadata": {},
   "outputs": [
    {
     "data": {
      "text/plain": [
       "[11, 6, 10, 6, 7, 12]"
      ]
     },
     "execution_count": 7,
     "metadata": {},
     "output_type": "execute_result"
    }
   ],
   "source": [
    "fileName = \"testfile.txt\"\n",
    "with open(file = fileName, mode = \"r\") as f:\n",
    "    lineLens = [len(l) for l in f]\n",
    "\n",
    "lineLens"
   ]
  },
  {
   "cell_type": "markdown",
   "metadata": {},
   "source": [
    "And here, single lines are iterated over in a `for` loop:"
   ]
  },
  {
   "cell_type": "code",
   "execution_count": 8,
   "metadata": {},
   "outputs": [
    {
     "data": {
      "text/plain": [
       "[11, 6, 10, 6, 7, 12]"
      ]
     },
     "execution_count": 8,
     "metadata": {},
     "output_type": "execute_result"
    }
   ],
   "source": [
    "lineLens = []\n",
    "fileName = \"testfile.txt\"\n",
    "with open(file = fileName, mode = \"r\") as f:\n",
    "    for l in f:\n",
    "        lineLens.append(len(l))\n",
    "\n",
    "lineLens\n"
   ]
  },
  {
   "cell_type": "markdown",
   "metadata": {},
   "source": [
    "### Wirting/reading JSON files\n",
    "\n",
    "Simple/nested lists, dictionaries of texts and numbers can be easily written in the `JSON format`:\n"
   ]
  },
  {
   "cell_type": "code",
   "execution_count": 14,
   "metadata": {},
   "outputs": [],
   "source": [
    "import json\n",
    "\n",
    "assignmentsInfo = {\n",
    "    \"firstName\": \"Yufang\", \n",
    "    \"LastName\": \"Wang\"\n",
    "}\n",
    "\n",
    "fileName = \"assignments.json\"\n",
    "with open(fileName, \"w\") as f:\n",
    "    json.dump(obj=assignmentsInfo, fp = f)"
   ]
  },
  {
   "cell_type": "markdown",
   "metadata": {},
   "source": [
    "Also reading `.json` files is strightforward"
   ]
  },
  {
   "cell_type": "code",
   "execution_count": 15,
   "metadata": {},
   "outputs": [
    {
     "data": {
      "text/plain": [
       "{'firstName': 'Yufang', 'LastName': 'Wang'}"
      ]
     },
     "execution_count": 15,
     "metadata": {},
     "output_type": "execute_result"
    }
   ],
   "source": [
    "import json\n",
    "\n",
    "fileName = \"assignments.json\"\n",
    "with open(fileName, \"r\") as f:\n",
    "    ai = json.load(fp = f)\n",
    "\n",
    "ai"
   ]
  },
  {
   "cell_type": "markdown",
   "metadata": {},
   "source": [
    "## Scripts (not Python notebooks) and the command line\n",
    "\n",
    "### Python script vs. Python notebook\n",
    "\n",
    "Python scripts are simple text files (usually with extension `.py`) containing only Python statements.\n",
    "\n",
    "Simple pure-text editors may be used to write Python scripts, although dedicatted code editors are recommended.\n",
    "\n",
    "Python Jupyter notebooks are JSON documents describing cells which contain Python code, free user text written in Markdown, calculation output, etc.\n"
   ]
  },
  {
   "cell_type": "code",
   "execution_count": 16,
   "metadata": {},
   "outputs": [
    {
     "name": "stdout",
     "output_type": "stream",
     "text": [
      "Hello, world\n",
      "c:\\ProgramData\\anaconda3\\Lib\\site-packages\\ipykernel_launcher.py\n",
      "--f=c:\\Users\\Alisa_Wang\\AppData\\Roaming\\jupyter\\runtime\\kernel-v2-13832eXPy5kOCfSA5.json\n"
     ]
    }
   ],
   "source": [
    "import sys\n",
    "if __name__ == \"__main__\":\n",
    "    print(\"Hello, world\")\n",
    "    for a in sys.argv:\n",
    "        print(a)\n",
    "        "
   ]
  },
  {
   "cell_type": "markdown",
   "metadata": {},
   "source": [
    "## Math\n",
    "\n",
    "Scan quickly the reference page of the `math` (mathematical functions) module"
   ]
  },
  {
   "cell_type": "code",
   "execution_count": 17,
   "metadata": {},
   "outputs": [
    {
     "data": {
      "text/plain": [
       "10"
      ]
     },
     "execution_count": 17,
     "metadata": {},
     "output_type": "execute_result"
    }
   ],
   "source": [
    "from math import *\n",
    "\n",
    "# Sums, products\n",
    "vs = [1, 2, 3, 4]\n",
    "sum(vs)"
   ]
  },
  {
   "cell_type": "code",
   "execution_count": 19,
   "metadata": {},
   "outputs": [
    {
     "data": {
      "text/plain": [
       "24"
      ]
     },
     "execution_count": 19,
     "metadata": {},
     "output_type": "execute_result"
    }
   ],
   "source": [
    "prod(vs)"
   ]
  },
  {
   "cell_type": "code",
   "execution_count": 23,
   "metadata": {},
   "outputs": [
    {
     "name": "stdout",
     "output_type": "stream",
     "text": [
      "[0.0, 1.0, -1.0]\n",
      "1.0 10.0 -1.0\n",
      "2.718281828459045\n",
      "2.718281828459045\n",
      "[1.0, 12345.000000000005]\n"
     ]
    },
    {
     "data": {
      "text/plain": [
       "[2.0, 2.0, 1024]"
      ]
     },
     "execution_count": 23,
     "metadata": {},
     "output_type": "execute_result"
    }
   ],
   "source": [
    "# Power, exponents, logs\n",
    "print([log10(1), log10(10), log10(0.1)])\n",
    "print(log2(2), log2(1024), log2(0.5))\n",
    "print(exp(1))\n",
    "\n",
    "print(e)\n",
    "print([log(exp(1)), exp(log(12345))])\n",
    "[sqrt(4), pow(4, 0.5), 4**5]"
   ]
  },
  {
   "cell_type": "markdown",
   "metadata": {},
   "source": [
    "### Rounding"
   ]
  },
  {
   "cell_type": "code",
   "execution_count": 24,
   "metadata": {},
   "outputs": [
    {
     "data": {
      "text/plain": [
       "[2, 2, -3]"
      ]
     },
     "execution_count": 24,
     "metadata": {},
     "output_type": "execute_result"
    }
   ],
   "source": [
    "[floor(2.2), floor(2.9999), floor(-2.99999)]"
   ]
  },
  {
   "cell_type": "code",
   "execution_count": 25,
   "metadata": {},
   "outputs": [
    {
     "data": {
      "text/plain": [
       "[3, 3, -2]"
      ]
     },
     "execution_count": 25,
     "metadata": {},
     "output_type": "execute_result"
    }
   ],
   "source": [
    "[ceil(2.2), ceil(2.9999), ceil(-2.9999)]"
   ]
  },
  {
   "cell_type": "code",
   "execution_count": 26,
   "metadata": {},
   "outputs": [
    {
     "data": {
      "text/plain": [
       "[2, 2, -2]"
      ]
     },
     "execution_count": 26,
     "metadata": {},
     "output_type": "execute_result"
    }
   ],
   "source": [
    "[trunc(2.2), trunc(2.99999), trunc(-2.999999)]"
   ]
  },
  {
   "cell_type": "code",
   "execution_count": 28,
   "metadata": {},
   "outputs": [
    {
     "name": "stdout",
     "output_type": "stream",
     "text": [
      "[2, 3, -3]\n"
     ]
    },
    {
     "data": {
      "text/plain": [
       "{-2.5: -2, -1.5: -2, -0.5: 0, 0.5: 0, 1.5: 2, 2.5: 2}"
      ]
     },
     "execution_count": 28,
     "metadata": {},
     "output_type": "execute_result"
    }
   ],
   "source": [
    "print([round(2.2), round(2.999999), round(-2.99999)])\n",
    "{x: round(x) for x in [-2.5, -1.5, -0.5, 0.5, 1.5, 2.5]}"
   ]
  },
  {
   "cell_type": "markdown",
   "metadata": {},
   "source": [
    "### Combinatorics"
   ]
  },
  {
   "cell_type": "code",
   "execution_count": 30,
   "metadata": {},
   "outputs": [
    {
     "data": {
      "text/plain": [
       "6"
      ]
     },
     "execution_count": 30,
     "metadata": {},
     "output_type": "execute_result"
    }
   ],
   "source": [
    "comb(4, 2)"
   ]
  },
  {
   "cell_type": "code",
   "execution_count": 31,
   "metadata": {},
   "outputs": [
    {
     "data": {
      "text/plain": [
       "12"
      ]
     },
     "execution_count": 31,
     "metadata": {},
     "output_type": "execute_result"
    }
   ],
   "source": [
    "perm(4, 2)"
   ]
  },
  {
   "cell_type": "markdown",
   "metadata": {},
   "source": [
    "### Missing or infinite values"
   ]
  },
  {
   "cell_type": "code",
   "execution_count": 32,
   "metadata": {},
   "outputs": [
    {
     "data": {
      "text/plain": [
       "{0: False, 1: False, nan: True, inf: False, -inf: False}"
      ]
     },
     "execution_count": 32,
     "metadata": {},
     "output_type": "execute_result"
    }
   ],
   "source": [
    "vs = (0, 1, nan, inf, -inf)\n",
    "{v: isnan(v) for v in vs}"
   ]
  },
  {
   "cell_type": "code",
   "execution_count": 33,
   "metadata": {},
   "outputs": [
    {
     "data": {
      "text/plain": [
       "{0: False, 1: False, nan: False, inf: True, -inf: True}"
      ]
     },
     "execution_count": 33,
     "metadata": {},
     "output_type": "execute_result"
    }
   ],
   "source": [
    "vs = (0, 1, nan, inf, -inf)\n",
    "{v: isinf(v) for v in vs}"
   ]
  },
  {
   "cell_type": "code",
   "execution_count": 34,
   "metadata": {},
   "outputs": [
    {
     "data": {
      "text/plain": [
       "{0: True, 1: True, nan: False, inf: False, -inf: False}"
      ]
     },
     "execution_count": 34,
     "metadata": {},
     "output_type": "execute_result"
    }
   ],
   "source": [
    "vs = (0, 1, nan, inf, -inf)\n",
    "{v: isfinite(v) for v in vs}"
   ]
  },
  {
   "cell_type": "markdown",
   "metadata": {},
   "source": [
    "## (Pseudo-) random numbers\n",
    "\n",
    "Scan quickly the reference page of the `random`\n",
    "\n",
    "Note: do not use these functions for security purposes\n"
   ]
  },
  {
   "cell_type": "code",
   "execution_count": 35,
   "metadata": {},
   "outputs": [],
   "source": [
    "from random import *"
   ]
  },
  {
   "cell_type": "markdown",
   "metadata": {},
   "source": [
    "### Integers, seed"
   ]
  },
  {
   "cell_type": "code",
   "execution_count": 36,
   "metadata": {},
   "outputs": [
    {
     "data": {
      "text/plain": [
       "[14, 14, 18, 15, 18, 13, 18, 15, 18, 20]"
      ]
     },
     "execution_count": 36,
     "metadata": {},
     "output_type": "execute_result"
    }
   ],
   "source": [
    "[randint(10, 20) for i in range(10)]"
   ]
  },
  {
   "cell_type": "markdown",
   "metadata": {},
   "source": [
    "The generated numbers are only pseudo-random. They are based on an internally generated sequence of numbers.\n",
    "\n",
    "The `seed(num)` function allows to move the internal sequence to points defined by an integer `num`."
   ]
  },
  {
   "cell_type": "code",
   "execution_count": 37,
   "metadata": {},
   "outputs": [
    {
     "data": {
      "text/plain": [
       "[10, 14, 11, 16, 14, 11, 10, 16, 18, 18]"
      ]
     },
     "execution_count": 37,
     "metadata": {},
     "output_type": "execute_result"
    }
   ],
   "source": [
    "seed(123)\n",
    "[randint(10, 20) for i in range(10)]"
   ]
  },
  {
   "cell_type": "markdown",
   "metadata": {},
   "source": [
    "### Real numbers"
   ]
  },
  {
   "cell_type": "code",
   "execution_count": 38,
   "metadata": {},
   "outputs": [
    {
     "data": {
      "text/plain": [
       "[0.33219769850967984,\n",
       " 0.8520866189293687,\n",
       " 0.1596623967219699,\n",
       " 0.3372166571092755,\n",
       " 0.3337963946289553,\n",
       " 0.24516335251761112,\n",
       " 0.0016705535792228554,\n",
       " 0.4362757934152184,\n",
       " 0.08761349975042287,\n",
       " 0.5975994644879905]"
      ]
     },
     "execution_count": 38,
     "metadata": {},
     "output_type": "execute_result"
    }
   ],
   "source": [
    "[uniform(0, 1) for i in range(10)]"
   ]
  },
  {
   "cell_type": "code",
   "execution_count": 52,
   "metadata": {},
   "outputs": [
    {
     "data": {
      "text/plain": [
       "[0.2973753453085437,\n",
       " -3.473161453771694,\n",
       " -1.5315698986772202,\n",
       " -2.1721063544775068,\n",
       " 0.09017054493846807,\n",
       " 0.2698903068479846,\n",
       " 0.42708684791008833,\n",
       " 0.14588750142925255,\n",
       " 0.540044542877114,\n",
       " -1.5862289150361824]"
      ]
     },
     "execution_count": 52,
     "metadata": {},
     "output_type": "execute_result"
    }
   ],
   "source": [
    "[gauss(mu = 0, sigma = 1) for i in range(10)]"
   ]
  },
  {
   "cell_type": "markdown",
   "metadata": {},
   "source": [
    "### Collections\n",
    "Let's create a standard French `desk` representing 52 playing cards. It is possible to represent the cards by their `Unicode symbols`."
   ]
  },
  {
   "cell_type": "code",
   "execution_count": 40,
   "metadata": {},
   "outputs": [
    {
     "name": "stdout",
     "output_type": "stream",
     "text": [
      "A♠ A♥ A♦ A♣ 2♠ 2♥ 2♦ 2♣ 3♠ 3♥ 3♦ 3♣ 4♠ 4♥ 4♦ 4♣ 5♠ 5♥ 5♦ 5♣ 6♠ 6♥ 6♦ 6♣ 7♠ 7♥ 7♦ 7♣ 8♠ 8♥ 8♦ 8♣ 9♠ 9♥ 9♦ 9♣ 10♠ 10♥ 10♦ 10♣ J♠ J♥ J♦ J♣ Q♠ Q♥ Q♦ Q♣ K♠ K♥ K♦ K♣\n"
     ]
    }
   ],
   "source": [
    "suits = [ \"\\u2660\", \"\\u2665\", \"\\u2666\", \"\\u2663\" ]\n",
    "nums = [ \"A\", \"2\", \"3\", \"4\", \"5\", \"6\", \"7\", \"8\", \"9\", \"10\", \"J\", \"Q\", \"K\" ]\n",
    "\n",
    "deck = [n + s for n in nums for s in suits]\n",
    "print(\" \".join(deck))"
   ]
  },
  {
   "cell_type": "markdown",
   "metadata": {},
   "source": [
    "This is how a list can be shuffled (order of the elements gets randomly changes):"
   ]
  },
  {
   "cell_type": "code",
   "execution_count": 41,
   "metadata": {},
   "outputs": [
    {
     "name": "stdout",
     "output_type": "stream",
     "text": [
      "2♠ J♦ Q♠ 4♦ 6♦ 5♥ Q♥ 8♥ A♣ J♣ K♠ 3♥ 2♦ 2♣ 3♣ 8♠ 4♠ 5♦ 3♦ 10♥ 3♠ Q♣ 4♣ K♥ J♥ 2♥ 10♣ 7♠ 9♣ A♥ K♣ 6♣ 7♦ 8♣ 9♦ 7♣ 9♠ 7♥ A♠ 6♠ 10♠ Q♦ J♠ 10♦ 4♥ K♦ 9♥ 6♥ 5♣ A♦ 8♦ 5♠\n",
      "A♠ 5♦ 8♥ K♠ K♦ 5♥ 6♦ 2♦ 10♦ K♥ 10♥ 7♥ 7♣ J♦ 8♠ 10♣ 4♠ 8♣ 6♥ 9♠ 4♣ 3♠ 2♣ 7♠ Q♣ 6♠ 5♠ 4♥ A♦ Q♥ J♠ A♣ 2♠ Q♠ A♥ J♥ 9♣ Q♦ J♣ 3♥ K♣ 8♦ 3♣ 5♣ 6♣ 3♦ 10♠ 4♦ 9♥ 7♦ 9♦ 2♥\n",
      "3♦ 3♣ 6♣ A♣ 6♥ 10♦ 6♦ 9♣ 4♦ 8♠ A♦ 2♦ 9♦ Q♦ A♠ J♦ 6♠ 7♦ A♥ 4♠ 8♦ 8♣ 2♥ 7♥ 7♣ 4♥ J♣ 2♠ 4♣ Q♥ 3♥ 9♠ Q♣ Q♠ K♠ 5♥ 10♣ 7♠ K♥ K♦ 10♠ 10♥ 5♣ K♣ 5♦ 2♣ 5♠ 3♠ J♥ 9♥ 8♥ J♠\n"
     ]
    }
   ],
   "source": [
    "copiedDeck = deck.copy()\n",
    "for i in range(3):\n",
    "    shuffle(copiedDeck)\n",
    "    print(\" \".join(copiedDeck))"
   ]
  },
  {
   "cell_type": "markdown",
   "metadata": {},
   "source": [
    "Use `sample` to randomly select without returning elements of a list:"
   ]
  },
  {
   "cell_type": "code",
   "execution_count": 42,
   "metadata": {},
   "outputs": [
    {
     "name": "stdout",
     "output_type": "stream",
     "text": [
      "3♦ 9♥ 6♠ 9♠ 9♣\n",
      "3♠ 6♥ 9♠ 2♦ 9♦\n",
      "Q♦ 6♣ 4♦ 10♠ 6♥\n"
     ]
    }
   ],
   "source": [
    "for i in range(3):\n",
    "    d = sample(deck, k = 5)\n",
    "    print(str.join(\" \", d))"
   ]
  },
  {
   "cell_type": "markdown",
   "metadata": {},
   "source": [
    "Use `choice` for choosing with returning:"
   ]
  },
  {
   "cell_type": "code",
   "execution_count": 44,
   "metadata": {},
   "outputs": [
    {
     "name": "stdout",
     "output_type": "stream",
     "text": [
      "10♠ 10♥ 10♥ 10♦ 10♦ 10♦ 2♠ 2♠ 2♣ 2♥ 2♥ 2♥ 2♦ 2♦ 3♠ 3♠ 3♠ 3♣ 3♣ 3♣ 3♥ 3♦ 3♦ 3♦ 3♦ 3♦ 4♠ 4♠ 4♣ 4♦ 4♦ 4♦ 4♦ 5♠ 5♠ 5♣ 5♥ 5♦ 5♦ 5♦ 5♦ 6♠ 6♠ 6♠ 6♠ 6♣ 6♣ 6♥ 6♥ 6♥ 6♦ 6♦ 7♠ 7♠ 7♣ 7♣ 7♣ 7♥ 7♦ 7♦ 7♦ 7♦ 8♠ 8♣ 8♣ 9♣ 9♥ 9♥ 9♦ 9♦ A♠ A♣ A♥ A♥ A♦ A♦ J♠ J♠ J♥ J♥ J♥ K♠ K♠ K♠ K♠ K♣ K♦ K♦ Q♠ Q♠ Q♣ Q♣ Q♣ Q♥ Q♥ Q♥ Q♥ Q♦ Q♦ Q♦\n"
     ]
    }
   ],
   "source": [
    "d = choices(deck, k = 100)\n",
    "d.sort()\n",
    "print(str.join(\" \", d))"
   ]
  },
  {
   "cell_type": "markdown",
   "metadata": {},
   "source": [
    "## Statistics"
   ]
  },
  {
   "cell_type": "code",
   "execution_count": 46,
   "metadata": {},
   "outputs": [],
   "source": [
    "from statistics import *"
   ]
  },
  {
   "cell_type": "markdown",
   "metadata": {},
   "source": [
    "Let's generate some normally distributed numbers"
   ]
  },
  {
   "cell_type": "code",
   "execution_count": 48,
   "metadata": {},
   "outputs": [
    {
     "data": {
      "text/plain": [
       "[0.8167435043353304,\n",
       " -0.5595269800913834,\n",
       " -0.6385126432804733,\n",
       " 0.3756713320121314,\n",
       " 1.038783808486305,\n",
       " 0.027895267013778886,\n",
       " 0.13666577927769483,\n",
       " -0.3955816068811767,\n",
       " -1.0190901237094792,\n",
       " -0.2353855421009398,\n",
       " 0.17031975735902374,\n",
       " -0.979805284981954,\n",
       " -0.6960091319674209,\n",
       " 1.9115112910763794,\n",
       " 0.9343971192953534,\n",
       " 0.8999992151358424,\n",
       " -0.03353748235506777,\n",
       " 0.33010782806095057,\n",
       " -0.7208237567311262,\n",
       " -1.4093003821404093,\n",
       " 0.6109258680550494,\n",
       " -0.6107180244691848,\n",
       " -1.4076826424422824,\n",
       " -0.43212392659022875,\n",
       " 1.4787066365023633,\n",
       " -0.0644675711705157,\n",
       " -0.735642835432774,\n",
       " 1.9243384974220337,\n",
       " 0.21344348071866456,\n",
       " 0.6564093458369887,\n",
       " 0.35394485882591314,\n",
       " 0.10275040313119743,\n",
       " 0.8104456592060303,\n",
       " -2.539945235728966,\n",
       " 0.14977772200158693,\n",
       " 0.27307047016828523,\n",
       " 0.3247156124122254,\n",
       " 1.8520604958584497,\n",
       " -2.4583832639678675,\n",
       " 0.8163064532271577,\n",
       " -1.2920785278565423,\n",
       " 0.9298643149397151,\n",
       " 1.018024948279133,\n",
       " -1.2030207095012657,\n",
       " 0.365149128393332,\n",
       " -0.14743518675152006,\n",
       " 0.3398345391398101,\n",
       " -0.6096576774033038,\n",
       " -2.1947928582443006,\n",
       " 0.8798721843207391,\n",
       " 1.3887350287172262,\n",
       " -0.6986336664362166,\n",
       " 0.0698883501229003,\n",
       " 0.2601695127114293,\n",
       " 0.750095527387901,\n",
       " -0.9631257228830999,\n",
       " 0.3197548819625568,\n",
       " -0.044106621305610376,\n",
       " -1.3783640033378708,\n",
       " 0.8532322389300975,\n",
       " -0.970273158641999,\n",
       " 0.16935221845113863,\n",
       " -0.7543997393859347,\n",
       " -1.2208533207710917,\n",
       " -0.8739795915929915,\n",
       " 0.5963332017509886,\n",
       " -0.1812356981376313,\n",
       " -0.3871344133086544,\n",
       " 0.3100053635956807,\n",
       " 1.4286758445556358,\n",
       " -1.078815127192345,\n",
       " -1.3722977140497268,\n",
       " -0.44836247457218376,\n",
       " -0.7196781138946294,\n",
       " -1.5611142286045998,\n",
       " -0.09926725954533741,\n",
       " -0.4052036767182391,\n",
       " 1.8865737544619505,\n",
       " -1.8888741639247135,\n",
       " -0.40368727576431335,\n",
       " 0.39253034864125913,\n",
       " -0.19522814829316945,\n",
       " 0.04221234502405666,\n",
       " -0.05451374012535913,\n",
       " -1.3757250226302664,\n",
       " -0.7602163290848737,\n",
       " -1.3375000850754515,\n",
       " -0.16678449267225184,\n",
       " -0.237905454731415,\n",
       " -0.39577408813606274,\n",
       " 0.6358249449064418,\n",
       " -0.40152809808124257,\n",
       " 0.3801700963047103,\n",
       " -1.207455504490775,\n",
       " 0.8239547697012691,\n",
       " 0.15423343507362297,\n",
       " 0.01769599981200577,\n",
       " -0.9668604197821777,\n",
       " -0.11724723857458523,\n",
       " -1.8899054284613381]"
      ]
     },
     "execution_count": 48,
     "metadata": {},
     "output_type": "execute_result"
    }
   ],
   "source": [
    "vs = [gauss(mu = 0, sigma = 1) for i in range(100)]\n",
    "vs"
   ]
  },
  {
   "cell_type": "code",
   "execution_count": 50,
   "metadata": {},
   "outputs": [
    {
     "data": {
      "text/plain": [
       "{'min': -2.539945235728966,\n",
       " 'max': 1.9243384974220337,\n",
       " 'mean': -0.14718398031402002,\n",
       " 'median': -0.08186741535792655}"
      ]
     },
     "execution_count": 50,
     "metadata": {},
     "output_type": "execute_result"
    }
   ],
   "source": [
    "{\"min\": min(vs), \"max\": max(vs), \"mean\": mean(vs), \"median\": median(vs)}"
   ]
  },
  {
   "cell_type": "code",
   "execution_count": 51,
   "metadata": {},
   "outputs": [
    {
     "data": {
      "text/plain": [
       "{'sd': 0.9467548789006006, 'var': 0.8963448007220909}"
      ]
     },
     "execution_count": 51,
     "metadata": {},
     "output_type": "execute_result"
    }
   ],
   "source": [
    "{\"sd\": stdev(vs), \"var\": variance(vs)}"
   ]
  },
  {
   "cell_type": "markdown",
   "metadata": {},
   "source": [
    "# Self-study tasks\n",
    "### Python script to generate normally distributed random numbers (random, statsitcis, file write, script)"
   ]
  },
  {
   "cell_type": "code",
   "execution_count": 8,
   "metadata": {},
   "outputs": [],
   "source": [
    "# -----------Phrase 1: create an empty graph ---------\n",
    "import networkx as nx\n",
    "g = nx.Graph()\n",
    "\n",
    "# -----------Phrase 2: make adding vertices possible ------\n",
    "g.add_node(\"a\")"
   ]
  }
 ],
 "metadata": {
  "kernelspec": {
   "display_name": "base",
   "language": "python",
   "name": "python3"
  },
  "language_info": {
   "codemirror_mode": {
    "name": "ipython",
    "version": 3
   },
   "file_extension": ".py",
   "mimetype": "text/x-python",
   "name": "python",
   "nbconvert_exporter": "python",
   "pygments_lexer": "ipython3",
   "version": "3.11.5"
  }
 },
 "nbformat": 4,
 "nbformat_minor": 2
}
