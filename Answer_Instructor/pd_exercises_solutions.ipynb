{
 "cells": [
  {
   "cell_type": "code",
   "execution_count": null,
   "outputs": [],
   "source": [
    "import pandas as pd\n",
    "import numpy as np\n",
    "from numpy.random import default_rng\n",
    "rng = default_rng()"
   ],
   "metadata": {
    "collapsed": false
   }
  },
  {
   "cell_type": "markdown",
   "source": [
    "## Series"
   ],
   "metadata": {
    "collapsed": false
   }
  },
  {
   "cell_type": "markdown",
   "source": [
    "Given the Series below, without entering the statements:"
   ],
   "metadata": {
    "collapsed": false
   }
  },
  {
   "cell_type": "code",
   "execution_count": null,
   "outputs": [],
   "source": [
    "s = pd.Series(np.arange(5),index=list(\"abcde\"))"
   ],
   "metadata": {
    "collapsed": false
   }
  },
  {
   "cell_type": "markdown",
   "source": [
    "- predict the values and the type of object returned for each statement:"
   ],
   "metadata": {
    "collapsed": false
   }
  },
  {
   "cell_type": "code",
   "execution_count": null,
   "outputs": [],
   "source": [
    "s['d']        # value at index 'd'\n",
    "s['b':'d']    # values from indices 'b', 'c' and 'd'\n",
    "s[2::2][::-1] # values from the second position to the end in steps of 2, then reversed\n",
    "s[['b', 'a']] # values of sets of indices ['b', 'a']"
   ],
   "metadata": {
    "collapsed": false
   }
  },
  {
   "cell_type": "markdown",
   "source": [
    "- predict the contents of `s`, `s1` and `lst`:"
   ],
   "metadata": {
    "collapsed": false
   }
  },
  {
   "cell_type": "code",
   "execution_count": null,
   "outputs": [],
   "source": [
    "# 'lst' is a ndarray and Series 's' has a reference to 'lst' as its content, also termed a view. Any\n",
    "# change made to 's' will be a change to 'lst'. However, 's1' is a copy of 's' therefore any change\n",
    "# to 's1' is not propagated to 's' nor 'lst'.\n",
    "#\n",
    "lst, idx = np.arange(5), list(\"abcde\")\n",
    "s = pd.Series(lst,idx)\n",
    "s[-1:] = 10               # -1: is equivalent to -1 which marks the last position and is updated to 10 in 's' and 'lst'\n",
    "lst[0] = 5                # changes is 'lst' will be reflected in 's', therefore s[0] is equal to 5\n",
    "s1 = pd.Series(s.copy())  # s1 is a copy of s, a separate memory location\n",
    "s1[0] = -1                # s1[0] is set to -1 and s[0]=lst[0]=5"
   ],
   "metadata": {
    "collapsed": false
   }
  },
  {
   "cell_type": "markdown",
   "source": [
    "- predict the result of operation"
   ],
   "metadata": {
    "collapsed": false
   }
  },
  {
   "cell_type": "code",
   "execution_count": null,
   "outputs": [],
   "source": [
    "# Arithmetic operations on Series is done according to the overlapping indices and\n",
    "# the symmetric difference is set to NaN.\n",
    "s1 = pd.Series({'a': 0, 'b': 1, 'c': 2, 'd': 3, 'e': 4})\n",
    "s2 = pd.Series({'d': 0, 'e': 1, 'f': 2, 'g': 3})\n",
    "\n",
    "s1 + s2           # only 'd' and 'e' are common and are summed\n",
    "s1[3:] * s2[:-2]  # slices pick  overlapping indices: [3,4] * [0,1] = [0,4]"
   ],
   "metadata": {
    "collapsed": false
   }
  },
  {
   "cell_type": "markdown",
   "source": [
    "## DataFrame"
   ],
   "metadata": {
    "collapsed": false
   }
  },
  {
   "cell_type": "markdown",
   "source": [
    "Give the de dataframe below:\n",
    "\n",
    "retrieve:\n",
    "- row 2 as a Series as wel as a dataFrame\n",
    "- rows on even positions\n",
    "- rows with even indices\n",
    "- 3d column\n",
    "- odd (index) rows and columns 'b' to 'd'"
   ],
   "metadata": {
    "collapsed": false
   }
  },
  {
   "cell_type": "code",
   "execution_count": null,
   "outputs": [],
   "source": [
    "rng = default_rng(1234)\n",
    "df = pd.DataFrame(np.array(rng.standard_normal(25)).reshape(5,5),\n",
    "             index=[1, 0, 4, 3, 2], columns=list(\"abcde\"))"
   ],
   "metadata": {
    "collapsed": false
   }
  },
  {
   "cell_type": "code",
   "execution_count": null,
   "outputs": [],
   "source": [
    "type(df.loc[2])                   # row 2 as Series\n",
    "type(df.loc[[2]])                 # row 2 as DataFrame\n",
    "df.loc[df.index[0::2]]            # rows on even positions\n",
    "df.loc[df.index % 2 ==0]          # rows with even indices\n",
    "df.iloc[:,2]                      # 3rd column <=> df['c']\n",
    "df.loc[df.index % 2 !=0,'b':'d']  # odd index rows of columns 'b' and 'd'"
   ],
   "metadata": {
    "collapsed": false
   }
  },
  {
   "cell_type": "markdown",
   "source": [
    "### Merge DataFrames\n",
    "\n",
    "Given `df1`, `df2` and `df3` apply the following:\n",
    "\n",
    "- merge df1 and df2 side by side\n",
    "- merge df1 and df3 stacked\n",
    "- merge all and reset index"
   ],
   "metadata": {
    "collapsed": false
   }
  },
  {
   "cell_type": "code",
   "execution_count": null,
   "outputs": [],
   "source": [
    "df1 = pd.DataFrame({'name': ['ants', 'bees','wasps'] , 'order':['Hymenoptera']*3})\n",
    "df2 = pd.DataFrame({'name': ['beetles', 'weevils'] , 'order':['Coleoptera']*2})\n",
    "df3 = pd.DataFrame({'name': ['butterflies', 'moths'], 'order':['Lepidoptera']*2 })"
   ],
   "metadata": {
    "collapsed": false
   }
  },
  {
   "cell_type": "code",
   "execution_count": null,
   "outputs": [],
   "source": [
    "pd.concat([df1, df2], axis=1)\n",
    "pd.concat([df1, df3], axis=0)\n",
    "pd.concat([df1, df2, df3], axis=0,ignore_index=True) #"
   ],
   "metadata": {
    "collapsed": false
   }
  },
  {
   "cell_type": "markdown",
   "source": [
    "### Missing values"
   ],
   "metadata": {
    "collapsed": false
   }
  },
  {
   "cell_type": "markdown",
   "source": [
    "Given the following DataFrame"
   ],
   "metadata": {
    "collapsed": false
   }
  },
  {
   "cell_type": "code",
   "execution_count": null,
   "outputs": [],
   "source": [
    "df = pd.DataFrame(np.arange(25).reshape(5,5))"
   ],
   "metadata": {
    "collapsed": false
   }
  },
  {
   "cell_type": "markdown",
   "source": [
    "set the values to NaN to reproduce the following"
   ],
   "metadata": {
    "collapsed": false
   }
  },
  {
   "cell_type": "code",
   "execution_count": null,
   "outputs": [],
   "source": [
    "df.loc[0,0::2] = np.nan\n",
    "df.loc[::2,2] = np.nan\n",
    "df.loc[:,4] = np.nan\n",
    "df.loc[2,:] = np.nan"
   ],
   "metadata": {
    "collapsed": false
   }
  },
  {
   "cell_type": "markdown",
   "source": [
    "Apply the following on the dataframe with missing values created in the previous step.\n",
    "\n",
    "Drop missing:\n",
    "- rows with missing values\n",
    "- columns with missing values\n",
    "- rows where all values are missing\n",
    "- columns where all values are missing\n",
    "\n",
    "Fill missing:\n",
    "- with 0\n",
    "- with mean based on column values\n",
    "- with median based on row values"
   ],
   "metadata": {
    "collapsed": false
   }
  },
  {
   "cell_type": "code",
   "execution_count": null,
   "outputs": [],
   "source": [
    "# drop\n",
    "df.dropna(axis=0)             # all rows have missing values\n",
    "df.dropna(axis=1)             # all columns have missing values\n",
    "df.dropna(axis=0, how='all')  # row 2 has all missing\n",
    "df.dropna(axis=1, how='all')  # column 4 has all missing\n",
    "# fill\n",
    "df.fillna(0)                  #\n",
    "df.fillna(df.mean(axis=0))    # the vertical axis, axis=0, is taken to get the column means\n",
    "df.fillna(df.mean(axis=1))    # the horizontal axis, axis=1, is taken to get the row means"
   ],
   "metadata": {
    "collapsed": false
   }
  },
  {
   "cell_type": "markdown",
   "source": [
    "### Natural gas consumption in the Netherlands\n",
    "\n",
    "The dataset can be downloaded from [CBS Open data StatLine](https://opendata.cbs.nl/statline/portal.html?_la=en&_catalog=CBS). A version is already included in the data directory of this session's git repository. We will be using this dataset in the exercises to prepare for visualisation later on.\n",
    "\n",
    "We first read the data with `pd.read_csv`. Here we only select the columns `Periods` and `TotalSupply_1`:"
   ],
   "metadata": {
    "collapsed": false
   }
  },
  {
   "cell_type": "code",
   "execution_count": null,
   "outputs": [],
   "source": [
    "cbs = pd.read_csv(\"data/00372eng_UntypedDataSet_17032023_161051.csv\",sep=\";\")\n",
    "df0 = cbs[['Periods','TotalSupply_1']].copy()"
   ],
   "metadata": {
    "collapsed": false
   }
  },
  {
   "cell_type": "markdown",
   "source": [
    "The column `Periods`has the year (yyyy) followed by a tag {JJ,KW,MM} representing the yearly, quarterly and monthly terms respectively, and finally ending with two digits `00..12`. The two digit followed by the tags have different meaning per tag. For JJ it is always `00`, MM with `00..12` for 12 months and `KW`  with  `01..04` for four quarters. The column `TotaalAanbod_1` holds the natural gas consumption (MCM).\n",
    "\n",
    "In order to get more control over the date ranges will need to split the string based on a pattern `YYYY{MM,KW,JJ}{00,...,12}`. The Series class has a comprehensive set of submodules, one of which being `pandas.Series.str` with the method `split`. The `split` method takes a [regular expression](https://docs.python.org/3/library/re.html) describing the pattern, splits the string based on the pattern. Regular expressions fall beyond the scope of this course, therefore the solution is only given here."
   ],
   "metadata": {
    "collapsed": false
   }
  },
  {
   "cell_type": "code",
   "execution_count": null,
   "outputs": [],
   "source": [
    "df = df0.Periods.str.split(r'(JJ|MM|KW)', regex=True, expand=True)  # expand=True forces the result into\n",
    "                                                                    # a DataFrame\n",
    "df = pd.DataFrame({'year': df[0].astype(int),                       # Create DataFrame {year,term,idx}\n",
    "                        'term': df[1],\n",
    "                        'idx': df[2].astype(int)})\n",
    "\n",
    "df = pd.concat([df,cbs[['TotalSupply_1']]],axis=1)\n",
    "df"
   ],
   "metadata": {
    "collapsed": false
   }
  },
  {
   "cell_type": "markdown",
   "source": [
    "1) Write a function given a Series with {year,term,idx} returns a timestamp according to the following specification:\n",
    "\n",
    "```\n",
    "JJ : yyyyJJ00 => 31-12-yyyy\n",
    "KW : yyyyKWmm => where mm in {1,2,3,4}\n",
    "                 01: 1-1-yyyy to 31-3-yyyy\n",
    "                 02: 1-4-yyyy to 30-6-yyyy\n",
    "                 03: 1-7-yyyy to 30-9-yyyy\n",
    "                 04: 1-10-yyyy to 31-12-yyyy\n",
    "MM : yyyyMMmm => dd-mm-yyyy where dd is the last day of the month and\n",
    "                 mm in {1,..,12}\n",
    "```\n",
    "\n",
    "2) Create a new DataFrame called `ngc` (natural gas consumption) with three columns {term, date, consumption} :\n",
    "- term : {JJ,KW,MM}\n",
    "- date : timestamps as specified in the previous exercise\n",
    "- consumption: which is `TotalSupply_1` only renamed"
   ],
   "metadata": {
    "collapsed": false
   }
  },
  {
   "cell_type": "code",
   "execution_count": null,
   "outputs": [],
   "source": [
    "def last_day(ts):\n",
    "    \"\"\"\n",
    "    given a timestamp we can calculate the number of days in the month by subtracting the timestamps' next\n",
    "    month from this month on the same day and year. This results in a Timedelta of days. Only for the last\n",
    "    month of the year we need to make an exception to set the next month's year to the next year.\n",
    "\n",
    "    :param ts:\n",
    "    :return: Number of days in the month (int).\n",
    "    \"\"\"\n",
    "    return (ts.replace(year=ts.year + (ts.month == 12), month=(ts.month % 12) + 1) - ts).days\n",
    "\n",
    "\n",
    "def to_ts(s):\n",
    "    \"\"\"\n",
    "    Apply the following timestamp format for each term {JJ,KW,MM}:\n",
    "\n",
    "    JJ : yyyyJJ00 => 31-12-yyyy\n",
    "    KW : yyyyKWdd => 01: 1-1-yyyy to 31-3-yyyy\n",
    "                     02: 1-4-yyyy to 30-6-yyyy\n",
    "                     03: 1-7-yyyy to 30-9-yyyy\n",
    "                     04: 1-10-yyyy to 31-12-yyyy\n",
    "    MM : yyyyMMdd => 1-xx-yyyy\n",
    "\n",
    "    :param format_:\n",
    "    :param s: {year,term,idx}\n",
    "    :return: Timestamp\n",
    "    \"\"\"\n",
    "    year_, term, idx = s\n",
    "\n",
    "    #\n",
    "    # import sys\n",
    "    # sys.version\n",
    "\n",
    "    if term == 'JJ':\n",
    "        day_, month_ = 31, 12\n",
    "        return pd.Timestamp(year=year_, month=month_, day=day_)\n",
    "    elif term == 'KW':\n",
    "        day_, month_ = [(31,3),(30,6),(30,9),(31,12)][idx-1]\n",
    "        return pd.Timestamp(year=year_, month=month_, day=day_)\n",
    "    elif term == 'MM':\n",
    "        day_, month_ = last_day(pd.Timestamp(year=year_, month=idx, day=1)), idx\n",
    "        return pd.Timestamp(year=year_, month=month_, day=day_)\n",
    "    else:\n",
    "        raise Exception('invalid tag, valid tags:  {JJ, KW, MM} !')\n",
    "\n",
    "    \"\"\" Alternative for if/elif/.../else.\n",
    "\n",
    "    The construct match/case is available in Python versions >=3.10 The following\n",
    "    commented out code is equivalent to the if/elif/.../else construct that creates\n",
    "    timestamps here above.\n",
    "\n",
    "    \"\"\"\n",
    "\n",
    "    # match term:\n",
    "    #     case 'JJ':\n",
    "    #         day_, month_ = 31, 12\n",
    "    #         return pd.Timestamp(year=year_, month=month_, day=day_)\n",
    "    #     case 'KW':\n",
    "    #         day_, month_ = [(31,3),(30,6),(30,9),(31,12)][idx-1]\n",
    "    #         return pd.Timestamp(year=year_, month=month_, day=day_)\n",
    "    #     case 'MM':\n",
    "    #         day_, month_ = last_day(pd.Timestamp(year=year_, month=idx, day=1)), idx\n",
    "    #         return pd.Timestamp(year=year_, month=month_, day=day_)\n",
    "\n",
    "\n",
    "df['date'] = [to_ts(s[:-1]) for i,s in df.iterrows()] # create the date variable\n",
    "ngc = df[['term', 'date', 'TotalSupply_1']].copy()      # make a copy\n",
    "ngc.columns = ['term', 'date','consumption']           # rename TotalSupply_1 to consumption"
   ],
   "metadata": {
    "collapsed": false
   }
  },
  {
   "cell_type": "markdown",
   "source": [
    "Validate entries in the ngc DataFrame from the previous step:\n",
    "- whether sum of 3 months consumptions are equal to the corresponding quarterly entries(KW)\n",
    "- whether sum of 4 quarters addup to the yearly (JJ) entries"
   ],
   "metadata": {
    "collapsed": false
   }
  },
  {
   "cell_type": "code",
   "execution_count": null,
   "outputs": [],
   "source": [
    "jj,kw,mm = [ngc.loc[ngc.term==t] for t in ['JJ','KW','MM']]"
   ],
   "metadata": {
    "collapsed": false
   }
  },
  {
   "cell_type": "code",
   "execution_count": null,
   "outputs": [],
   "source": [
    "j = jj.groupby(pd.Grouper(key='date', freq='Y'))['consumption'].sum()       # yearly\n",
    "q = kw.groupby(pd.Grouper(key='date', freq='Y'))['consumption'].sum()       # quarterly\n",
    "m = mm.groupby(pd.Grouper(key='date', freq='Y'))['consumption'].sum()[:-1]  # monthly : remove last year (only two months)\n",
    "j = j[q.index.min():] # remove years for which there are no corresponding months and quarters"
   ],
   "metadata": {
    "collapsed": false
   }
  },
  {
   "cell_type": "code",
   "execution_count": null,
   "outputs": [],
   "source": [
    "(q==m).all()  # compare quarterly and monthly"
   ],
   "metadata": {
    "collapsed": false
   }
  },
  {
   "cell_type": "code",
   "execution_count": null,
   "outputs": [],
   "source": [
    "(q==j).all()  # compare quarterly and yearly"
   ],
   "metadata": {
    "collapsed": false
   }
  }
 ],
 "metadata": {
  "kernelspec": {
   "display_name": "Python 3",
   "language": "python",
   "name": "python3"
  },
  "language_info": {
   "codemirror_mode": {
    "name": "ipython",
    "version": 2
   },
   "file_extension": ".py",
   "mimetype": "text/x-python",
   "name": "python",
   "nbconvert_exporter": "python",
   "pygments_lexer": "ipython2",
   "version": "2.7.6"
  }
 },
 "nbformat": 4,
 "nbformat_minor": 0
}
