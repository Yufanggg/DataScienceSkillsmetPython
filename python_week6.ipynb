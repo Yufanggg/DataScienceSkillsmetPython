{
 "cells": [
  {
   "cell_type": "markdown",
   "metadata": {},
   "source": [
    "# Numpy\n",
    "\n",
    "Numpy forms the base in many Python libraries in different scientific fields because of its high performance implementation of multidimensional array calld ndarray. Numpy features include:\n",
    "\n",
    "- Vectorisation: array operations are applied to the entire array without python-level loops.\n",
    "\n",
    "- Memory: its own memory block independent of python's type checking and overhead.\n",
    "\n",
    "- Random number generation and distributions \n",
    "\n",
    "- Linear algebra\n",
    "\n",
    "- C API: c-based user-defined and optimised algorithms.\n",
    "\n",
    "- etc."
   ]
  },
  {
   "cell_type": "markdown",
   "metadata": {},
   "source": [
    "# Outline\n",
    "- ndarray\n",
    "- Arithmetic operations\n",
    "- Basic indexing\n",
    "- Indexing in higher dimensions\n",
    "- Combine arrays\n",
    "- Numpy functions and array methods\n",
    "- Exercise"
   ]
  },
  {
   "cell_type": "code",
   "execution_count": 2,
   "metadata": {},
   "outputs": [
    {
     "name": "stdout",
     "output_type": "stream",
     "text": [
      "[1 2 3]\n",
      "[1 2 3]\n",
      "[1 2 3]\n"
     ]
    }
   ],
   "source": [
    "import numpy as np\n",
    "\n",
    "# 1-dimensional array\n",
    "print(np.array([1, 2, 3]))\n",
    "\n",
    "print(np.array(range(1, 4)))\n",
    "\n",
    "print(np.array((1, 2, 3)))"
   ]
  },
  {
   "cell_type": "markdown",
   "metadata": {},
   "source": [
    "## Inspection attributes: ndim, shape, dtype, size"
   ]
  },
  {
   "cell_type": "code",
   "execution_count": 5,
   "metadata": {},
   "outputs": [
    {
     "name": "stdout",
     "output_type": "stream",
     "text": [
      "1\n",
      "(3,)\n",
      "int32\n",
      "3\n"
     ]
    }
   ],
   "source": [
    "arrld = np.array([1, 2, 3])\n",
    "\n",
    "print(arrld.ndim) # number of dimensions\n",
    "\n",
    "print(np.array(range(1, 4)).shape) # size of dimensions\n",
    "\n",
    "print(np.array((1, 2, 3)).dtype) # type of the content\n",
    "\n",
    "print(np.array((1, 2, 3)).size) # number of elements"
   ]
  },
  {
   "cell_type": "code",
   "execution_count": 6,
   "metadata": {},
   "outputs": [
    {
     "name": "stdout",
     "output_type": "stream",
     "text": [
      "() 0 int32\n"
     ]
    }
   ],
   "source": [
    "# Scalar objects lead to a 0-dimensional array\n",
    "arr0d = np.array(10)\n",
    "print(arr0d.shape, arr0d.ndim, arr0d.dtype)"
   ]
  },
  {
   "cell_type": "markdown",
   "metadata": {},
   "source": [
    "# arange\n",
    "Use *arange* function (equivalent to python *range*) to create an array of numbers over a range[i, j), possibly in steps"
   ]
  },
  {
   "cell_type": "code",
   "execution_count": 7,
   "metadata": {},
   "outputs": [
    {
     "name": "stdout",
     "output_type": "stream",
     "text": [
      "[0 1 2 3 4 5 6 7 8 9]\n",
      "[0 1 2 3 4 5 6 7 8 9]\n",
      "[0. 1. 2. 3. 4. 5. 6. 7. 8. 9.]\n",
      "[0 3 6 9]\n"
     ]
    }
   ],
   "source": [
    "print(np.arange(10))\n",
    "print(np.arange(0, 10)) # type int64\n",
    "print(np.arange(0., 10)) # type float64\n",
    "print(np.arange(0, 10, 3)) # type int64"
   ]
  },
  {
   "cell_type": "markdown",
   "metadata": {},
   "source": [
    "# 2-ddimensioanl array\n",
    "The following are examples of 2-dimensional arrays"
   ]
  },
  {
   "cell_type": "code",
   "execution_count": 8,
   "metadata": {},
   "outputs": [
    {
     "name": "stdout",
     "output_type": "stream",
     "text": [
      "[[1 2 3]\n",
      " [4 5 6]]\n",
      "[[1 2 3]\n",
      " [4 5 6]]\n"
     ]
    }
   ],
   "source": [
    "arr2d = np.array([[1, 2, 3], [4, 5, 6]]) # list of lists\n",
    "print(arr2d)\n",
    "print(np.array(((1, 2, 3), (4, 5, 6)))) # tuple of tuples"
   ]
  },
  {
   "cell_type": "markdown",
   "metadata": {},
   "source": [
    "## reshape method"
   ]
  },
  {
   "cell_type": "code",
   "execution_count": 9,
   "metadata": {},
   "outputs": [
    {
     "data": {
      "text/plain": [
       "array([[[ 0,  1,  2,  3],\n",
       "        [ 4,  5,  6,  7],\n",
       "        [ 8,  9, 10, 11]],\n",
       "\n",
       "       [[12, 13, 14, 15],\n",
       "        [16, 17, 18, 19],\n",
       "        [20, 21, 22, 23]]])"
      ]
     },
     "execution_count": 9,
     "metadata": {},
     "output_type": "execute_result"
    }
   ],
   "source": [
    "arr3d = np.arange(24).reshape(2, 3, 4)\n",
    "arr3d"
   ]
  },
  {
   "cell_type": "code",
   "execution_count": 10,
   "metadata": {},
   "outputs": [
    {
     "data": {
      "text/plain": [
       "array([[ 0,  1,  2,  3],\n",
       "       [ 4,  5,  6,  7],\n",
       "       [ 8,  9, 10, 11]])"
      ]
     },
     "execution_count": 10,
     "metadata": {},
     "output_type": "execute_result"
    }
   ],
   "source": [
    "[v1, v2] = arr3d\n",
    "v1"
   ]
  },
  {
   "cell_type": "code",
   "execution_count": 11,
   "metadata": {},
   "outputs": [
    {
     "data": {
      "text/plain": [
       "array([0, 1, 2, 3])"
      ]
     },
     "execution_count": 11,
     "metadata": {},
     "output_type": "execute_result"
    }
   ],
   "source": [
    "[[x0, x1, x2], v2] = arr3d\n",
    "x0"
   ]
  },
  {
   "cell_type": "markdown",
   "metadata": {},
   "source": [
    "# C or Fortran order\n",
    "Alter order either C-like or Fortran-like style"
   ]
  },
  {
   "cell_type": "code",
   "execution_count": 15,
   "metadata": {},
   "outputs": [
    {
     "name": "stdout",
     "output_type": "stream",
     "text": [
      "[[0 1]\n",
      " [2 3]\n",
      " [4 5]\n",
      " [6 7]]\n",
      "[[0 1]\n",
      " [2 3]\n",
      " [4 5]\n",
      " [6 7]]\n",
      "[[0 4]\n",
      " [1 5]\n",
      " [2 6]\n",
      " [3 7]]\n"
     ]
    }
   ],
   "source": [
    "arr2d = np.arange(8).reshape(4, 2)\n",
    "print(arr2d)\n",
    "\n",
    "arr2d = np.arange(8).reshape((4, 2), order = \"C\") # row-wise\n",
    "print(arr2d)\n",
    "\n",
    "arr2d = np.arange(8).reshape((4, 2), order = \"F\") # column-wise\n",
    "print(arr2d)"
   ]
  },
  {
   "cell_type": "markdown",
   "metadata": {},
   "source": [
    "# tolist\n",
    "\n",
    "Covert the array of any dimension, to list structure"
   ]
  },
  {
   "cell_type": "code",
   "execution_count": 16,
   "metadata": {},
   "outputs": [
    {
     "data": {
      "text/plain": [
       "[[0, 4], [1, 5], [2, 6], [3, 7]]"
      ]
     },
     "execution_count": 16,
     "metadata": {},
     "output_type": "execute_result"
    }
   ],
   "source": [
    "arr2d.tolist()"
   ]
  },
  {
   "cell_type": "markdown",
   "metadata": {},
   "source": [
    "# Multiple assignments\n",
    "To access individual components you can use python's multiple assignment feature:"
   ]
  },
  {
   "cell_type": "code",
   "execution_count": 19,
   "metadata": {},
   "outputs": [],
   "source": [
    "arr3d = np.arange(8).reshape(2, 2, 2)\n",
    "\n",
    "# systematically\n",
    "plane0, plane1 = arr3d\n",
    "vec0, vec1 = plane0\n",
    "vec2, vec3 = plane1\n",
    "\n",
    "# shortcut:\n",
    "[[v0, v1], [v2, v3]] = arr3d"
   ]
  },
  {
   "cell_type": "markdown",
   "metadata": {},
   "source": [
    "# Arithmetic operaions\n",
    "Vectorisation"
   ]
  },
  {
   "cell_type": "code",
   "execution_count": 20,
   "metadata": {},
   "outputs": [
    {
     "data": {
      "text/plain": [
       "array([0, 2, 4, 6, 8])"
      ]
     },
     "execution_count": 20,
     "metadata": {},
     "output_type": "execute_result"
    }
   ],
   "source": [
    "a = np.arange(5)\n",
    "b = np.arange(5)\n",
    "a + b"
   ]
  },
  {
   "cell_type": "code",
   "execution_count": 22,
   "metadata": {},
   "outputs": [
    {
     "data": {
      "text/plain": [
       "array([[ 0,  2],\n",
       "       [ 4,  6],\n",
       "       [ 8, 10],\n",
       "       [12, 14]])"
      ]
     },
     "execution_count": 22,
     "metadata": {},
     "output_type": "execute_result"
    }
   ],
   "source": [
    "# between array operations\n",
    "arr2d = np.arange(8).reshape(4, 2)\n",
    "arr2d + arr2d"
   ]
  },
  {
   "cell_type": "code",
   "execution_count": 23,
   "metadata": {},
   "outputs": [
    {
     "name": "stdout",
     "output_type": "stream",
     "text": [
      "[ 0  1  4  9 16]\n",
      "++++++++++++\n",
      "[10 11 12 13 14]\n"
     ]
    }
   ],
   "source": [
    "# array and scalar\n",
    "print(np.arange(5) ** 2)\n",
    "\n",
    "print(\"++++++++++++\")\n",
    "\n",
    "print(np.arange(5) + 10)"
   ]
  },
  {
   "cell_type": "markdown",
   "metadata": {},
   "source": [
    "Numpy functions' are vectorised"
   ]
  },
  {
   "cell_type": "code",
   "execution_count": 27,
   "metadata": {},
   "outputs": [
    {
     "data": {
      "text/plain": [
       "array([[0., 1.],\n",
       "       [2., 3.],\n",
       "       [4., 5.],\n",
       "       [6., 7.]])"
      ]
     },
     "execution_count": 27,
     "metadata": {},
     "output_type": "execute_result"
    }
   ],
   "source": [
    "np.sqrt(np.arange(8).reshape(4, 2)**2) # the square-root of square"
   ]
  },
  {
   "cell_type": "markdown",
   "metadata": {},
   "source": [
    "# Broadcasting"
   ]
  },
  {
   "cell_type": "code",
   "execution_count": 33,
   "metadata": {},
   "outputs": [
    {
     "name": "stdout",
     "output_type": "stream",
     "text": [
      "[[0 1 2 3]\n",
      " [4 5 6 7]] \n",
      "=====\n",
      " [2 2 2 2]\n"
     ]
    }
   ],
   "source": [
    "arr2d = np.arange(8).reshape(2,4)\n",
    "arr1d = np.array([2,2,2,2])\n",
    "print(arr2d, \"\\n=====\\n\", arr1d)"
   ]
  },
  {
   "cell_type": "code",
   "execution_count": 34,
   "metadata": {},
   "outputs": [
    {
     "data": {
      "text/plain": [
       "array([[ 0,  2,  4,  6],\n",
       "       [ 8, 10, 12, 14]])"
      ]
     },
     "execution_count": 34,
     "metadata": {},
     "output_type": "execute_result"
    }
   ],
   "source": [
    "arr1d * arr2d"
   ]
  },
  {
   "cell_type": "code",
   "execution_count": 37,
   "metadata": {},
   "outputs": [
    {
     "data": {
      "text/plain": [
       "array([[ 0,  2,  4,  6],\n",
       "       [ 8, 10, 12, 14]])"
      ]
     },
     "execution_count": 37,
     "metadata": {},
     "output_type": "execute_result"
    }
   ],
   "source": [
    "arr2d * 2"
   ]
  },
  {
   "cell_type": "code",
   "execution_count": 43,
   "metadata": {},
   "outputs": [
    {
     "name": "stdout",
     "output_type": "stream",
     "text": [
      "[[1 2 3 4]\n",
      " [5 6 7 8]]\n",
      "[[2 2 2 2]\n",
      " [3 3 3 3]]\n"
     ]
    },
    {
     "data": {
      "text/plain": [
       "array([[ 2,  4,  6,  8],\n",
       "       [15, 18, 21, 24]])"
      ]
     },
     "execution_count": 43,
     "metadata": {},
     "output_type": "execute_result"
    }
   ],
   "source": [
    "arr2d = np.array([[1, 2, 3, 4], [5, 6, 7, 8]])\n",
    "arr2d2 = np.array([[2,2,2,2],[3, 3, 3, 3]])\n",
    "\n",
    "print(arr2d)\n",
    "print(arr2d2)\n",
    "arr2d * arr2d2"
   ]
  },
  {
   "cell_type": "markdown",
   "metadata": {},
   "source": [
    "## Basic indexing\n",
    "Indexing 1-dimensional array is similar to python lists:"
   ]
  },
  {
   "cell_type": "code",
   "execution_count": 45,
   "metadata": {},
   "outputs": [
    {
     "data": {
      "text/plain": [
       "array([3, 5, 7])"
      ]
     },
     "execution_count": 45,
     "metadata": {},
     "output_type": "execute_result"
    }
   ],
   "source": [
    "arr1 = np.arange(10)\n",
    "arr1[3:8:2] # fetch values from 3 to 8 in steps of 2"
   ]
  },
  {
   "cell_type": "markdown",
   "metadata": {},
   "source": [
    "!!! One major differnce between lists and arrays is that array slices are views of the original array and list slices are copied\n",
    "\n",
    "To illustrate, the following creatues *arr2* array as a view to arr1 range 0 to 5. Any change to arr2 will change arr1 and any change in arr1 will be relected in arr2"
   ]
  },
  {
   "cell_type": "code",
   "execution_count": 47,
   "metadata": {},
   "outputs": [
    {
     "data": {
      "text/plain": [
       "array([0, 1, 2, 3, 4, 5, 6, 7, 8, 9])"
      ]
     },
     "execution_count": 47,
     "metadata": {},
     "output_type": "execute_result"
    }
   ],
   "source": [
    "a1d = np.arange(10)\n",
    "a1d"
   ]
  },
  {
   "cell_type": "code",
   "execution_count": 51,
   "metadata": {},
   "outputs": [
    {
     "data": {
      "text/plain": [
       "array([10, 10, 10])"
      ]
     },
     "execution_count": 51,
     "metadata": {},
     "output_type": "execute_result"
    }
   ],
   "source": [
    "a1d_1 = a1d[0:3]\n",
    "a1d_1"
   ]
  },
  {
   "cell_type": "code",
   "execution_count": 52,
   "metadata": {},
   "outputs": [
    {
     "data": {
      "text/plain": [
       "array([10, 10, 10])"
      ]
     },
     "execution_count": 52,
     "metadata": {},
     "output_type": "execute_result"
    }
   ],
   "source": [
    "a1d_1[0:3] = 10\n",
    "a1d_1"
   ]
  },
  {
   "cell_type": "code",
   "execution_count": 57,
   "metadata": {},
   "outputs": [
    {
     "data": {
      "text/plain": [
       "[5, 5, 5, 5]"
      ]
     },
     "execution_count": 57,
     "metadata": {},
     "output_type": "execute_result"
    }
   ],
   "source": [
    "a1d"
   ]
  },
  {
   "cell_type": "markdown",
   "metadata": {},
   "source": [
    "If you prefer to copy instead of view use the method copy to create a new copy of the array slice:"
   ]
  },
  {
   "cell_type": "code",
   "execution_count": 61,
   "metadata": {},
   "outputs": [
    {
     "name": "stdout",
     "output_type": "stream",
     "text": [
      "[0 1 2 3 4 5 6 7 8 9]\n",
      "[0 1 2 3 4]\n",
      "[0 1 2 3 4 5 6 7 8 9]\n",
      "[5 5 5 3 4]\n"
     ]
    }
   ],
   "source": [
    "print(arr1)\n",
    "arr2 = arr1[0:5].copy()# changes to **arr2** will not propagate to **arr1**.\n",
    "print(arr2)\n",
    "arr2[0:3] = 5\n",
    "print(arr1)\n",
    "print(arr2)"
   ]
  },
  {
   "cell_type": "markdown",
   "metadata": {},
   "source": [
    "Slice[:] signifies the entire arrays. The following assignment is valid in arrays but not in lists"
   ]
  },
  {
   "cell_type": "code",
   "execution_count": 62,
   "metadata": {},
   "outputs": [
    {
     "data": {
      "text/plain": [
       "array([10, 10, 10, 10, 10, 10, 10, 10, 10, 10])"
      ]
     },
     "execution_count": 62,
     "metadata": {},
     "output_type": "execute_result"
    }
   ],
   "source": [
    "arr1 = np.arange(10)\n",
    "arr1[:] = 10\n",
    "arr1"
   ]
  },
  {
   "cell_type": "markdown",
   "metadata": {},
   "source": [
    "# Indexing in higher dimensions"
   ]
  },
  {
   "cell_type": "code",
   "execution_count": 63,
   "metadata": {},
   "outputs": [
    {
     "data": {
      "text/plain": [
       "array([[[0, 1],\n",
       "        [2, 3]],\n",
       "\n",
       "       [[4, 5],\n",
       "        [6, 7]]])"
      ]
     },
     "execution_count": 63,
     "metadata": {},
     "output_type": "execute_result"
    }
   ],
   "source": [
    "arr3d = np.arange(8).reshape(2, 2, 2)\n",
    "arr3d"
   ]
  },
  {
   "cell_type": "markdown",
   "metadata": {},
   "source": [
    "Indexing in higher dimensions is done with square brackets with comma-separted indices over dimensions $d_1, ..., d_j$, with $1 < j \\leq n$. The results will be the dimensions $\\leq j$"
   ]
  },
  {
   "cell_type": "code",
   "execution_count": 66,
   "metadata": {},
   "outputs": [
    {
     "name": "stdout",
     "output_type": "stream",
     "text": [
      "[[0 1]\n",
      " [2 3]]\n"
     ]
    },
    {
     "data": {
      "text/plain": [
       "array([4, 5])"
      ]
     },
     "execution_count": 66,
     "metadata": {},
     "output_type": "execute_result"
    }
   ],
   "source": [
    "# only the first two axes 0 and 1 are considered\n",
    "print(arr3d[0]) #0th element on axes 0\n",
    "arr3d[1, 0] # 1 element on axes, 0 th element on axes 1"
   ]
  },
  {
   "cell_type": "code",
   "execution_count": 78,
   "metadata": {},
   "outputs": [
    {
     "name": "stdout",
     "output_type": "stream",
     "text": [
      "2\n",
      "3\n"
     ]
    }
   ],
   "source": [
    "print(arr3d[0, 1, 0])\n",
    "print(arr3d[0, 1, 1])"
   ]
  },
  {
   "cell_type": "markdown",
   "metadata": {},
   "source": [
    "Indexing with composition also works, but using comma-separated indices is more concise"
   ]
  },
  {
   "cell_type": "code",
   "execution_count": 71,
   "metadata": {},
   "outputs": [
    {
     "data": {
      "text/plain": [
       "array([2, 3])"
      ]
     },
     "execution_count": 71,
     "metadata": {},
     "output_type": "execute_result"
    }
   ],
   "source": [
    "arr3d[0][1] # composition: first retrieve arr3d[0] array and access index 1"
   ]
  },
  {
   "cell_type": "markdown",
   "metadata": {},
   "source": [
    "Slicing can be done over multiple dimensions with slices separated by comma"
   ]
  },
  {
   "cell_type": "code",
   "execution_count": 74,
   "metadata": {},
   "outputs": [
    {
     "name": "stdout",
     "output_type": "stream",
     "text": [
      "[[0 1]\n",
      " [2 3]\n",
      " [4 5]\n",
      " [6 7]]\n",
      "[5 7]\n",
      "[[0 1]\n",
      " [4 5]]\n"
     ]
    }
   ],
   "source": [
    "arr2d = np.arange(4*2).reshape(4, 2)\n",
    "print(arr2d[:, :]) # fetch all, same as arr2d\n",
    "print(arr2d[2:, 1]) # fecth 2: on axis-0 and 2nd on axis-1\n",
    "print(arr2d[[0, 2], :]) # fetch 1st and 3rd element on axis -0 and all on axis-1"
   ]
  },
  {
   "cell_type": "markdown",
   "metadata": {},
   "source": [
    "**Reverse** the order of an array with ::-1"
   ]
  },
  {
   "cell_type": "code",
   "execution_count": 79,
   "metadata": {},
   "outputs": [
    {
     "name": "stdout",
     "output_type": "stream",
     "text": [
      "[4 3 2 1 0]\n",
      "[[0 1]\n",
      " [2 3]\n",
      " [4 5]\n",
      " [6 7]]\n",
      "[[1 0]\n",
      " [3 2]\n",
      " [5 4]\n",
      " [7 6]]\n"
     ]
    }
   ],
   "source": [
    "print(np.arange(5)[::-1])\n",
    "print(np.arange(4*2).reshape(4, 2))\n",
    "print(np.arange(4*2).reshape(4, 2)[:, ::-1])"
   ]
  },
  {
   "cell_type": "markdown",
   "metadata": {},
   "source": [
    "## Transpose\n",
    "Here we only show a 2-dimensional transpose"
   ]
  },
  {
   "cell_type": "code",
   "execution_count": 81,
   "metadata": {},
   "outputs": [
    {
     "name": "stdout",
     "output_type": "stream",
     "text": [
      "[[0 1]\n",
      " [2 3]\n",
      " [4 5]\n",
      " [6 7]]\n",
      "[[0 2 4 6]\n",
      " [1 3 5 7]]\n",
      "(4, 2) (2, 4)\n"
     ]
    }
   ],
   "source": [
    "arr2d = np.arange(8).reshape(4, 2)\n",
    "print(arr2d)\n",
    "print(arr2d.T)\n",
    "print(arr2d.shape, arr2d.T.shape)"
   ]
  },
  {
   "cell_type": "markdown",
   "metadata": {},
   "source": [
    "# Boolean index (mask)\n",
    "\n",
    "Comparing arrays with relational operators <, <=,, =, !=, >, >= and ~ will result into a boolean array, also termed as a mask. It is used to get or set values in array as logical condition."
   ]
  },
  {
   "cell_type": "code",
   "execution_count": 86,
   "metadata": {},
   "outputs": [
    {
     "name": "stdout",
     "output_type": "stream",
     "text": [
      "[0 1 2 3 4 5 6 7 8 9]\n",
      "[0 2 4 6 8]\n",
      "[0 1 2 3 4 5 6 7 8 9]\n",
      "[-1  1 -1  3 -1  5 -1  7 -1  9]\n"
     ]
    }
   ],
   "source": [
    "arr1d = np.arange(10)\n",
    "print(arr1d)\n",
    "print(arr1d[arr1d %2 == 0]) # filter out even numbers\n",
    "print(arr1d)\n",
    "arr1d[arr1d %2 == 0] = -1 # set even number to -1\n",
    "print(arr1d)"
   ]
  },
  {
   "cell_type": "markdown",
   "metadata": {},
   "source": [
    "## Combine arrays\n",
    "Combing array is carried out based on the axes and on the number of dimensions and/or shapes. Numpy provides several function for this purpose.\n",
    "\n",
    "**Concatenate** function takes a sequence of array and produces a combined array with the same number of dimensions but different shape. The following two 1-dimensional arrays"
   ]
  },
  {
   "cell_type": "code",
   "execution_count": 91,
   "metadata": {},
   "outputs": [
    {
     "data": {
      "text/plain": [
       "array([0, 1, 2, 3, 4, 5, 6, 7, 8, 9])"
      ]
     },
     "execution_count": 91,
     "metadata": {},
     "output_type": "execute_result"
    }
   ],
   "source": [
    "arr1 = np.arange(0, 5)\n",
    "arr2 = np.arange(5, 10)\n",
    "np.concatenate((arr1, arr2)) # pay attention to the brackets inside the concatenate function"
   ]
  },
  {
   "cell_type": "markdown",
   "metadata": {},
   "source": [
    "In a 1-dimensional array there is only the axis 0 and the default choice to concatenate. With a 2-dimensional array we have the axes 0 (rows) and 1 (columns). The concatenation succeeds if the dimensions on the axis on which it takes place match"
   ]
  },
  {
   "cell_type": "code",
   "execution_count": 92,
   "metadata": {},
   "outputs": [
    {
     "name": "stdout",
     "output_type": "stream",
     "text": [
      "arr1 = [[0 1]\n",
      " [2 3]\n",
      " [4 5]\n",
      " [6 7]]\n",
      ", arr2 = [[ 8  9]\n",
      " [10 11]\n",
      " [12 13]\n",
      " [14 15]]\n",
      "[[ 0  1]\n",
      " [ 2  3]\n",
      " [ 4  5]\n",
      " [ 6  7]\n",
      " [ 8  9]\n",
      " [10 11]\n",
      " [12 13]\n",
      " [14 15]]\n",
      "[[ 0  1  8  9]\n",
      " [ 2  3 10 11]\n",
      " [ 4  5 12 13]\n",
      " [ 6  7 14 15]]\n"
     ]
    }
   ],
   "source": [
    "arr1 = np.arange(0, 8).reshape(4, 2)\n",
    "arr2 = np.arange(8, 16).reshape(4, 2)\n",
    "print(f\"arr1 = {arr1},\\n arr2 = {arr2}\")\n",
    "print(np.concatenate((arr1, arr2))) # along axis = 0 (default); alternatively use vstack\n",
    "print(np.concatenate((arr1, arr2), axis = 1))"
   ]
  },
  {
   "cell_type": "markdown",
   "metadata": {},
   "source": [
    "**stack** function combines arrays in a newly introduced dimension along the given axis (default axis = 0)"
   ]
  },
  {
   "cell_type": "code",
   "execution_count": 93,
   "metadata": {},
   "outputs": [
    {
     "name": "stdout",
     "output_type": "stream",
     "text": [
      "arr1 = [[0 1]\n",
      " [2 3]],\n",
      " arr2 = [[4 5]\n",
      " [6 7]]\n"
     ]
    },
    {
     "data": {
      "text/plain": [
       "array([[[0, 1],\n",
       "        [4, 5]],\n",
       "\n",
       "       [[2, 3],\n",
       "        [6, 7]]])"
      ]
     },
     "execution_count": 93,
     "metadata": {},
     "output_type": "execute_result"
    }
   ],
   "source": [
    "arr1 = np.arange(0, 4).reshape(2, 2)\n",
    "arr2 = np.arange(4, 8).reshape(2, 2)\n",
    "print(f\"arr1 = {arr1},\\n arr2 = {arr2}\")\n",
    "np.stack((arr1, arr2), axis=1)"
   ]
  },
  {
   "cell_type": "markdown",
   "metadata": {},
   "source": [
    "# Random Generator\n",
    "\n",
    "The Numpy soulion for random variables is the ranomd Generator. It is a container for various distributions, permutations, floats and integers. To access it you'll need to import **default_rug** function enabling you to instaniate a random generator"
   ]
  },
  {
   "cell_type": "code",
   "execution_count": 103,
   "metadata": {},
   "outputs": [
    {
     "name": "stdout",
     "output_type": "stream",
     "text": [
      "Generator(PCG64)\n",
      "[ 1 68 59  5 90 22 25 18 33 17]\n",
      "Generator(PCG64)\n",
      "[[0.81209451 0.923345  ]\n",
      " [0.2765744  0.81975456]\n",
      " [0.88989269 0.51297046]\n",
      " [0.2449646  0.8242416 ]\n",
      " [0.21376296 0.74146705]\n",
      " [0.6299402  0.92740726]\n",
      " [0.23190819 0.79912513]\n",
      " [0.51816504 0.23155562]\n",
      " [0.16590399 0.49778897]\n",
      " [0.58272464 0.18433799]]\n",
      "[[-0.14597789  1.28190223  1.07403062  0.39262084  0.00511431]\n",
      " [-0.36176687 -1.2302322   1.22622929 -2.17204389 -0.37014735]\n",
      " [ 0.16438007  0.85988118  1.76166124  0.99332378 -0.29152143]\n",
      " [ 0.72812756 -1.26160032  1.42993853 -0.15647532 -0.67375915]\n",
      " [-0.6390601  -0.06136133 -0.39278492  2.28990995 -0.71818115]]\n"
     ]
    }
   ],
   "source": [
    "from numpy.random import default_rng\n",
    "rng = default_rng() #random number generator without a seed\n",
    "print(rng)\n",
    "rng = default_rng(seed=123)\n",
    "print(rng.integers(0, 100, 10)) # 10 randomly generated integers out of [0, 100)\n",
    "print(rng)\n",
    "print(rng.random((10, 2))) # 10*2 randomly generated floats out of [0.0, 1.0)\n",
    "print(rng.normal(loc = 0, scale = 1, size = (5, 5))) # 4*5 ranomly generate"
   ]
  },
  {
   "cell_type": "markdown",
   "metadata": {},
   "source": [
    "# random sampling\n",
    " with the method choice of the random generate one can sample values from a given set.\n",
    " e.g., random.choice(a, size = None, replace = True, ...)\n",
    "\n",
    " with array of values **a** to choose from and **size** of selection. The replace is set to True by default, meaning that values may be selected multiple times"
   ]
  },
  {
   "cell_type": "code",
   "execution_count": 105,
   "metadata": {},
   "outputs": [
    {
     "name": "stdout",
     "output_type": "stream",
     "text": [
      "[ True  True False False  True False  True  True  True False]\n"
     ]
    },
    {
     "data": {
      "text/plain": [
       "array(['mies', 'mies', 'mies', 'noot', 'mies'], dtype='<U4')"
      ]
     },
     "execution_count": 105,
     "metadata": {},
     "output_type": "execute_result"
    }
   ],
   "source": [
    "arr = np.array([True, False])\n",
    "print(rng.choice(arr, 10))\n",
    "\n",
    "arr = np.array([\"aap\", \"mies\", \"noot\"])\n",
    "rng.choice(arr, 5)"
   ]
  },
  {
   "cell_type": "markdown",
   "metadata": {},
   "source": [
    "# Numpy functions and array methods\n",
    "Under the Mathematical function and Statistics sections of NumPy APi reference you'll find many useful functions.\n",
    "\n",
    "## aggregate function\n",
    "Functions operating on a set of values and result in a single value, e.g., mean, median, min, max, sum, std, var and for logical values all, any. In addition, NumPy functions give you control with the axis argeument to decide the direction of calculation. Take the function mean:"
   ]
  },
  {
   "cell_type": "code",
   "execution_count": 108,
   "metadata": {},
   "outputs": [
    {
     "data": {
      "text/plain": [
       "array([[69, 22, 78, 31],\n",
       "       [20, 79, 64, 67],\n",
       "       [98, 39, 83, 33],\n",
       "       [56, 59, 21, 18],\n",
       "       [22, 67, 61, 94]], dtype=int64)"
      ]
     },
     "execution_count": 108,
     "metadata": {},
     "output_type": "execute_result"
    }
   ],
   "source": [
    "# arr2d: a sample of size = 20 from the range[0, 100) with shape (5, 4)\n",
    "rng = default_rng(12345) # seed = 12345 \n",
    "arr2d = rng.integers(0, 100, 20).reshape(5, 4)\n",
    "arr2d"
   ]
  },
  {
   "cell_type": "code",
   "execution_count": 111,
   "metadata": {},
   "outputs": [
    {
     "name": "stdout",
     "output_type": "stream",
     "text": [
      "54.05\n",
      "[53.  53.2 61.4 48.6]\n",
      "[50.   57.5  63.25 38.5  61.  ]\n"
     ]
    }
   ],
   "source": [
    "# Numpy function\n",
    "print(np.mean(arr2d)) # total mean\n",
    "print(np.mean(arr2d, axis = 0)) # mean along the 0-axis (1st dimension)\n",
    "print(np.mean(arr2d, axis = 1)) # mean along the 1-axis(2md dimension)"
   ]
  },
  {
   "cell_type": "code",
   "execution_count": 112,
   "metadata": {},
   "outputs": [
    {
     "data": {
      "text/plain": [
       "array([50.  , 57.5 , 63.25, 38.5 , 61.  ])"
      ]
     },
     "execution_count": 112,
     "metadata": {},
     "output_type": "execute_result"
    }
   ],
   "source": [
    "arr2d.mean(axis=1)"
   ]
  },
  {
   "cell_type": "markdown",
   "metadata": {},
   "source": [
    "**Boolean** Two common boolean aggregate functions are **all* and **any**, testing whether all or any of the values True respectively. "
   ]
  },
  {
   "cell_type": "code",
   "execution_count": 117,
   "metadata": {},
   "outputs": [
    {
     "name": "stdout",
     "output_type": "stream",
     "text": [
      "[53 25 12 29 97 27 66 25 82 47 56 20 60 49 70 24 60 83 46 17  7 85 49 17\n",
      " 29 74 36 60 80 20 85 75 33 24 34  8 42 61 76 53 10 62  9 17 95 24 56 67\n",
      " 81  8]\n"
     ]
    },
    {
     "data": {
      "text/plain": [
       "True"
      ]
     },
     "execution_count": 117,
     "metadata": {},
     "output_type": "execute_result"
    }
   ],
   "source": [
    "arr1d = rng.integers(0, 99, 50)\n",
    "print(arr1d)\n",
    "(arr1d >50).any() # Are there any values > 50"
   ]
  },
  {
   "cell_type": "code",
   "execution_count": 118,
   "metadata": {},
   "outputs": [
    {
     "data": {
      "text/plain": [
       "False"
      ]
     },
     "execution_count": 118,
     "metadata": {},
     "output_type": "execute_result"
    }
   ],
   "source": [
    "(arr1d > 50).all() #Are all values > 50"
   ]
  },
  {
   "cell_type": "markdown",
   "metadata": {},
   "source": [
    "Finally, the aggregate function sum can consume boolean array and interprets True as 1 and False as 0. We can continue with the threshold question and count the number of values > 50."
   ]
  },
  {
   "cell_type": "code",
   "execution_count": 119,
   "metadata": {},
   "outputs": [
    {
     "data": {
      "text/plain": [
       "23"
      ]
     },
     "execution_count": 119,
     "metadata": {},
     "output_type": "execute_result"
    }
   ],
   "source": [
    "(arr1d > 50).sum() # How many values > 50"
   ]
  },
  {
   "cell_type": "markdown",
   "metadata": {},
   "source": [
    "# Exercise \n",
    "\n",
    "## Create arrays"
   ]
  },
  {
   "cell_type": "code",
   "execution_count": 127,
   "metadata": {},
   "outputs": [
    {
     "name": "stdout",
     "output_type": "stream",
     "text": [
      "[11 14 17 20 23 26 29 32 35 38 41 44 47 50]\n",
      "int32\n",
      "14\n",
      "(14,)\n",
      "1\n"
     ]
    }
   ],
   "source": [
    "# 1-dimensional arrage\n",
    "arr1d = np.arange(11, 51, 3)\n",
    "print(arr1d)\n",
    "print(arr1d.dtype)\n",
    "print(arr1d.size)\n",
    "print(arr1d.shape)\n",
    "print(arr1d.ndim)\n"
   ]
  },
  {
   "cell_type": "code",
   "execution_count": 155,
   "metadata": {},
   "outputs": [
    {
     "name": "stdout",
     "output_type": "stream",
     "text": [
      "[[ True  True  True]\n",
      " [ True  True  True]\n",
      " [ True  True  True]\n",
      " [ True  True  True]\n",
      " [ True  True  True]]\n"
     ]
    }
   ],
   "source": [
    "# 2-dimensional array of boolean type and all set to be TRUE\n",
    "arr2d = np.array([True]*5*3).reshape(5, 3)\n",
    "arr2d\n",
    "\n",
    "arr2d = np.ones(15, dtype = \"bool\").reshape(5, 3)\n",
    "print(arr2d)\n",
    "\n",
    "arr2d = np.zeros(15, dtype = \"bool\").reshape(5, 3)\n",
    "print(arr2d)"
   ]
  },
  {
   "cell_type": "code",
   "execution_count": 167,
   "metadata": {},
   "outputs": [
    {
     "data": {
      "text/plain": [
       "array(['a', 'b', 'c', 'd', 'e', 'f', 'g', 'h', 'i', 'j', 'k', 'l', 'm',\n",
       "       'n', 'o', 'p', 'q', 'r', 's', 't', 'u', 'v', 'w', 'x', 'y', 'z',\n",
       "       ''], dtype='<U1')"
      ]
     },
     "execution_count": 167,
     "metadata": {},
     "output_type": "execute_result"
    }
   ],
   "source": [
    "# 2-dimensional array of shape = (9,3) of the alphabet a..z. Pad with empty string \"\" to fit the shape\n",
    "arrstring = np.array([list(\"abcdefghijklmnopqrstuvwxyz\") + [\"\"]]).reshape(9, 3) # difficult\n",
    "arrstring\n",
    "\n",
    "arrstring.reshape(-1) #make the array flat, have the same function with arrstring.flatten()\n",
    "\n"
   ]
  },
  {
   "cell_type": "code",
   "execution_count": 173,
   "metadata": {},
   "outputs": [
    {
     "name": "stdout",
     "output_type": "stream",
     "text": [
      "[['****' '****' '****' '****' '****' '****']\n",
      " ['****' '****' '****' '****' '****' '****']\n",
      " ['****' '****' '****' '****' '****' '****']\n",
      " ['****' '****' '****' '****' '****' '****']\n",
      " ['****' '****' '****' '****' '****' '****']]\n",
      "[['****' '****' '****' '****' '****' '****' '****' '****' '****' '****'\n",
      "  '****' '****' '****' '****' '****']\n",
      " ['****' '****' '****' '****' '****' '****' '****' '****' '****' '****'\n",
      "  '****' '****' '****' '****' '****']]\n",
      "(2, 15)\n"
     ]
    }
   ],
   "source": [
    "# 2-dimensional array of shape = (5, 6) filled with '***'\n",
    "arrstring = np.full(shape = (5, 6), fill_value = \"****\")\n",
    "print(arrstring)\n",
    "print(arrstring.reshape(2, -1)) # let the reshape calculate the second axis automatically\n",
    "print(arrstring.reshape(2, -1).shape)\n"
   ]
  },
  {
   "cell_type": "markdown",
   "metadata": {},
   "source": [
    "## Array indices"
   ]
  },
  {
   "cell_type": "code",
   "execution_count": 138,
   "metadata": {},
   "outputs": [
    {
     "name": "stdout",
     "output_type": "stream",
     "text": [
      "[['a' 'b']\n",
      " ['c' 'd']\n",
      " ['e' 'f']]\n",
      "a\n",
      "f\n",
      "['c' 'd']\n",
      "['b' 'd' 'f']\n"
     ]
    }
   ],
   "source": [
    "arr2d = np.array(list(\"abcdef\")).reshape(3, 2)\n",
    "print(arr2d)\n",
    "print(arr2d[0, 0]) # fetch single elements 'a'\n",
    "print(arr2d[2, 1]) # fetch single elements 'f'\n",
    "print(arr2d[1, :]) # fetch [c, d] on axis-0\n",
    "print(arr2d[:, 1]) # fetch [b, d, f] on axis-1"
   ]
  },
  {
   "cell_type": "code",
   "execution_count": 153,
   "metadata": {},
   "outputs": [
    {
     "name": "stdout",
     "output_type": "stream",
     "text": [
      "[[[ 0  1  2]\n",
      "  [ 3  4  5]\n",
      "  [ 6  7  8]]\n",
      "\n",
      " [[ 9 10 11]\n",
      "  [12 13 14]\n",
      "  [15 16 17]]\n",
      "\n",
      " [[18 19 20]\n",
      "  [21 22 23]\n",
      "  [24 25 26]]]\n",
      "[[19 20]\n",
      " [22 23]]\n",
      "[[ 9 12 15]\n",
      " [11 14 17]]\n"
     ]
    }
   ],
   "source": [
    "arr3d = np.arange(3*3*3).reshape(3, 3, 3)\n",
    "print(arr3d)\n",
    "print(arr3d[2, 0:2, 1:3]) # fetch [[19, 20], [22, 23]]\n",
    "print(arr3d[1, 0:3, [0, 2]]) # fetch [9, 12, 15], [11, 14, 17]]\n"
   ]
  },
  {
   "cell_type": "code",
   "execution_count": 193,
   "metadata": {},
   "outputs": [
    {
     "name": "stdout",
     "output_type": "stream",
     "text": [
      "[ 0 -1  2 -1  4 -1  6 -1  8 -1]\n",
      "***\n",
      "[ 0  2 -1 -1  4 -1  6 -1  8 -1]\n"
     ]
    }
   ],
   "source": [
    "# swap on axis-0 the 2nd and 3rd elements\n",
    "print(arr3d)\n",
    "temp = arr3d[1].copy()\n",
    "print(\"***\")\n",
    "arr3d[1] = arr3d[2]\n",
    "arr3d[2] = temp\n",
    "print(arr3d) \n",
    "\n",
    "# swamp the 1st and the 3rd element of all elements on axis-0?\n"
   ]
  },
  {
   "cell_type": "markdown",
   "metadata": {},
   "source": [
    "Implement the function identity(n) that generates the identity matrix of size n."
   ]
  },
  {
   "cell_type": "code",
   "execution_count": 196,
   "metadata": {},
   "outputs": [
    {
     "data": {
      "text/plain": [
       "array([[1., 0., 0.],\n",
       "       [0., 1., 0.],\n",
       "       [0., 0., 1.]])"
      ]
     },
     "execution_count": 196,
     "metadata": {},
     "output_type": "execute_result"
    }
   ],
   "source": [
    "def identity(n):\n",
    "    \"\"\"\"\n",
    "    :param n:\n",
    "    :return: identity matrix of size n\n",
    "    \"\"\"\n",
    "    ma = np.zeros(n*n)\n",
    "    ma[0:n*n:n+1] = 1\n",
    "\n",
    "    return(ma.reshape(n, n))\n",
    "\n",
    "identity(3)"
   ]
  },
  {
   "cell_type": "code",
   "execution_count": 178,
   "metadata": {},
   "outputs": [
    {
     "data": {
      "text/plain": [
       "array([ 0, -1,  2, -1,  4, -1,  6, -1,  8, -1])"
      ]
     },
     "execution_count": 178,
     "metadata": {},
     "output_type": "execute_result"
    }
   ],
   "source": [
    "# 3-dimensional array of shape = (3, 2, 3) of the range 0, ..., n. Set the odd values to -1\n",
    "n = 9\n",
    "arr3d = np.arange(n+1)\n",
    "arr3d[arr3d %2 != 0] = -1\n",
    "arr3d"
   ]
  },
  {
   "cell_type": "code",
   "execution_count": 182,
   "metadata": {},
   "outputs": [
    {
     "data": {
      "text/plain": [
       "array([5, 5, 5, 3, 3, 3, 5, 7, 5, 7, 5, 7])"
      ]
     },
     "execution_count": 182,
     "metadata": {},
     "output_type": "execute_result"
    }
   ],
   "source": [
    "# produce the following array\n",
    "a = np.repeat(5, 3)\n",
    "b = np.repeat(3, 3)\n",
    "c = np.tile([5, 7], 3)\n",
    "np.concatenate((a, b, c))"
   ]
  },
  {
   "cell_type": "markdown",
   "metadata": {},
   "source": [
    "## Random generator"
   ]
  },
  {
   "cell_type": "code",
   "execution_count": 187,
   "metadata": {},
   "outputs": [
    {
     "data": {
      "text/plain": [
       "20"
      ]
     },
     "execution_count": 187,
     "metadata": {},
     "output_type": "execute_result"
    }
   ],
   "source": [
    "from numpy.random import default_rng\n",
    "rng = default_rng(1234)\n",
    "\n",
    "# Create a 1-dimensional array of random integers, range [0, 100), of size 20. \n",
    "randomArr = rng.integers(0, 100, 20)\n",
    "any(randomArr %2 != 0) #Test whether the array contains any odd integers.\n",
    "(randomArr %2 != 2).sum()\n"
   ]
  },
  {
   "cell_type": "markdown",
   "metadata": {},
   "source": [
    "### Summary"
   ]
  },
  {
   "cell_type": "code",
   "execution_count": 194,
   "metadata": {},
   "outputs": [
    {
     "data": {
      "text/plain": [
       "array([70.75, 59.  , 59.5 , 77.5 ])"
      ]
     },
     "execution_count": 194,
     "metadata": {},
     "output_type": "execute_result"
    }
   ],
   "source": [
    "#1.\n",
    "randomArr = rng.integers(0, 100, 8*4).reshape(8, 4)\n",
    "\n",
    "#2\n",
    "np.mean(randomArr, axis= 0)\n",
    "np.median(randomArr, axis=0)\n",
    "np.min(randomArr, axis=0)\n",
    "np.quantile(randomArr, q = 0.25, axis = 0)\n",
    "np.quantile(randomArr, q = 0.75, axis = 0)\n",
    "\n",
    "#3? What does 3 mean?\n"
   ]
  },
  {
   "cell_type": "markdown",
   "metadata": {},
   "source": [
    "## Matrix multiplication\n",
    "\n",
    "Implement function mat_mult which takes 2-dimensional arrays and produces their product. Compare your results with the NumPy built in operator '@'. Make sure that the function raises exceptions is matrix dimensions are incompatible"
   ]
  },
  {
   "cell_type": "code",
   "execution_count": 216,
   "metadata": {},
   "outputs": [
    {
     "name": "stdout",
     "output_type": "stream",
     "text": [
      "[[19 22]\n",
      " [43 50]]\n",
      "[[19. 22.]\n",
      " [43. 50.]]\n"
     ]
    }
   ],
   "source": [
    "def mat_mul(m1, m2):\n",
    "    \"\"\"\n",
    "    :param m1: 2-dimensional array\n",
    "    :param m2: 2-dimensional array\n",
    "    :return: m1 multiplied by m2\n",
    "    \"\"\"\n",
    "    if m1.shape[1] != m2.shape[0]:\n",
    "        raise ValueError\n",
    "    \n",
    "    mat_mul = np.zeros(m1.shape[0] * m2.shape[1]).reshape(m1.shape[0], m2.shape[1])\n",
    "    for i in range(m1.shape[0]):\n",
    "        for j in range(m2.shape[1]):\n",
    "            mat_mul[i, j] = sum(m1[i, :] * m2[:, j])\n",
    "\n",
    "    return(mat_mul)\n",
    "\n",
    "\n",
    "A = np.array([[1, 2], [3, 4]])\n",
    "B = np.array([[5, 6], [7, 8]])\n",
    "\n",
    "product = A @ B\n",
    "\n",
    "print(product)\n",
    "print(mat_mul(A, B))\n"
   ]
  },
  {
   "cell_type": "markdown",
   "metadata": {},
   "source": [
    "# Covariance matrix\n",
    "\n",
    "$Cov(X, Y) = E[XY] - E[X]E[Y]$"
   ]
  },
  {
   "cell_type": "code",
   "execution_count": 220,
   "metadata": {},
   "outputs": [
    {
     "data": {
      "text/plain": [
       "<matplotlib.collections.PathCollection at 0x20dd716d790>"
      ]
     },
     "execution_count": 220,
     "metadata": {},
     "output_type": "execute_result"
    },
    {
     "data": {
      "image/png": "[encoded data removed]",
      "text/plain": [
       "<Figure size 640x480 with 1 Axes>"
      ]
     },
     "metadata": {},
     "output_type": "display_data"
    }
   ],
   "source": [
    "cov = np.array([[1.5, .6], [ .6, .5]])  # covariance matrix\n",
    "X, Y = rng.multivariate_normal(mean=(0,0), cov=cov, size=5000).T # sample 5000\n",
    "\n",
    "import matplotlib.pyplot as plt\n",
    "plt.scatter(X, Y, alpha=.5, s=.5)"
   ]
  },
  {
   "cell_type": "markdown",
   "metadata": {},
   "source": [
    "Implement the function cov and compare the results with NumPy built-in function np.cov"
   ]
  },
  {
   "cell_type": "code",
   "execution_count": null,
   "metadata": {},
   "outputs": [],
   "source": [
    "# *args represents set of arguments and is iterable, calls will look\n",
    "# like: cov(x), cov(x, y), cov(x, y, z), etc.\n",
    "\n",
    "def cov(*args):\n",
    "    \"\"\"\n",
    "    :param args:\n",
    "    :return\n",
    "    \"\"\"\n",
    "    "
   ]
  }
 ],
 "metadata": {
  "kernelspec": {
   "display_name": "base",
   "language": "python",
   "name": "python3"
  },
  "language_info": {
   "codemirror_mode": {
    "name": "ipython",
    "version": 3
   },
   "file_extension": ".py",
   "mimetype": "text/x-python",
   "name": "python",
   "nbconvert_exporter": "python",
   "pygments_lexer": "ipython3",
   "version": "3.11.5"
  }
 },
 "nbformat": 4,
 "nbformat_minor": 2
}
