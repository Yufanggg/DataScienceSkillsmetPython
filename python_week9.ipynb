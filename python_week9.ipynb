{
 "cells": [
  {
   "cell_type": "code",
   "execution_count": 1,
   "metadata": {},
   "outputs": [],
   "source": [
    "import urllib.request    # needed for download of the example database\n",
    "import shutil            # needed for unzipping of the example database\n",
    "\n",
    "import sqlalchemy as sa\n",
    "import pandas as pd \n"
   ]
  },
  {
   "cell_type": "code",
   "execution_count": 2,
   "metadata": {},
   "outputs": [],
   "source": [
    "shutil.unpack_archive(\"chinook.zip\")"
   ]
  },
  {
   "cell_type": "markdown",
   "metadata": {},
   "source": [
    "# Using SQLAlchemy engine object"
   ]
  },
  {
   "cell_type": "code",
   "execution_count": 3,
   "metadata": {},
   "outputs": [
    {
     "data": {
      "text/plain": [
       "[(1, 'For Those About To Rock We Salute You', 1),\n",
       " (2, 'Balls to the Wall', 2),\n",
       " (3, 'Restless and Wild', 2),\n",
       " (4, 'Let There Be Rock', 1),\n",
       " (5, 'Big Ones', 3)]"
      ]
     },
     "execution_count": 3,
     "metadata": {},
     "output_type": "execute_result"
    }
   ],
   "source": [
    "# open the connection to the SQLite database\n",
    "engine = sa.create_engine(\"sqlite:///chinook.db\")\n",
    "\n",
    "# get the resulting table provided as a list of tuples\n",
    "sql = sa.text(\"SELECT * FROM albums LIMIT 5\")\n",
    "with engine.connect() as conn:\n",
    "    arr = conn.execute(sql).fetchall()\n",
    "arr"
   ]
  },
  {
   "cell_type": "markdown",
   "metadata": {},
   "source": [
    "The following code may be used to convert the result to Panda's `DataFrame`:"
   ]
  },
  {
   "cell_type": "code",
   "execution_count": 4,
   "metadata": {},
   "outputs": [
    {
     "data": {
      "text/html": [
       "<div>\n",
       "<style scoped>\n",
       "    .dataframe tbody tr th:only-of-type {\n",
       "        vertical-align: middle;\n",
       "    }\n",
       "\n",
       "    .dataframe tbody tr th {\n",
       "        vertical-align: top;\n",
       "    }\n",
       "\n",
       "    .dataframe thead th {\n",
       "        text-align: right;\n",
       "    }\n",
       "</style>\n",
       "<table border=\"1\" class=\"dataframe\">\n",
       "  <thead>\n",
       "    <tr style=\"text-align: right;\">\n",
       "      <th></th>\n",
       "      <th>AlbumId</th>\n",
       "      <th>Title</th>\n",
       "      <th>ArtistId</th>\n",
       "    </tr>\n",
       "  </thead>\n",
       "  <tbody>\n",
       "    <tr>\n",
       "      <th>0</th>\n",
       "      <td>1</td>\n",
       "      <td>For Those About To Rock We Salute You</td>\n",
       "      <td>1</td>\n",
       "    </tr>\n",
       "    <tr>\n",
       "      <th>1</th>\n",
       "      <td>2</td>\n",
       "      <td>Balls to the Wall</td>\n",
       "      <td>2</td>\n",
       "    </tr>\n",
       "    <tr>\n",
       "      <th>2</th>\n",
       "      <td>3</td>\n",
       "      <td>Restless and Wild</td>\n",
       "      <td>2</td>\n",
       "    </tr>\n",
       "    <tr>\n",
       "      <th>3</th>\n",
       "      <td>4</td>\n",
       "      <td>Let There Be Rock</td>\n",
       "      <td>1</td>\n",
       "    </tr>\n",
       "    <tr>\n",
       "      <th>4</th>\n",
       "      <td>5</td>\n",
       "      <td>Big Ones</td>\n",
       "      <td>3</td>\n",
       "    </tr>\n",
       "  </tbody>\n",
       "</table>\n",
       "</div>"
      ],
      "text/plain": [
       "   AlbumId                                  Title  ArtistId\n",
       "0        1  For Those About To Rock We Salute You         1\n",
       "1        2                      Balls to the Wall         2\n",
       "2        3                      Restless and Wild         2\n",
       "3        4                      Let There Be Rock         1\n",
       "4        5                               Big Ones         3"
      ]
     },
     "execution_count": 4,
     "metadata": {},
     "output_type": "execute_result"
    }
   ],
   "source": [
    "sql = sa.text(\"SELECT * FROM albums LIMIT 5\")\n",
    "df = pd.read_sql(sql, con=engine)\n",
    "df"
   ]
  },
  {
   "cell_type": "markdown",
   "metadata": {},
   "source": [
    "## Using Python magic connect\n",
    "When the Python script works with a single database only and extra Python langauge extensions are allowed the following notation might be used. The following code creates the database engine connector object in a hidden variable and allows for the magic `%sql` to be used in the code chunks"
   ]
  },
  {
   "cell_type": "code",
   "execution_count": 5,
   "metadata": {},
   "outputs": [],
   "source": [
    "# !pip install jupysql"
   ]
  },
  {
   "cell_type": "code",
   "execution_count": 6,
   "metadata": {},
   "outputs": [
    {
     "name": "stdout",
     "output_type": "stream",
     "text": [
      "Deploy Dash apps for free on Ploomber Cloud! Learn more: https://ploomber.io/s/signup\n"
     ]
    },
    {
     "data": {
      "text/html": [
       "<span style=\"None\">Connecting to &#x27;sqlite:///chinook.db&#x27;</span>"
      ],
      "text/plain": [
       "Connecting to 'sqlite:///chinook.db'"
      ]
     },
     "metadata": {},
     "output_type": "display_data"
    }
   ],
   "source": [
    "%load_ext sql\n",
    "%sql sqlite:///chinook.db"
   ]
  },
  {
   "cell_type": "markdown",
   "metadata": {},
   "source": [
    "Using the magic sql connector this is a short way to execute a directly typed single line SQL query and print the result"
   ]
  },
  {
   "cell_type": "code",
   "execution_count": 7,
   "metadata": {},
   "outputs": [
    {
     "data": {
      "text/html": [
       "<span style=\"None\">Running query in &#x27;sqlite:///chinook.db&#x27;</span>"
      ],
      "text/plain": [
       "Running query in 'sqlite:///chinook.db'"
      ]
     },
     "metadata": {},
     "output_type": "display_data"
    },
    {
     "data": {
      "text/html": [
       "<table>\n",
       "    <thead>\n",
       "        <tr>\n",
       "            <th>AlbumId</th>\n",
       "            <th>Title</th>\n",
       "            <th>ArtistId</th>\n",
       "        </tr>\n",
       "    </thead>\n",
       "    <tbody>\n",
       "        <tr>\n",
       "            <td>1</td>\n",
       "            <td>For Those About To Rock We Salute You</td>\n",
       "            <td>1</td>\n",
       "        </tr>\n",
       "        <tr>\n",
       "            <td>2</td>\n",
       "            <td>Balls to the Wall</td>\n",
       "            <td>2</td>\n",
       "        </tr>\n",
       "        <tr>\n",
       "            <td>3</td>\n",
       "            <td>Restless and Wild</td>\n",
       "            <td>2</td>\n",
       "        </tr>\n",
       "        <tr>\n",
       "            <td>4</td>\n",
       "            <td>Let There Be Rock</td>\n",
       "            <td>1</td>\n",
       "        </tr>\n",
       "        <tr>\n",
       "            <td>5</td>\n",
       "            <td>Big Ones</td>\n",
       "            <td>3</td>\n",
       "        </tr>\n",
       "    </tbody>\n",
       "</table>"
      ],
      "text/plain": [
       "+---------+---------------------------------------+----------+\n",
       "| AlbumId |                 Title                 | ArtistId |\n",
       "+---------+---------------------------------------+----------+\n",
       "|    1    | For Those About To Rock We Salute You |    1     |\n",
       "|    2    |           Balls to the Wall           |    2     |\n",
       "|    3    |           Restless and Wild           |    2     |\n",
       "|    4    |           Let There Be Rock           |    1     |\n",
       "|    5    |                Big Ones               |    3     |\n",
       "+---------+---------------------------------------+----------+"
      ]
     },
     "execution_count": 7,
     "metadata": {},
     "output_type": "execute_result"
    }
   ],
   "source": [
    "%sql SELECT * FROM albums LIMIT 5"
   ]
  },
  {
   "cell_type": "markdown",
   "metadata": {},
   "source": [
    "To print results of longer SQL commands which co not fit in a single line use double-percent notation `%%sql` as below:"
   ]
  },
  {
   "cell_type": "code",
   "execution_count": 8,
   "metadata": {},
   "outputs": [
    {
     "data": {
      "text/html": [
       "<span style=\"None\">Running query in &#x27;sqlite:///chinook.db&#x27;</span>"
      ],
      "text/plain": [
       "Running query in 'sqlite:///chinook.db'"
      ]
     },
     "metadata": {},
     "output_type": "display_data"
    },
    {
     "data": {
      "text/html": [
       "<table>\n",
       "    <thead>\n",
       "        <tr>\n",
       "            <th>TrackId</th>\n",
       "            <th>Composer</th>\n",
       "            <th>UnitPrice</th>\n",
       "        </tr>\n",
       "    </thead>\n",
       "    <tbody>\n",
       "        <tr>\n",
       "            <td>1</td>\n",
       "            <td>Angus Young, Malcolm Young, Brian Johnson</td>\n",
       "            <td>0.99</td>\n",
       "        </tr>\n",
       "        <tr>\n",
       "            <td>2</td>\n",
       "            <td>None</td>\n",
       "            <td>0.99</td>\n",
       "        </tr>\n",
       "        <tr>\n",
       "            <td>3</td>\n",
       "            <td>F. Baltes, S. Kaufman, U. Dirkscneider & W. Hoffman</td>\n",
       "            <td>0.99</td>\n",
       "        </tr>\n",
       "        <tr>\n",
       "            <td>4</td>\n",
       "            <td>F. Baltes, R.A. Smith-Diesel, S. Kaufman, U. Dirkscneider & W. Hoffman</td>\n",
       "            <td>0.99</td>\n",
       "        </tr>\n",
       "        <tr>\n",
       "            <td>5</td>\n",
       "            <td>Deaffy & R.A. Smith-Diesel</td>\n",
       "            <td>0.99</td>\n",
       "        </tr>\n",
       "    </tbody>\n",
       "</table>"
      ],
      "text/plain": [
       "+---------+------------------------------------------------------------------------+-----------+\n",
       "| TrackId |                                Composer                                | UnitPrice |\n",
       "+---------+------------------------------------------------------------------------+-----------+\n",
       "|    1    |               Angus Young, Malcolm Young, Brian Johnson                |    0.99   |\n",
       "|    2    |                                  None                                  |    0.99   |\n",
       "|    3    |          F. Baltes, S. Kaufman, U. Dirkscneider & W. Hoffman           |    0.99   |\n",
       "|    4    | F. Baltes, R.A. Smith-Diesel, S. Kaufman, U. Dirkscneider & W. Hoffman |    0.99   |\n",
       "|    5    |                       Deaffy & R.A. Smith-Diesel                       |    0.99   |\n",
       "+---------+------------------------------------------------------------------------+-----------+"
      ]
     },
     "execution_count": 8,
     "metadata": {},
     "output_type": "execute_result"
    }
   ],
   "source": [
    "%%sql\n",
    "SELECT trackid, composer, unitprice FROM tracks LIMIT 5"
   ]
  },
  {
   "cell_type": "markdown",
   "metadata": {},
   "source": [
    "# SQL querying and slecting data"
   ]
  },
  {
   "cell_type": "markdown",
   "metadata": {},
   "source": [
    "## `SELECT` - querying the database\n",
    "Selecting some/all columns and their order"
   ]
  },
  {
   "cell_type": "code",
   "execution_count": 9,
   "metadata": {},
   "outputs": [
    {
     "data": {
      "text/html": [
       "<span style=\"None\">Running query in &#x27;sqlite:///chinook.db&#x27;</span>"
      ],
      "text/plain": [
       "Running query in 'sqlite:///chinook.db'"
      ]
     },
     "metadata": {},
     "output_type": "display_data"
    },
    {
     "data": {
      "text/html": [
       "<table>\n",
       "    <thead>\n",
       "        <tr>\n",
       "            <th>FirstName</th>\n",
       "            <th>LastName</th>\n",
       "        </tr>\n",
       "    </thead>\n",
       "    <tbody>\n",
       "        <tr>\n",
       "            <td>Luís</td>\n",
       "            <td>Gonçalves</td>\n",
       "        </tr>\n",
       "        <tr>\n",
       "            <td>Leonie</td>\n",
       "            <td>Köhler</td>\n",
       "        </tr>\n",
       "        <tr>\n",
       "            <td>François</td>\n",
       "            <td>Tremblay</td>\n",
       "        </tr>\n",
       "        <tr>\n",
       "            <td>Bjørn</td>\n",
       "            <td>Hansen</td>\n",
       "        </tr>\n",
       "        <tr>\n",
       "            <td>František</td>\n",
       "            <td>Wichterlová</td>\n",
       "        </tr>\n",
       "    </tbody>\n",
       "</table>"
      ],
      "text/plain": [
       "+-----------+-------------+\n",
       "| FirstName |   LastName  |\n",
       "+-----------+-------------+\n",
       "|    Luís   |  Gonçalves  |\n",
       "|   Leonie  |    Köhler   |\n",
       "|  François |   Tremblay  |\n",
       "|   Bjørn   |    Hansen   |\n",
       "| František | Wichterlová |\n",
       "+-----------+-------------+"
      ]
     },
     "execution_count": 9,
     "metadata": {},
     "output_type": "execute_result"
    }
   ],
   "source": [
    "%%sql\n",
    "SELECT FirstName, LastName\n",
    "  FROM customers \n",
    "  LIMIT 5"
   ]
  },
  {
   "cell_type": "code",
   "execution_count": 10,
   "metadata": {},
   "outputs": [
    {
     "data": {
      "text/html": [
       "<span style=\"None\">Running query in &#x27;sqlite:///chinook.db&#x27;</span>"
      ],
      "text/plain": [
       "Running query in 'sqlite:///chinook.db'"
      ]
     },
     "metadata": {},
     "output_type": "display_data"
    },
    {
     "data": {
      "text/html": [
       "<table>\n",
       "    <thead>\n",
       "        <tr>\n",
       "            <th>CustomerId</th>\n",
       "            <th>FirstName</th>\n",
       "            <th>LastName</th>\n",
       "            <th>Company</th>\n",
       "            <th>Address</th>\n",
       "            <th>City</th>\n",
       "            <th>State</th>\n",
       "            <th>Country</th>\n",
       "            <th>PostalCode</th>\n",
       "            <th>Phone</th>\n",
       "            <th>Fax</th>\n",
       "            <th>Email</th>\n",
       "            <th>SupportRepId</th>\n",
       "        </tr>\n",
       "    </thead>\n",
       "    <tbody>\n",
       "        <tr>\n",
       "            <td>1</td>\n",
       "            <td>Luís</td>\n",
       "            <td>Gonçalves</td>\n",
       "            <td>Embraer - Empresa Brasileira de Aeronáutica S.A.</td>\n",
       "            <td>Av. Brigadeiro Faria Lima, 2170</td>\n",
       "            <td>São José dos Campos</td>\n",
       "            <td>SP</td>\n",
       "            <td>Brazil</td>\n",
       "            <td>12227-000</td>\n",
       "            <td>+55 (12) 3923-5555</td>\n",
       "            <td>+55 (12) 3923-5566</td>\n",
       "            <td>luisg@embraer.com.br</td>\n",
       "            <td>3</td>\n",
       "        </tr>\n",
       "        <tr>\n",
       "            <td>2</td>\n",
       "            <td>Leonie</td>\n",
       "            <td>Köhler</td>\n",
       "            <td>None</td>\n",
       "            <td>Theodor-Heuss-Straße 34</td>\n",
       "            <td>Stuttgart</td>\n",
       "            <td>None</td>\n",
       "            <td>Germany</td>\n",
       "            <td>70174</td>\n",
       "            <td>+49 0711 2842222</td>\n",
       "            <td>None</td>\n",
       "            <td>leonekohler@surfeu.de</td>\n",
       "            <td>5</td>\n",
       "        </tr>\n",
       "        <tr>\n",
       "            <td>3</td>\n",
       "            <td>François</td>\n",
       "            <td>Tremblay</td>\n",
       "            <td>None</td>\n",
       "            <td>1498 rue Bélanger</td>\n",
       "            <td>Montréal</td>\n",
       "            <td>QC</td>\n",
       "            <td>Canada</td>\n",
       "            <td>H2G 1A7</td>\n",
       "            <td>+1 (514) 721-4711</td>\n",
       "            <td>None</td>\n",
       "            <td>ftremblay@gmail.com</td>\n",
       "            <td>3</td>\n",
       "        </tr>\n",
       "        <tr>\n",
       "            <td>4</td>\n",
       "            <td>Bjørn</td>\n",
       "            <td>Hansen</td>\n",
       "            <td>None</td>\n",
       "            <td>Ullevålsveien 14</td>\n",
       "            <td>Oslo</td>\n",
       "            <td>None</td>\n",
       "            <td>Norway</td>\n",
       "            <td>0171</td>\n",
       "            <td>+47 22 44 22 22</td>\n",
       "            <td>None</td>\n",
       "            <td>bjorn.hansen@yahoo.no</td>\n",
       "            <td>4</td>\n",
       "        </tr>\n",
       "        <tr>\n",
       "            <td>5</td>\n",
       "            <td>František</td>\n",
       "            <td>Wichterlová</td>\n",
       "            <td>JetBrains s.r.o.</td>\n",
       "            <td>Klanova 9/506</td>\n",
       "            <td>Prague</td>\n",
       "            <td>None</td>\n",
       "            <td>Czech Republic</td>\n",
       "            <td>14700</td>\n",
       "            <td>+420 2 4172 5555</td>\n",
       "            <td>+420 2 4172 5555</td>\n",
       "            <td>frantisekw@jetbrains.com</td>\n",
       "            <td>4</td>\n",
       "        </tr>\n",
       "    </tbody>\n",
       "</table>"
      ],
      "text/plain": [
       "+------------+-----------+-------------+--------------------------------------------------+---------------------------------+---------------------+-------+----------------+------------+--------------------+--------------------+--------------------------+--------------+\n",
       "| CustomerId | FirstName |   LastName  |                     Company                      |             Address             |         City        | State |    Country     | PostalCode |       Phone        |        Fax         |          Email           | SupportRepId |\n",
       "+------------+-----------+-------------+--------------------------------------------------+---------------------------------+---------------------+-------+----------------+------------+--------------------+--------------------+--------------------------+--------------+\n",
       "|     1      |    Luís   |  Gonçalves  | Embraer - Empresa Brasileira de Aeronáutica S.A. | Av. Brigadeiro Faria Lima, 2170 | São José dos Campos |   SP  |     Brazil     | 12227-000  | +55 (12) 3923-5555 | +55 (12) 3923-5566 |   luisg@embraer.com.br   |      3       |\n",
       "|     2      |   Leonie  |    Köhler   |                       None                       |     Theodor-Heuss-Straße 34     |      Stuttgart      |  None |    Germany     |   70174    |  +49 0711 2842222  |        None        |  leonekohler@surfeu.de   |      5       |\n",
       "|     3      |  François |   Tremblay  |                       None                       |        1498 rue Bélanger        |       Montréal      |   QC  |     Canada     |  H2G 1A7   | +1 (514) 721-4711  |        None        |   ftremblay@gmail.com    |      3       |\n",
       "|     4      |   Bjørn   |    Hansen   |                       None                       |         Ullevålsveien 14        |         Oslo        |  None |     Norway     |    0171    |  +47 22 44 22 22   |        None        |  bjorn.hansen@yahoo.no   |      4       |\n",
       "|     5      | František | Wichterlová |                 JetBrains s.r.o.                 |          Klanova 9/506          |        Prague       |  None | Czech Republic |   14700    |  +420 2 4172 5555  |  +420 2 4172 5555  | frantisekw@jetbrains.com |      4       |\n",
       "+------------+-----------+-------------+--------------------------------------------------+---------------------------------+---------------------+-------+----------------+------------+--------------------+--------------------+--------------------------+--------------+"
      ]
     },
     "execution_count": 10,
     "metadata": {},
     "output_type": "execute_result"
    }
   ],
   "source": [
    "%%sql\n",
    "SELECT * \n",
    "  FROM customers \n",
    "  LIMIT 5"
   ]
  },
  {
   "cell_type": "code",
   "execution_count": 11,
   "metadata": {},
   "outputs": [
    {
     "data": {
      "text/html": [
       "<span style=\"None\">Running query in &#x27;sqlite:///chinook.db&#x27;</span>"
      ],
      "text/plain": [
       "Running query in 'sqlite:///chinook.db'"
      ]
     },
     "metadata": {},
     "output_type": "display_data"
    },
    {
     "data": {
      "text/html": [
       "<table>\n",
       "    <thead>\n",
       "        <tr>\n",
       "            <th>TrackId</th>\n",
       "            <th>Name</th>\n",
       "            <th>UnitPrice</th>\n",
       "        </tr>\n",
       "    </thead>\n",
       "    <tbody>\n",
       "        <tr>\n",
       "            <td>1</td>\n",
       "            <td>For Those About To Rock (We Salute You)</td>\n",
       "            <td>0.99</td>\n",
       "        </tr>\n",
       "        <tr>\n",
       "            <td>2</td>\n",
       "            <td>Balls to the Wall</td>\n",
       "            <td>0.99</td>\n",
       "        </tr>\n",
       "        <tr>\n",
       "            <td>3</td>\n",
       "            <td>Fast As a Shark</td>\n",
       "            <td>0.99</td>\n",
       "        </tr>\n",
       "        <tr>\n",
       "            <td>4</td>\n",
       "            <td>Restless and Wild</td>\n",
       "            <td>0.99</td>\n",
       "        </tr>\n",
       "        <tr>\n",
       "            <td>5</td>\n",
       "            <td>Princess of the Dawn</td>\n",
       "            <td>0.99</td>\n",
       "        </tr>\n",
       "    </tbody>\n",
       "</table>"
      ],
      "text/plain": [
       "+---------+-----------------------------------------+-----------+\n",
       "| TrackId |                   Name                  | UnitPrice |\n",
       "+---------+-----------------------------------------+-----------+\n",
       "|    1    | For Those About To Rock (We Salute You) |    0.99   |\n",
       "|    2    |            Balls to the Wall            |    0.99   |\n",
       "|    3    |             Fast As a Shark             |    0.99   |\n",
       "|    4    |            Restless and Wild            |    0.99   |\n",
       "|    5    |           Princess of the Dawn          |    0.99   |\n",
       "+---------+-----------------------------------------+-----------+"
      ]
     },
     "execution_count": 11,
     "metadata": {},
     "output_type": "execute_result"
    }
   ],
   "source": [
    "%%sql\n",
    "SELECT TrackId, Name, UnitPrice\n",
    "  FROM tracks\n",
    "  LIMIT 5"
   ]
  },
  {
   "cell_type": "code",
   "execution_count": 12,
   "metadata": {},
   "outputs": [
    {
     "data": {
      "text/html": [
       "<span style=\"None\">Running query in &#x27;sqlite:///chinook.db&#x27;</span>"
      ],
      "text/plain": [
       "Running query in 'sqlite:///chinook.db'"
      ]
     },
     "metadata": {},
     "output_type": "display_data"
    },
    {
     "data": {
      "text/html": [
       "<table>\n",
       "    <thead>\n",
       "        <tr>\n",
       "            <th>TrackId</th>\n",
       "            <th>Name</th>\n",
       "            <th>UnitPrice + 10</th>\n",
       "        </tr>\n",
       "    </thead>\n",
       "    <tbody>\n",
       "        <tr>\n",
       "            <td>1</td>\n",
       "            <td>For Those About To Rock (We Salute You)</td>\n",
       "            <td>10.99</td>\n",
       "        </tr>\n",
       "        <tr>\n",
       "            <td>2</td>\n",
       "            <td>Balls to the Wall</td>\n",
       "            <td>10.99</td>\n",
       "        </tr>\n",
       "        <tr>\n",
       "            <td>3</td>\n",
       "            <td>Fast As a Shark</td>\n",
       "            <td>10.99</td>\n",
       "        </tr>\n",
       "        <tr>\n",
       "            <td>4</td>\n",
       "            <td>Restless and Wild</td>\n",
       "            <td>10.99</td>\n",
       "        </tr>\n",
       "        <tr>\n",
       "            <td>5</td>\n",
       "            <td>Princess of the Dawn</td>\n",
       "            <td>10.99</td>\n",
       "        </tr>\n",
       "    </tbody>\n",
       "</table>"
      ],
      "text/plain": [
       "+---------+-----------------------------------------+----------------+\n",
       "| TrackId |                   Name                  | UnitPrice + 10 |\n",
       "+---------+-----------------------------------------+----------------+\n",
       "|    1    | For Those About To Rock (We Salute You) |     10.99      |\n",
       "|    2    |            Balls to the Wall            |     10.99      |\n",
       "|    3    |             Fast As a Shark             |     10.99      |\n",
       "|    4    |            Restless and Wild            |     10.99      |\n",
       "|    5    |           Princess of the Dawn          |     10.99      |\n",
       "+---------+-----------------------------------------+----------------+"
      ]
     },
     "execution_count": 12,
     "metadata": {},
     "output_type": "execute_result"
    }
   ],
   "source": [
    "%%sql\n",
    "SELECT TrackId, Name, UnitPrice + 10\n",
    "  FROM tracks\n",
    "  LIMIT 5"
   ]
  },
  {
   "cell_type": "code",
   "execution_count": 13,
   "metadata": {},
   "outputs": [
    {
     "data": {
      "text/html": [
       "<span style=\"None\">Running query in &#x27;sqlite:///chinook.db&#x27;</span>"
      ],
      "text/plain": [
       "Running query in 'sqlite:///chinook.db'"
      ]
     },
     "metadata": {},
     "output_type": "display_data"
    },
    {
     "data": {
      "text/html": [
       "<table>\n",
       "    <thead>\n",
       "        <tr>\n",
       "            <th>TrackId</th>\n",
       "            <th>Name</th>\n",
       "            <th>NewPrice</th>\n",
       "        </tr>\n",
       "    </thead>\n",
       "    <tbody>\n",
       "        <tr>\n",
       "            <td>1</td>\n",
       "            <td>For Those About To Rock (We Salute You)</td>\n",
       "            <td>10.99</td>\n",
       "        </tr>\n",
       "        <tr>\n",
       "            <td>2</td>\n",
       "            <td>Balls to the Wall</td>\n",
       "            <td>10.99</td>\n",
       "        </tr>\n",
       "        <tr>\n",
       "            <td>3</td>\n",
       "            <td>Fast As a Shark</td>\n",
       "            <td>10.99</td>\n",
       "        </tr>\n",
       "        <tr>\n",
       "            <td>4</td>\n",
       "            <td>Restless and Wild</td>\n",
       "            <td>10.99</td>\n",
       "        </tr>\n",
       "        <tr>\n",
       "            <td>5</td>\n",
       "            <td>Princess of the Dawn</td>\n",
       "            <td>10.99</td>\n",
       "        </tr>\n",
       "    </tbody>\n",
       "</table>"
      ],
      "text/plain": [
       "+---------+-----------------------------------------+----------+\n",
       "| TrackId |                   Name                  | NewPrice |\n",
       "+---------+-----------------------------------------+----------+\n",
       "|    1    | For Those About To Rock (We Salute You) |  10.99   |\n",
       "|    2    |            Balls to the Wall            |  10.99   |\n",
       "|    3    |             Fast As a Shark             |  10.99   |\n",
       "|    4    |            Restless and Wild            |  10.99   |\n",
       "|    5    |           Princess of the Dawn          |  10.99   |\n",
       "+---------+-----------------------------------------+----------+"
      ]
     },
     "execution_count": 13,
     "metadata": {},
     "output_type": "execute_result"
    }
   ],
   "source": [
    "%%sql\n",
    "SELECT TrackId, Name, UnitPrice + 10 AS NewPrice\n",
    "  FROM tracks\n",
    "  LIMIT 5"
   ]
  },
  {
   "cell_type": "code",
   "execution_count": 14,
   "metadata": {},
   "outputs": [
    {
     "data": {
      "text/html": [
       "<span style=\"None\">Running query in &#x27;sqlite:///chinook.db&#x27;</span>"
      ],
      "text/plain": [
       "Running query in 'sqlite:///chinook.db'"
      ]
     },
     "metadata": {},
     "output_type": "display_data"
    },
    {
     "data": {
      "text/html": [
       "<table>\n",
       "    <thead>\n",
       "        <tr>\n",
       "            <th>TrackId</th>\n",
       "            <th>Name</th>\n",
       "            <th>UnitPrice + 10</th>\n",
       "        </tr>\n",
       "    </thead>\n",
       "    <tbody>\n",
       "        <tr>\n",
       "            <td>1</td>\n",
       "            <td>For Those About To Rock (We Salute You)</td>\n",
       "            <td>10.99</td>\n",
       "        </tr>\n",
       "        <tr>\n",
       "            <td>2</td>\n",
       "            <td>Balls to the Wall</td>\n",
       "            <td>10.99</td>\n",
       "        </tr>\n",
       "        <tr>\n",
       "            <td>3</td>\n",
       "            <td>Fast As a Shark</td>\n",
       "            <td>10.99</td>\n",
       "        </tr>\n",
       "        <tr>\n",
       "            <td>4</td>\n",
       "            <td>Restless and Wild</td>\n",
       "            <td>10.99</td>\n",
       "        </tr>\n",
       "        <tr>\n",
       "            <td>5</td>\n",
       "            <td>Princess of the Dawn</td>\n",
       "            <td>10.99</td>\n",
       "        </tr>\n",
       "        <tr>\n",
       "            <td>6</td>\n",
       "            <td>Put The Finger On You</td>\n",
       "            <td>10.99</td>\n",
       "        </tr>\n",
       "        <tr>\n",
       "            <td>7</td>\n",
       "            <td>Let's Get It Up</td>\n",
       "            <td>10.99</td>\n",
       "        </tr>\n",
       "        <tr>\n",
       "            <td>8</td>\n",
       "            <td>Inject The Venom</td>\n",
       "            <td>10.99</td>\n",
       "        </tr>\n",
       "        <tr>\n",
       "            <td>9</td>\n",
       "            <td>Snowballed</td>\n",
       "            <td>10.99</td>\n",
       "        </tr>\n",
       "        <tr>\n",
       "            <td>10</td>\n",
       "            <td>Evil Walks</td>\n",
       "            <td>10.99</td>\n",
       "        </tr>\n",
       "    </tbody>\n",
       "</table>\n",
       "<span style=\"font-style:italic;text-align:center;\">Truncated to <a href=\"https://jupysql.ploomber.io/en/latest/api/configuration.html#displaylimit\">displaylimit</a> of 10.</span>"
      ],
      "text/plain": [
       "+---------+-----------------------------------------+----------------+\n",
       "| TrackId |                   Name                  | UnitPrice + 10 |\n",
       "+---------+-----------------------------------------+----------------+\n",
       "|    1    | For Those About To Rock (We Salute You) |     10.99      |\n",
       "|    2    |            Balls to the Wall            |     10.99      |\n",
       "|    3    |             Fast As a Shark             |     10.99      |\n",
       "|    4    |            Restless and Wild            |     10.99      |\n",
       "|    5    |           Princess of the Dawn          |     10.99      |\n",
       "|    6    |          Put The Finger On You          |     10.99      |\n",
       "|    7    |             Let's Get It Up             |     10.99      |\n",
       "|    8    |             Inject The Venom            |     10.99      |\n",
       "|    9    |                Snowballed               |     10.99      |\n",
       "|    10   |                Evil Walks               |     10.99      |\n",
       "+---------+-----------------------------------------+----------------+\n",
       "Truncated to displaylimit of 10."
      ]
     },
     "execution_count": 14,
     "metadata": {},
     "output_type": "execute_result"
    }
   ],
   "source": [
    "%%sql\n",
    "SELECT TrackId, Name, UnitPrice + 10\n",
    "  FROM tracks"
   ]
  },
  {
   "cell_type": "markdown",
   "metadata": {},
   "source": [
    "### `ORDER` - sorting rows"
   ]
  },
  {
   "cell_type": "code",
   "execution_count": 15,
   "metadata": {},
   "outputs": [
    {
     "data": {
      "text/html": [
       "<span style=\"None\">Running query in &#x27;sqlite:///chinook.db&#x27;</span>"
      ],
      "text/plain": [
       "Running query in 'sqlite:///chinook.db'"
      ]
     },
     "metadata": {},
     "output_type": "display_data"
    },
    {
     "data": {
      "text/html": [
       "<table>\n",
       "    <thead>\n",
       "        <tr>\n",
       "            <th>Name</th>\n",
       "            <th>Milliseconds</th>\n",
       "            <th>AlbumId</th>\n",
       "        </tr>\n",
       "    </thead>\n",
       "    <tbody>\n",
       "        <tr>\n",
       "            <td>Koyaanisqatsi</td>\n",
       "            <td>206005</td>\n",
       "            <td>347</td>\n",
       "        </tr>\n",
       "        <tr>\n",
       "            <td>Quintet for Horn, Violin, 2 Violas, and Cello in E Flat Major, K. 407/386c: III. Allegro</td>\n",
       "            <td>221331</td>\n",
       "            <td>346</td>\n",
       "        </tr>\n",
       "        <tr>\n",
       "            <td>L'orfeo, Act 3, Sinfonia (Orchestra)</td>\n",
       "            <td>66639</td>\n",
       "            <td>345</td>\n",
       "        </tr>\n",
       "        <tr>\n",
       "            <td>String Quartet No. 12 in C Minor, D. 703 \"Quartettsatz\": II. Andante - Allegro assai</td>\n",
       "            <td>139200</td>\n",
       "            <td>344</td>\n",
       "        </tr>\n",
       "        <tr>\n",
       "            <td>Pini Di Roma (Pinien Von Rom) \\ I Pini Della Via Appia</td>\n",
       "            <td>286741</td>\n",
       "            <td>343</td>\n",
       "        </tr>\n",
       "        <tr>\n",
       "            <td>Concerto for Violin, Strings and Continuo in G Major, Op. 3, No. 9: I. Allegro</td>\n",
       "            <td>493573</td>\n",
       "            <td>342</td>\n",
       "        </tr>\n",
       "        <tr>\n",
       "            <td>Erlkonig, D.328</td>\n",
       "            <td>261849</td>\n",
       "            <td>341</td>\n",
       "        </tr>\n",
       "        <tr>\n",
       "            <td>Étude 1, In C Major - Preludio (Presto) - Liszt</td>\n",
       "            <td>51780</td>\n",
       "            <td>340</td>\n",
       "        </tr>\n",
       "        <tr>\n",
       "            <td>24 Caprices, Op. 1, No. 24, for Solo Violin, in A Minor</td>\n",
       "            <td>265541</td>\n",
       "            <td>339</td>\n",
       "        </tr>\n",
       "        <tr>\n",
       "            <td>Symphony No. 2, Op. 16 -  \"The Four Temperaments\": II. Allegro Comodo e Flemmatico</td>\n",
       "            <td>286998</td>\n",
       "            <td>338</td>\n",
       "        </tr>\n",
       "    </tbody>\n",
       "</table>\n",
       "<span style=\"font-style:italic;text-align:center;\">Truncated to <a href=\"https://jupysql.ploomber.io/en/latest/api/configuration.html#displaylimit\">displaylimit</a> of 10.</span>"
      ],
      "text/plain": [
       "+------------------------------------------------------------------------------------------+--------------+---------+\n",
       "|                                           Name                                           | Milliseconds | AlbumId |\n",
       "+------------------------------------------------------------------------------------------+--------------+---------+\n",
       "|                                      Koyaanisqatsi                                       |    206005    |   347   |\n",
       "| Quintet for Horn, Violin, 2 Violas, and Cello in E Flat Major, K. 407/386c: III. Allegro |    221331    |   346   |\n",
       "|                           L'orfeo, Act 3, Sinfonia (Orchestra)                           |    66639     |   345   |\n",
       "|   String Quartet No. 12 in C Minor, D. 703 \"Quartettsatz\": II. Andante - Allegro assai   |    139200    |   344   |\n",
       "|                  Pini Di Roma (Pinien Von Rom) \\ I Pini Della Via Appia                  |    286741    |   343   |\n",
       "|      Concerto for Violin, Strings and Continuo in G Major, Op. 3, No. 9: I. Allegro      |    493573    |   342   |\n",
       "|                                     Erlkonig, D.328                                      |    261849    |   341   |\n",
       "|                     Étude 1, In C Major - Preludio (Presto) - Liszt                      |    51780     |   340   |\n",
       "|                 24 Caprices, Op. 1, No. 24, for Solo Violin, in A Minor                  |    265541    |   339   |\n",
       "|    Symphony No. 2, Op. 16 -  \"The Four Temperaments\": II. Allegro Comodo e Flemmatico    |    286998    |   338   |\n",
       "+------------------------------------------------------------------------------------------+--------------+---------+\n",
       "Truncated to displaylimit of 10."
      ]
     },
     "execution_count": 15,
     "metadata": {},
     "output_type": "execute_result"
    }
   ],
   "source": [
    "%%sql\n",
    "SELECT Name, Milliseconds, AlbumId\n",
    "  FROM tracks\n",
    "  ORDER BY AlbumID DESC\n",
    "  LIMIT 10"
   ]
  },
  {
   "cell_type": "code",
   "execution_count": 16,
   "metadata": {},
   "outputs": [
    {
     "data": {
      "text/html": [
       "<span style=\"None\">Running query in &#x27;sqlite:///chinook.db&#x27;</span>"
      ],
      "text/plain": [
       "Running query in 'sqlite:///chinook.db'"
      ]
     },
     "metadata": {},
     "output_type": "display_data"
    },
    {
     "data": {
      "text/html": [
       "<table>\n",
       "    <thead>\n",
       "        <tr>\n",
       "            <th>City</th>\n",
       "        </tr>\n",
       "    </thead>\n",
       "    <tbody>\n",
       "        <tr>\n",
       "            <td>São José dos Campos</td>\n",
       "        </tr>\n",
       "        <tr>\n",
       "            <td>Stuttgart</td>\n",
       "        </tr>\n",
       "        <tr>\n",
       "            <td>Montréal</td>\n",
       "        </tr>\n",
       "        <tr>\n",
       "            <td>Oslo</td>\n",
       "        </tr>\n",
       "        <tr>\n",
       "            <td>Prague</td>\n",
       "        </tr>\n",
       "        <tr>\n",
       "            <td>Prague</td>\n",
       "        </tr>\n",
       "        <tr>\n",
       "            <td>Vienne</td>\n",
       "        </tr>\n",
       "        <tr>\n",
       "            <td>Brussels</td>\n",
       "        </tr>\n",
       "        <tr>\n",
       "            <td>Copenhagen</td>\n",
       "        </tr>\n",
       "        <tr>\n",
       "            <td>São Paulo</td>\n",
       "        </tr>\n",
       "    </tbody>\n",
       "</table>\n",
       "<span style=\"font-style:italic;text-align:center;\">Truncated to <a href=\"https://jupysql.ploomber.io/en/latest/api/configuration.html#displaylimit\">displaylimit</a> of 10.</span>"
      ],
      "text/plain": [
       "+---------------------+\n",
       "|         City        |\n",
       "+---------------------+\n",
       "| São José dos Campos |\n",
       "|      Stuttgart      |\n",
       "|       Montréal      |\n",
       "|         Oslo        |\n",
       "|        Prague       |\n",
       "|        Prague       |\n",
       "|        Vienne       |\n",
       "|       Brussels      |\n",
       "|      Copenhagen     |\n",
       "|      São Paulo      |\n",
       "+---------------------+\n",
       "Truncated to displaylimit of 10."
      ]
     },
     "execution_count": 16,
     "metadata": {},
     "output_type": "execute_result"
    }
   ],
   "source": [
    "%%sql \n",
    "SELECT City\n",
    "  FROM customers\n",
    "  LIMIT 10"
   ]
  },
  {
   "cell_type": "markdown",
   "metadata": {},
   "source": [
    "Use `DISTINCT` to select unique rows(remove duplicated rows)"
   ]
  },
  {
   "cell_type": "code",
   "execution_count": 17,
   "metadata": {},
   "outputs": [
    {
     "data": {
      "text/html": [
       "<span style=\"None\">Running query in &#x27;sqlite:///chinook.db&#x27;</span>"
      ],
      "text/plain": [
       "Running query in 'sqlite:///chinook.db'"
      ]
     },
     "metadata": {},
     "output_type": "display_data"
    },
    {
     "data": {
      "text/html": [
       "<table>\n",
       "    <thead>\n",
       "        <tr>\n",
       "            <th>City</th>\n",
       "            <th>FirstName</th>\n",
       "        </tr>\n",
       "    </thead>\n",
       "    <tbody>\n",
       "        <tr>\n",
       "            <td>São José dos Campos</td>\n",
       "            <td>Luís</td>\n",
       "        </tr>\n",
       "        <tr>\n",
       "            <td>Stuttgart</td>\n",
       "            <td>Leonie</td>\n",
       "        </tr>\n",
       "        <tr>\n",
       "            <td>Montréal</td>\n",
       "            <td>François</td>\n",
       "        </tr>\n",
       "        <tr>\n",
       "            <td>Oslo</td>\n",
       "            <td>Bjørn</td>\n",
       "        </tr>\n",
       "        <tr>\n",
       "            <td>Prague</td>\n",
       "            <td>František</td>\n",
       "        </tr>\n",
       "        <tr>\n",
       "            <td>Prague</td>\n",
       "            <td>Helena</td>\n",
       "        </tr>\n",
       "        <tr>\n",
       "            <td>Vienne</td>\n",
       "            <td>Astrid</td>\n",
       "        </tr>\n",
       "        <tr>\n",
       "            <td>Brussels</td>\n",
       "            <td>Daan</td>\n",
       "        </tr>\n",
       "        <tr>\n",
       "            <td>Copenhagen</td>\n",
       "            <td>Kara</td>\n",
       "        </tr>\n",
       "        <tr>\n",
       "            <td>São Paulo</td>\n",
       "            <td>Eduardo</td>\n",
       "        </tr>\n",
       "    </tbody>\n",
       "</table>\n",
       "<span style=\"font-style:italic;text-align:center;\">Truncated to <a href=\"https://jupysql.ploomber.io/en/latest/api/configuration.html#displaylimit\">displaylimit</a> of 10.</span>"
      ],
      "text/plain": [
       "+---------------------+-----------+\n",
       "|         City        | FirstName |\n",
       "+---------------------+-----------+\n",
       "| São José dos Campos |    Luís   |\n",
       "|      Stuttgart      |   Leonie  |\n",
       "|       Montréal      |  François |\n",
       "|         Oslo        |   Bjørn   |\n",
       "|        Prague       | František |\n",
       "|        Prague       |   Helena  |\n",
       "|        Vienne       |   Astrid  |\n",
       "|       Brussels      |    Daan   |\n",
       "|      Copenhagen     |    Kara   |\n",
       "|      São Paulo      |  Eduardo  |\n",
       "+---------------------+-----------+\n",
       "Truncated to displaylimit of 10."
      ]
     },
     "execution_count": 17,
     "metadata": {},
     "output_type": "execute_result"
    }
   ],
   "source": [
    "%%sql \n",
    "SELECT DISTINCT City, FirstName\n",
    "  FROM customers\n",
    "  LIMIT 10"
   ]
  },
  {
   "cell_type": "markdown",
   "metadata": {},
   "source": [
    "### `WHERE` - selecting rows by a condition"
   ]
  },
  {
   "cell_type": "code",
   "execution_count": 18,
   "metadata": {},
   "outputs": [
    {
     "data": {
      "text/html": [
       "<span style=\"None\">Running query in &#x27;sqlite:///chinook.db&#x27;</span>"
      ],
      "text/plain": [
       "Running query in 'sqlite:///chinook.db'"
      ]
     },
     "metadata": {},
     "output_type": "display_data"
    },
    {
     "data": {
      "text/html": [
       "<table>\n",
       "    <thead>\n",
       "        <tr>\n",
       "            <th>TrackId</th>\n",
       "            <th>Milliseconds</th>\n",
       "        </tr>\n",
       "    </thead>\n",
       "    <tbody>\n",
       "        <tr>\n",
       "            <td>1</td>\n",
       "            <td>343719</td>\n",
       "        </tr>\n",
       "        <tr>\n",
       "            <td>2</td>\n",
       "            <td>342562</td>\n",
       "        </tr>\n",
       "        <tr>\n",
       "            <td>5</td>\n",
       "            <td>375418</td>\n",
       "        </tr>\n",
       "        <tr>\n",
       "            <td>15</td>\n",
       "            <td>331180</td>\n",
       "        </tr>\n",
       "        <tr>\n",
       "            <td>17</td>\n",
       "            <td>366654</td>\n",
       "        </tr>\n",
       "    </tbody>\n",
       "</table>"
      ],
      "text/plain": [
       "+---------+--------------+\n",
       "| TrackId | Milliseconds |\n",
       "+---------+--------------+\n",
       "|    1    |    343719    |\n",
       "|    2    |    342562    |\n",
       "|    5    |    375418    |\n",
       "|    15   |    331180    |\n",
       "|    17   |    366654    |\n",
       "+---------+--------------+"
      ]
     },
     "execution_count": 18,
     "metadata": {},
     "output_type": "execute_result"
    }
   ],
   "source": [
    "%%sql\n",
    "SELECT TrackId, Milliseconds\n",
    "  FROM tracks\n",
    "  WHERE Milliseconds > 300000\n",
    "  LIMIT 5"
   ]
  },
  {
   "cell_type": "code",
   "execution_count": 19,
   "metadata": {},
   "outputs": [
    {
     "data": {
      "text/html": [
       "<span style=\"None\">Running query in &#x27;sqlite:///chinook.db&#x27;</span>"
      ],
      "text/plain": [
       "Running query in 'sqlite:///chinook.db'"
      ]
     },
     "metadata": {},
     "output_type": "display_data"
    },
    {
     "data": {
      "text/html": [
       "<table>\n",
       "    <thead>\n",
       "        <tr>\n",
       "            <th>FirstName</th>\n",
       "            <th>LastName</th>\n",
       "            <th>City</th>\n",
       "        </tr>\n",
       "    </thead>\n",
       "    <tbody>\n",
       "        <tr>\n",
       "            <td>František</td>\n",
       "            <td>Wichterlová</td>\n",
       "            <td>Prague</td>\n",
       "        </tr>\n",
       "        <tr>\n",
       "            <td>Helena</td>\n",
       "            <td>Holý</td>\n",
       "            <td>Prague</td>\n",
       "        </tr>\n",
       "    </tbody>\n",
       "</table>"
      ],
      "text/plain": [
       "+-----------+-------------+--------+\n",
       "| FirstName |   LastName  |  City  |\n",
       "+-----------+-------------+--------+\n",
       "| František | Wichterlová | Prague |\n",
       "|   Helena  |     Holý    | Prague |\n",
       "+-----------+-------------+--------+"
      ]
     },
     "execution_count": 19,
     "metadata": {},
     "output_type": "execute_result"
    }
   ],
   "source": [
    "%%sql\n",
    "SELECT FirstName, LastName, City\n",
    "  FROM customers\n",
    "  WHERE City = \"Prague\""
   ]
  },
  {
   "cell_type": "code",
   "execution_count": 20,
   "metadata": {},
   "outputs": [
    {
     "data": {
      "text/html": [
       "<span style=\"None\">Running query in &#x27;sqlite:///chinook.db&#x27;</span>"
      ],
      "text/plain": [
       "Running query in 'sqlite:///chinook.db'"
      ]
     },
     "metadata": {},
     "output_type": "display_data"
    },
    {
     "data": {
      "text/html": [
       "<table>\n",
       "    <thead>\n",
       "        <tr>\n",
       "            <th>FirstName</th>\n",
       "            <th>Country</th>\n",
       "        </tr>\n",
       "    </thead>\n",
       "    <tbody>\n",
       "        <tr>\n",
       "            <td>Leonie</td>\n",
       "            <td>Germany</td>\n",
       "        </tr>\n",
       "        <tr>\n",
       "            <td>Hannah</td>\n",
       "            <td>Germany</td>\n",
       "        </tr>\n",
       "        <tr>\n",
       "            <td>Fynn</td>\n",
       "            <td>Germany</td>\n",
       "        </tr>\n",
       "        <tr>\n",
       "            <td>Niklas</td>\n",
       "            <td>Germany</td>\n",
       "        </tr>\n",
       "        <tr>\n",
       "            <td>Johannes</td>\n",
       "            <td>Netherlands</td>\n",
       "        </tr>\n",
       "    </tbody>\n",
       "</table>"
      ],
      "text/plain": [
       "+-----------+-------------+\n",
       "| FirstName |   Country   |\n",
       "+-----------+-------------+\n",
       "|   Leonie  |   Germany   |\n",
       "|   Hannah  |   Germany   |\n",
       "|    Fynn   |   Germany   |\n",
       "|   Niklas  |   Germany   |\n",
       "|  Johannes | Netherlands |\n",
       "+-----------+-------------+"
      ]
     },
     "execution_count": 20,
     "metadata": {},
     "output_type": "execute_result"
    }
   ],
   "source": [
    "%%sql\n",
    "SELECT FirstName, Country\n",
    "  From customers\n",
    "  WHERE Country = \"Netherlands\" OR Country = \"Germany\"\n",
    "  LIMIT 5"
   ]
  },
  {
   "cell_type": "code",
   "execution_count": 21,
   "metadata": {},
   "outputs": [
    {
     "data": {
      "text/html": [
       "<span style=\"None\">Running query in &#x27;sqlite:///chinook.db&#x27;</span>"
      ],
      "text/plain": [
       "Running query in 'sqlite:///chinook.db'"
      ]
     },
     "metadata": {},
     "output_type": "display_data"
    },
    {
     "data": {
      "text/html": [
       "<table>\n",
       "    <thead>\n",
       "        <tr>\n",
       "            <th>FirstName</th>\n",
       "            <th>Country</th>\n",
       "        </tr>\n",
       "    </thead>\n",
       "    <tbody>\n",
       "        <tr>\n",
       "            <td>Luís</td>\n",
       "            <td>Brazil</td>\n",
       "        </tr>\n",
       "        <tr>\n",
       "            <td>François</td>\n",
       "            <td>Canada</td>\n",
       "        </tr>\n",
       "        <tr>\n",
       "            <td>Bjørn</td>\n",
       "            <td>Norway</td>\n",
       "        </tr>\n",
       "        <tr>\n",
       "            <td>František</td>\n",
       "            <td>Czech Republic</td>\n",
       "        </tr>\n",
       "        <tr>\n",
       "            <td>Helena</td>\n",
       "            <td>Czech Republic</td>\n",
       "        </tr>\n",
       "    </tbody>\n",
       "</table>"
      ],
      "text/plain": [
       "+-----------+----------------+\n",
       "| FirstName |    Country     |\n",
       "+-----------+----------------+\n",
       "|    Luís   |     Brazil     |\n",
       "|  François |     Canada     |\n",
       "|   Bjørn   |     Norway     |\n",
       "| František | Czech Republic |\n",
       "|   Helena  | Czech Republic |\n",
       "+-----------+----------------+"
      ]
     },
     "execution_count": 21,
     "metadata": {},
     "output_type": "execute_result"
    }
   ],
   "source": [
    "%%sql\n",
    "SELECT FirstName, Country\n",
    "  From customers\n",
    "  WHERE NOT (Country = \"Netherlands\" OR Country = \"Germany\")\n",
    "  LIMIT 5"
   ]
  },
  {
   "cell_type": "markdown",
   "metadata": {},
   "source": [
    "### `IS NULL` versu 'IS NOT NULL` missing value checking\n"
   ]
  },
  {
   "cell_type": "code",
   "execution_count": 22,
   "metadata": {},
   "outputs": [
    {
     "data": {
      "text/html": [
       "<span style=\"None\">Running query in &#x27;sqlite:///chinook.db&#x27;</span>"
      ],
      "text/plain": [
       "Running query in 'sqlite:///chinook.db'"
      ]
     },
     "metadata": {},
     "output_type": "display_data"
    },
    {
     "data": {
      "text/html": [
       "<table>\n",
       "    <thead>\n",
       "        <tr>\n",
       "            <th>Name</th>\n",
       "            <th>Composer</th>\n",
       "        </tr>\n",
       "    </thead>\n",
       "    <tbody>\n",
       "        <tr>\n",
       "            <td>Balls to the Wall</td>\n",
       "            <td>None</td>\n",
       "        </tr>\n",
       "        <tr>\n",
       "            <td>Desafinado</td>\n",
       "            <td>None</td>\n",
       "        </tr>\n",
       "        <tr>\n",
       "            <td>Garota De Ipanema</td>\n",
       "            <td>None</td>\n",
       "        </tr>\n",
       "        <tr>\n",
       "            <td>Samba De Uma Nota Só (One Note Samba)</td>\n",
       "            <td>None</td>\n",
       "        </tr>\n",
       "        <tr>\n",
       "            <td>Por Causa De Você</td>\n",
       "            <td>None</td>\n",
       "        </tr>\n",
       "    </tbody>\n",
       "</table>"
      ],
      "text/plain": [
       "+---------------------------------------+----------+\n",
       "|                  Name                 | Composer |\n",
       "+---------------------------------------+----------+\n",
       "|           Balls to the Wall           |   None   |\n",
       "|               Desafinado              |   None   |\n",
       "|           Garota De Ipanema           |   None   |\n",
       "| Samba De Uma Nota Só (One Note Samba) |   None   |\n",
       "|           Por Causa De Você           |   None   |\n",
       "+---------------------------------------+----------+"
      ]
     },
     "execution_count": 22,
     "metadata": {},
     "output_type": "execute_result"
    }
   ],
   "source": [
    "%%sql\n",
    "SELECT Name, Composer\n",
    "  From tracks\n",
    "  WHERE Composer IS NULL\n",
    "  LIMIT 5"
   ]
  },
  {
   "cell_type": "markdown",
   "metadata": {},
   "source": [
    "### `IN` - Set membership (for categorical variables)\n",
    "\n",
    "Compare the following two notations to test whether a value belongs to a set.\n",
    "\n",
    "The `OR` notation works only with a fixed set of values and does not scale well."
   ]
  },
  {
   "cell_type": "code",
   "execution_count": 23,
   "metadata": {},
   "outputs": [
    {
     "data": {
      "text/html": [
       "<span style=\"None\">Running query in &#x27;sqlite:///chinook.db&#x27;</span>"
      ],
      "text/plain": [
       "Running query in 'sqlite:///chinook.db'"
      ]
     },
     "metadata": {},
     "output_type": "display_data"
    },
    {
     "data": {
      "text/html": [
       "<table>\n",
       "    <thead>\n",
       "        <tr>\n",
       "            <th>CustomerId</th>\n",
       "            <th>FirstName</th>\n",
       "            <th>LastName</th>\n",
       "            <th>Company</th>\n",
       "            <th>Address</th>\n",
       "            <th>City</th>\n",
       "            <th>State</th>\n",
       "            <th>Country</th>\n",
       "            <th>PostalCode</th>\n",
       "            <th>Phone</th>\n",
       "            <th>Fax</th>\n",
       "            <th>Email</th>\n",
       "            <th>SupportRepId</th>\n",
       "        </tr>\n",
       "    </thead>\n",
       "    <tbody>\n",
       "        <tr>\n",
       "            <td>1</td>\n",
       "            <td>Luís</td>\n",
       "            <td>Gonçalves</td>\n",
       "            <td>Embraer - Empresa Brasileira de Aeronáutica S.A.</td>\n",
       "            <td>Av. Brigadeiro Faria Lima, 2170</td>\n",
       "            <td>São José dos Campos</td>\n",
       "            <td>SP</td>\n",
       "            <td>Brazil</td>\n",
       "            <td>12227-000</td>\n",
       "            <td>+55 (12) 3923-5555</td>\n",
       "            <td>+55 (12) 3923-5566</td>\n",
       "            <td>luisg@embraer.com.br</td>\n",
       "            <td>3</td>\n",
       "        </tr>\n",
       "        <tr>\n",
       "            <td>10</td>\n",
       "            <td>Eduardo</td>\n",
       "            <td>Martins</td>\n",
       "            <td>Woodstock Discos</td>\n",
       "            <td>Rua Dr. Falcão Filho, 155</td>\n",
       "            <td>São Paulo</td>\n",
       "            <td>SP</td>\n",
       "            <td>Brazil</td>\n",
       "            <td>01007-010</td>\n",
       "            <td>+55 (11) 3033-5446</td>\n",
       "            <td>+55 (11) 3033-4564</td>\n",
       "            <td>eduardo@woodstock.com.br</td>\n",
       "            <td>4</td>\n",
       "        </tr>\n",
       "        <tr>\n",
       "            <td>11</td>\n",
       "            <td>Alexandre</td>\n",
       "            <td>Rocha</td>\n",
       "            <td>Banco do Brasil S.A.</td>\n",
       "            <td>Av. Paulista, 2022</td>\n",
       "            <td>São Paulo</td>\n",
       "            <td>SP</td>\n",
       "            <td>Brazil</td>\n",
       "            <td>01310-200</td>\n",
       "            <td>+55 (11) 3055-3278</td>\n",
       "            <td>+55 (11) 3055-8131</td>\n",
       "            <td>alero@uol.com.br</td>\n",
       "            <td>5</td>\n",
       "        </tr>\n",
       "        <tr>\n",
       "            <td>12</td>\n",
       "            <td>Roberto</td>\n",
       "            <td>Almeida</td>\n",
       "            <td>Riotur</td>\n",
       "            <td>Praça Pio X, 119</td>\n",
       "            <td>Rio de Janeiro</td>\n",
       "            <td>RJ</td>\n",
       "            <td>Brazil</td>\n",
       "            <td>20040-020</td>\n",
       "            <td>+55 (21) 2271-7000</td>\n",
       "            <td>+55 (21) 2271-7070</td>\n",
       "            <td>roberto.almeida@riotur.gov.br</td>\n",
       "            <td>3</td>\n",
       "        </tr>\n",
       "        <tr>\n",
       "            <td>13</td>\n",
       "            <td>Fernanda</td>\n",
       "            <td>Ramos</td>\n",
       "            <td>None</td>\n",
       "            <td>Qe 7 Bloco G</td>\n",
       "            <td>Brasília</td>\n",
       "            <td>DF</td>\n",
       "            <td>Brazil</td>\n",
       "            <td>71020-677</td>\n",
       "            <td>+55 (61) 3363-5547</td>\n",
       "            <td>+55 (61) 3363-7855</td>\n",
       "            <td>fernadaramos4@uol.com.br</td>\n",
       "            <td>4</td>\n",
       "        </tr>\n",
       "        <tr>\n",
       "            <td>44</td>\n",
       "            <td>Terhi</td>\n",
       "            <td>Hämäläinen</td>\n",
       "            <td>None</td>\n",
       "            <td>Porthaninkatu 9</td>\n",
       "            <td>Helsinki</td>\n",
       "            <td>None</td>\n",
       "            <td>Finland</td>\n",
       "            <td>00530</td>\n",
       "            <td>+358 09 870 2000</td>\n",
       "            <td>None</td>\n",
       "            <td>terhi.hamalainen@apple.fi</td>\n",
       "            <td>3</td>\n",
       "        </tr>\n",
       "        <tr>\n",
       "            <td>49</td>\n",
       "            <td>Stanisław</td>\n",
       "            <td>Wójcik</td>\n",
       "            <td>None</td>\n",
       "            <td>Ordynacka 10</td>\n",
       "            <td>Warsaw</td>\n",
       "            <td>None</td>\n",
       "            <td>Poland</td>\n",
       "            <td>00-358</td>\n",
       "            <td>+48 22 828 37 39</td>\n",
       "            <td>None</td>\n",
       "            <td>stanisław.wójcik@wp.pl</td>\n",
       "            <td>4</td>\n",
       "        </tr>\n",
       "        <tr>\n",
       "            <td>50</td>\n",
       "            <td>Enrique</td>\n",
       "            <td>Muñoz</td>\n",
       "            <td>None</td>\n",
       "            <td>C/ San Bernardo 85</td>\n",
       "            <td>Madrid</td>\n",
       "            <td>None</td>\n",
       "            <td>Spain</td>\n",
       "            <td>28015</td>\n",
       "            <td>+34 914 454 454</td>\n",
       "            <td>None</td>\n",
       "            <td>enrique_munoz@yahoo.es</td>\n",
       "            <td>5</td>\n",
       "        </tr>\n",
       "    </tbody>\n",
       "</table>"
      ],
      "text/plain": [
       "+------------+-----------+------------+--------------------------------------------------+---------------------------------+---------------------+-------+---------+------------+--------------------+--------------------+-------------------------------+--------------+\n",
       "| CustomerId | FirstName |  LastName  |                     Company                      |             Address             |         City        | State | Country | PostalCode |       Phone        |        Fax         |             Email             | SupportRepId |\n",
       "+------------+-----------+------------+--------------------------------------------------+---------------------------------+---------------------+-------+---------+------------+--------------------+--------------------+-------------------------------+--------------+\n",
       "|     1      |    Luís   | Gonçalves  | Embraer - Empresa Brasileira de Aeronáutica S.A. | Av. Brigadeiro Faria Lima, 2170 | São José dos Campos |   SP  |  Brazil | 12227-000  | +55 (12) 3923-5555 | +55 (12) 3923-5566 |      luisg@embraer.com.br     |      3       |\n",
       "|     10     |  Eduardo  |  Martins   |                 Woodstock Discos                 |    Rua Dr. Falcão Filho, 155    |      São Paulo      |   SP  |  Brazil | 01007-010  | +55 (11) 3033-5446 | +55 (11) 3033-4564 |    eduardo@woodstock.com.br   |      4       |\n",
       "|     11     | Alexandre |   Rocha    |               Banco do Brasil S.A.               |        Av. Paulista, 2022       |      São Paulo      |   SP  |  Brazil | 01310-200  | +55 (11) 3055-3278 | +55 (11) 3055-8131 |        alero@uol.com.br       |      5       |\n",
       "|     12     |  Roberto  |  Almeida   |                      Riotur                      |         Praça Pio X, 119        |    Rio de Janeiro   |   RJ  |  Brazil | 20040-020  | +55 (21) 2271-7000 | +55 (21) 2271-7070 | roberto.almeida@riotur.gov.br |      3       |\n",
       "|     13     |  Fernanda |   Ramos    |                       None                       |           Qe 7 Bloco G          |       Brasília      |   DF  |  Brazil | 71020-677  | +55 (61) 3363-5547 | +55 (61) 3363-7855 |    fernadaramos4@uol.com.br   |      4       |\n",
       "|     44     |   Terhi   | Hämäläinen |                       None                       |         Porthaninkatu 9         |       Helsinki      |  None | Finland |   00530    |  +358 09 870 2000  |        None        |   terhi.hamalainen@apple.fi   |      3       |\n",
       "|     49     | Stanisław |   Wójcik   |                       None                       |           Ordynacka 10          |        Warsaw       |  None |  Poland |   00-358   |  +48 22 828 37 39  |        None        |     stanisław.wójcik@wp.pl    |      4       |\n",
       "|     50     |  Enrique  |   Muñoz    |                       None                       |        C/ San Bernardo 85       |        Madrid       |  None |  Spain  |   28015    |  +34 914 454 454   |        None        |     enrique_munoz@yahoo.es    |      5       |\n",
       "+------------+-----------+------------+--------------------------------------------------+---------------------------------+---------------------+-------+---------+------------+--------------------+--------------------+-------------------------------+--------------+"
      ]
     },
     "execution_count": 23,
     "metadata": {},
     "output_type": "execute_result"
    }
   ],
   "source": [
    "%%sql\n",
    "SELECT *\n",
    "  FROM customers\n",
    "  WHERE country IN (\"Brazil\", \"Finland\", \"Poland\", \"Spain\")"
   ]
  },
  {
   "cell_type": "markdown",
   "metadata": {},
   "source": [
    "### `BETWEEN` - Value in range (for numerical variables)\n",
    "Use `BETWEEN` (and `NOT BETWEEN`) to find whetehr a vlaue is in (or out) a certain range"
   ]
  },
  {
   "cell_type": "code",
   "execution_count": 24,
   "metadata": {},
   "outputs": [
    {
     "data": {
      "text/html": [
       "<span style=\"None\">Running query in &#x27;sqlite:///chinook.db&#x27;</span>"
      ],
      "text/plain": [
       "Running query in 'sqlite:///chinook.db'"
      ]
     },
     "metadata": {},
     "output_type": "display_data"
    },
    {
     "data": {
      "text/html": [
       "<table>\n",
       "    <thead>\n",
       "        <tr>\n",
       "            <th>InvoiceId</th>\n",
       "            <th>BillingAddress</th>\n",
       "            <th>InvoiceDate</th>\n",
       "            <th>Total</th>\n",
       "        </tr>\n",
       "    </thead>\n",
       "    <tbody>\n",
       "        <tr>\n",
       "            <td>84</td>\n",
       "            <td>68, Rue Jouvence</td>\n",
       "            <td>2010-01-08 00:00:00</td>\n",
       "            <td>1.98</td>\n",
       "        </tr>\n",
       "        <tr>\n",
       "            <td>85</td>\n",
       "            <td>Erzsébet krt. 58.</td>\n",
       "            <td>2010-01-08 00:00:00</td>\n",
       "            <td>1.98</td>\n",
       "        </tr>\n",
       "        <tr>\n",
       "            <td>86</td>\n",
       "            <td>Via Degli Scipioni, 43</td>\n",
       "            <td>2010-01-09 00:00:00</td>\n",
       "            <td>3.96</td>\n",
       "        </tr>\n",
       "        <tr>\n",
       "            <td>87</td>\n",
       "            <td>Celsiusg. 9</td>\n",
       "            <td>2010-01-10 00:00:00</td>\n",
       "            <td>6.94</td>\n",
       "        </tr>\n",
       "        <tr>\n",
       "            <td>88</td>\n",
       "            <td>Calle Lira, 198</td>\n",
       "            <td>2010-01-13 00:00:00</td>\n",
       "            <td>17.91</td>\n",
       "        </tr>\n",
       "        <tr>\n",
       "            <td>89</td>\n",
       "            <td>Rotenturmstraße 4, 1010 Innere Stadt</td>\n",
       "            <td>2010-01-18 00:00:00</td>\n",
       "            <td>18.86</td>\n",
       "        </tr>\n",
       "        <tr>\n",
       "            <td>90</td>\n",
       "            <td>801 W 4th Street</td>\n",
       "            <td>2010-01-26 00:00:00</td>\n",
       "            <td>0.99</td>\n",
       "        </tr>\n",
       "    </tbody>\n",
       "</table>"
      ],
      "text/plain": [
       "+-----------+--------------------------------------+---------------------+-------+\n",
       "| InvoiceId |            BillingAddress            |     InvoiceDate     | Total |\n",
       "+-----------+--------------------------------------+---------------------+-------+\n",
       "|     84    |           68, Rue Jouvence           | 2010-01-08 00:00:00 |  1.98 |\n",
       "|     85    |          Erzsébet krt. 58.           | 2010-01-08 00:00:00 |  1.98 |\n",
       "|     86    |        Via Degli Scipioni, 43        | 2010-01-09 00:00:00 |  3.96 |\n",
       "|     87    |             Celsiusg. 9              | 2010-01-10 00:00:00 |  6.94 |\n",
       "|     88    |           Calle Lira, 198            | 2010-01-13 00:00:00 | 17.91 |\n",
       "|     89    | Rotenturmstraße 4, 1010 Innere Stadt | 2010-01-18 00:00:00 | 18.86 |\n",
       "|     90    |           801 W 4th Street           | 2010-01-26 00:00:00 |  0.99 |\n",
       "+-----------+--------------------------------------+---------------------+-------+"
      ]
     },
     "execution_count": 24,
     "metadata": {},
     "output_type": "execute_result"
    }
   ],
   "source": [
    "%%sql\n",
    "SELECT InvoiceId, BillingAddress, InvoiceDate, Total\n",
    "  FROM invoices\n",
    "  WHERE InvoiceDate BETWEEN '2010-01-01' AND '2010-01-31'\n",
    "  ORDER BY InvoiceDate\n"
   ]
  },
  {
   "cell_type": "markdown",
   "metadata": {},
   "source": [
    "`LIKE` - Value matches a pattern (for text variables)\n",
    "\n",
    "-1. To find the tracks whose names start with the `Wild` string, you use the percent sign `%` wildcard at the end of pattern.\n",
    "\n",
    "-2. To find the tracks whose names end with `Wild` literal string, you use `%` wildcard at the begining and end of the pattern:"
   ]
  },
  {
   "cell_type": "code",
   "execution_count": 25,
   "metadata": {},
   "outputs": [
    {
     "data": {
      "text/html": [
       "<span style=\"None\">Running query in &#x27;sqlite:///chinook.db&#x27;</span>"
      ],
      "text/plain": [
       "Running query in 'sqlite:///chinook.db'"
      ]
     },
     "metadata": {},
     "output_type": "display_data"
    },
    {
     "data": {
      "text/html": [
       "<table>\n",
       "    <thead>\n",
       "        <tr>\n",
       "            <th>TrackId</th>\n",
       "            <th>Name</th>\n",
       "        </tr>\n",
       "    </thead>\n",
       "    <tbody>\n",
       "        <tr>\n",
       "            <td>4</td>\n",
       "            <td>Restless and Wild</td>\n",
       "        </tr>\n",
       "        <tr>\n",
       "            <td>32</td>\n",
       "            <td>Deuces Are Wild</td>\n",
       "        </tr>\n",
       "        <tr>\n",
       "            <td>775</td>\n",
       "            <td>Call Of The Wild</td>\n",
       "        </tr>\n",
       "        <tr>\n",
       "            <td>1245</td>\n",
       "            <td>Wildest Dreams</td>\n",
       "        </tr>\n",
       "        <tr>\n",
       "            <td>1869</td>\n",
       "            <td>Where The Wild Things Are</td>\n",
       "        </tr>\n",
       "        <tr>\n",
       "            <td>1973</td>\n",
       "            <td>Wild Side</td>\n",
       "        </tr>\n",
       "        <tr>\n",
       "            <td>2312</td>\n",
       "            <td>Near Wild Heaven</td>\n",
       "        </tr>\n",
       "        <tr>\n",
       "            <td>2627</td>\n",
       "            <td>Wild Hearted Son</td>\n",
       "        </tr>\n",
       "        <tr>\n",
       "            <td>2633</td>\n",
       "            <td>Wild Flower</td>\n",
       "        </tr>\n",
       "        <tr>\n",
       "            <td>2697</td>\n",
       "            <td>I Go Wild</td>\n",
       "        </tr>\n",
       "    </tbody>\n",
       "</table>\n",
       "<span style=\"font-style:italic;text-align:center;\">Truncated to <a href=\"https://jupysql.ploomber.io/en/latest/api/configuration.html#displaylimit\">displaylimit</a> of 10.</span>"
      ],
      "text/plain": [
       "+---------+---------------------------+\n",
       "| TrackId |            Name           |\n",
       "+---------+---------------------------+\n",
       "|    4    |     Restless and Wild     |\n",
       "|    32   |      Deuces Are Wild      |\n",
       "|   775   |      Call Of The Wild     |\n",
       "|   1245  |       Wildest Dreams      |\n",
       "|   1869  | Where The Wild Things Are |\n",
       "|   1973  |         Wild Side         |\n",
       "|   2312  |      Near Wild Heaven     |\n",
       "|   2627  |      Wild Hearted Son     |\n",
       "|   2633  |        Wild Flower        |\n",
       "|   2697  |         I Go Wild         |\n",
       "+---------+---------------------------+\n",
       "Truncated to displaylimit of 10."
      ]
     },
     "execution_count": 25,
     "metadata": {},
     "output_type": "execute_result"
    }
   ],
   "source": [
    "%%sql\n",
    "SELECT TrackID, Name\n",
    "  FROM tracks\n",
    "  WHERE Name LIKE '%Wild%'"
   ]
  },
  {
   "cell_type": "markdown",
   "metadata": {},
   "source": [
    "Get track name by extract number of charcters and finish by `y`:"
   ]
  },
  {
   "cell_type": "code",
   "execution_count": 26,
   "metadata": {},
   "outputs": [
    {
     "data": {
      "text/html": [
       "<span style=\"None\">Running query in &#x27;sqlite:///chinook.db&#x27;</span>"
      ],
      "text/plain": [
       "Running query in 'sqlite:///chinook.db'"
      ]
     },
     "metadata": {},
     "output_type": "display_data"
    },
    {
     "data": {
      "text/html": [
       "<table>\n",
       "    <thead>\n",
       "        <tr>\n",
       "            <th>TrackId</th>\n",
       "            <th>Name</th>\n",
       "        </tr>\n",
       "    </thead>\n",
       "    <tbody>\n",
       "        <tr>\n",
       "            <td>532</td>\n",
       "            <td>Baby</td>\n",
       "        </tr>\n",
       "        <tr>\n",
       "            <td>784</td>\n",
       "            <td>Lazy</td>\n",
       "        </tr>\n",
       "        <tr>\n",
       "            <td>843</td>\n",
       "            <td>Otay</td>\n",
       "        </tr>\n",
       "        <tr>\n",
       "            <td>948</td>\n",
       "            <td>Easy</td>\n",
       "        </tr>\n",
       "    </tbody>\n",
       "</table>"
      ],
      "text/plain": [
       "+---------+------+\n",
       "| TrackId | Name |\n",
       "+---------+------+\n",
       "|   532   | Baby |\n",
       "|   784   | Lazy |\n",
       "|   843   | Otay |\n",
       "|   948   | Easy |\n",
       "+---------+------+"
      ]
     },
     "execution_count": 26,
     "metadata": {},
     "output_type": "execute_result"
    }
   ],
   "source": [
    "%%sql\n",
    "SELECT Trackid, Name\n",
    "  FROM tracks\n",
    "  WHERE Name LIKE '___y'"
   ]
  },
  {
   "cell_type": "markdown",
   "metadata": {},
   "source": [
    "## Selecting exercise"
   ]
  },
  {
   "cell_type": "markdown",
   "metadata": {},
   "source": [
    "## biggest tracks\n",
    "Print(select) the top 10 biggest `tracks` according to size in `Bytes` columns"
   ]
  },
  {
   "cell_type": "code",
   "execution_count": 27,
   "metadata": {},
   "outputs": [
    {
     "data": {
      "text/html": [
       "<span style=\"None\">Running query in &#x27;sqlite:///chinook.db&#x27;</span>"
      ],
      "text/plain": [
       "Running query in 'sqlite:///chinook.db'"
      ]
     },
     "metadata": {},
     "output_type": "display_data"
    },
    {
     "data": {
      "text/html": [
       "<table>\n",
       "    <thead>\n",
       "        <tr>\n",
       "            <th>TrackId</th>\n",
       "            <th>Name</th>\n",
       "            <th>AlbumId</th>\n",
       "            <th>MediaTypeId</th>\n",
       "            <th>GenreId</th>\n",
       "            <th>Composer</th>\n",
       "            <th>Milliseconds</th>\n",
       "            <th>Bytes</th>\n",
       "            <th>UnitPrice</th>\n",
       "        </tr>\n",
       "    </thead>\n",
       "    <tbody>\n",
       "        <tr>\n",
       "            <td>3224</td>\n",
       "            <td>Through a Looking Glass</td>\n",
       "            <td>229</td>\n",
       "            <td>3</td>\n",
       "            <td>21</td>\n",
       "            <td>None</td>\n",
       "            <td>5088838</td>\n",
       "            <td>1059546140</td>\n",
       "            <td>1.99</td>\n",
       "        </tr>\n",
       "        <tr>\n",
       "            <td>2820</td>\n",
       "            <td>Occupation / Precipice</td>\n",
       "            <td>227</td>\n",
       "            <td>3</td>\n",
       "            <td>19</td>\n",
       "            <td>None</td>\n",
       "            <td>5286953</td>\n",
       "            <td>1054423946</td>\n",
       "            <td>1.99</td>\n",
       "        </tr>\n",
       "        <tr>\n",
       "            <td>3236</td>\n",
       "            <td>The Young Lords</td>\n",
       "            <td>253</td>\n",
       "            <td>3</td>\n",
       "            <td>20</td>\n",
       "            <td>None</td>\n",
       "            <td>2863571</td>\n",
       "            <td>587051735</td>\n",
       "            <td>1.99</td>\n",
       "        </tr>\n",
       "        <tr>\n",
       "            <td>3242</td>\n",
       "            <td>The Man With Nine Lives</td>\n",
       "            <td>253</td>\n",
       "            <td>3</td>\n",
       "            <td>20</td>\n",
       "            <td>None</td>\n",
       "            <td>2956998</td>\n",
       "            <td>577829804</td>\n",
       "            <td>1.99</td>\n",
       "        </tr>\n",
       "        <tr>\n",
       "            <td>2910</td>\n",
       "            <td>Dave</td>\n",
       "            <td>231</td>\n",
       "            <td>3</td>\n",
       "            <td>19</td>\n",
       "            <td>None</td>\n",
       "            <td>2825166</td>\n",
       "            <td>574325829</td>\n",
       "            <td>1.99</td>\n",
       "        </tr>\n",
       "        <tr>\n",
       "            <td>3235</td>\n",
       "            <td>The Magnificent Warriors</td>\n",
       "            <td>253</td>\n",
       "            <td>3</td>\n",
       "            <td>20</td>\n",
       "            <td>None</td>\n",
       "            <td>2924716</td>\n",
       "            <td>570152232</td>\n",
       "            <td>1.99</td>\n",
       "        </tr>\n",
       "        <tr>\n",
       "            <td>3231</td>\n",
       "            <td>The Lost Warrior</td>\n",
       "            <td>253</td>\n",
       "            <td>3</td>\n",
       "            <td>20</td>\n",
       "            <td>None</td>\n",
       "            <td>2920045</td>\n",
       "            <td>558872190</td>\n",
       "            <td>1.99</td>\n",
       "        </tr>\n",
       "        <tr>\n",
       "            <td>2902</td>\n",
       "            <td>Maternity Leave</td>\n",
       "            <td>231</td>\n",
       "            <td>3</td>\n",
       "            <td>21</td>\n",
       "            <td>None</td>\n",
       "            <td>2780416</td>\n",
       "            <td>555244214</td>\n",
       "            <td>1.99</td>\n",
       "        </tr>\n",
       "        <tr>\n",
       "            <td>3228</td>\n",
       "            <td>Battlestar Galactica, Pt. 3</td>\n",
       "            <td>253</td>\n",
       "            <td>3</td>\n",
       "            <td>20</td>\n",
       "            <td>None</td>\n",
       "            <td>2927802</td>\n",
       "            <td>554509033</td>\n",
       "            <td>1.99</td>\n",
       "        </tr>\n",
       "        <tr>\n",
       "            <td>2832</td>\n",
       "            <td>The Woman King</td>\n",
       "            <td>227</td>\n",
       "            <td>3</td>\n",
       "            <td>18</td>\n",
       "            <td>None</td>\n",
       "            <td>2626376</td>\n",
       "            <td>552893447</td>\n",
       "            <td>1.99</td>\n",
       "        </tr>\n",
       "    </tbody>\n",
       "</table>\n",
       "<span style=\"font-style:italic;text-align:center;\">Truncated to <a href=\"https://jupysql.ploomber.io/en/latest/api/configuration.html#displaylimit\">displaylimit</a> of 10.</span>"
      ],
      "text/plain": [
       "+---------+-----------------------------+---------+-------------+---------+----------+--------------+------------+-----------+\n",
       "| TrackId |             Name            | AlbumId | MediaTypeId | GenreId | Composer | Milliseconds |   Bytes    | UnitPrice |\n",
       "+---------+-----------------------------+---------+-------------+---------+----------+--------------+------------+-----------+\n",
       "|   3224  |   Through a Looking Glass   |   229   |      3      |    21   |   None   |   5088838    | 1059546140 |    1.99   |\n",
       "|   2820  |    Occupation / Precipice   |   227   |      3      |    19   |   None   |   5286953    | 1054423946 |    1.99   |\n",
       "|   3236  |       The Young Lords       |   253   |      3      |    20   |   None   |   2863571    | 587051735  |    1.99   |\n",
       "|   3242  |   The Man With Nine Lives   |   253   |      3      |    20   |   None   |   2956998    | 577829804  |    1.99   |\n",
       "|   2910  |             Dave            |   231   |      3      |    19   |   None   |   2825166    | 574325829  |    1.99   |\n",
       "|   3235  |   The Magnificent Warriors  |   253   |      3      |    20   |   None   |   2924716    | 570152232  |    1.99   |\n",
       "|   3231  |       The Lost Warrior      |   253   |      3      |    20   |   None   |   2920045    | 558872190  |    1.99   |\n",
       "|   2902  |       Maternity Leave       |   231   |      3      |    21   |   None   |   2780416    | 555244214  |    1.99   |\n",
       "|   3228  | Battlestar Galactica, Pt. 3 |   253   |      3      |    20   |   None   |   2927802    | 554509033  |    1.99   |\n",
       "|   2832  |        The Woman King       |   227   |      3      |    18   |   None   |   2626376    | 552893447  |    1.99   |\n",
       "+---------+-----------------------------+---------+-------------+---------+----------+--------------+------------+-----------+\n",
       "Truncated to displaylimit of 10."
      ]
     },
     "execution_count": 27,
     "metadata": {},
     "output_type": "execute_result"
    }
   ],
   "source": [
    "%%sql\n",
    "SELECT *\n",
    "  FROM tracks\n",
    "  ORDER BY Bytes DESC\n",
    "  LIMIT 10"
   ]
  },
  {
   "cell_type": "markdown",
   "metadata": {},
   "source": [
    "### Exercise: simple filtering\n",
    "Write statements to get `tracks` with: the `AlbumId` equal to `1` and the `Bytes` length greater than 2e5msec"
   ]
  },
  {
   "cell_type": "code",
   "execution_count": 28,
   "metadata": {},
   "outputs": [
    {
     "data": {
      "text/html": [
       "<span style=\"None\">Running query in &#x27;sqlite:///chinook.db&#x27;</span>"
      ],
      "text/plain": [
       "Running query in 'sqlite:///chinook.db'"
      ]
     },
     "metadata": {},
     "output_type": "display_data"
    },
    {
     "data": {
      "text/html": [
       "<table>\n",
       "    <thead>\n",
       "        <tr>\n",
       "            <th>TrackId</th>\n",
       "            <th>Name</th>\n",
       "            <th>AlbumId</th>\n",
       "            <th>MediaTypeId</th>\n",
       "            <th>GenreId</th>\n",
       "            <th>Composer</th>\n",
       "            <th>Milliseconds</th>\n",
       "            <th>Bytes</th>\n",
       "            <th>UnitPrice</th>\n",
       "        </tr>\n",
       "    </thead>\n",
       "    <tbody>\n",
       "        <tr>\n",
       "            <td>1</td>\n",
       "            <td>For Those About To Rock (We Salute You)</td>\n",
       "            <td>1</td>\n",
       "            <td>1</td>\n",
       "            <td>1</td>\n",
       "            <td>Angus Young, Malcolm Young, Brian Johnson</td>\n",
       "            <td>343719</td>\n",
       "            <td>11170334</td>\n",
       "            <td>0.99</td>\n",
       "        </tr>\n",
       "        <tr>\n",
       "            <td>6</td>\n",
       "            <td>Put The Finger On You</td>\n",
       "            <td>1</td>\n",
       "            <td>1</td>\n",
       "            <td>1</td>\n",
       "            <td>Angus Young, Malcolm Young, Brian Johnson</td>\n",
       "            <td>205662</td>\n",
       "            <td>6713451</td>\n",
       "            <td>0.99</td>\n",
       "        </tr>\n",
       "        <tr>\n",
       "            <td>7</td>\n",
       "            <td>Let's Get It Up</td>\n",
       "            <td>1</td>\n",
       "            <td>1</td>\n",
       "            <td>1</td>\n",
       "            <td>Angus Young, Malcolm Young, Brian Johnson</td>\n",
       "            <td>233926</td>\n",
       "            <td>7636561</td>\n",
       "            <td>0.99</td>\n",
       "        </tr>\n",
       "        <tr>\n",
       "            <td>8</td>\n",
       "            <td>Inject The Venom</td>\n",
       "            <td>1</td>\n",
       "            <td>1</td>\n",
       "            <td>1</td>\n",
       "            <td>Angus Young, Malcolm Young, Brian Johnson</td>\n",
       "            <td>210834</td>\n",
       "            <td>6852860</td>\n",
       "            <td>0.99</td>\n",
       "        </tr>\n",
       "        <tr>\n",
       "            <td>9</td>\n",
       "            <td>Snowballed</td>\n",
       "            <td>1</td>\n",
       "            <td>1</td>\n",
       "            <td>1</td>\n",
       "            <td>Angus Young, Malcolm Young, Brian Johnson</td>\n",
       "            <td>203102</td>\n",
       "            <td>6599424</td>\n",
       "            <td>0.99</td>\n",
       "        </tr>\n",
       "        <tr>\n",
       "            <td>10</td>\n",
       "            <td>Evil Walks</td>\n",
       "            <td>1</td>\n",
       "            <td>1</td>\n",
       "            <td>1</td>\n",
       "            <td>Angus Young, Malcolm Young, Brian Johnson</td>\n",
       "            <td>263497</td>\n",
       "            <td>8611245</td>\n",
       "            <td>0.99</td>\n",
       "        </tr>\n",
       "        <tr>\n",
       "            <td>11</td>\n",
       "            <td>C.O.D.</td>\n",
       "            <td>1</td>\n",
       "            <td>1</td>\n",
       "            <td>1</td>\n",
       "            <td>Angus Young, Malcolm Young, Brian Johnson</td>\n",
       "            <td>199836</td>\n",
       "            <td>6566314</td>\n",
       "            <td>0.99</td>\n",
       "        </tr>\n",
       "        <tr>\n",
       "            <td>12</td>\n",
       "            <td>Breaking The Rules</td>\n",
       "            <td>1</td>\n",
       "            <td>1</td>\n",
       "            <td>1</td>\n",
       "            <td>Angus Young, Malcolm Young, Brian Johnson</td>\n",
       "            <td>263288</td>\n",
       "            <td>8596840</td>\n",
       "            <td>0.99</td>\n",
       "        </tr>\n",
       "        <tr>\n",
       "            <td>13</td>\n",
       "            <td>Night Of The Long Knives</td>\n",
       "            <td>1</td>\n",
       "            <td>1</td>\n",
       "            <td>1</td>\n",
       "            <td>Angus Young, Malcolm Young, Brian Johnson</td>\n",
       "            <td>205688</td>\n",
       "            <td>6706347</td>\n",
       "            <td>0.99</td>\n",
       "        </tr>\n",
       "        <tr>\n",
       "            <td>14</td>\n",
       "            <td>Spellbound</td>\n",
       "            <td>1</td>\n",
       "            <td>1</td>\n",
       "            <td>1</td>\n",
       "            <td>Angus Young, Malcolm Young, Brian Johnson</td>\n",
       "            <td>270863</td>\n",
       "            <td>8817038</td>\n",
       "            <td>0.99</td>\n",
       "        </tr>\n",
       "    </tbody>\n",
       "</table>\n",
       "<span style=\"font-style:italic;text-align:center;\">Truncated to <a href=\"https://jupysql.ploomber.io/en/latest/api/configuration.html#displaylimit\">displaylimit</a> of 10.</span>"
      ],
      "text/plain": [
       "+---------+-----------------------------------------+---------+-------------+---------+-------------------------------------------+--------------+----------+-----------+\n",
       "| TrackId |                   Name                  | AlbumId | MediaTypeId | GenreId |                  Composer                 | Milliseconds |  Bytes   | UnitPrice |\n",
       "+---------+-----------------------------------------+---------+-------------+---------+-------------------------------------------+--------------+----------+-----------+\n",
       "|    1    | For Those About To Rock (We Salute You) |    1    |      1      |    1    | Angus Young, Malcolm Young, Brian Johnson |    343719    | 11170334 |    0.99   |\n",
       "|    6    |          Put The Finger On You          |    1    |      1      |    1    | Angus Young, Malcolm Young, Brian Johnson |    205662    | 6713451  |    0.99   |\n",
       "|    7    |             Let's Get It Up             |    1    |      1      |    1    | Angus Young, Malcolm Young, Brian Johnson |    233926    | 7636561  |    0.99   |\n",
       "|    8    |             Inject The Venom            |    1    |      1      |    1    | Angus Young, Malcolm Young, Brian Johnson |    210834    | 6852860  |    0.99   |\n",
       "|    9    |                Snowballed               |    1    |      1      |    1    | Angus Young, Malcolm Young, Brian Johnson |    203102    | 6599424  |    0.99   |\n",
       "|    10   |                Evil Walks               |    1    |      1      |    1    | Angus Young, Malcolm Young, Brian Johnson |    263497    | 8611245  |    0.99   |\n",
       "|    11   |                  C.O.D.                 |    1    |      1      |    1    | Angus Young, Malcolm Young, Brian Johnson |    199836    | 6566314  |    0.99   |\n",
       "|    12   |            Breaking The Rules           |    1    |      1      |    1    | Angus Young, Malcolm Young, Brian Johnson |    263288    | 8596840  |    0.99   |\n",
       "|    13   |         Night Of The Long Knives        |    1    |      1      |    1    | Angus Young, Malcolm Young, Brian Johnson |    205688    | 6706347  |    0.99   |\n",
       "|    14   |                Spellbound               |    1    |      1      |    1    | Angus Young, Malcolm Young, Brian Johnson |    270863    | 8817038  |    0.99   |\n",
       "+---------+-----------------------------------------+---------+-------------+---------+-------------------------------------------+--------------+----------+-----------+\n",
       "Truncated to displaylimit of 10."
      ]
     },
     "execution_count": 28,
     "metadata": {},
     "output_type": "execute_result"
    }
   ],
   "source": [
    "%%sql\n",
    "SELECT *\n",
    "  FROM tracks\n",
    "  WHERE AlbumId = 1 AND Bytes > 200000\n"
   ]
  },
  {
   "cell_type": "markdown",
   "metadata": {},
   "source": [
    "### Exercise: filter with `IN`\n",
    "Return `customers` from `State` of `FL`(Florida), `WA`(Washington), `CA`(California)"
   ]
  },
  {
   "cell_type": "code",
   "execution_count": 29,
   "metadata": {},
   "outputs": [
    {
     "data": {
      "text/html": [
       "<span style=\"None\">Running query in &#x27;sqlite:///chinook.db&#x27;</span>"
      ],
      "text/plain": [
       "Running query in 'sqlite:///chinook.db'"
      ]
     },
     "metadata": {},
     "output_type": "display_data"
    },
    {
     "data": {
      "text/html": [
       "<table>\n",
       "    <thead>\n",
       "        <tr>\n",
       "            <th>CustomerId</th>\n",
       "            <th>FirstName</th>\n",
       "            <th>LastName</th>\n",
       "            <th>Company</th>\n",
       "            <th>Address</th>\n",
       "            <th>City</th>\n",
       "            <th>State</th>\n",
       "            <th>Country</th>\n",
       "            <th>PostalCode</th>\n",
       "            <th>Phone</th>\n",
       "            <th>Fax</th>\n",
       "            <th>Email</th>\n",
       "            <th>SupportRepId</th>\n",
       "        </tr>\n",
       "    </thead>\n",
       "    <tbody>\n",
       "        <tr>\n",
       "            <td>17</td>\n",
       "            <td>Jack</td>\n",
       "            <td>Smith</td>\n",
       "            <td>Microsoft Corporation</td>\n",
       "            <td>1 Microsoft Way</td>\n",
       "            <td>Redmond</td>\n",
       "            <td>WA</td>\n",
       "            <td>USA</td>\n",
       "            <td>98052-8300</td>\n",
       "            <td>+1 (425) 882-8080</td>\n",
       "            <td>+1 (425) 882-8081</td>\n",
       "            <td>jacksmith@microsoft.com</td>\n",
       "            <td>5</td>\n",
       "        </tr>\n",
       "        <tr>\n",
       "            <td>22</td>\n",
       "            <td>Heather</td>\n",
       "            <td>Leacock</td>\n",
       "            <td>None</td>\n",
       "            <td>120 S Orange Ave</td>\n",
       "            <td>Orlando</td>\n",
       "            <td>FL</td>\n",
       "            <td>USA</td>\n",
       "            <td>32801</td>\n",
       "            <td>+1 (407) 999-7788</td>\n",
       "            <td>None</td>\n",
       "            <td>hleacock@gmail.com</td>\n",
       "            <td>4</td>\n",
       "        </tr>\n",
       "    </tbody>\n",
       "</table>"
      ],
      "text/plain": [
       "+------------+-----------+----------+-----------------------+------------------+---------+-------+---------+------------+-------------------+-------------------+-------------------------+--------------+\n",
       "| CustomerId | FirstName | LastName |        Company        |     Address      |   City  | State | Country | PostalCode |       Phone       |        Fax        |          Email          | SupportRepId |\n",
       "+------------+-----------+----------+-----------------------+------------------+---------+-------+---------+------------+-------------------+-------------------+-------------------------+--------------+\n",
       "|     17     |    Jack   |  Smith   | Microsoft Corporation | 1 Microsoft Way  | Redmond |   WA  |   USA   | 98052-8300 | +1 (425) 882-8080 | +1 (425) 882-8081 | jacksmith@microsoft.com |      5       |\n",
       "|     22     |  Heather  | Leacock  |          None         | 120 S Orange Ave | Orlando |   FL  |   USA   |   32801    | +1 (407) 999-7788 |        None       |    hleacock@gmail.com   |      4       |\n",
       "+------------+-----------+----------+-----------------------+------------------+---------+-------+---------+------------+-------------------+-------------------+-------------------------+--------------+"
      ]
     },
     "execution_count": 29,
     "metadata": {},
     "output_type": "execute_result"
    }
   ],
   "source": [
    "%%sql\n",
    "SELECT *\n",
    "  FROM customers\n",
    "  WHERE State IN (\"FL\", \"WA\")\n"
   ]
  },
  {
   "cell_type": "markdown",
   "metadata": {},
   "source": [
    "### Exercise: fliter for numbers in range\n",
    "Find `invoices` whose `Total` is between 14.96 and 18.86. Use `BETWEEN`.\\\n",
    "\n",
    "Sort the output with increasing `Total`. Show only these columns: `InvoiceId, BillingAddress`, 'Total`."
   ]
  },
  {
   "cell_type": "code",
   "execution_count": 30,
   "metadata": {},
   "outputs": [
    {
     "data": {
      "text/html": [
       "<span style=\"None\">Running query in &#x27;sqlite:///chinook.db&#x27;</span>"
      ],
      "text/plain": [
       "Running query in 'sqlite:///chinook.db'"
      ]
     },
     "metadata": {},
     "output_type": "display_data"
    },
    {
     "data": {
      "text/html": [
       "<table>\n",
       "    <thead>\n",
       "        <tr>\n",
       "            <th>InvoiceId</th>\n",
       "            <th>CustomerId</th>\n",
       "            <th>InvoiceDate</th>\n",
       "            <th>BillingAddress</th>\n",
       "            <th>BillingCity</th>\n",
       "            <th>BillingState</th>\n",
       "            <th>BillingCountry</th>\n",
       "            <th>BillingPostalCode</th>\n",
       "            <th>Total</th>\n",
       "        </tr>\n",
       "    </thead>\n",
       "    <tbody>\n",
       "        <tr>\n",
       "            <td>88</td>\n",
       "            <td>57</td>\n",
       "            <td>2010-01-13 00:00:00</td>\n",
       "            <td>Calle Lira, 198</td>\n",
       "            <td>Santiago</td>\n",
       "            <td>None</td>\n",
       "            <td>Chile</td>\n",
       "            <td>None</td>\n",
       "            <td>17.91</td>\n",
       "        </tr>\n",
       "        <tr>\n",
       "            <td>89</td>\n",
       "            <td>7</td>\n",
       "            <td>2010-01-18 00:00:00</td>\n",
       "            <td>Rotenturmstraße 4, 1010 Innere Stadt</td>\n",
       "            <td>Vienne</td>\n",
       "            <td>None</td>\n",
       "            <td>Austria</td>\n",
       "            <td>1010</td>\n",
       "            <td>18.86</td>\n",
       "        </tr>\n",
       "        <tr>\n",
       "            <td>103</td>\n",
       "            <td>24</td>\n",
       "            <td>2010-03-21 00:00:00</td>\n",
       "            <td>162 E Superior Street</td>\n",
       "            <td>Chicago</td>\n",
       "            <td>IL</td>\n",
       "            <td>USA</td>\n",
       "            <td>60611</td>\n",
       "            <td>15.86</td>\n",
       "        </tr>\n",
       "        <tr>\n",
       "            <td>201</td>\n",
       "            <td>25</td>\n",
       "            <td>2011-05-29 00:00:00</td>\n",
       "            <td>319 N. Frances Street</td>\n",
       "            <td>Madison</td>\n",
       "            <td>WI</td>\n",
       "            <td>USA</td>\n",
       "            <td>53703</td>\n",
       "            <td>18.86</td>\n",
       "        </tr>\n",
       "        <tr>\n",
       "            <td>208</td>\n",
       "            <td>4</td>\n",
       "            <td>2011-06-29 00:00:00</td>\n",
       "            <td>Ullevålsveien 14</td>\n",
       "            <td>Oslo</td>\n",
       "            <td>None</td>\n",
       "            <td>Norway</td>\n",
       "            <td>0171</td>\n",
       "            <td>15.86</td>\n",
       "        </tr>\n",
       "        <tr>\n",
       "            <td>306</td>\n",
       "            <td>5</td>\n",
       "            <td>2012-09-05 00:00:00</td>\n",
       "            <td>Klanova 9/506</td>\n",
       "            <td>Prague</td>\n",
       "            <td>None</td>\n",
       "            <td>Czech Republic</td>\n",
       "            <td>14700</td>\n",
       "            <td>16.86</td>\n",
       "        </tr>\n",
       "        <tr>\n",
       "            <td>313</td>\n",
       "            <td>43</td>\n",
       "            <td>2012-10-06 00:00:00</td>\n",
       "            <td>68, Rue Jouvence</td>\n",
       "            <td>Dijon</td>\n",
       "            <td>None</td>\n",
       "            <td>France</td>\n",
       "            <td>21000</td>\n",
       "            <td>16.86</td>\n",
       "        </tr>\n",
       "    </tbody>\n",
       "</table>"
      ],
      "text/plain": [
       "+-----------+------------+---------------------+--------------------------------------+-------------+--------------+----------------+-------------------+-------+\n",
       "| InvoiceId | CustomerId |     InvoiceDate     |            BillingAddress            | BillingCity | BillingState | BillingCountry | BillingPostalCode | Total |\n",
       "+-----------+------------+---------------------+--------------------------------------+-------------+--------------+----------------+-------------------+-------+\n",
       "|     88    |     57     | 2010-01-13 00:00:00 |           Calle Lira, 198            |   Santiago  |     None     |     Chile      |        None       | 17.91 |\n",
       "|     89    |     7      | 2010-01-18 00:00:00 | Rotenturmstraße 4, 1010 Innere Stadt |    Vienne   |     None     |    Austria     |        1010       | 18.86 |\n",
       "|    103    |     24     | 2010-03-21 00:00:00 |        162 E Superior Street         |   Chicago   |      IL      |      USA       |       60611       | 15.86 |\n",
       "|    201    |     25     | 2011-05-29 00:00:00 |        319 N. Frances Street         |   Madison   |      WI      |      USA       |       53703       | 18.86 |\n",
       "|    208    |     4      | 2011-06-29 00:00:00 |           Ullevålsveien 14           |     Oslo    |     None     |     Norway     |        0171       | 15.86 |\n",
       "|    306    |     5      | 2012-09-05 00:00:00 |            Klanova 9/506             |    Prague   |     None     | Czech Republic |       14700       | 16.86 |\n",
       "|    313    |     43     | 2012-10-06 00:00:00 |           68, Rue Jouvence           |    Dijon    |     None     |     France     |       21000       | 16.86 |\n",
       "+-----------+------------+---------------------+--------------------------------------+-------------+--------------+----------------+-------------------+-------+"
      ]
     },
     "execution_count": 30,
     "metadata": {},
     "output_type": "execute_result"
    }
   ],
   "source": [
    "%%sql\n",
    "SELECT *\n",
    "  FROM invoices\n",
    "  WHERE Total BETWEEN '14.96' AND '18.86'"
   ]
  },
  {
   "cell_type": "code",
   "execution_count": 31,
   "metadata": {},
   "outputs": [
    {
     "data": {
      "text/html": [
       "<span style=\"None\">Running query in &#x27;sqlite:///chinook.db&#x27;</span>"
      ],
      "text/plain": [
       "Running query in 'sqlite:///chinook.db'"
      ]
     },
     "metadata": {},
     "output_type": "display_data"
    },
    {
     "data": {
      "text/html": [
       "<table>\n",
       "    <thead>\n",
       "        <tr>\n",
       "            <th>InvoiceId</th>\n",
       "            <th>BillingAddress</th>\n",
       "            <th>Total</th>\n",
       "        </tr>\n",
       "    </thead>\n",
       "    <tbody>\n",
       "        <tr>\n",
       "            <td>103</td>\n",
       "            <td>162 E Superior Street</td>\n",
       "            <td>15.86</td>\n",
       "        </tr>\n",
       "        <tr>\n",
       "            <td>208</td>\n",
       "            <td>Ullevålsveien 14</td>\n",
       "            <td>15.86</td>\n",
       "        </tr>\n",
       "        <tr>\n",
       "            <td>306</td>\n",
       "            <td>Klanova 9/506</td>\n",
       "            <td>16.86</td>\n",
       "        </tr>\n",
       "        <tr>\n",
       "            <td>313</td>\n",
       "            <td>68, Rue Jouvence</td>\n",
       "            <td>16.86</td>\n",
       "        </tr>\n",
       "        <tr>\n",
       "            <td>88</td>\n",
       "            <td>Calle Lira, 198</td>\n",
       "            <td>17.91</td>\n",
       "        </tr>\n",
       "        <tr>\n",
       "            <td>89</td>\n",
       "            <td>Rotenturmstraße 4, 1010 Innere Stadt</td>\n",
       "            <td>18.86</td>\n",
       "        </tr>\n",
       "        <tr>\n",
       "            <td>201</td>\n",
       "            <td>319 N. Frances Street</td>\n",
       "            <td>18.86</td>\n",
       "        </tr>\n",
       "    </tbody>\n",
       "</table>"
      ],
      "text/plain": [
       "+-----------+--------------------------------------+-------+\n",
       "| InvoiceId |            BillingAddress            | Total |\n",
       "+-----------+--------------------------------------+-------+\n",
       "|    103    |        162 E Superior Street         | 15.86 |\n",
       "|    208    |           Ullevålsveien 14           | 15.86 |\n",
       "|    306    |            Klanova 9/506             | 16.86 |\n",
       "|    313    |           68, Rue Jouvence           | 16.86 |\n",
       "|     88    |           Calle Lira, 198            | 17.91 |\n",
       "|     89    | Rotenturmstraße 4, 1010 Innere Stadt | 18.86 |\n",
       "|    201    |        319 N. Frances Street         | 18.86 |\n",
       "+-----------+--------------------------------------+-------+"
      ]
     },
     "execution_count": 31,
     "metadata": {},
     "output_type": "execute_result"
    }
   ],
   "source": [
    "%%sql\n",
    "SELECT InVoiceId, BillingAddress, Total\n",
    "  FROM invoices\n",
    "  WHERE Total BETWEEN '14.96' AND '18.86'\n",
    "  ORDER BY Total ASC"
   ]
  },
  {
   "cell_type": "markdown",
   "metadata": {},
   "source": [
    "### Exercise: filter partially matching words\n",
    "Find the `tracks` whose `Names` contain a substring: `Br` (two letters), one letter, `wn` (two letters)"
   ]
  },
  {
   "cell_type": "code",
   "execution_count": 32,
   "metadata": {},
   "outputs": [
    {
     "data": {
      "text/html": [
       "<span style=\"None\">Running query in &#x27;sqlite:///chinook.db&#x27;</span>"
      ],
      "text/plain": [
       "Running query in 'sqlite:///chinook.db'"
      ]
     },
     "metadata": {},
     "output_type": "display_data"
    },
    {
     "data": {
      "text/html": [
       "<table>\n",
       "    <thead>\n",
       "        <tr>\n",
       "            <th>TrackId</th>\n",
       "            <th>Name</th>\n",
       "            <th>AlbumId</th>\n",
       "            <th>MediaTypeId</th>\n",
       "            <th>GenreId</th>\n",
       "            <th>Composer</th>\n",
       "            <th>Milliseconds</th>\n",
       "            <th>Bytes</th>\n",
       "            <th>UnitPrice</th>\n",
       "        </tr>\n",
       "    </thead>\n",
       "    <tbody>\n",
       "        <tr>\n",
       "            <td>1053</td>\n",
       "            <td>Bad, Bad Leroy Brown</td>\n",
       "            <td>83</td>\n",
       "            <td>1</td>\n",
       "            <td>12</td>\n",
       "            <td>jim croce</td>\n",
       "            <td>169900</td>\n",
       "            <td>5548581</td>\n",
       "            <td>0.99</td>\n",
       "        </tr>\n",
       "        <tr>\n",
       "            <td>1150</td>\n",
       "            <td>Mr. Brownstone</td>\n",
       "            <td>90</td>\n",
       "            <td>2</td>\n",
       "            <td>1</td>\n",
       "            <td>None</td>\n",
       "            <td>228924</td>\n",
       "            <td>3816323</td>\n",
       "            <td>0.99</td>\n",
       "        </tr>\n",
       "    </tbody>\n",
       "</table>"
      ],
      "text/plain": [
       "+---------+----------------------+---------+-------------+---------+-----------+--------------+---------+-----------+\n",
       "| TrackId |         Name         | AlbumId | MediaTypeId | GenreId |  Composer | Milliseconds |  Bytes  | UnitPrice |\n",
       "+---------+----------------------+---------+-------------+---------+-----------+--------------+---------+-----------+\n",
       "|   1053  | Bad, Bad Leroy Brown |    83   |      1      |    12   | jim croce |    169900    | 5548581 |    0.99   |\n",
       "|   1150  |    Mr. Brownstone    |    90   |      2      |    1    |    None   |    228924    | 3816323 |    0.99   |\n",
       "+---------+----------------------+---------+-------------+---------+-----------+--------------+---------+-----------+"
      ]
     },
     "execution_count": 32,
     "metadata": {},
     "output_type": "execute_result"
    }
   ],
   "source": [
    "%%sql\n",
    "SELECT *\n",
    "  FROM tracks\n",
    "  WHERE Name LIKE '%Br_wn%'"
   ]
  },
  {
   "cell_type": "markdown",
   "metadata": {},
   "source": [
    "### Exerise: filtering missing values\n",
    "\n",
    "Find the `customers` who do not have phone numbers. In the result show only the name and the (missing) phone number."
   ]
  },
  {
   "cell_type": "code",
   "execution_count": 33,
   "metadata": {},
   "outputs": [
    {
     "data": {
      "text/html": [
       "<span style=\"None\">Running query in &#x27;sqlite:///chinook.db&#x27;</span>"
      ],
      "text/plain": [
       "Running query in 'sqlite:///chinook.db'"
      ]
     },
     "metadata": {},
     "output_type": "display_data"
    },
    {
     "data": {
      "text/html": [
       "<table>\n",
       "    <thead>\n",
       "        <tr>\n",
       "            <th>CustomerId</th>\n",
       "            <th>FirstName</th>\n",
       "            <th>LastName</th>\n",
       "            <th>Company</th>\n",
       "            <th>Address</th>\n",
       "            <th>City</th>\n",
       "            <th>State</th>\n",
       "            <th>Country</th>\n",
       "            <th>PostalCode</th>\n",
       "            <th>Phone</th>\n",
       "            <th>Fax</th>\n",
       "            <th>Email</th>\n",
       "            <th>SupportRepId</th>\n",
       "        </tr>\n",
       "    </thead>\n",
       "    <tbody>\n",
       "        <tr>\n",
       "            <td>45</td>\n",
       "            <td>Ladislav</td>\n",
       "            <td>Kovács</td>\n",
       "            <td>None</td>\n",
       "            <td>Erzsébet krt. 58.</td>\n",
       "            <td>Budapest</td>\n",
       "            <td>None</td>\n",
       "            <td>Hungary</td>\n",
       "            <td>H-1073</td>\n",
       "            <td>None</td>\n",
       "            <td>None</td>\n",
       "            <td>ladislav_kovacs@apple.hu</td>\n",
       "            <td>3</td>\n",
       "        </tr>\n",
       "    </tbody>\n",
       "</table>"
      ],
      "text/plain": [
       "+------------+-----------+----------+---------+-------------------+----------+-------+---------+------------+-------+------+--------------------------+--------------+\n",
       "| CustomerId | FirstName | LastName | Company |      Address      |   City   | State | Country | PostalCode | Phone | Fax  |          Email           | SupportRepId |\n",
       "+------------+-----------+----------+---------+-------------------+----------+-------+---------+------------+-------+------+--------------------------+--------------+\n",
       "|     45     |  Ladislav |  Kovács  |   None  | Erzsébet krt. 58. | Budapest |  None | Hungary |   H-1073   |  None | None | ladislav_kovacs@apple.hu |      3       |\n",
       "+------------+-----------+----------+---------+-------------------+----------+-------+---------+------------+-------+------+--------------------------+--------------+"
      ]
     },
     "execution_count": 33,
     "metadata": {},
     "output_type": "execute_result"
    }
   ],
   "source": [
    "%%sql\n",
    "SELECT *\n",
    "  FROM customers\n",
    "  WHERE Phone IS NULL"
   ]
  },
  {
   "cell_type": "markdown",
   "metadata": {},
   "source": [
    "### Exercise: from the database to a Python list\n",
    "Create a Python variable `bs` to be list containing all `tracks` sizes as provided in the `Bytes` column.\\\n",
    "Print the `type` of the `bs` variable. Print the first 10 elements of bs."
   ]
  },
  {
   "cell_type": "code",
   "execution_count": 34,
   "metadata": {},
   "outputs": [
    {
     "data": {
      "text/plain": [
       "[11170334,\n",
       " 5510424,\n",
       " 3990994,\n",
       " 4331779,\n",
       " 6290521,\n",
       " 6713451,\n",
       " 7636561,\n",
       " 6852860,\n",
       " 6599424,\n",
       " 8611245,\n",
       " 6566314,\n",
       " 8596840,\n",
       " 6706347,\n",
       " 8817038,\n",
       " 10847611,\n",
       " 7032162,\n",
       " 12021261,\n",
       " 8776140,\n",
       " 10617116,\n",
       " 12066294,\n",
       " 8331286,\n",
       " 10547154,\n",
       " 9719579,\n",
       " 10552051,\n",
       " 8675345,\n",
       " 10144730,\n",
       " 8679940,\n",
       " 10869391,\n",
       " 10056995,\n",
       " 11616195,\n",
       " 7877453,\n",
       " 7074167,\n",
       " 7983270,\n",
       " 10402398,\n",
       " 8262039,\n",
       " 9989331,\n",
       " 12374569,\n",
       " 9375567,\n",
       " 8196916,\n",
       " 6145404,\n",
       " 7224246,\n",
       " 5793082,\n",
       " 9753256,\n",
       " 7824837,\n",
       " 8758008,\n",
       " 9163588,\n",
       " 7598866,\n",
       " 7604601,\n",
       " 9703359,\n",
       " 16008629,\n",
       " 4925362,\n",
       " 9310272,\n",
       " 11316328,\n",
       " 7847716,\n",
       " 7302550,\n",
       " 12575396,\n",
       " 8993793,\n",
       " 9216057,\n",
       " 6420530,\n",
       " 11183647,\n",
       " 8497788,\n",
       " 7937731,\n",
       " 5990473,\n",
       " 9348428,\n",
       " 4535401,\n",
       " 5536496,\n",
       " 8226934,\n",
       " 4198774,\n",
       " 8149148,\n",
       " 4393377,\n",
       " 7121735,\n",
       " 5574957,\n",
       " 6687994,\n",
       " 4110053,\n",
       " 12089673,\n",
       " 8719426,\n",
       " 7286305,\n",
       " 14375310,\n",
       " 12372536,\n",
       " 10422447,\n",
       " 9405526,\n",
       " 10110980,\n",
       " 12033110,\n",
       " 11406431,\n",
       " 5339931,\n",
       " 6672176,\n",
       " 6709793,\n",
       " 5988186,\n",
       " 7059624,\n",
       " 6321091,\n",
       " 8245793,\n",
       " 8041411,\n",
       " 4948095,\n",
       " 4961887,\n",
       " 7911634,\n",
       " 7289084,\n",
       " 7193162,\n",
       " 7622615,\n",
       " 8273592,\n",
       " 9506571,\n",
       " 9106160,\n",
       " 8357387,\n",
       " 7609178,\n",
       " 9006158,\n",
       " 7710800,\n",
       " 7542942,\n",
       " 8944205,\n",
       " 9003592,\n",
       " 9731988,\n",
       " 10029406,\n",
       " 2365897,\n",
       " 1707084,\n",
       " 1862126,\n",
       " 2582553,\n",
       " 2206986,\n",
       " 2247846,\n",
       " 2276788,\n",
       " 2616981,\n",
       " 2301989,\n",
       " 2306019,\n",
       " 1704918,\n",
       " 1299960,\n",
       " 8538199,\n",
       " 15075616,\n",
       " 8217867,\n",
       " 9714812,\n",
       " 19115680,\n",
       " 10630578,\n",
       " 8230661,\n",
       " 9018565,\n",
       " 10642901,\n",
       " 8137421,\n",
       " 9869647,\n",
       " 7726948,\n",
       " 10513905,\n",
       " 9011701,\n",
       " 9355309,\n",
       " 8130090,\n",
       " 8574746,\n",
       " 9257358,\n",
       " 11820932,\n",
       " 18041629,\n",
       " 11965109,\n",
       " 6417460,\n",
       " 13842549,\n",
       " 9115657,\n",
       " 9359475,\n",
       " 8975814,\n",
       " 12440200,\n",
       " 8646737,\n",
       " 7169049,\n",
       " 12029390,\n",
       " 6655170,\n",
       " 21128525,\n",
       " 6893363,\n",
       " 16065830,\n",
       " 6252071,\n",
       " 9175517,\n",
       " 3331776,\n",
       " 9245971,\n",
       " 10813386,\n",
       " 7653880,\n",
       " 5671374,\n",
       " 4884969,\n",
       " 11360486,\n",
       " 1549074,\n",
       " 6715413,\n",
       " 161266,\n",
       " 10489139,\n",
       " 211997,\n",
       " 7324125,\n",
       " 387360,\n",
       " 5709631,\n",
       " 3067064,\n",
       " 9875962,\n",
       " 12843821,\n",
       " 11443471,\n",
       " 224313,\n",
       " 7828873,\n",
       " 5463690,\n",
       " 12122946,\n",
       " 9337917,\n",
       " 9218499,\n",
       " 8022764,\n",
       " 9435693,\n",
       " 8854240,\n",
       " 16034404,\n",
       " 8627004,\n",
       " 13194463,\n",
       " 11820908,\n",
       " 11138147,\n",
       " 16545657,\n",
       " 7802095,\n",
       " 4604995,\n",
       " 5716994,\n",
       " 14184984,\n",
       " 7848282,\n",
       " 7685363,\n",
       " 6859518,\n",
       " 4456321,\n",
       " 5487056,\n",
       " 6022698,\n",
       " 4459946,\n",
       " 19161377,\n",
       " 5842196,\n",
       " 3225364,\n",
       " 4865597,\n",
       " 15889054,\n",
       " 7382703,\n",
       " 2752161,\n",
       " 4333651,\n",
       " 5065932,\n",
       " 4726981,\n",
       " 5924159,\n",
       " 6253200,\n",
       " 7217126,\n",
       " 9854062,\n",
       " 10003747,\n",
       " 4704104,\n",
       " 8507446,\n",
       " 10364247,\n",
       " 9411272,\n",
       " 14462072,\n",
       " 6455134,\n",
       " 10975007,\n",
       " 5375395,\n",
       " 5568574,\n",
       " 12359161,\n",
       " 5431854,\n",
       " 9499590,\n",
       " 6132843,\n",
       " 5645703,\n",
       " 5574848,\n",
       " 6373932,\n",
       " 7886937,\n",
       " 4349539,\n",
       " 6029673,\n",
       " 5846442,\n",
       " 7270749,\n",
       " 8778172,\n",
       " 10342226,\n",
       " 5461468,\n",
       " 4693941,\n",
       " 5074189,\n",
       " 12675305,\n",
       " 1103013,\n",
       " 6724966,\n",
       " 5061413,\n",
       " 5042447,\n",
       " 8253934,\n",
       " 7984291,\n",
       " 7541688,\n",
       " 9670057,\n",
       " 3240816,\n",
       " 7714954,\n",
       " 7960868,\n",
       " 6475159,\n",
       " 4272821,\n",
       " 5198539,\n",
       " 4415557,\n",
       " 2968650,\n",
       " 2408550,\n",
       " 6984813,\n",
       " 5881293,\n",
       " 8911641,\n",
       " 9019677,\n",
       " 6986421,\n",
       " 7380787,\n",
       " 10251097,\n",
       " 8147224,\n",
       " 9659152,\n",
       " 7241817,\n",
       " 6172781,\n",
       " 9095410,\n",
       " 8378065,\n",
       " 2901397,\n",
       " 7183969,\n",
       " 8253618,\n",
       " 3536938,\n",
       " 6534200,\n",
       " 13702771,\n",
       " 8327676,\n",
       " 7697230,\n",
       " 8505985,\n",
       " 6455080,\n",
       " 7402658,\n",
       " 10078050,\n",
       " 7866924,\n",
       " 7747747,\n",
       " 8275673,\n",
       " 6920424,\n",
       " 7388466,\n",
       " 8502588,\n",
       " 5748424,\n",
       " 8552474,\n",
       " 6503533,\n",
       " 7488852,\n",
       " 7663348,\n",
       " 10056970,\n",
       " 6950332,\n",
       " 9544383,\n",
       " 9344477,\n",
       " 8189093,\n",
       " 7507866,\n",
       " 6399761,\n",
       " 8069934,\n",
       " 5950952,\n",
       " 9633659,\n",
       " 8024386,\n",
       " 8895073,\n",
       " 9142937,\n",
       " 7029400,\n",
       " 10309980,\n",
       " 8150846,\n",
       " 8441034,\n",
       " 8123466,\n",
       " 8420093,\n",
       " 8731945,\n",
       " 7685326,\n",
       " 9205941,\n",
       " 8873358,\n",
       " 7111596,\n",
       " 6892516,\n",
       " 6643207,\n",
       " 6507950,\n",
       " 6327391,\n",
       " 7748006,\n",
       " 7034985,\n",
       " 6973625,\n",
       " 6457752,\n",
       " 7254147,\n",
       " 7027525,\n",
       " 6568081,\n",
       " 6931328,\n",
       " 6772813,\n",
       " 5532564,\n",
       " 10249958,\n",
       " 8581414,\n",
       " 6287257,\n",
       " 13035765,\n",
       " 5995686,\n",
       " 8497116,\n",
       " 5261022,\n",
       " 10232581,\n",
       " 12258175,\n",
       " 4165650,\n",
       " 6041133,\n",
       " 12377615,\n",
       " 20138673,\n",
       " 23092953,\n",
       " 7649679,\n",
       " 11731061,\n",
       " 5572993,\n",
       " 6007019,\n",
       " 8912465,\n",
       " 4728586,\n",
       " 22080051,\n",
       " 2922044,\n",
       " 10891682,\n",
       " 9402241,\n",
       " 9310370,\n",
       " 9616640,\n",
       " 9694508,\n",
       " 9721084,\n",
       " 9599937,\n",
       " 9633755,\n",
       " 9451845,\n",
       " 9883335,\n",
       " 9698729,\n",
       " 8522591,\n",
       " 9718778,\n",
       " 9619196,\n",
       " 10020122,\n",
       " 8499591,\n",
       " 8255254,\n",
       " 7528825,\n",
       " 8619173,\n",
       " 9057557,\n",
       " 4866476,\n",
       " 9440676,\n",
       " 6046678,\n",
       " 8737489,\n",
       " 6547648,\n",
       " 6191752,\n",
       " 5891697,\n",
       " 7938246,\n",
       " 8267067,\n",
       " 5972430,\n",
       " 4743149,\n",
       " 7243166,\n",
       " 9141343,\n",
       " 7143328,\n",
       " 10344491,\n",
       " 5572240,\n",
       " 5115428,\n",
       " 8013065,\n",
       " 9275929,\n",
       " 12192989,\n",
       " 8991141,\n",
       " 5594341,\n",
       " 9313740,\n",
       " 7819755,\n",
       " 9073350,\n",
       " 7102545,\n",
       " 5492069,\n",
       " 6792493,\n",
       " 13085596,\n",
       " 5076048,\n",
       " 6978601,\n",
       " 12418147,\n",
       " 11946327,\n",
       " 4867667,\n",
       " 15446975,\n",
       " 21942829,\n",
       " 13065612,\n",
       " 9943129,\n",
       " 17900787,\n",
       " 9378873,\n",
       " 8689618,\n",
       " 7739042,\n",
       " 11358573,\n",
       " 7876564,\n",
       " 8552861,\n",
       " 12664591,\n",
       " 8112242,\n",
       " 8150479,\n",
       " 9577577,\n",
       " 8921404,\n",
       " 9671923,\n",
       " 8192339,\n",
       " 7920353,\n",
       " 7255404,\n",
       " 8114582,\n",
       " 8526760,\n",
       " 7936928,\n",
       " 7146372,\n",
       " 10266007,\n",
       " 7109267,\n",
       " 7939886,\n",
       " 6424915,\n",
       " 6097210,\n",
       " 7045314,\n",
       " 7529336,\n",
       " 6976194,\n",
       " 8229734,\n",
       " 9018078,\n",
       " 7194424,\n",
       " 8309077,\n",
       " 7395034,\n",
       " 5360574,\n",
       " 6317021,\n",
       " 5735902,\n",
       " 8609783,\n",
       " 6801116,\n",
       " 10441590,\n",
       " 9098263,\n",
       " 10518284,\n",
       " 9765802,\n",
       " 8851060,\n",
       " 9070880,\n",
       " 9422926,\n",
       " 9848545,\n",
       " 10317185,\n",
       " 10429398,\n",
       " 9863942,\n",
       " 9480777,\n",
       " 9069394,\n",
       " 5484747,\n",
       " 5243078,\n",
       " 7714939,\n",
       " 7406008,\n",
       " 5951736,\n",
       " 5839426,\n",
       " 4425128,\n",
       " 5645755,\n",
       " 4408983,\n",
       " 6305550,\n",
       " 2950224,\n",
       " 4932366,\n",
       " 4431357,\n",
       " 5616891,\n",
       " 5075241,\n",
       " 6481753,\n",
       " 5604618,\n",
       " 5535061,\n",
       " 7343176,\n",
       " 6316430,\n",
       " 7075573,\n",
       " 2452653,\n",
       " 14359478,\n",
       " 8385478,\n",
       " 11269612,\n",
       " 11409720,\n",
       " 9425200,\n",
       " 9567075,\n",
       " 12785876,\n",
       " 9750990,\n",
       " 11810238,\n",
       " 9288007,\n",
       " 7803074,\n",
       " 6539422,\n",
       " 7083012,\n",
       " 6473395,\n",
       " 8650647,\n",
       " 5494406,\n",
       " 8280636,\n",
       " 8353191,\n",
       " 5130056,\n",
       " 7747108,\n",
       " 7585112,\n",
       " 6854219,\n",
       " 5997444,\n",
       " 5946265,\n",
       " 6796523,\n",
       " 7466288,\n",
       " 8050268,\n",
       " 6453213,\n",
       " 8622495,\n",
       " 13885612,\n",
       " 12472890,\n",
       " 4862277,\n",
       " 6372433,\n",
       " 6151831,\n",
       " 9953962,\n",
       " 6098150,\n",
       " 11746781,\n",
       " 13224055,\n",
       " 5497025,\n",
       " 7852328,\n",
       " 9484504,\n",
       " 4875374,\n",
       " 5798202,\n",
       " 16873005,\n",
       " 4069688,\n",
       " 9433620,\n",
       " 6411149,\n",
       " 6295223,\n",
       " 5637959,\n",
       " 6270503,\n",
       " 7346254,\n",
       " 7232123,\n",
       " 12495906,\n",
       " 14775708,\n",
       " 9050022,\n",
       " 11046952,\n",
       " 7608759,\n",
       " 24596235,\n",
       " 20103125,\n",
       " 26369966,\n",
       " 8348257,\n",
       " 11011286,\n",
       " 21676727,\n",
       " 7972503,\n",
       " 11154468,\n",
       " 16686580,\n",
       " 11348710,\n",
       " 10991159,\n",
       " 11484362,\n",
       " 8817757,\n",
       " 11440689,\n",
       " 10294741,\n",
       " 9999506,\n",
       " 11100945,\n",
       " 10251428,\n",
       " 10712216,\n",
       " 11870956,\n",
       " 9114880,\n",
       " 11161196,\n",
       " 8749492,\n",
       " 11769507,\n",
       " 11634337,\n",
       " 9394769,\n",
       " 9492487,\n",
       " 9867455,\n",
       " 11741062,\n",
       " 8664601,\n",
       " 10963305,\n",
       " 9206802,\n",
       " 9771348,\n",
       " 9599353,\n",
       " 12504234,\n",
       " 24703884,\n",
       " 8100449,\n",
       " 7677671,\n",
       " 9391004,\n",
       " 6636465,\n",
       " 8021589,\n",
       " 7617432,\n",
       " 6095524,\n",
       " 7935898,\n",
       " 6521676,\n",
       " 9161539,\n",
       " 9604273,\n",
       " 10572752,\n",
       " 7103608,\n",
       " 7930264,\n",
       " 6358868,\n",
       " 6222536,\n",
       " 11254474,\n",
       " 7548434,\n",
       " 26411634,\n",
       " 11590284,\n",
       " 15549224,\n",
       " 9018024,\n",
       " 5437017,\n",
       " 6461370,\n",
       " 18360449,\n",
       " 7593713,\n",
       " 17890773,\n",
       " 29416781,\n",
       " 11079866,\n",
       " 15478450,\n",
       " 16131272,\n",
       " 27967919,\n",
       " 6273225,\n",
       " 10529483,\n",
       " 7955114,\n",
       " 7292197,\n",
       " 12520126,\n",
       " 39267613,\n",
       " 29846063,\n",
       " 27775442,\n",
       " 24887209,\n",
       " 5991903,\n",
       " 11204006,\n",
       " 6185636,\n",
       " 6034685,\n",
       " 5898810,\n",
       " 5846041,\n",
       " 6603153,\n",
       " 6529487,\n",
       " 6260820,\n",
       " 5822645,\n",
       " 6093124,\n",
       " 6287531,\n",
       " 5899898,\n",
       " 5432236,\n",
       " 9444385,\n",
       " 9244238,\n",
       " 7257663,\n",
       " 9209827,\n",
       " 6536918,\n",
       " 6546063,\n",
       " 6697510,\n",
       " 6359750,\n",
       " 13490008,\n",
       " 13125975,\n",
       " 5550356,\n",
       " 5676090,\n",
       " 6771624,\n",
       " 7117769,\n",
       " 4560873,\n",
       " 7541177,\n",
       " 7927967,\n",
       " 5371483,\n",
       " 6335548,\n",
       " 5932799,\n",
       " 6878359,\n",
       " 6923473,\n",
       " 5382354,\n",
       " 7902328,\n",
       " 5399626,\n",
       " 9016916,\n",
       " 5523628,\n",
       " 8480140,\n",
       " 8380320,\n",
       " 7991295,\n",
       " 6851151,\n",
       " 7751360,\n",
       " 8033885,\n",
       " 3836641,\n",
       " 4298006,\n",
       " 5767474,\n",
       " 4642359,\n",
       " 9043825,\n",
       " 8943000,\n",
       " 6229590,\n",
       " 4609835,\n",
       " 6260214,\n",
       " 5105874,\n",
       " 5354252,\n",
       " 5521804,\n",
       " 4617559,\n",
       " 4270414,\n",
       " 4899579,\n",
       " 5368701,\n",
       " 6156567,\n",
       " 5034670,\n",
       " 6924024,\n",
       " 21947845,\n",
       " 5263675,\n",
       " 5343807,\n",
       " 5716603,\n",
       " 7945235,\n",
       " 9302129,\n",
       " 7986637,\n",
       " 10361866,\n",
       " 5348175,\n",
       " 7209080,\n",
       " 9675875,\n",
       " 6211173,\n",
       " 5919224,\n",
       " 5807474,\n",
       " 4366455,\n",
       " 8297482,\n",
       " 6815126,\n",
       " 4633440,\n",
       " 12713813,\n",
       " 7432978,\n",
       " 7778319,\n",
       " 5390811,\n",
       " 11260814,\n",
       " 6933135,\n",
       " 4476563,\n",
       " 7095702,\n",
       " 7911683,\n",
       " 8376000,\n",
       " 7573301,\n",
       " 6714582,\n",
       " 6713066,\n",
       " 6943576,\n",
       " 8322240,\n",
       " 9017535,\n",
       " 6383472,\n",
       " 6360785,\n",
       " 7048676,\n",
       " 5024963,\n",
       " 9724145,\n",
       " 9183808,\n",
       " 8165048,\n",
       " 8335629,\n",
       " 10384506,\n",
       " 7571834,\n",
       " 7420347,\n",
       " 5837495,\n",
       " 6498661,\n",
       " 6483952,\n",
       " 9144031,\n",
       " 6303205,\n",
       " 8549393,\n",
       " 8472964,\n",
       " 7026317,\n",
       " 8936345,\n",
       " 6195854,\n",
       " 7644604,\n",
       " 5501379,\n",
       " 7176909,\n",
       " 7591066,\n",
       " 8701064,\n",
       " 8001505,\n",
       " 6173806,\n",
       " 11995679,\n",
       " 10447868,\n",
       " 8587578,\n",
       " 8344405,\n",
       " 20230089,\n",
       " 15563967,\n",
       " 6849310,\n",
       " 8993056,\n",
       " 13931179,\n",
       " 6714807,\n",
       " 13646606,\n",
       " 8072036,\n",
       " 9354480,\n",
       " 10638390,\n",
       " 16279366,\n",
       " 12643813,\n",
       " 13779332,\n",
       " 10035180,\n",
       " 19712753,\n",
       " 7929493,\n",
       " 12058906,\n",
       " 10445353,\n",
       " 9740361,\n",
       " 9575295,\n",
       " 6944928,\n",
       " 15180849,\n",
       " 11122183,\n",
       " 12012452,\n",
       " 9502646,\n",
       " 9903835,\n",
       " 7832790,\n",
       " 11246496,\n",
       " 14397671,\n",
       " 8981030,\n",
       " 8510755,\n",
       " 11702232,\n",
       " 9401383,\n",
       " 14789410,\n",
       " 9209693,\n",
       " 10532053,\n",
       " 10323804,\n",
       " 10159566,\n",
       " 9098561,\n",
       " 11600029,\n",
       " 8180421,\n",
       " 9299131,\n",
       " 10733847,\n",
       " 11191650,\n",
       " 9267550,\n",
       " 10224612,\n",
       " 10323804,\n",
       " 7328516,\n",
       " 11369671,\n",
       " 8382800,\n",
       " 12826582,\n",
       " 8044864,\n",
       " 8675026,\n",
       " 8818093,\n",
       " 10022428,\n",
       " 6554330,\n",
       " 6709579,\n",
       " 8772471,\n",
       " 7946614,\n",
       " 6315321,\n",
       " 11626228,\n",
       " 7792604,\n",
       " 12754921,\n",
       " 8072171,\n",
       " 11354742,\n",
       " 10874679,\n",
       " 8413103,\n",
       " 9076997,\n",
       " 9157021,\n",
       " 9068960,\n",
       " 9518842,\n",
       " 8108507,\n",
       " 11305791,\n",
       " 9724150,\n",
       " 8523388,\n",
       " 7985133,\n",
       " 6988128,\n",
       " 8092463,\n",
       " 8364633,\n",
       " 7130830,\n",
       " 8309725,\n",
       " 10522352,\n",
       " 10400020,\n",
       " 8150318,\n",
       " 11622738,\n",
       " 8853324,\n",
       " 10653494,\n",
       " 14176083,\n",
       " 10602166,\n",
       " 12059507,\n",
       " 12287103,\n",
       " 9032315,\n",
       " 21685807,\n",
       " 11394473,\n",
       " 11994859,\n",
       " 8856165,\n",
       " 8330047,\n",
       " 10037362,\n",
       " 11283582,\n",
       " 7018586,\n",
       " 8788760,\n",
       " 6928434,\n",
       " 9096726,\n",
       " 9413777,\n",
       " 10312775,\n",
       " 9049542,\n",
       " 9396942,\n",
       " 10687311,\n",
       " 10872787,\n",
       " 11181446,\n",
       " 7026441,\n",
       " 8893682,\n",
       " 9842240,\n",
       " 7801108,\n",
       " 7073899,\n",
       " 8381029,\n",
       " 9163253,\n",
       " 11493463,\n",
       " 8906539,\n",
       " 9391439,\n",
       " 10664698,\n",
       " 7306143,\n",
       " 6180414,\n",
       " 5432518,\n",
       " 8684639,\n",
       " 5531841,\n",
       " 7968525,\n",
       " 8137254,\n",
       " 6888030,\n",
       " 5793959,\n",
       " 9059416,\n",
       " 8014346,\n",
       " 5243721,\n",
       " 7592504,\n",
       " 9391041,\n",
       " 14115792,\n",
       " 5322942,\n",
       " 5725684,\n",
       " 8225889,\n",
       " 8273540,\n",
       " 5489787,\n",
       " 9872606,\n",
       " 9946681,\n",
       " 7138399,\n",
       " 8738973,\n",
       " 6460941,\n",
       " 6896288,\n",
       " 7774207,\n",
       " 8758819,\n",
       " 7326923,\n",
       " 9742568,\n",
       " 6006154,\n",
       " 8271980,\n",
       " 6475042,\n",
       " 7456807,\n",
       " 6543487,\n",
       " 9032835,\n",
       " 10894406,\n",
       " 7669922,\n",
       " 9490542,\n",
       " 12536275,\n",
       " 7435192,\n",
       " 7412975,\n",
       " 6724021,\n",
       " 7096781,\n",
       " 15780747,\n",
       " 8407355,\n",
       " 6656596,\n",
       " 8861119,\n",
       " 8221247,\n",
       " 4225077,\n",
       " 10753135,\n",
       " 7505887,\n",
       " 7093746,\n",
       " 6887544,\n",
       " 4643227,\n",
       " 8436300,\n",
       " 3898976,\n",
       " 7497361,\n",
       " 7353567,\n",
       " 8747367,\n",
       " 8628841,\n",
       " 7288162,\n",
       " 10180103,\n",
       " 9010917,\n",
       " 7900683,\n",
       " 8853647,\n",
       " 7298027,\n",
       " 9733572,\n",
       " 9162435,\n",
       " 12926140,\n",
       " 8242626,\n",
       " 6073008,\n",
       " 4524972,\n",
       " 8808812,\n",
       " 9626136,\n",
       " 6908609,\n",
       " 6747658,\n",
       " 7388369,\n",
       " 8029054,\n",
       " 6224997,\n",
       " 6109259,\n",
       " 9779971,\n",
       " 13163733,\n",
       " 5203430,\n",
       " 8736776,\n",
       " 11031254,\n",
       " 5929427,\n",
       " 6587802,\n",
       " 9631296,\n",
       " 10333123,\n",
       " 4823036,\n",
       " 11835367,\n",
       " 16233080,\n",
       " 7634387,\n",
       " 7355898,\n",
       " 11174250,\n",
       " 15267802,\n",
       " 8235607,\n",
       " 1095012,\n",
       " 7921313,\n",
       " 8897778,\n",
       " 7365321,\n",
       " 7460829,\n",
       " 5588756,\n",
       " 4781949,\n",
       " 11844320,\n",
       " 3923789,\n",
       " 7711669,\n",
       " 7056323,\n",
       " 9003882,\n",
       " 6039502,\n",
       " 5853561,\n",
       " 7468463,\n",
       " 6421400,\n",
       " 8363467,\n",
       " 8232342,\n",
       " 3819255,\n",
       " 6496742,\n",
       " 9109340,\n",
       " 9416186,\n",
       " 7735473,\n",
       " 11395296,\n",
       " 10323157,\n",
       " 9929799,\n",
       " ...]"
      ]
     },
     "execution_count": 34,
     "metadata": {},
     "output_type": "execute_result"
    }
   ],
   "source": [
    "sql = sa.text(\"SELECT Bytes FROM tracks\")\n",
    "with engine.connect() as conn:\n",
    "    bs = conn.execute(sql).fetchall()\n",
    "bs\n",
    "[b[0] for b in bs]"
   ]
  },
  {
   "cell_type": "markdown",
   "metadata": {},
   "source": [
    "# SQL grouping and summarizing"
   ]
  },
  {
   "cell_type": "code",
   "execution_count": 35,
   "metadata": {},
   "outputs": [
    {
     "data": {
      "text/html": [
       "<span style=\"None\">Running query in &#x27;sqlite:///chinook.db&#x27;</span>"
      ],
      "text/plain": [
       "Running query in 'sqlite:///chinook.db'"
      ]
     },
     "metadata": {},
     "output_type": "display_data"
    },
    {
     "data": {
      "text/html": [
       "<table>\n",
       "    <thead>\n",
       "        <tr>\n",
       "            <th>TrackId</th>\n",
       "            <th>Name</th>\n",
       "            <th>AlbumId</th>\n",
       "            <th>MediaTypeId</th>\n",
       "            <th>GenreId</th>\n",
       "            <th>Composer</th>\n",
       "            <th>Milliseconds</th>\n",
       "            <th>Bytes</th>\n",
       "            <th>UnitPrice</th>\n",
       "        </tr>\n",
       "    </thead>\n",
       "    <tbody>\n",
       "        <tr>\n",
       "            <td>1</td>\n",
       "            <td>For Those About To Rock (We Salute You)</td>\n",
       "            <td>1</td>\n",
       "            <td>1</td>\n",
       "            <td>1</td>\n",
       "            <td>Angus Young, Malcolm Young, Brian Johnson</td>\n",
       "            <td>343719</td>\n",
       "            <td>11170334</td>\n",
       "            <td>0.99</td>\n",
       "        </tr>\n",
       "        <tr>\n",
       "            <td>2</td>\n",
       "            <td>Balls to the Wall</td>\n",
       "            <td>2</td>\n",
       "            <td>2</td>\n",
       "            <td>1</td>\n",
       "            <td>None</td>\n",
       "            <td>342562</td>\n",
       "            <td>5510424</td>\n",
       "            <td>0.99</td>\n",
       "        </tr>\n",
       "        <tr>\n",
       "            <td>3</td>\n",
       "            <td>Fast As a Shark</td>\n",
       "            <td>3</td>\n",
       "            <td>2</td>\n",
       "            <td>1</td>\n",
       "            <td>F. Baltes, S. Kaufman, U. Dirkscneider & W. Hoffman</td>\n",
       "            <td>230619</td>\n",
       "            <td>3990994</td>\n",
       "            <td>0.99</td>\n",
       "        </tr>\n",
       "        <tr>\n",
       "            <td>4</td>\n",
       "            <td>Restless and Wild</td>\n",
       "            <td>3</td>\n",
       "            <td>2</td>\n",
       "            <td>1</td>\n",
       "            <td>F. Baltes, R.A. Smith-Diesel, S. Kaufman, U. Dirkscneider & W. Hoffman</td>\n",
       "            <td>252051</td>\n",
       "            <td>4331779</td>\n",
       "            <td>0.99</td>\n",
       "        </tr>\n",
       "        <tr>\n",
       "            <td>5</td>\n",
       "            <td>Princess of the Dawn</td>\n",
       "            <td>3</td>\n",
       "            <td>2</td>\n",
       "            <td>1</td>\n",
       "            <td>Deaffy & R.A. Smith-Diesel</td>\n",
       "            <td>375418</td>\n",
       "            <td>6290521</td>\n",
       "            <td>0.99</td>\n",
       "        </tr>\n",
       "    </tbody>\n",
       "</table>"
      ],
      "text/plain": [
       "+---------+-----------------------------------------+---------+-------------+---------+------------------------------------------------------------------------+--------------+----------+-----------+\n",
       "| TrackId |                   Name                  | AlbumId | MediaTypeId | GenreId |                                Composer                                | Milliseconds |  Bytes   | UnitPrice |\n",
       "+---------+-----------------------------------------+---------+-------------+---------+------------------------------------------------------------------------+--------------+----------+-----------+\n",
       "|    1    | For Those About To Rock (We Salute You) |    1    |      1      |    1    |               Angus Young, Malcolm Young, Brian Johnson                |    343719    | 11170334 |    0.99   |\n",
       "|    2    |            Balls to the Wall            |    2    |      2      |    1    |                                  None                                  |    342562    | 5510424  |    0.99   |\n",
       "|    3    |             Fast As a Shark             |    3    |      2      |    1    |          F. Baltes, S. Kaufman, U. Dirkscneider & W. Hoffman           |    230619    | 3990994  |    0.99   |\n",
       "|    4    |            Restless and Wild            |    3    |      2      |    1    | F. Baltes, R.A. Smith-Diesel, S. Kaufman, U. Dirkscneider & W. Hoffman |    252051    | 4331779  |    0.99   |\n",
       "|    5    |           Princess of the Dawn          |    3    |      2      |    1    |                       Deaffy & R.A. Smith-Diesel                       |    375418    | 6290521  |    0.99   |\n",
       "+---------+-----------------------------------------+---------+-------------+---------+------------------------------------------------------------------------+--------------+----------+-----------+"
      ]
     },
     "execution_count": 35,
     "metadata": {},
     "output_type": "execute_result"
    }
   ],
   "source": [
    "%%sql\n",
    "SELECT *\n",
    "  FROM tracks\n",
    "  LIMIT 5"
   ]
  },
  {
   "cell_type": "markdown",
   "metadata": {},
   "source": [
    "Using `GROUP BY` performed on the AlbumID prints one row for each value of `AlbumID`"
   ]
  },
  {
   "cell_type": "code",
   "execution_count": 36,
   "metadata": {},
   "outputs": [
    {
     "data": {
      "text/html": [
       "<span style=\"None\">Running query in &#x27;sqlite:///chinook.db&#x27;</span>"
      ],
      "text/plain": [
       "Running query in 'sqlite:///chinook.db'"
      ]
     },
     "metadata": {},
     "output_type": "display_data"
    },
    {
     "data": {
      "text/html": [
       "<table>\n",
       "    <thead>\n",
       "        <tr>\n",
       "            <th>TrackId</th>\n",
       "            <th>Name</th>\n",
       "            <th>AlbumId</th>\n",
       "            <th>MediaTypeId</th>\n",
       "            <th>GenreId</th>\n",
       "            <th>Composer</th>\n",
       "            <th>Milliseconds</th>\n",
       "            <th>Bytes</th>\n",
       "            <th>UnitPrice</th>\n",
       "        </tr>\n",
       "    </thead>\n",
       "    <tbody>\n",
       "        <tr>\n",
       "            <td>1</td>\n",
       "            <td>For Those About To Rock (We Salute You)</td>\n",
       "            <td>1</td>\n",
       "            <td>1</td>\n",
       "            <td>1</td>\n",
       "            <td>Angus Young, Malcolm Young, Brian Johnson</td>\n",
       "            <td>343719</td>\n",
       "            <td>11170334</td>\n",
       "            <td>0.99</td>\n",
       "        </tr>\n",
       "        <tr>\n",
       "            <td>2</td>\n",
       "            <td>Balls to the Wall</td>\n",
       "            <td>2</td>\n",
       "            <td>2</td>\n",
       "            <td>1</td>\n",
       "            <td>None</td>\n",
       "            <td>342562</td>\n",
       "            <td>5510424</td>\n",
       "            <td>0.99</td>\n",
       "        </tr>\n",
       "        <tr>\n",
       "            <td>3</td>\n",
       "            <td>Fast As a Shark</td>\n",
       "            <td>3</td>\n",
       "            <td>2</td>\n",
       "            <td>1</td>\n",
       "            <td>F. Baltes, S. Kaufman, U. Dirkscneider & W. Hoffman</td>\n",
       "            <td>230619</td>\n",
       "            <td>3990994</td>\n",
       "            <td>0.99</td>\n",
       "        </tr>\n",
       "        <tr>\n",
       "            <td>15</td>\n",
       "            <td>Go Down</td>\n",
       "            <td>4</td>\n",
       "            <td>1</td>\n",
       "            <td>1</td>\n",
       "            <td>AC/DC</td>\n",
       "            <td>331180</td>\n",
       "            <td>10847611</td>\n",
       "            <td>0.99</td>\n",
       "        </tr>\n",
       "        <tr>\n",
       "            <td>23</td>\n",
       "            <td>Walk On Water</td>\n",
       "            <td>5</td>\n",
       "            <td>1</td>\n",
       "            <td>1</td>\n",
       "            <td>Steven Tyler, Joe Perry, Jack Blades, Tommy Shaw</td>\n",
       "            <td>295680</td>\n",
       "            <td>9719579</td>\n",
       "            <td>0.99</td>\n",
       "        </tr>\n",
       "    </tbody>\n",
       "</table>"
      ],
      "text/plain": [
       "+---------+-----------------------------------------+---------+-------------+---------+-----------------------------------------------------+--------------+----------+-----------+\n",
       "| TrackId |                   Name                  | AlbumId | MediaTypeId | GenreId |                       Composer                      | Milliseconds |  Bytes   | UnitPrice |\n",
       "+---------+-----------------------------------------+---------+-------------+---------+-----------------------------------------------------+--------------+----------+-----------+\n",
       "|    1    | For Those About To Rock (We Salute You) |    1    |      1      |    1    |      Angus Young, Malcolm Young, Brian Johnson      |    343719    | 11170334 |    0.99   |\n",
       "|    2    |            Balls to the Wall            |    2    |      2      |    1    |                         None                        |    342562    | 5510424  |    0.99   |\n",
       "|    3    |             Fast As a Shark             |    3    |      2      |    1    | F. Baltes, S. Kaufman, U. Dirkscneider & W. Hoffman |    230619    | 3990994  |    0.99   |\n",
       "|    15   |                 Go Down                 |    4    |      1      |    1    |                        AC/DC                        |    331180    | 10847611 |    0.99   |\n",
       "|    23   |              Walk On Water              |    5    |      1      |    1    |   Steven Tyler, Joe Perry, Jack Blades, Tommy Shaw  |    295680    | 9719579  |    0.99   |\n",
       "+---------+-----------------------------------------+---------+-------------+---------+-----------------------------------------------------+--------------+----------+-----------+"
      ]
     },
     "execution_count": 36,
     "metadata": {},
     "output_type": "execute_result"
    }
   ],
   "source": [
    "%%sql\n",
    "SELECT *\n",
    "  FROM tracks\n",
    "  GROUP BY AlbumID\n",
    "  LIMIT 5"
   ]
  },
  {
   "cell_type": "markdown",
   "metadata": {},
   "source": [
    "`COUNT` - counting rows for each `GROUP BY`"
   ]
  },
  {
   "cell_type": "code",
   "execution_count": 37,
   "metadata": {},
   "outputs": [
    {
     "data": {
      "text/html": [
       "<span style=\"None\">Running query in &#x27;sqlite:///chinook.db&#x27;</span>"
      ],
      "text/plain": [
       "Running query in 'sqlite:///chinook.db'"
      ]
     },
     "metadata": {},
     "output_type": "display_data"
    },
    {
     "data": {
      "text/html": [
       "<table>\n",
       "    <thead>\n",
       "        <tr>\n",
       "            <th>COUNT(*)</th>\n",
       "        </tr>\n",
       "    </thead>\n",
       "    <tbody>\n",
       "        <tr>\n",
       "            <td>10</td>\n",
       "        </tr>\n",
       "        <tr>\n",
       "            <td>1</td>\n",
       "        </tr>\n",
       "        <tr>\n",
       "            <td>3</td>\n",
       "        </tr>\n",
       "        <tr>\n",
       "            <td>8</td>\n",
       "        </tr>\n",
       "        <tr>\n",
       "            <td>15</td>\n",
       "        </tr>\n",
       "        <tr>\n",
       "            <td>13</td>\n",
       "        </tr>\n",
       "        <tr>\n",
       "            <td>12</td>\n",
       "        </tr>\n",
       "        <tr>\n",
       "            <td>14</td>\n",
       "        </tr>\n",
       "        <tr>\n",
       "            <td>8</td>\n",
       "        </tr>\n",
       "        <tr>\n",
       "            <td>14</td>\n",
       "        </tr>\n",
       "    </tbody>\n",
       "</table>\n",
       "<span style=\"font-style:italic;text-align:center;\">Truncated to <a href=\"https://jupysql.ploomber.io/en/latest/api/configuration.html#displaylimit\">displaylimit</a> of 10.</span>"
      ],
      "text/plain": [
       "+----------+\n",
       "| COUNT(*) |\n",
       "+----------+\n",
       "|    10    |\n",
       "|    1     |\n",
       "|    3     |\n",
       "|    8     |\n",
       "|    15    |\n",
       "|    13    |\n",
       "|    12    |\n",
       "|    14    |\n",
       "|    8     |\n",
       "|    14    |\n",
       "+----------+\n",
       "Truncated to displaylimit of 10."
      ]
     },
     "execution_count": 37,
     "metadata": {},
     "output_type": "execute_result"
    }
   ],
   "source": [
    "%%sql\n",
    "SELECT COUNT(*)\n",
    "  FROM tracks\n",
    "  GROUP BY AlbumId"
   ]
  },
  {
   "cell_type": "code",
   "execution_count": 38,
   "metadata": {},
   "outputs": [
    {
     "data": {
      "text/html": [
       "<span style=\"None\">Running query in &#x27;sqlite:///chinook.db&#x27;</span>"
      ],
      "text/plain": [
       "Running query in 'sqlite:///chinook.db'"
      ]
     },
     "metadata": {},
     "output_type": "display_data"
    },
    {
     "data": {
      "text/html": [
       "<table>\n",
       "    <thead>\n",
       "        <tr>\n",
       "            <th>AlbumId</th>\n",
       "            <th>TracksNum</th>\n",
       "        </tr>\n",
       "    </thead>\n",
       "    <tbody>\n",
       "        <tr>\n",
       "            <td>2</td>\n",
       "            <td>1</td>\n",
       "        </tr>\n",
       "        <tr>\n",
       "            <td>170</td>\n",
       "            <td>1</td>\n",
       "        </tr>\n",
       "        <tr>\n",
       "            <td>172</td>\n",
       "            <td>1</td>\n",
       "        </tr>\n",
       "        <tr>\n",
       "            <td>226</td>\n",
       "            <td>1</td>\n",
       "        </tr>\n",
       "        <tr>\n",
       "            <td>252</td>\n",
       "            <td>1</td>\n",
       "        </tr>\n",
       "        <tr>\n",
       "            <td>254</td>\n",
       "            <td>1</td>\n",
       "        </tr>\n",
       "        <tr>\n",
       "            <td>260</td>\n",
       "            <td>1</td>\n",
       "        </tr>\n",
       "        <tr>\n",
       "            <td>266</td>\n",
       "            <td>1</td>\n",
       "        </tr>\n",
       "        <tr>\n",
       "            <td>267</td>\n",
       "            <td>1</td>\n",
       "        </tr>\n",
       "        <tr>\n",
       "            <td>268</td>\n",
       "            <td>1</td>\n",
       "        </tr>\n",
       "    </tbody>\n",
       "</table>\n",
       "<span style=\"font-style:italic;text-align:center;\">Truncated to <a href=\"https://jupysql.ploomber.io/en/latest/api/configuration.html#displaylimit\">displaylimit</a> of 10.</span>"
      ],
      "text/plain": [
       "+---------+-----------+\n",
       "| AlbumId | TracksNum |\n",
       "+---------+-----------+\n",
       "|    2    |     1     |\n",
       "|   170   |     1     |\n",
       "|   172   |     1     |\n",
       "|   226   |     1     |\n",
       "|   252   |     1     |\n",
       "|   254   |     1     |\n",
       "|   260   |     1     |\n",
       "|   266   |     1     |\n",
       "|   267   |     1     |\n",
       "|   268   |     1     |\n",
       "+---------+-----------+\n",
       "Truncated to displaylimit of 10."
      ]
     },
     "execution_count": 38,
     "metadata": {},
     "output_type": "execute_result"
    }
   ],
   "source": [
    "%%sql\n",
    "SELECT AlbumId, COUNT(*) As TracksNum\n",
    "  FROM tracks\n",
    "  GROUP BY AlbumId\n",
    "  ORDER BY TracksNum ASC"
   ]
  },
  {
   "cell_type": "markdown",
   "metadata": {},
   "source": [
    "`HAVING`-filtering based on group aggregations results"
   ]
  },
  {
   "cell_type": "code",
   "execution_count": 39,
   "metadata": {},
   "outputs": [
    {
     "data": {
      "text/html": [
       "<span style=\"None\">Running query in &#x27;sqlite:///chinook.db&#x27;</span>"
      ],
      "text/plain": [
       "Running query in 'sqlite:///chinook.db'"
      ]
     },
     "metadata": {},
     "output_type": "display_data"
    },
    {
     "data": {
      "text/html": [
       "<table>\n",
       "    <thead>\n",
       "        <tr>\n",
       "            <th>AlbumId</th>\n",
       "            <th>TracksNum</th>\n",
       "        </tr>\n",
       "    </thead>\n",
       "    <tbody>\n",
       "        <tr>\n",
       "            <td>141</td>\n",
       "            <td>57</td>\n",
       "        </tr>\n",
       "        <tr>\n",
       "            <td>23</td>\n",
       "            <td>34</td>\n",
       "        </tr>\n",
       "    </tbody>\n",
       "</table>"
      ],
      "text/plain": [
       "+---------+-----------+\n",
       "| AlbumId | TracksNum |\n",
       "+---------+-----------+\n",
       "|   141   |     57    |\n",
       "|    23   |     34    |\n",
       "+---------+-----------+"
      ]
     },
     "execution_count": 39,
     "metadata": {},
     "output_type": "execute_result"
    }
   ],
   "source": [
    "%%sql\n",
    "SELECT AlbumId, COUNT(*) AS TracksNum\n",
    "  FROM tracks\n",
    "  GROUP BY AlbumId\n",
    "  HAVING TracksNum > 30\n",
    "  ORDER BY TracksNum DESC\n",
    "  LIMIT 5"
   ]
  },
  {
   "cell_type": "code",
   "execution_count": 40,
   "metadata": {},
   "outputs": [
    {
     "data": {
      "text/html": [
       "<span style=\"None\">Running query in &#x27;sqlite:///chinook.db&#x27;</span>"
      ],
      "text/plain": [
       "Running query in 'sqlite:///chinook.db'"
      ]
     },
     "metadata": {},
     "output_type": "display_data"
    },
    {
     "data": {
      "text/html": [
       "<table>\n",
       "    <thead>\n",
       "        <tr>\n",
       "            <th>MeanMilliseconds</th>\n",
       "        </tr>\n",
       "    </thead>\n",
       "    <tbody>\n",
       "        <tr>\n",
       "            <td>393599.2121039109</td>\n",
       "        </tr>\n",
       "    </tbody>\n",
       "</table>"
      ],
      "text/plain": [
       "+-------------------+\n",
       "|  MeanMilliseconds |\n",
       "+-------------------+\n",
       "| 393599.2121039109 |\n",
       "+-------------------+"
      ]
     },
     "execution_count": 40,
     "metadata": {},
     "output_type": "execute_result"
    }
   ],
   "source": [
    "%%sql\n",
    "SELECT AVG(Milliseconds) AS MeanMilliseconds\n",
    "  FROM tracks"
   ]
  },
  {
   "cell_type": "code",
   "execution_count": 41,
   "metadata": {},
   "outputs": [
    {
     "data": {
      "text/html": [
       "<span style=\"None\">Running query in &#x27;sqlite:///chinook.db&#x27;</span>"
      ],
      "text/plain": [
       "Running query in 'sqlite:///chinook.db'"
      ]
     },
     "metadata": {},
     "output_type": "display_data"
    },
    {
     "data": {
      "text/html": [
       "<table>\n",
       "    <thead>\n",
       "        <tr>\n",
       "            <th>AlbumId</th>\n",
       "            <th>TrackNames</th>\n",
       "        </tr>\n",
       "    </thead>\n",
       "    <tbody>\n",
       "        <tr>\n",
       "            <td>1</td>\n",
       "            <td>For Those About To Rock (We Salute You);Put The Finger On You;Let's Get It Up;Inject The Venom;Snowballed;Evil Walks;C.O.D.;Breaking The Rules;Night Of The Long Knives;Spellbound</td>\n",
       "        </tr>\n",
       "        <tr>\n",
       "            <td>2</td>\n",
       "            <td>Balls to the Wall</td>\n",
       "        </tr>\n",
       "        <tr>\n",
       "            <td>3</td>\n",
       "            <td>Fast As a Shark;Restless and Wild;Princess of the Dawn</td>\n",
       "        </tr>\n",
       "        <tr>\n",
       "            <td>4</td>\n",
       "            <td>Go Down;Dog Eat Dog;Let There Be Rock;Bad Boy Boogie;Problem Child;Overdose;Hell Ain't A Bad Place To Be;Whole Lotta Rosie</td>\n",
       "        </tr>\n",
       "        <tr>\n",
       "            <td>5</td>\n",
       "            <td>Walk On Water;Love In An Elevator;Rag Doll;What It Takes;Dude (Looks Like A Lady);Janie's Got A Gun;Cryin';Amazing;Blind Man;Deuces Are Wild;The Other Side;Crazy;Eat The Rich;Angel;Livin' On The Edge</td>\n",
       "        </tr>\n",
       "    </tbody>\n",
       "</table>"
      ],
      "text/plain": [
       "+---------+---------------------------------------------------------------------------------------------------------------------------------------------------------------------------------------------------------+\n",
       "| AlbumId |                                                                                                TrackNames                                                                                               |\n",
       "+---------+---------------------------------------------------------------------------------------------------------------------------------------------------------------------------------------------------------+\n",
       "|    1    |            For Those About To Rock (We Salute You);Put The Finger On You;Let's Get It Up;Inject The Venom;Snowballed;Evil Walks;C.O.D.;Breaking The Rules;Night Of The Long Knives;Spellbound           |\n",
       "|    2    |                                                                                            Balls to the Wall                                                                                            |\n",
       "|    3    |                                                                          Fast As a Shark;Restless and Wild;Princess of the Dawn                                                                         |\n",
       "|    4    |                                        Go Down;Dog Eat Dog;Let There Be Rock;Bad Boy Boogie;Problem Child;Overdose;Hell Ain't A Bad Place To Be;Whole Lotta Rosie                                       |\n",
       "|    5    | Walk On Water;Love In An Elevator;Rag Doll;What It Takes;Dude (Looks Like A Lady);Janie's Got A Gun;Cryin';Amazing;Blind Man;Deuces Are Wild;The Other Side;Crazy;Eat The Rich;Angel;Livin' On The Edge |\n",
       "+---------+---------------------------------------------------------------------------------------------------------------------------------------------------------------------------------------------------------+"
      ]
     },
     "execution_count": 41,
     "metadata": {},
     "output_type": "execute_result"
    }
   ],
   "source": [
    "%%sql\n",
    "SELECT AlbumId, GROUP_CONCAT( Name, \";\" ) AS TrackNames\n",
    "  FROM tracks \n",
    "  GROUP BY AlbumId\n",
    "  LIMIT 5"
   ]
  },
  {
   "cell_type": "markdown",
   "metadata": {},
   "source": [
    "# Grouping and summarizing exercise"
   ]
  },
  {
   "cell_type": "markdown",
   "metadata": {},
   "source": [
    "For this section you need `chinook.db` database file and working `%sql` magic.\n",
    "If you don't have it, please go back to the previous section and follow the instructions.\n",
    "The following code should not produce any errors:"
   ]
  },
  {
   "cell_type": "markdown",
   "metadata": {},
   "source": [
    "## Exercise: summaries per group\n",
    "Using SQL only create a table containing summary info of the `tracks` tables grouped by albums (so, by the `AlbumId` column). \n",
    "\n",
    "In the result table report columns:\n",
    "- `AlbumId`\n",
    "- `TracksNum`: the total count of tracks in the album\n",
    "- `TotalPrice`: sum of all track `UnitPrice`s\n",
    "- `MeanTrackSec`: based on `Milliseconds`, the average time duration of tracks expressed in seconds\n",
    "\n",
    "Order the final table with decreasing `TotalPrice`. Show first 10 rows.\n",
    "Additionally, you may `ROUND` the prices to two positions and times to full seconds. "
   ]
  },
  {
   "cell_type": "code",
   "execution_count": 49,
   "metadata": {},
   "outputs": [
    {
     "data": {
      "text/html": [
       "<span style=\"None\">Running query in &#x27;sqlite:///chinook.db&#x27;</span>"
      ],
      "text/plain": [
       "Running query in 'sqlite:///chinook.db'"
      ]
     },
     "metadata": {},
     "output_type": "display_data"
    },
    {
     "data": {
      "text/html": [
       "<table>\n",
       "    <thead>\n",
       "        <tr>\n",
       "            <th>AlbumId</th>\n",
       "            <th>TracksNum</th>\n",
       "            <th>TotalPrice</th>\n",
       "            <th>MeanTrackSex</th>\n",
       "        </tr>\n",
       "    </thead>\n",
       "    <tbody>\n",
       "        <tr>\n",
       "            <td>1</td>\n",
       "            <td>10</td>\n",
       "            <td>9.9</td>\n",
       "            <td>240041.5</td>\n",
       "        </tr>\n",
       "        <tr>\n",
       "            <td>2</td>\n",
       "            <td>1</td>\n",
       "            <td>0.99</td>\n",
       "            <td>342562.0</td>\n",
       "        </tr>\n",
       "        <tr>\n",
       "            <td>3</td>\n",
       "            <td>3</td>\n",
       "            <td>2.9699999999999998</td>\n",
       "            <td>286029.3333333333</td>\n",
       "        </tr>\n",
       "        <tr>\n",
       "            <td>4</td>\n",
       "            <td>8</td>\n",
       "            <td>7.920000000000001</td>\n",
       "            <td>306657.375</td>\n",
       "        </tr>\n",
       "        <tr>\n",
       "            <td>5</td>\n",
       "            <td>15</td>\n",
       "            <td>14.850000000000001</td>\n",
       "            <td>294113.93333333335</td>\n",
       "        </tr>\n",
       "        <tr>\n",
       "            <td>6</td>\n",
       "            <td>13</td>\n",
       "            <td>12.870000000000001</td>\n",
       "            <td>265455.76923076925</td>\n",
       "        </tr>\n",
       "        <tr>\n",
       "            <td>7</td>\n",
       "            <td>12</td>\n",
       "            <td>11.88</td>\n",
       "            <td>270780.4166666667</td>\n",
       "        </tr>\n",
       "        <tr>\n",
       "            <td>8</td>\n",
       "            <td>14</td>\n",
       "            <td>13.860000000000001</td>\n",
       "            <td>207637.57142857142</td>\n",
       "        </tr>\n",
       "        <tr>\n",
       "            <td>9</td>\n",
       "            <td>8</td>\n",
       "            <td>7.920000000000001</td>\n",
       "            <td>333925.875</td>\n",
       "        </tr>\n",
       "        <tr>\n",
       "            <td>10</td>\n",
       "            <td>14</td>\n",
       "            <td>13.860000000000001</td>\n",
       "            <td>280550.9285714286</td>\n",
       "        </tr>\n",
       "    </tbody>\n",
       "</table>\n",
       "<span style=\"font-style:italic;text-align:center;\">Truncated to <a href=\"https://jupysql.ploomber.io/en/latest/api/configuration.html#displaylimit\">displaylimit</a> of 10.</span>"
      ],
      "text/plain": [
       "+---------+-----------+--------------------+--------------------+\n",
       "| AlbumId | TracksNum |     TotalPrice     |    MeanTrackSex    |\n",
       "+---------+-----------+--------------------+--------------------+\n",
       "|    1    |     10    |        9.9         |      240041.5      |\n",
       "|    2    |     1     |        0.99        |      342562.0      |\n",
       "|    3    |     3     | 2.9699999999999998 | 286029.3333333333  |\n",
       "|    4    |     8     | 7.920000000000001  |     306657.375     |\n",
       "|    5    |     15    | 14.850000000000001 | 294113.93333333335 |\n",
       "|    6    |     13    | 12.870000000000001 | 265455.76923076925 |\n",
       "|    7    |     12    |       11.88        | 270780.4166666667  |\n",
       "|    8    |     14    | 13.860000000000001 | 207637.57142857142 |\n",
       "|    9    |     8     | 7.920000000000001  |     333925.875     |\n",
       "|    10   |     14    | 13.860000000000001 | 280550.9285714286  |\n",
       "+---------+-----------+--------------------+--------------------+\n",
       "Truncated to displaylimit of 10."
      ]
     },
     "execution_count": 49,
     "metadata": {},
     "output_type": "execute_result"
    }
   ],
   "source": [
    "%%sql\n",
    "SELECT AlbumId, COUNT(*) AS TracksNum, SUM(UnitPrice) AS TotalPrice, AVG(Milliseconds) AS MeanTrackSex\n",
    "   FROM tracks\n",
    "   GROUP BY AlbumId\n",
    "   LIMIT 10"
   ]
  },
  {
   "cell_type": "markdown",
   "metadata": {},
   "source": [
    "# Exercise: summaries per group (with pandas)\n",
    "\n",
    "Use another strategy to generate the table from the previous exercise.\n",
    "Use SQL only to get the complete `tracks` tables into a Pandas `DataFrame`.\n",
    "Then, perform the same calculations using Pandas `groupby` and `agg` commands.\n",
    "\n",
    "Now, imagine that the database is very large and remote, located on multiple servers somewhere in the world:\n",
    "\n",
    "- What data are transmitted over the database connection in both exercises?\n",
    "- Where are the calculations performed in both exercises?\n",
    "- Which approach would scale better?"
   ]
  },
  {
   "cell_type": "code",
   "execution_count": 54,
   "metadata": {},
   "outputs": [
    {
     "data": {
      "text/plain": [
       "<pandas.core.groupby.generic.DataFrameGroupBy object at 0x0000014650B97E90>"
      ]
     },
     "execution_count": 54,
     "metadata": {},
     "output_type": "execute_result"
    }
   ],
   "source": [
    "sql = sa.text(\"SELECT * FROM tracks\")\n",
    "df = pd.read_sql(sql, con=engine)\n",
    "df\n",
    "df.groupby('AlbumId', as_index=False)"
   ]
  },
  {
   "cell_type": "markdown",
   "metadata": {},
   "source": [
    "# Exercise: filtering based on summary result\n",
    "\n",
    "Find `AlbumId`s that have the number of tracks between 18 and 20. Show 5 rows."
   ]
  },
  {
   "cell_type": "markdown",
   "metadata": {},
   "source": [
    "# Exercise: concatenating texts in a group\n",
    "Based on `tracks` grouped by `AlbumId`, create a table with two columns:\n",
    "- `AlbumId`\n",
    "- `Tracks`: a semicolon-separated concatenated track names of the album.\n",
    "\n",
    "Show some 5 rows\n"
   ]
  },
  {
   "cell_type": "code",
   "execution_count": 55,
   "metadata": {},
   "outputs": [
    {
     "data": {
      "text/html": [
       "<span style=\"None\">Running query in &#x27;sqlite:///chinook.db&#x27;</span>"
      ],
      "text/plain": [
       "Running query in 'sqlite:///chinook.db'"
      ]
     },
     "metadata": {},
     "output_type": "display_data"
    },
    {
     "data": {
      "text/html": [
       "<table>\n",
       "    <thead>\n",
       "        <tr>\n",
       "            <th>AlbumId</th>\n",
       "            <th>TracksNum</th>\n",
       "            <th>TotalPrice</th>\n",
       "            <th>MeanTrackSex</th>\n",
       "        </tr>\n",
       "    </thead>\n",
       "    <tbody>\n",
       "        <tr>\n",
       "            <td>1</td>\n",
       "            <td>10</td>\n",
       "            <td>9.9</td>\n",
       "            <td>240041.5</td>\n",
       "        </tr>\n",
       "        <tr>\n",
       "            <td>2</td>\n",
       "            <td>1</td>\n",
       "            <td>0.99</td>\n",
       "            <td>342562.0</td>\n",
       "        </tr>\n",
       "        <tr>\n",
       "            <td>3</td>\n",
       "            <td>3</td>\n",
       "            <td>2.9699999999999998</td>\n",
       "            <td>286029.3333333333</td>\n",
       "        </tr>\n",
       "        <tr>\n",
       "            <td>4</td>\n",
       "            <td>8</td>\n",
       "            <td>7.920000000000001</td>\n",
       "            <td>306657.375</td>\n",
       "        </tr>\n",
       "        <tr>\n",
       "            <td>5</td>\n",
       "            <td>15</td>\n",
       "            <td>14.850000000000001</td>\n",
       "            <td>294113.93333333335</td>\n",
       "        </tr>\n",
       "    </tbody>\n",
       "</table>"
      ],
      "text/plain": [
       "+---------+-----------+--------------------+--------------------+\n",
       "| AlbumId | TracksNum |     TotalPrice     |    MeanTrackSex    |\n",
       "+---------+-----------+--------------------+--------------------+\n",
       "|    1    |     10    |        9.9         |      240041.5      |\n",
       "|    2    |     1     |        0.99        |      342562.0      |\n",
       "|    3    |     3     | 2.9699999999999998 | 286029.3333333333  |\n",
       "|    4    |     8     | 7.920000000000001  |     306657.375     |\n",
       "|    5    |     15    | 14.850000000000001 | 294113.93333333335 |\n",
       "+---------+-----------+--------------------+--------------------+"
      ]
     },
     "execution_count": 55,
     "metadata": {},
     "output_type": "execute_result"
    }
   ],
   "source": [
    "%%sql\n",
    "SELECT AlbumId, COUNT(*) AS TracksNum, SUM(UnitPrice) AS TotalPrice, AVG(Milliseconds) AS MeanTrackSex\n",
    "   FROM tracks\n",
    "   GROUP BY AlbumId\n",
    "   LIMIT 5"
   ]
  }
 ],
 "metadata": {
  "kernelspec": {
   "display_name": "base",
   "language": "python",
   "name": "python3"
  },
  "language_info": {
   "codemirror_mode": {
    "name": "ipython",
    "version": 3
   },
   "file_extension": ".py",
   "mimetype": "text/x-python",
   "name": "python",
   "nbconvert_exporter": "python",
   "pygments_lexer": "ipython3",
   "version": "3.11.5"
  }
 },
 "nbformat": 4,
 "nbformat_minor": 2
}
