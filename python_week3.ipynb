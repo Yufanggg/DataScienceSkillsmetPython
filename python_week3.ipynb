{
 "cells": [
  {
   "cell_type": "markdown",
   "metadata": {},
   "source": [
    "# Flow control\n",
    "## Conditional statements\n",
    "### Getting user input\n",
    "\n",
    "Let's first learn how to ask the user for a text with the input function:\n"
   ]
  },
  {
   "cell_type": "code",
   "execution_count": 2,
   "metadata": {},
   "outputs": [
    {
     "name": "stdout",
     "output_type": "stream",
     "text": [
      "<class 'str'>\n",
      "input\n"
     ]
    }
   ],
   "source": [
    "txt = input()\n",
    "print(type(txt))\n",
    "print(txt\n",
    ")"
   ]
  },
  {
   "cell_type": "code",
   "execution_count": 4,
   "metadata": {},
   "outputs": [
    {
     "ename": "ValueError",
     "evalue": "invalid literal for int() with base 10: 'my'",
     "output_type": "error",
     "traceback": [
      "\u001b[1;31m---------------------------------------------------------------------------\u001b[0m",
      "\u001b[1;31mValueError\u001b[0m                                Traceback (most recent call last)",
      "Cell \u001b[1;32mIn[4], line 2\u001b[0m\n\u001b[0;32m      1\u001b[0m txt \u001b[38;5;241m=\u001b[39m \u001b[38;5;28minput\u001b[39m()\n\u001b[1;32m----> 2\u001b[0m n \u001b[38;5;241m=\u001b[39m \u001b[38;5;28mint\u001b[39m(txt)\n\u001b[0;32m      3\u001b[0m \u001b[38;5;28mprint\u001b[39m(\u001b[38;5;28mtype\u001b[39m(n))\n\u001b[0;32m      4\u001b[0m \u001b[38;5;28mprint\u001b[39m(n)\n",
      "\u001b[1;31mValueError\u001b[0m: invalid literal for int() with base 10: 'my'"
     ]
    }
   ],
   "source": [
    "txt = input()\n",
    "n = int(txt)\n",
    "print(type(n))\n",
    "print(n)"
   ]
  },
  {
   "cell_type": "code",
   "execution_count": 5,
   "metadata": {},
   "outputs": [
    {
     "name": "stdout",
     "output_type": "stream",
     "text": [
      "number 5.0 is positive.\n"
     ]
    }
   ],
   "source": [
    "n = float(input())\n",
    "if n > 0:\n",
    "    print(f\"number {n} is positive.\")"
   ]
  },
  {
   "cell_type": "code",
   "execution_count": 6,
   "metadata": {},
   "outputs": [
    {
     "name": "stdout",
     "output_type": "stream",
     "text": [
      "Number 6.0 is positive\n"
     ]
    }
   ],
   "source": [
    "n = float(input())\n",
    "if n > 0:\n",
    "    print(f\"Number {n} is positive\")\n",
    "else:\n",
    "    print(f\"Number {n} is nonpositive (either zero or negative.)\")"
   ]
  },
  {
   "cell_type": "markdown",
   "metadata": {},
   "source": [
    "The elif clause allows testing of multiple conditions in a provided order. The block correspondng to the first condition evaluated to True is executed and no further condition is tested.\n",
    "\n",
    "When none of the conditions evaluates to True, the block corresponding to else is executed."
   ]
  },
  {
   "cell_type": "code",
   "execution_count": 7,
   "metadata": {},
   "outputs": [
    {
     "name": "stdout",
     "output_type": "stream",
     "text": [
      "Number -7.0 is negative.\n"
     ]
    }
   ],
   "source": [
    "n = float(input())\n",
    "if n > 0:\n",
    "    print(f\"Number {n} is postive.\")\n",
    "elif n < 0:\n",
    "    print(f\"Number {n} is negative.\")\n",
    "else:\n",
    "    print(f\"Number {n} is zero.\")"
   ]
  },
  {
   "cell_type": "markdown",
   "metadata": {},
   "source": [
    "# Conditional expressions\n",
    "Note: Python offers a conditional expression (Python's Ternary operator) which also uses if and else keywords.\n",
    "\n",
    "The following code assigns different values to the variable t depdending on a condition (n>0):"
   ]
  },
  {
   "cell_type": "code",
   "execution_count": 9,
   "metadata": {},
   "outputs": [
    {
     "name": "stdout",
     "output_type": "stream",
     "text": [
      "positive\n"
     ]
    }
   ],
   "source": [
    "n = float(input())\n",
    "if n > 0:\n",
    "    t = \"positive\"\n",
    "else:\n",
    "    t = \"nonpositive\"\n",
    "print(t)"
   ]
  },
  {
   "cell_type": "markdown",
   "metadata": {},
   "source": [
    "The above code can be written using a conditional expression:"
   ]
  },
  {
   "cell_type": "code",
   "execution_count": 10,
   "metadata": {},
   "outputs": [
    {
     "name": "stdout",
     "output_type": "stream",
     "text": [
      "postive\n"
     ]
    }
   ],
   "source": [
    "n = float(input())\n",
    "t = \"postive\" if n > 0 else \"nonpositive\"\n",
    "print(t)"
   ]
  },
  {
   "cell_type": "markdown",
   "metadata": {},
   "source": [
    "Here is an example of a conditional expression used as the expression in a list comprehension"
   ]
  },
  {
   "cell_type": "code",
   "execution_count": 11,
   "metadata": {},
   "outputs": [
    {
     "data": {
      "text/plain": [
       "['negative', 'negative', 'postive', 'negative', 'negative', 'postive']"
      ]
     },
     "execution_count": 11,
     "metadata": {},
     "output_type": "execute_result"
    }
   ],
   "source": [
    "ns = [-1, 0, 1, -1, -1, 1]\n",
    "[\"postive\" if n > 0 else \"negative\" for n in ns]"
   ]
  },
  {
   "cell_type": "markdown",
   "metadata": {},
   "source": [
    "# Repetition control statements: for loops\n",
    "\n",
    "## Iterable objects\n",
    "Iterable objects are capable of providing their elements one at a time. \n",
    "\n",
    "Here are some examples of iterable objects:"
   ]
  },
  {
   "cell_type": "code",
   "execution_count": 13,
   "metadata": {},
   "outputs": [],
   "source": [
    "# Several character of a family sitcom\n",
    "# Several characters of a family sitcom.\n",
    "iterable1 = [ \"Claire\", \"Phil\", \"Haley\", \"Cameron\", \"Luke\", \"Mitchell\", \"Jay\", \"Gloria\" ]\n",
    "\n",
    "# A color scale robust to colorblindness: https://cran.r-project.org/web/packages/viridis/vignettes/intro-to-viridis.html\n",
    "# Hexadecimal numbers: https://wiki.osdev.org/Hexadecimal_Notation\n",
    "iterable2 = ( 0xfde725, 0x5ec962, 0x21918c, 0x3b528b, 0x440154 )\n",
    "\n",
    "# An unlikely combination of numbers in a lottery 6 out of 1,2,...,44,45.\n",
    "iterable3 = { 10, 15, 23, 24, 40 }\n",
    "\n",
    "# More on colors: https://www.rapidtables.com/web/color/RGB_Color.html\n",
    "# For loop will iterate over the keys.\n",
    "iterable4 = { \"red\":0xFF0000, \"green\":0x00FF00, \"blue\":0x0000FF, \"black\":0x000000, \"white\":0xFFFFFF }\n",
    "\n",
    "# Iterable over letters of the string.\n",
    "iterable5 = \"Statistics and Data Science\"\n",
    "\n",
    "# An arithmetic progression.\n",
    "iterable6 = range( 10, 15 )"
   ]
  },
  {
   "cell_type": "markdown",
   "metadata": {},
   "source": [
    "# A simple for loop\n",
    "\n",
    "Here is an example of a for loop"
   ]
  },
  {
   "cell_type": "code",
   "execution_count": 14,
   "metadata": {},
   "outputs": [
    {
     "name": "stdout",
     "output_type": "stream",
     "text": [
      "Claire\n",
      "Phil\n",
      "Haley\n",
      "Cameron\n",
      "Luke\n",
      "Mitchell\n",
      "Jay\n",
      "Gloria\n"
     ]
    }
   ],
   "source": [
    "names = [ \"Claire\", \"Phil\", \"Haley\", \"Cameron\", \"Luke\", \"Mitchell\", \"Jay\", \"Gloria\" ]\n",
    "for name in names:\n",
    "    print(name)"
   ]
  },
  {
   "cell_type": "code",
   "execution_count": 15,
   "metadata": {},
   "outputs": [],
   "source": [
    "for n in names:\n",
    "    pass"
   ]
  },
  {
   "cell_type": "markdown",
   "metadata": {},
   "source": [
    "# A for loop with continue\n",
    "Let's introduce several print commands to observe the order of code execution (i.e., the flow of the program)"
   ]
  },
  {
   "cell_type": "code",
   "execution_count": 17,
   "metadata": {},
   "outputs": [
    {
     "name": "stdout",
     "output_type": "stream",
     "text": [
      "Before loop\n",
      "Body start i = 0\n",
      "Body end in i = 0\n",
      "Body start i = 1\n",
      "Body end in i = 1\n",
      "Body start i = 2\n",
      "Body end in i = 2\n",
      "After loop\n"
     ]
    }
   ],
   "source": [
    "print(\"Before loop\")\n",
    "for i in range(3):\n",
    "    print(f\"Body start i = {i}\")\n",
    "    pass\n",
    "    print(f\"Body end in i = {i}\")\n",
    "print(\"After loop\")"
   ]
  },
  {
   "cell_type": "markdown",
   "metadata": {},
   "source": [
    "The keyword continue stops exectution of the remaining part of the loop's body and transfers the execution point back to the begining of the next iteration:"
   ]
  },
  {
   "cell_type": "code",
   "execution_count": 18,
   "metadata": {},
   "outputs": [
    {
     "name": "stdout",
     "output_type": "stream",
     "text": [
      "Before loop\n",
      "Body start i = 0\n",
      "Body end i = 0\n",
      "Body start i = 1\n",
      "Body start i = 2\n",
      "Body end i = 2\n",
      "After loop\n"
     ]
    }
   ],
   "source": [
    "print(\"Before loop\")\n",
    "for i in range(3):\n",
    "    print(f\"Body start i = {i}\")\n",
    "    if i == 1:\n",
    "        continue\n",
    "    print(f\"Body end i = {i}\")\n",
    "print(\"After loop\")"
   ]
  },
  {
   "cell_type": "markdown",
   "metadata": {},
   "source": [
    "# A `for` loop with else of break\n",
    "In `for` loops, the keyword else allows to introduce a block of code which is executed after all iterations of the loop are done without any `break`. The `else` block is then executed even if there were no iterations at all because the iterable was empty"
   ]
  },
  {
   "cell_type": "code",
   "execution_count": 19,
   "metadata": {},
   "outputs": [
    {
     "name": "stdout",
     "output_type": "stream",
     "text": [
      "Before loop\n",
      "Body start i = 0\n",
      "Body end i = 0\n",
      "Body start i = 1\n",
      "Body end i = 1\n",
      "Body start i = 2\n",
      "Body end i = 2\n",
      "Else block\n",
      "After loop\n"
     ]
    }
   ],
   "source": [
    "print(\"Before loop\")\n",
    "for i in range(3):\n",
    "    print(f\"Body start i = {i}\")\n",
    "    pass\n",
    "    print(f\"Body end i = {i}\")\n",
    "else:\n",
    "    print(\"Else block\")\n",
    "print(\"After loop\")"
   ]
  },
  {
   "cell_type": "markdown",
   "metadata": {},
   "source": [
    "The keyword `break` stops execution of the remaining part of the loop's body and transfers the execution point after the end of the loop. \n",
    "\n",
    "If an `else` part is present, `break` skips over it."
   ]
  },
  {
   "cell_type": "code",
   "execution_count": 24,
   "metadata": {},
   "outputs": [
    {
     "name": "stdout",
     "output_type": "stream",
     "text": [
      "Before loop\n",
      "Body start i = 0\n",
      "Body end i = 0\n",
      "Body start i = 1\n",
      "Body end i = 1\n",
      "Body start i = 2\n",
      "After loop\n"
     ]
    }
   ],
   "source": [
    "print(\"Before loop\")\n",
    "for i in range(3):\n",
    "    print(f\"Body start i = {i}\")\n",
    "    if i == 2:\n",
    "        break\n",
    "    print(f\"Body end i = {i}\")\n",
    "else: \n",
    "    print(\"Else block\")\n",
    "print(\"After loop\")\n"
   ]
  },
  {
   "cell_type": "markdown",
   "metadata": {},
   "source": [
    "# Repetition control statements: `while` loops\n",
    "\n",
    "The keyword `while` allows repeating a block of code as long as a provided conditions evaluates to `True`.\n",
    "\n",
    "The keywords `break`, `continue` and `else` provide the same functionality as in `for` loops"
   ]
  },
  {
   "cell_type": "code",
   "execution_count": 18,
   "metadata": {},
   "outputs": [
    {
     "name": "stdout",
     "output_type": "stream",
     "text": [
      "Your are wrong, try again\n",
      "Your are wrong, try again\n",
      "Your are wrong, try again\n",
      "Your are wrong, try again\n",
      "Your are wrong, try again\n",
      "Your are wrong, try again\n",
      "Your are wrong, try again\n",
      "Your are wrong, try again\n",
      "Your are wrong, try again\n",
      "Your are wrong, try again\n",
      "Your are wrong, try again\n",
      "Your are wrong, try again\n",
      "Your are wrong, try again\n",
      "Your are wrong, try again\n",
      "Your are wrong, try again\n",
      "Your are wrong, try again\n",
      "Your are wrong, try again\n",
      "Congratulations!\n"
     ]
    }
   ],
   "source": [
    "from random import randint\n",
    "\n",
    "tossedNum = randint(1, 6)\n",
    "while True:\n",
    "    guessedNum = int(input(\"I tossed ranomly a fair dice. Guess the number ...\"))\n",
    "    if tossedNum == guessedNum:\n",
    "        print(\"Congratulations!\")\n",
    "        break\n",
    "    print(\"Your are wrong, try again\")"
   ]
  },
  {
   "cell_type": "markdown",
   "metadata": {},
   "source": [
    "# User-defined functions\n",
    "\n",
    "## A function, arguments and the return value\n",
    "\n",
    "Here is an example of a user-defined function `myMean`:\n",
    "\n",
    "The function takes on argument `x`.\n",
    "The function calculates and returns the arithmetic mean of the data provided in the `x` argument."
   ]
  },
  {
   "cell_type": "code",
   "execution_count": 3,
   "metadata": {},
   "outputs": [
    {
     "data": {
      "text/plain": [
       "1.5"
      ]
     },
     "execution_count": 3,
     "metadata": {},
     "output_type": "execute_result"
    }
   ],
   "source": [
    "def myMean(x):\n",
    "    return sum(x)/len(x)\n",
    "\n",
    "myMean([1, 2])"
   ]
  },
  {
   "cell_type": "markdown",
   "metadata": {},
   "source": [
    "Here is another example of calling the new function from a dictinary comprehensions:"
   ]
  },
  {
   "cell_type": "code",
   "execution_count": 5,
   "metadata": {},
   "outputs": [
    {
     "data": {
      "text/plain": [
       "{'math': 7.8, 'physics': 8.666666666666666, 'philosophy': 6.375}"
      ]
     },
     "execution_count": 5,
     "metadata": {},
     "output_type": "execute_result"
    }
   ],
   "source": [
    "course2grades = {\n",
    "    \"math\":(7, 9, 6.5, 8, 8.5),\n",
    "    \"physics\":(9, 8.5, 9.5, 8, 7.5, 9.5),\n",
    "    \"philosophy\":(6, 6.5, 6, 7)\n",
    "}\n",
    "\n",
    "{c:myMean(gs) for c, gs in course2grades.items()}"
   ]
  },
  {
   "cell_type": "markdown",
   "metadata": {},
   "source": [
    "# An arguement with a default value\n",
    "\n",
    "Here an additional argument `isGeom` is added to the function `myMeans`.\n",
    "\n",
    "The value of `isGeom` decides whether arithmetic or geometric mean is calculated."
   ]
  },
  {
   "cell_type": "code",
   "execution_count": 9,
   "metadata": {},
   "outputs": [],
   "source": [
    "from math import log, exp\n",
    "\n",
    "def myMean(x, isGeom = False):\n",
    "    if isGeom:\n",
    "        logOfX = (log(xx) for xx in x)\n",
    "        return exp(sum(logOfX)/len(x))\n",
    "    else: \n",
    "        return sum(x)/len(x)"
   ]
  },
  {
   "cell_type": "markdown",
   "metadata": {},
   "source": [
    "The new argument has a default value `False` which will be used when no value is provided when the function is called."
   ]
  },
  {
   "cell_type": "code",
   "execution_count": 10,
   "metadata": {},
   "outputs": [
    {
     "data": {
      "text/plain": [
       "2.0"
      ]
     },
     "execution_count": 10,
     "metadata": {},
     "output_type": "execute_result"
    }
   ],
   "source": [
    "myMean([1, 2, 3])"
   ]
  },
  {
   "cell_type": "markdown",
   "metadata": {},
   "source": [
    "Here are different variants of providing `True` value for `isGeom`"
   ]
  },
  {
   "cell_type": "code",
   "execution_count": 13,
   "metadata": {},
   "outputs": [
    {
     "data": {
      "text/plain": [
       "1.8171205928321397"
      ]
     },
     "execution_count": 13,
     "metadata": {},
     "output_type": "execute_result"
    }
   ],
   "source": [
    "myMean([1, 2, 3], True) # argument names may be omitted\n",
    "myMean(x = [1, 2, 3], isGeom = True) # or provided\n",
    "myMean([1, 2, 3], isGeom = True) #or partially provided"
   ]
  },
  {
   "cell_type": "markdown",
   "metadata": {},
   "source": [
    "# Raising exceptions (handling errors)\n",
    "\n",
    "Sometimes a function might be called with wrong argument. For example:"
   ]
  },
  {
   "cell_type": "code",
   "execution_count": 14,
   "metadata": {},
   "outputs": [
    {
     "ename": "ZeroDivisionError",
     "evalue": "division by zero",
     "output_type": "error",
     "traceback": [
      "\u001b[1;31m---------------------------------------------------------------------------\u001b[0m",
      "\u001b[1;31mZeroDivisionError\u001b[0m                         Traceback (most recent call last)",
      "Cell \u001b[1;32mIn[14], line 1\u001b[0m\n\u001b[1;32m----> 1\u001b[0m myMean([])\n",
      "Cell \u001b[1;32mIn[9], line 8\u001b[0m, in \u001b[0;36mmyMean\u001b[1;34m(x, isGeom)\u001b[0m\n\u001b[0;32m      6\u001b[0m     \u001b[38;5;28;01mreturn\u001b[39;00m exp(\u001b[38;5;28msum\u001b[39m(logOfX)\u001b[38;5;241m/\u001b[39m\u001b[38;5;28mlen\u001b[39m(x))\n\u001b[0;32m      7\u001b[0m \u001b[38;5;28;01melse\u001b[39;00m: \n\u001b[1;32m----> 8\u001b[0m     \u001b[38;5;28;01mreturn\u001b[39;00m \u001b[38;5;28msum\u001b[39m(x)\u001b[38;5;241m/\u001b[39m\u001b[38;5;28mlen\u001b[39m(x)\n",
      "\u001b[1;31mZeroDivisionError\u001b[0m: division by zero"
     ]
    }
   ],
   "source": [
    "myMean([])"
   ]
  },
  {
   "cell_type": "markdown",
   "metadata": {},
   "source": [
    "Often it is useful to provide more informative (user defined) error message with help of `raise` command throwing errors/exceptions"
   ]
  },
  {
   "cell_type": "code",
   "execution_count": 19,
   "metadata": {},
   "outputs": [
    {
     "ename": "RuntimeError",
     "evalue": "There must be at least one element to calculate mean",
     "output_type": "error",
     "traceback": [
      "\u001b[1;31m---------------------------------------------------------------------------\u001b[0m",
      "\u001b[1;31mRuntimeError\u001b[0m                              Traceback (most recent call last)",
      "Cell \u001b[1;32mIn[19], line 11\u001b[0m\n\u001b[0;32m      8\u001b[0m     \u001b[38;5;28;01melse\u001b[39;00m:\n\u001b[0;32m      9\u001b[0m         \u001b[38;5;28;01mreturn\u001b[39;00m \u001b[38;5;28msum\u001b[39m(x)\u001b[38;5;241m/\u001b[39m\u001b[38;5;28mlen\u001b[39m(x)\n\u001b[1;32m---> 11\u001b[0m myMean([])\n",
      "Cell \u001b[1;32mIn[19], line 4\u001b[0m, in \u001b[0;36mmyMean\u001b[1;34m(x, isGeom)\u001b[0m\n\u001b[0;32m      2\u001b[0m \u001b[38;5;28;01mdef\u001b[39;00m \u001b[38;5;21mmyMean\u001b[39m(x, isGeom \u001b[38;5;241m=\u001b[39m \u001b[38;5;28;01mFalse\u001b[39;00m):\n\u001b[0;32m      3\u001b[0m     \u001b[38;5;28;01mif\u001b[39;00m \u001b[38;5;28mlen\u001b[39m(x) \u001b[38;5;241m==\u001b[39m \u001b[38;5;241m0\u001b[39m:\n\u001b[1;32m----> 4\u001b[0m         \u001b[38;5;28;01mraise\u001b[39;00m \u001b[38;5;167;01mRuntimeError\u001b[39;00m(\u001b[38;5;124m\"\u001b[39m\u001b[38;5;124mThere must be at least one element to calculate mean\u001b[39m\u001b[38;5;124m\"\u001b[39m)\n\u001b[0;32m      5\u001b[0m     \u001b[38;5;28;01mif\u001b[39;00m isGeom:\n\u001b[0;32m      6\u001b[0m         logOfX \u001b[38;5;241m=\u001b[39m (log(xx) \u001b[38;5;28;01mfor\u001b[39;00m xx \u001b[38;5;129;01min\u001b[39;00m x)\n",
      "\u001b[1;31mRuntimeError\u001b[0m: There must be at least one element to calculate mean"
     ]
    }
   ],
   "source": [
    "from math import log, exp\n",
    "def myMean(x, isGeom = False):\n",
    "    if len(x) == 0:\n",
    "        raise RuntimeError(\"There must be at least one element to calculate mean\")\n",
    "    if isGeom:\n",
    "        logOfX = (log(xx) for xx in x)\n",
    "        return exp(sum(logOfX)/len(x))\n",
    "    else:\n",
    "        return sum(x)/len(x)\n",
    "    \n",
    "myMean([])"
   ]
  },
  {
   "cell_type": "markdown",
   "metadata": {},
   "source": [
    "# Describing functions\n",
    "\n",
    "Python provides a docstring convention for writing documentation to functions (and other language elements).\n",
    "\n",
    "A short description of a function, quoted with triple quotes, should be provided at the top of the function body:"
   ]
  },
  {
   "cell_type": "code",
   "execution_count": 20,
   "metadata": {},
   "outputs": [],
   "source": [
    "from math import log, exp\n",
    "\n",
    "def myMean(x, isGeom=False):\n",
    "    \"\"\"Calculates arithmetic or geometric mean of elements in x.\"\"\"\n",
    "    if len(x) == 0:\n",
    "        raise RuntimeError(\"There must be at least one element to calculate mean.\")\n",
    "    if isGeom:\n",
    "        logOfX = (log(xx) for xx in x)\n",
    "        return exp(sum(logOfX)/len(x))\n",
    "    else:\n",
    "        return sum(x)/len(x)"
   ]
  },
  {
   "cell_type": "markdown",
   "metadata": {},
   "source": [
    "This documentation is available as follows:"
   ]
  },
  {
   "cell_type": "code",
   "execution_count": 21,
   "metadata": {},
   "outputs": [
    {
     "data": {
      "text/plain": [
       "'Calculates arithmetic or geometric mean of elements in x.'"
      ]
     },
     "execution_count": 21,
     "metadata": {},
     "output_type": "execute_result"
    }
   ],
   "source": [
    "myMean.__doc__"
   ]
  },
  {
   "cell_type": "markdown",
   "metadata": {},
   "source": [
    "# Lambda functions\n",
    "Let's consider a simple, single-expression function:"
   ]
  },
  {
   "cell_type": "code",
   "execution_count": 22,
   "metadata": {},
   "outputs": [],
   "source": [
    "def myMean(x):\n",
    "    return sum(x)/len(x)"
   ]
  },
  {
   "cell_type": "markdown",
   "metadata": {},
   "source": [
    "The same single-expression function can be written in shorter form:"
   ]
  },
  {
   "cell_type": "code",
   "execution_count": 23,
   "metadata": {},
   "outputs": [],
   "source": [
    "myMean = lambda x:  sum(x)/len(x)"
   ]
  },
  {
   "cell_type": "markdown",
   "metadata": {},
   "source": [
    "and be called with the usual notation:"
   ]
  },
  {
   "cell_type": "code",
   "execution_count": 24,
   "metadata": {},
   "outputs": [
    {
     "data": {
      "text/plain": [
       "2.0"
      ]
     },
     "execution_count": 24,
     "metadata": {},
     "output_type": "execute_result"
    }
   ],
   "source": [
    "myMean([1, 2, 3])"
   ]
  },
  {
   "cell_type": "markdown",
   "metadata": {},
   "source": [
    "In some contexts the `lambda` notation allows to write short, compact code"
   ]
  },
  {
   "cell_type": "markdown",
   "metadata": {},
   "source": [
    "# Self-study tasks\n",
    "\n",
    "## A function to convert score to grade\n",
    "An exam `score` is a number in a range from `0` to `maxScore`.\n",
    "Write a function `score2grade (score, maxScore)` which implements a linear transformation of a score to a grade:\n",
    "\n",
    "for `score = 0` the returned grade should be `1`;\n",
    "for `score = maxScore` the returned grade should be `10`;\n",
    "for `score' beyond range the function should raise an exception.\n",
    "\n",
    "Add a docstring with a short description of the function. Call the function for several combinations of the arguments to check whether it works correctly."
   ]
  },
  {
   "cell_type": "code",
   "execution_count": 11,
   "metadata": {},
   "outputs": [
    {
     "name": "stdout",
     "output_type": "stream",
     "text": [
      "1\n",
      "1.45\n",
      "9.549999999999999\n",
      "10\n"
     ]
    },
    {
     "ename": "ValueError",
     "evalue": "The score is out of range",
     "output_type": "error",
     "traceback": [
      "\u001b[1;31m---------------------------------------------------------------------------\u001b[0m",
      "\u001b[1;31mValueError\u001b[0m                                Traceback (most recent call last)",
      "Cell \u001b[1;32mIn[11], line 18\u001b[0m\n\u001b[0;32m     16\u001b[0m \u001b[38;5;28mprint\u001b[39m(score2grad(\u001b[38;5;241m19\u001b[39m, \u001b[38;5;241m20\u001b[39m))\n\u001b[0;32m     17\u001b[0m \u001b[38;5;28mprint\u001b[39m(score2grad(\u001b[38;5;241m20\u001b[39m, \u001b[38;5;241m20\u001b[39m))\n\u001b[1;32m---> 18\u001b[0m \u001b[38;5;28mprint\u001b[39m(score2grad(\u001b[38;5;241m21\u001b[39m, \u001b[38;5;241m20\u001b[39m))\n",
      "Cell \u001b[1;32mIn[11], line 6\u001b[0m, in \u001b[0;36mscore2grad\u001b[1;34m(score, maxScore)\u001b[0m\n\u001b[0;32m      2\u001b[0m \u001b[38;5;250m\u001b[39m\u001b[38;5;124;03m\"\"\"\u001b[39;00m\n\u001b[0;32m      3\u001b[0m \u001b[38;5;124;03mgrading based on score\u001b[39;00m\n\u001b[0;32m      4\u001b[0m \u001b[38;5;124;03m\"\"\"\u001b[39;00m\n\u001b[0;32m      5\u001b[0m \u001b[38;5;28;01mif\u001b[39;00m ((score \u001b[38;5;241m>\u001b[39m maxScore) \u001b[38;5;241m|\u001b[39m (score \u001b[38;5;241m<\u001b[39m \u001b[38;5;241m0\u001b[39m)):\n\u001b[1;32m----> 6\u001b[0m      \u001b[38;5;28;01mraise\u001b[39;00m \u001b[38;5;167;01mValueError\u001b[39;00m(\u001b[38;5;124m\"\u001b[39m\u001b[38;5;124mThe score is out of range\u001b[39m\u001b[38;5;124m\"\u001b[39m)\n\u001b[0;32m      7\u001b[0m \u001b[38;5;28;01melif\u001b[39;00m score \u001b[38;5;241m==\u001b[39m \u001b[38;5;241m0\u001b[39m:\n\u001b[0;32m      8\u001b[0m     \u001b[38;5;28;01mreturn\u001b[39;00m \u001b[38;5;241m1\u001b[39m\n",
      "\u001b[1;31mValueError\u001b[0m: The score is out of range"
     ]
    }
   ],
   "source": [
    "def score2grad(score, maxScore):\n",
    "    \"\"\"\n",
    "    grading based on score\n",
    "    \"\"\"\n",
    "    if ((score > maxScore) | (score < 0)):\n",
    "         raise ValueError(\"The score is out of range\")\n",
    "    elif score == 0:\n",
    "        return 1\n",
    "    elif score == maxScore:\n",
    "        return 10\n",
    "    else:\n",
    "        return score/maxScore * 9 + 1\n",
    "    \n",
    "print(score2grad(0, 20))    \n",
    "print(score2grad(1, 20))\n",
    "print(score2grad(19, 20))\n",
    "print(score2grad(20, 20))\n",
    "print(score2grad(21, 20))"
   ]
  },
  {
   "cell_type": "code",
   "execution_count": 30,
   "metadata": {},
   "outputs": [
    {
     "data": {
      "text/plain": [
       "'\\n    grading based on score\\n    '"
      ]
     },
     "execution_count": 30,
     "metadata": {},
     "output_type": "execute_result"
    }
   ],
   "source": [
    "score2grad.__doc__"
   ]
  },
  {
   "cell_type": "markdown",
   "metadata": {},
   "source": [
    "A `lambda` function to convert score to grade"
   ]
  },
  {
   "cell_type": "code",
   "execution_count": 14,
   "metadata": {},
   "outputs": [
    {
     "data": {
      "text/plain": [
       "9.549999999999999"
      ]
     },
     "execution_count": 14,
     "metadata": {},
     "output_type": "execute_result"
    }
   ],
   "source": [
    "s2g = lambda score, maxScore:  score/maxScore * 9 + 1\n",
    "s2g(19, 20)"
   ]
  },
  {
   "cell_type": "code",
   "execution_count": 31,
   "metadata": {},
   "outputs": [],
   "source": [
    "# Conditional expression"
   ]
  },
  {
   "cell_type": "code",
   "execution_count": 34,
   "metadata": {},
   "outputs": [
    {
     "name": "stdout",
     "output_type": "stream",
     "text": [
      "[1, 2, 3, 2, 3, 4]\n",
      "[1, 2, 3, 2, 3, 4]\n"
     ]
    }
   ],
   "source": [
    "xs = [1, 2, 3, -2, -3, -4]\n",
    "print([abs(x) for x in xs])\n",
    "print([x if x > 0 else -x for x in xs])"
   ]
  },
  {
   "cell_type": "markdown",
   "metadata": {},
   "source": [
    "# Argments `sep` and `end` of `print(...)`"
   ]
  },
  {
   "cell_type": "code",
   "execution_count": 40,
   "metadata": {},
   "outputs": [
    {
     "name": "stdout",
     "output_type": "stream",
     "text": [
      "A B C\n",
      "A-B-C\n",
      "A<--->B<--->C\n",
      "A???B\n",
      "A\n"
     ]
    }
   ],
   "source": [
    "print( \"A\", \"B\", \"C\" )\n",
    "print( \"A\", \"B\", \"C\", sep=\"-\" )\n",
    "print( \"A\", \"B\", \"C\", sep=\"<--->\" )\n",
    "print( \"A\", \"B\", sep=\"???\" )  # sep = \"???\", \"???\" only prints between two arguements\n",
    "print(\"A\", sep=\"???\")"
   ]
  },
  {
   "cell_type": "code",
   "execution_count": 41,
   "metadata": {},
   "outputs": [
    {
     "name": "stdout",
     "output_type": "stream",
     "text": [
      "A\n",
      "B\n",
      "C\n"
     ]
    }
   ],
   "source": [
    "\n",
    "print( \"A\" )\n",
    "print( \"B\" )\n",
    "print( \"C\" )"
   ]
  },
  {
   "cell_type": "code",
   "execution_count": 43,
   "metadata": {},
   "outputs": [
    {
     "name": "stdout",
     "output_type": "stream",
     "text": [
      "ABC\n",
      "A"
     ]
    }
   ],
   "source": [
    "print( \"A\", end=\"\" )\n",
    "print( \"B\", end=\"\" )\n",
    "print( \"C\" )\n",
    "print( \"A\", end=\"\" )"
   ]
  },
  {
   "cell_type": "markdown",
   "metadata": {},
   "source": [
    "## A condition in a loop in a loop: patinting with dots"
   ]
  },
  {
   "cell_type": "code",
   "execution_count": 23,
   "metadata": {},
   "outputs": [
    {
     "name": "stdout",
     "output_type": "stream",
     "text": [
      ".........\n",
      "\n",
      ".........\n",
      "\n",
      ".........\n",
      "\n",
      ".........\n",
      "\n",
      ".........\n",
      "\n",
      ".........\n",
      "\n",
      ".........\n",
      "\n",
      ".........\n",
      "\n",
      ".........\n",
      "\n"
     ]
    }
   ],
   "source": [
    "def printGrid(n):\n",
    "    for i in range(1,n):\n",
    "        for j in range(1, n):\n",
    "               print(\".\", end = \"\")\n",
    "        print(\"\\n\")\n",
    "    \n",
    "printGrid(10)         # These commands printed the shapes"
   ]
  },
  {
   "cell_type": "code",
   "execution_count": 29,
   "metadata": {},
   "outputs": [
    {
     "name": "stdout",
     "output_type": "stream",
     "text": [
      "#....\n",
      ".#...\n",
      "..#..\n",
      "...#.\n",
      "....#\n"
     ]
    }
   ],
   "source": [
    "\n",
    "def printBackslash(n):\n",
    "     for i in range(1, n):          \n",
    "          for j in range(1, n):\n",
    "               if i == j:\n",
    "                    print(\"#\", end =\"\")\n",
    "               else:\n",
    "                    print(\".\", end=\"\")\n",
    "          print(\"\\n\", end=\"\")\n",
    "printBackslash(6)\n"
   ]
  },
  {
   "cell_type": "code",
   "execution_count": 48,
   "metadata": {},
   "outputs": [
    {
     "name": "stdout",
     "output_type": "stream",
     "text": [
      ".......#\n",
      "......#.\n",
      ".....#..\n",
      "....#...\n",
      "...#....\n",
      "..#.....\n",
      ".#......\n"
     ]
    }
   ],
   "source": [
    "def printSlash(n):\n",
    "    for i in range(1, n):\n",
    "        for j in range(1, n):\n",
    "            print(\".\", end = \"\")\n",
    "            if j + i == n:\n",
    "                print(\"#\", end = \"\")\n",
    "        print(\"\\n\", end=\"\")\n",
    "printSlash(8)\n"
   ]
  },
  {
   "cell_type": "code",
   "execution_count": 50,
   "metadata": {},
   "outputs": [
    {
     "name": "stdout",
     "output_type": "stream",
     "text": [
      "#######\n",
      "#.....#\n",
      "#.....#\n",
      "#.....#\n",
      "#.....#\n",
      "#.....#\n",
      "#######\n",
      "A B"
     ]
    }
   ],
   "source": [
    "def printSquare(n):\n",
    "    for i in range(0, n):\n",
    "        for j in range(0, n):\n",
    "            if i == 0 or i == n-1:\n",
    "                print(\"#\", end = \"\")\n",
    "                continue\n",
    "            elif j == 0 or j == n-1:\n",
    "                print(\"#\", end = \"\")\n",
    "                continue\n",
    "            else: \n",
    "                print(\".\", end = \"\")\n",
    "\n",
    "        print(\"\\n\", end =\"\") # = print(\"\") here, which prints a new line\n",
    "\n",
    "printSquare(7)\n",
    "print(\"A\", \"B\", end=\"\")"
   ]
  },
  {
   "cell_type": "code",
   "execution_count": 51,
   "metadata": {},
   "outputs": [
    {
     "name": "stdout",
     "output_type": "stream",
     "text": [
      "#.......#\n",
      ".#.....#.\n",
      "..#...#..\n",
      "...#.#...\n",
      "....#....\n",
      "...#.#...\n",
      "..#...#..\n",
      ".#.....#.\n",
      "#.......#\n"
     ]
    }
   ],
   "source": [
    "def printX(n):\n",
    "    for i in range(1, n):\n",
    "        for j in range(1, n):\n",
    "            if i == j or i + j == n:\n",
    "                print(\"#\", end = \"\")\n",
    "            else:\n",
    "                print(\".\", end = \"\")\n",
    "        print(\"\\n\", end = \"\")\n",
    "printX(10)\n"
   ]
  },
  {
   "cell_type": "code",
   "execution_count": 60,
   "metadata": {},
   "outputs": [
    {
     "name": "stdout",
     "output_type": "stream",
     "text": [
      "##########\n",
      "#........#\n",
      "#.......# \n",
      "#......#  \n",
      "#.....#   \n",
      "#....#    \n",
      "#...#     \n",
      "#..#      \n",
      "#.#       \n",
      "##        \n"
     ]
    }
   ],
   "source": [
    "def printLUTriangle(n):\n",
    "    for i in range(0, n):\n",
    "        for j in range(0, n):\n",
    "            if i == 0 or j == 0:\n",
    "                print(\"#\", end = \"\")\n",
    "            elif i + j == n:\n",
    "                print(\"#\", end = \"\")\n",
    "            elif j >= n- i:\n",
    "                print(\" \", end = \"\")\n",
    "            else:\n",
    "                print(\".\", end = \"\")\n",
    "        print(\"\\n\", end = \"\")\n",
    "printLUTriangle(10)\n"
   ]
  },
  {
   "cell_type": "code",
   "execution_count": 65,
   "metadata": {},
   "outputs": [
    {
     "name": "stdout",
     "output_type": "stream",
     "text": [
      "         #\n",
      "         #\n",
      "        ##\n",
      "       #.#\n",
      "      #..#\n",
      "     #...#\n",
      "    #....#\n",
      "   #.....#\n",
      "  #......#\n",
      "##########\n"
     ]
    }
   ],
   "source": [
    "def printRBTriangle(n):\n",
    "    for i in range(0, n):\n",
    "        for j in range(0, n):\n",
    "            if i == n-1 or j == n-1:\n",
    "                print(\"#\", end = \"\")\n",
    "            elif i + j == n:\n",
    "                print(\"#\", end = \"\")\n",
    "            elif j <= n-i:\n",
    "                print(\" \", end = \"\")\n",
    "            else:\n",
    "                print(\".\", end = \"\")\n",
    "        print(\"\\n\", end = \"\")\n",
    "\n",
    "printRBTriangle(10)"
   ]
  },
  {
   "cell_type": "markdown",
   "metadata": {},
   "source": [
    "# Rewriting the function `myMean`"
   ]
  },
  {
   "cell_type": "code",
   "execution_count": 48,
   "metadata": {},
   "outputs": [
    {
     "ename": "TypeError",
     "evalue": "object of type 'generator' has no len()",
     "output_type": "error",
     "traceback": [
      "\u001b[1;31m---------------------------------------------------------------------------\u001b[0m",
      "\u001b[1;31mTypeError\u001b[0m                                 Traceback (most recent call last)",
      "Cell \u001b[1;32mIn[48], line 7\u001b[0m\n\u001b[0;32m      5\u001b[0m vs2 \u001b[38;5;241m=\u001b[39m (v\u001b[38;5;241m*\u001b[39m\u001b[38;5;241m*\u001b[39m\u001b[38;5;241m2\u001b[39m \u001b[38;5;28;01mfor\u001b[39;00m v \u001b[38;5;129;01min\u001b[39;00m vs )\n\u001b[0;32m      6\u001b[0m myMean( vs )     \u001b[38;5;66;03m# this works\u001b[39;00m\n\u001b[1;32m----> 7\u001b[0m myMean( vs2 )\n",
      "Cell \u001b[1;32mIn[48], line 2\u001b[0m, in \u001b[0;36mmyMean\u001b[1;34m(x)\u001b[0m\n\u001b[0;32m      1\u001b[0m \u001b[38;5;28;01mdef\u001b[39;00m \u001b[38;5;21mmyMean\u001b[39m( x ):\n\u001b[1;32m----> 2\u001b[0m     \u001b[38;5;28;01mreturn\u001b[39;00m \u001b[38;5;28msum\u001b[39m(x)\u001b[38;5;241m/\u001b[39m\u001b[38;5;28mlen\u001b[39m(x)\n",
      "\u001b[1;31mTypeError\u001b[0m: object of type 'generator' has no len()"
     ]
    }
   ],
   "source": [
    "def myMean( x ):\n",
    "    return sum(x)/len(x)\n",
    "\n",
    "vs  = [ 1, 5, 10, 15, 30 ]\n",
    "vs2 = (v**2 for v in vs ) #here, vs2 is not a set, instead, it is a generator. The data is not stored. \n",
    "myMean( vs )     # this works\n",
    "myMean( vs2 )   # this raises an exception"
   ]
  },
  {
   "cell_type": "code",
   "execution_count": 57,
   "metadata": {},
   "outputs": [
    {
     "name": "stdout",
     "output_type": "stream",
     "text": [
      "ONE\n",
      "1\n",
      "25\n",
      "100\n",
      "225\n",
      "900\n",
      "TWO\n"
     ]
    }
   ],
   "source": [
    "vs2\n",
    "vs2 = (v**2 for v in vs )\n",
    "print(\"ONE\")\n",
    "for v in vs2:\n",
    "    print(v)\n",
    "print(\"TWO\")\n",
    "for v in vs2:\n",
    "    print(v)"
   ]
  },
  {
   "cell_type": "markdown",
   "metadata": {},
   "source": [
    "# Let's practice accessing (remote) files.\n",
    "\n",
    "Goal: get README.md file of this course and from it select only text lines containing the word course.\n",
    "Store the selected text lines as a list in textsWithCourse."
   ]
  },
  {
   "cell_type": "code",
   "execution_count": 78,
   "metadata": {},
   "outputs": [
    {
     "name": "stdout",
     "output_type": "stream",
     "text": [
      "['A course of [Statistics and Data Science master](https://www.universiteitleiden.nl/en/education/study-programmes/master/statistics--data-science), Leiden University.\\n', 'The course offers a practical introduction to a few programming languages and tools currently used in data science:\\n', 'During the course the students will write Python programs of growing complexity (from basic coding examples to fitting \\n', 'a machine learning model). After this course you will be able to program simple reproducible data analyses \\n', 'During the course you will practice writing [Python](https://www.python.org/) code. After the course you will be able to:\\n', '  - The primary source for lecture, exam and retake dates/locations is **Essentials for Data Science** course `4433EDASCY` \\n', '    - General course introduction\\n', '    - To pass the course, the Assignments A, B, C rounded mean grade must be greater than 5.5.\\n', '    - To pass the course, the group assignment rounded grade must be greater than 5.5.\\n', '    - To pass the course, the quiz needs to be solved with the PASS result.\\n', '    - To pass the course, the exam/retake grade must be greater than 5.5.\\n', '    - The exam will cover the course objectives marked with :writing_hand:.\\n', '    - The exam will not cover the course objectives marked with :no_entry_sign: - these objectives are evaluated in the group assignment and the quiz.\\n', '    - To pass the course, the final grade needs to be greater or equal 6.0.\\n', 'For the course you will need to bring a laptop with properly installed Python and a development environment.  \\n', '- **git**: Free and open source distributed version control system. Follow the *Downloads* instructions provided at https://git-scm.com/. Additional GUI (graphical) clients will not be used during the course but might be useful.\\n']\n"
     ]
    }
   ],
   "source": [
    "url = \"https://raw.githubusercontent.com/LUMC/EfDS/main/README.md\"\n",
    "\n",
    "import urllib.request as rq\n",
    "\n",
    "accessFile = rq.urlopen(url)\n",
    "SingleLines = accessFile.readlines()\n",
    "textsWithCourse = []\n",
    "for line in SingleLines:\n",
    "    #print(type(line))\n",
    "    line = line.decode(\"utf-8\")\n",
    "    #print(type(line))\n",
    "    if \"course\" in line:\n",
    "        textsWithCourse.append(line)\n",
    "\n",
    "print(textsWithCourse)\n",
    "\n",
    "\n"
   ]
  }
 ],
 "metadata": {
  "kernelspec": {
   "display_name": "base",
   "language": "python",
   "name": "python3"
  },
  "language_info": {
   "codemirror_mode": {
    "name": "ipython",
    "version": 3
   },
   "file_extension": ".py",
   "mimetype": "text/x-python",
   "name": "python",
   "nbconvert_exporter": "python",
   "pygments_lexer": "ipython3",
   "version": "3.11.5"
  }
 },
 "nbformat": 4,
 "nbformat_minor": 2
}
