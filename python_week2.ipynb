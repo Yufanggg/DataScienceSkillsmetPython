{
 "cells": [
  {
   "cell_type": "markdown",
   "metadata": {},
   "source": [
    "# Python sets and dictionaries\n",
    "\n",
    "## Lists/tuples (key points of the previous lesson)"
   ]
  },
  {
   "cell_type": "code",
   "execution_count": 7,
   "metadata": {},
   "outputs": [
    {
     "data": {
      "text/plain": [
       "['E', 'n', 'g', 'l', 'i', 's', 'h']"
      ]
     },
     "execution_count": 7,
     "metadata": {},
     "output_type": "execute_result"
    }
   ],
   "source": [
    "list(\"English\")"
   ]
  },
  {
   "cell_type": "code",
   "execution_count": 8,
   "metadata": {},
   "outputs": [
    {
     "name": "stdout",
     "output_type": "stream",
     "text": [
      "     digit2name: ('zero', 'one', 'two', 'three', 'four', 'five', 'six', 'seven', 'eight', 'nine')\n",
      "         digits: [5, 2, 6, 2, 0, 9, 2, 1, 9]\n",
      "    digitsNames: ['five', 'two', 'six', 'two', 'zero', 'nine', 'two', 'one', 'nine']\n",
      "    smallDigits: [2, 2, 0, 2, 1]\n",
      "digitsWithNames: [(5, 'five'), (2, 'two'), (6, 'six'), (2, 'two'), (0, 'zero'), (9, 'nine'), (2, 'two'), (1, 'one'), (9, 'nine')]\n"
     ]
    }
   ],
   "source": [
    "\n",
    "digit2name = ( 'zero', 'one', 'two', 'three', 'four', 'five', 'six', 'seven', 'eight', 'nine' )\n",
    "print( \"     digit2name:\", digit2name )\n",
    "\n",
    "digits = [ 5, 2, 6, 2, 0, 9, 2, 1, 9 ]                     # some random numbers\n",
    "print( \"         digits:\", digits )\n",
    "\n",
    "digitsNames = [ digit2name[d] for d in digits ]\n",
    "print( \"    digitsNames:\", digitsNames )\n",
    "\n",
    "smallDigits = [ d for d in digits if d <= 3 ]\n",
    "print( \"    smallDigits:\", smallDigits )\n",
    "digitsWithNames = [ (d, digit2name[d] ) for d in digits ]  # tuples are produced here\n",
    "print( \"digitsWithNames:\", digitsWithNames )"
   ]
  },
  {
   "cell_type": "markdown",
   "metadata": {},
   "source": [
    "## Set\n",
    "Set is a built-in data type with the following properties:\n",
    "\n",
    "an element is either in the set of not in the set.\n",
    "\n",
    "elements can be added to a set or remove from it\n",
    "\n",
    "an element added to a set cannot ever change, therefore only elements of immutable types are allowed\n",
    "\n",
    "fronzenset is an imuutable variant of a set - once created it cannot be changed but therefore a forzonset can be used as an element of a set\n"
   ]
  },
  {
   "cell_type": "code",
   "execution_count": 9,
   "metadata": {},
   "outputs": [
    {
     "name": "stdout",
     "output_type": "stream",
     "text": [
      "{'espresso', 'mascarpone', 'eggs', 'ladyfingers', 'sugar'}\n",
      "{'espresso', 'butter', 'strawberries', 'cocoa', 'eggs'}\n",
      "{'g', 'e'}\n",
      "{'egg'}\n"
     ]
    }
   ],
   "source": [
    "# A new set\n",
    "# two ways to create a set: {...} and set([...])\n",
    "# See https://www.recipesfromitaly.com/tiramisu-original-italian-recipe/\n",
    "# A *set* with ingredients needed for tiramisu:\n",
    "tiramisuIngredients = { \"ladyfingers\", \"mascarpone\", \"eggs\", \"sugar\", \"espresso\"}\n",
    "print(tiramisuIngredients)\n",
    "\n",
    "inHouseIngredients = set( [ \"eggs\", \"espresso\", \"cocoa\", \"butter\", \"strawberries\" ] )\n",
    "print(inHouseIngredients) \n",
    "# order information of the list is losted in set \n",
    "# even though it might happen to show the same order in the set, which is unreliable. \n",
    "\n",
    "print(set(\"egg\"))\n",
    "print(set([\"egg\"]))"
   ]
  },
  {
   "cell_type": "code",
   "execution_count": 10,
   "metadata": {},
   "outputs": [
    {
     "data": {
      "text/plain": [
       "5"
      ]
     },
     "execution_count": 10,
     "metadata": {},
     "output_type": "execute_result"
    }
   ],
   "source": [
    "len(inHouseIngredients)"
   ]
  },
  {
   "cell_type": "code",
   "execution_count": 11,
   "metadata": {},
   "outputs": [
    {
     "data": {
      "text/plain": [
       "set"
      ]
     },
     "execution_count": 11,
     "metadata": {},
     "output_type": "execute_result"
    }
   ],
   "source": [
    "type(inHouseIngredients)"
   ]
  },
  {
   "cell_type": "code",
   "execution_count": 12,
   "metadata": {},
   "outputs": [
    {
     "name": "stdout",
     "output_type": "stream",
     "text": [
      "<class 'dict'>\n",
      "<class 'set'>\n"
     ]
    }
   ],
   "source": [
    "# generate an empty set via set() but not {}\n",
    "print(type({}))\n",
    "print(type(set()))"
   ]
  },
  {
   "cell_type": "markdown",
   "metadata": {},
   "source": [
    "# Set algebra\n",
    "\n",
    "## Sets: is element in or not"
   ]
  },
  {
   "cell_type": "code",
   "execution_count": 13,
   "metadata": {},
   "outputs": [
    {
     "data": {
      "text/plain": [
       "False"
      ]
     },
     "execution_count": 13,
     "metadata": {},
     "output_type": "execute_result"
    }
   ],
   "source": [
    "\"milk\" in tiramisuIngredients"
   ]
  },
  {
   "cell_type": "code",
   "execution_count": 14,
   "metadata": {},
   "outputs": [
    {
     "data": {
      "text/plain": [
       "True"
      ]
     },
     "execution_count": 14,
     "metadata": {},
     "output_type": "execute_result"
    }
   ],
   "source": [
    "\"milk\" not in tiramisuIngredients"
   ]
  },
  {
   "cell_type": "code",
   "execution_count": 15,
   "metadata": {},
   "outputs": [
    {
     "name": "stdout",
     "output_type": "stream",
     "text": [
      "['espresso', 'butter', 'strawberries', 'cocoa', 'eggs']\n"
     ]
    },
    {
     "data": {
      "text/plain": [
       "[('espresso', False),\n",
       " ('butter', True),\n",
       " ('strawberries', True),\n",
       " ('cocoa', True),\n",
       " ('eggs', False)]"
      ]
     },
     "execution_count": 15,
     "metadata": {},
     "output_type": "execute_result"
    }
   ],
   "source": [
    "# A True/False map whether an in-house-ingredient is not needed for tiramisu\n",
    "print([ing for ing in inHouseIngredients])\n",
    "[(ing, ing not in tiramisuIngredients) for ing in inHouseIngredients]"
   ]
  },
  {
   "cell_type": "markdown",
   "metadata": {},
   "source": [
    "Note: the set methods issubset(...) and issuperset(...) allow to test whether all elements of one set are also present in the other set.The same functions are provided though <=, => operators. The == allows to check whether two sets have identical elements."
   ]
  },
  {
   "cell_type": "code",
   "execution_count": 16,
   "metadata": {},
   "outputs": [
    {
     "data": {
      "text/plain": [
       "False"
      ]
     },
     "execution_count": 16,
     "metadata": {},
     "output_type": "execute_result"
    }
   ],
   "source": [
    "tiramisuIngredients.issubset(inHouseIngredients)"
   ]
  },
  {
   "cell_type": "markdown",
   "metadata": {},
   "source": [
    "# Sets: adding/removing elements"
   ]
  },
  {
   "cell_type": "code",
   "execution_count": 17,
   "metadata": {},
   "outputs": [
    {
     "name": "stdout",
     "output_type": "stream",
     "text": [
      "{'espresso', 'butter', 'strawberries', 'cocoa', 'eggs'}\n",
      "{'espresso', 'butter', 'strawberries', 'bread', 'cocoa', 'eggs'}\n",
      "{'espresso', 'butter', 'salmi', 'strawberries', 'tomato', 'bread', 'cocoa', 'eggs'}\n",
      "None\n"
     ]
    }
   ],
   "source": [
    "print(inHouseIngredients)\n",
    "# for a single elment:\n",
    "inHouseIngredients.add(\"bread\")\n",
    "print(inHouseIngredients)\n",
    "\n",
    "# for an iterable collection of elements ( it can also be another set)\n",
    "inHouseIngredients.update([\"salmi\", \"tomato\"])\n",
    "print(inHouseIngredients)\n",
    "\n",
    "print(inHouseIngredients.update({\"food\"}))"
   ]
  },
  {
   "cell_type": "code",
   "execution_count": 18,
   "metadata": {},
   "outputs": [
    {
     "name": "stdout",
     "output_type": "stream",
     "text": [
      "{'espresso', 'butter', 'salmi', 'strawberries', 'tomato', 'food', 'cocoa', 'eggs'}\n",
      "{'espresso', 'butter', 'salmi', 'strawberries', 'tomato', 'food', 'cocoa', 'eggs'}\n"
     ]
    }
   ],
   "source": [
    "# For an element currently in the set\n",
    "inHouseIngredients.remove(\"bread\")\n",
    "print(inHouseIngredients)\n",
    "\n",
    "# Note: KeyError exception would be raised because \"BREAD\" is not in the set:\n",
    "# inHouseIngredients.remove( \"BREAD\" ) \n",
    "\n",
    "# For value which might be in the set but no error when the value is not there\n",
    "inHouseIngredients.discard(\"BREAD\")\n",
    "print(inHouseIngredients)"
   ]
  },
  {
   "cell_type": "markdown",
   "metadata": {},
   "source": [
    "# Sets: a loop over all elements"
   ]
  },
  {
   "cell_type": "code",
   "execution_count": 19,
   "metadata": {},
   "outputs": [
    {
     "name": "stdout",
     "output_type": "stream",
     "text": [
      "Needed for tiramisu: espresso\n",
      "Needed for tiramisu: espresso\n",
      "Needed for tiramisu: mascarpone\n",
      "Needed for tiramisu: mascarpone\n",
      "Needed for tiramisu: eggs\n",
      "Needed for tiramisu: eggs\n",
      "Needed for tiramisu: ladyfingers\n",
      "Needed for tiramisu: ladyfingers\n",
      "Needed for tiramisu: sugar\n",
      "Needed for tiramisu: sugar\n",
      "***\n"
     ]
    }
   ],
   "source": [
    "for ing in tiramisuIngredients:\n",
    "    print(\"Needed for tiramisu:\", ing)\n",
    "    print(f\"Needed for tiramisu: {ing}\")\n",
    "print(\"***\")"
   ]
  },
  {
   "cell_type": "markdown",
   "metadata": {},
   "source": [
    "# Dictionaries\n",
    "Dict is a built-in data type with the follwing properties:\n",
    "\n",
    "1. (key, value), key cannot be replicated; it is possible whether a key is in or not in a dict object\n",
    "\n",
    "2. the keys must be immutable type but the values corresponding to a key can be modified.\n",
    "\n",
    "3. new items can be added, existing items can be removed\n",
    "\n",
    "4. for loops can iterate over all items of a dictionary, or over the keys, or over values.\n",
    "\n",
    "5. the order of a dictionary is not trustworthy\n"
   ]
  },
  {
   "cell_type": "code",
   "execution_count": 20,
   "metadata": {},
   "outputs": [
    {
     "name": "stdout",
     "output_type": "stream",
     "text": [
      "{'Mon': 2330, 'Tue': 1990, 'Wed': 2150}\n",
      "dict_keys(['Mon', 'Tue', 'Wed'])\n",
      "2330\n"
     ]
    }
   ],
   "source": [
    "# A new dictionary\n",
    "day2KCal = {\"Mon\": 2330, \"Tue\":1990, \"Wed\": 2150}\n",
    "print(day2KCal)\n",
    "print(day2KCal.keys())\n",
    "print(day2KCal[\"Mon\"])"
   ]
  },
  {
   "cell_type": "code",
   "execution_count": 21,
   "metadata": {},
   "outputs": [
    {
     "data": {
      "text/plain": [
       "dict"
      ]
     },
     "execution_count": 21,
     "metadata": {},
     "output_type": "execute_result"
    }
   ],
   "source": [
    "type(day2KCal)"
   ]
  },
  {
   "cell_type": "code",
   "execution_count": 22,
   "metadata": {},
   "outputs": [
    {
     "data": {
      "text/plain": [
       "{'Mon': 1000, 'Tue': 1990, 'Wed': 2150}"
      ]
     },
     "execution_count": 22,
     "metadata": {},
     "output_type": "execute_result"
    }
   ],
   "source": [
    "{  \"Mon\": 2330, \"Tue\": 1990, \"Wed\": 2150, \"Mon\": 1000 }"
   ]
  },
  {
   "cell_type": "code",
   "execution_count": 23,
   "metadata": {},
   "outputs": [
    {
     "name": "stdout",
     "output_type": "stream",
     "text": [
      "{'Mon': 2330, 'Tue': 1990, 'Wed': 2150, 'Thu': 2290, 'Fri': 1920, 'Sat': 2370, 'Sun': 2050}\n",
      "7\n"
     ]
    }
   ],
   "source": [
    "days = (\"Mon\", \"Tue\", \"Wed\", \"Thu\", \"Fri\", \"Sat\", \"Sun\")     # a tuple, having an valid order\n",
    "dayKCals = [ 2330, 1990, 2150, 2290, 1920, 2370, 2050 ]         # a list, having an valid order\n",
    "zip( days, dayKCals )           # a generator, iterable over tuples (day, dayKCal)\n",
    "list( zip( days, dayKCals ) )   # a list of tuples generated by the generator\n",
    "\n",
    "day2KCal = dict( zip( days, dayKCals ) )\n",
    "print(day2KCal)\n",
    "print(len(day2KCal))"
   ]
  },
  {
   "cell_type": "markdown",
   "metadata": {},
   "source": [
    "# Dict: getting, adding or modifying elements"
   ]
  },
  {
   "cell_type": "code",
   "execution_count": 27,
   "metadata": {},
   "outputs": [
    {
     "name": "stdout",
     "output_type": "stream",
     "text": [
      "{'Mon': 2330, 'Tue': 1990, 'Wed': 2150}\n"
     ]
    },
    {
     "data": {
      "text/plain": [
       "{'Mon': 2330, 'Tue': 1990, 'Wed': 2150, 'Thu': 2290}"
      ]
     },
     "execution_count": 27,
     "metadata": {},
     "output_type": "execute_result"
    }
   ],
   "source": [
    "day2KCal = { \"Mon\": 2330, \"Tue\": 1990, \"Wed\": 2150 }\n",
    "print(day2KCal)\n",
    "\n",
    "# to add a new value or change a value for a single key\n",
    "day2KCal[\"Thu\"] = 2290\n",
    "day2KCal\n"
   ]
  },
  {
   "cell_type": "code",
   "execution_count": 28,
   "metadata": {},
   "outputs": [
    {
     "data": {
      "text/plain": [
       "{'Mon': 2330, 'Tue': 1990, 'Wed': 2150, 'Thu': 2290, 'Fri': 1920, 'Sat': 2370}"
      ]
     },
     "execution_count": 28,
     "metadata": {},
     "output_type": "execute_result"
    }
   ],
   "source": [
    "# Multiple items can be added/updated by calling update(), for an iterable over (key, value) items\n",
    "day2KCal.update([(\"Fri\", 1920), (\"Sat\", 2370)])\n",
    "day2KCal"
   ]
  },
  {
   "cell_type": "code",
   "execution_count": 30,
   "metadata": {},
   "outputs": [
    {
     "name": "stdout",
     "output_type": "stream",
     "text": [
      "2330\n"
     ]
    },
    {
     "ename": "KeyError",
     "evalue": "'Monday'",
     "output_type": "error",
     "traceback": [
      "\u001b[1;31m---------------------------------------------------------------------------\u001b[0m",
      "\u001b[1;31mKeyError\u001b[0m                                  Traceback (most recent call last)",
      "Cell \u001b[1;32mIn[30], line 3\u001b[0m\n\u001b[0;32m      1\u001b[0m \u001b[38;5;66;03m# to obatin the value for a provided key\u001b[39;00m\n\u001b[0;32m      2\u001b[0m \u001b[38;5;28mprint\u001b[39m(day2KCal[\u001b[38;5;124m\"\u001b[39m\u001b[38;5;124mMon\u001b[39m\u001b[38;5;124m\"\u001b[39m])\n\u001b[1;32m----> 3\u001b[0m day2KCal[\u001b[38;5;124m\"\u001b[39m\u001b[38;5;124mMonday\u001b[39m\u001b[38;5;124m\"\u001b[39m]\n",
      "\u001b[1;31mKeyError\u001b[0m: 'Monday'"
     ]
    }
   ],
   "source": [
    "# to obatin the value for a provided key\n",
    "print(day2KCal[\"Mon\"])\n",
    "day2KCal[\"Monday\"]"
   ]
  },
  {
   "cell_type": "code",
   "execution_count": 31,
   "metadata": {},
   "outputs": [
    {
     "data": {
      "text/plain": [
       "100"
      ]
     },
     "execution_count": 31,
     "metadata": {},
     "output_type": "execute_result"
    }
   ],
   "source": [
    "# The get(key, defaultValue) function may be used to avoid exceptins when the key is missing in the dictionary.\n",
    "# Then the defaultValue is returned\n",
    "\n",
    "day2KCal.get(\"Monday\", 100)"
   ]
  },
  {
   "cell_type": "code",
   "execution_count": 32,
   "metadata": {},
   "outputs": [
    {
     "data": {
      "text/plain": [
       "False"
      ]
     },
     "execution_count": 32,
     "metadata": {},
     "output_type": "execute_result"
    }
   ],
   "source": [
    "\"Tuesday\" in dayKCals"
   ]
  },
  {
   "cell_type": "code",
   "execution_count": 33,
   "metadata": {},
   "outputs": [
    {
     "data": {
      "text/plain": [
       "True"
      ]
     },
     "execution_count": 33,
     "metadata": {},
     "output_type": "execute_result"
    }
   ],
   "source": [
    "aKey = \"Tuesday\"\n",
    "aKey not in day2KCal"
   ]
  },
  {
   "cell_type": "markdown",
   "metadata": {},
   "source": [
    "# Dict: removing an element"
   ]
  },
  {
   "cell_type": "code",
   "execution_count": 39,
   "metadata": {},
   "outputs": [
    {
     "name": "stdout",
     "output_type": "stream",
     "text": [
      "1990\n"
     ]
    }
   ],
   "source": [
    "# A few possiblities exists to remove an element\n",
    "day2KCal = { \"Mon\": 2330, \"Tue\": 1990, \"Wed\": 2150}\n",
    "print(day2KCal.pop(\"Tue\")) # removes Tue but returns the value which Tue had\n",
    "                    # raises exception if the key is not found\n",
    "day2KCal.pop(\"Monday\", None) # remove only when the is present; return the second argument\n",
    "                             # does not raise exception if the key not found\n"
   ]
  },
  {
   "cell_type": "code",
   "execution_count": 41,
   "metadata": {},
   "outputs": [
    {
     "ename": "KeyError",
     "evalue": "'Mon'",
     "output_type": "error",
     "traceback": [
      "\u001b[1;31m---------------------------------------------------------------------------\u001b[0m",
      "\u001b[1;31mKeyError\u001b[0m                                  Traceback (most recent call last)",
      "Cell \u001b[1;32mIn[41], line 1\u001b[0m\n\u001b[1;32m----> 1\u001b[0m \u001b[38;5;28;01mdel\u001b[39;00m day2KCal[\u001b[38;5;124m\"\u001b[39m\u001b[38;5;124mMon\u001b[39m\u001b[38;5;124m\"\u001b[39m]\n",
      "\u001b[1;31mKeyError\u001b[0m: 'Mon'"
     ]
    }
   ],
   "source": [
    "del day2KCal[\"Mon\"] # also remove an existing element\n",
    "                    # raises exception if the key is not found"
   ]
  },
  {
   "cell_type": "markdown",
   "metadata": {},
   "source": [
    "# Dict: all keys, all values or their pairs"
   ]
  },
  {
   "cell_type": "code",
   "execution_count": 42,
   "metadata": {},
   "outputs": [
    {
     "data": {
      "text/plain": [
       "dict_values([2330, 1990, 2150])"
      ]
     },
     "execution_count": 42,
     "metadata": {},
     "output_type": "execute_result"
    }
   ],
   "source": [
    "# with values() it is possible to iterate over all values in a dictionary:\n",
    "day2KCal = {\"Mon\": 2330, \"Tue\": 1990, \"Wed\": 2150}\n",
    "day2KCal.values()"
   ]
  },
  {
   "cell_type": "code",
   "execution_count": 43,
   "metadata": {},
   "outputs": [
    {
     "data": {
      "text/plain": [
       "[9748.720000000001, 8326.16, 8995.6]"
      ]
     },
     "execution_count": 43,
     "metadata": {},
     "output_type": "execute_result"
    }
   ],
   "source": [
    "kJoules = [kCal * 4.184 for kCal in day2KCal.values()]\n",
    "kJoules"
   ]
  },
  {
   "cell_type": "code",
   "execution_count": 46,
   "metadata": {},
   "outputs": [
    {
     "name": "stdout",
     "output_type": "stream",
     "text": [
      "dict_items([('Mon', 2330), ('Tue', 1990), ('Wed', 2150)])\n"
     ]
    },
    {
     "data": {
      "text/plain": [
       "{'Mon': 9748.720000000001, 'Tue': 8326.16, 'Wed': 8995.6}"
      ]
     },
     "execution_count": 46,
     "metadata": {},
     "output_type": "execute_result"
    }
   ],
   "source": [
    "print(day2KCal.items())\n",
    "day2KJoule = {day:kCal*4.184 for day, kCal in day2KCal.items()}\n",
    "day2KJoule"
   ]
  },
  {
   "cell_type": "code",
   "execution_count": 48,
   "metadata": {},
   "outputs": [
    {
     "name": "stdout",
     "output_type": "stream",
     "text": [
      "dict_keys(['Mon', 'Tue', 'Wed'])\n"
     ]
    },
    {
     "data": {
      "text/plain": [
       "('Mon', 'Tue', 'Wed')"
      ]
     },
     "execution_count": 48,
     "metadata": {},
     "output_type": "execute_result"
    }
   ],
   "source": [
    "print(day2KCal.keys())\n",
    "days = tuple(day2KCal.keys())\n",
    "days"
   ]
  },
  {
   "cell_type": "markdown",
   "metadata": {},
   "source": [
    "# Dict: a loop over elements\n",
    "items(), values(), keys() can also be used in loops"
   ]
  },
  {
   "cell_type": "code",
   "execution_count": 51,
   "metadata": {},
   "outputs": [
    {
     "name": "stdout",
     "output_type": "stream",
     "text": [
      "On Mon consumed food was 2330 kCal or 9748.720000000001 kJ.\n",
      "On Tue consumed food was 1990 kCal or 8326.16 kJ.\n",
      "On Wed consumed food was 2150 kCal or 8995.6 kJ.\n"
     ]
    }
   ],
   "source": [
    "day2KCal = { \"Mon\": 2330, \"Tue\": 1990, \"Wed\": 2150 }\n",
    "for day, kCal in day2KCal.items():\n",
    "    print(\"On\", day, \"consumed food was\", kCal, \"kCal or\", kCal*4.184, \"kJ.\")"
   ]
  },
  {
   "cell_type": "markdown",
   "metadata": {},
   "source": [
    "# Formatting strings\n"
   ]
  },
  {
   "cell_type": "code",
   "execution_count": 52,
   "metadata": {},
   "outputs": [
    {
     "name": "stdout",
     "output_type": "stream",
     "text": [
      "On Mon consumed food was 2330 or 9748.720000000001 kJ.\n",
      "On Tue consumed food was 1990 or 8326.16 kJ.\n",
      "On Wed consumed food was 2150 or 8995.6 kJ.\n"
     ]
    }
   ],
   "source": [
    "day2KCal = {\"Mon\": 2330, \"Tue\":1990, \"Wed\":2150}\n",
    "for day, kCal in day2KCal.items():\n",
    "    print(f\"On {day} consumed food was {kCal} or {kCal * 4.184} kJ.\")\n"
   ]
  },
  {
   "cell_type": "code",
   "execution_count": 53,
   "metadata": {},
   "outputs": [
    {
     "data": {
      "text/plain": [
       "'Statistics and Data Science'"
      ]
     },
     "execution_count": 53,
     "metadata": {},
     "output_type": "execute_result"
    }
   ],
   "source": [
    "x = \"Statistics\"\n",
    "y = \"Data Science\"\n",
    "f\"{x} and {y}\""
   ]
  },
  {
   "cell_type": "code",
   "execution_count": 54,
   "metadata": {},
   "outputs": [
    {
     "data": {
      "text/plain": [
       "'Statistics and Data Science'"
      ]
     },
     "execution_count": 54,
     "metadata": {},
     "output_type": "execute_result"
    }
   ],
   "source": [
    "f\"{x}\" \" and \" f'{y}'            # Note, there are several strings here\n",
    "                                 # and they get concatenated"
   ]
  },
  {
   "cell_type": "code",
   "execution_count": 55,
   "metadata": {},
   "outputs": [
    {
     "data": {
      "text/plain": [
       "'Statistics and Data Science'"
      ]
     },
     "execution_count": 55,
     "metadata": {},
     "output_type": "execute_result"
    }
   ],
   "source": [
    "( f\"{x}\"\n",
    "\" and \"\n",
    "f\"{y}\" )"
   ]
  },
  {
   "cell_type": "code",
   "execution_count": 56,
   "metadata": {},
   "outputs": [
    {
     "data": {
      "text/plain": [
       "{'               full precision': '3.141592653589793',\n",
       " '                  four digits': '3.1416',\n",
       " 'four digits and forced + sign': '+3.1416',\n",
       " '                right aligned': '      3.1416',\n",
       " '               center aligned': '   3.1416   ',\n",
       " '                 left aligned': '3.1416      ',\n",
       " '            exponent notation': '3.1416e+03',\n",
       " '        with comma separators': '3,141,592.65'}"
      ]
     },
     "execution_count": 56,
     "metadata": {},
     "output_type": "execute_result"
    }
   ],
   "source": [
    "from math import pi\n",
    "{ \n",
    "    \"               full precision\":  f\"{pi}\",\n",
    "    \"                  four digits\":  f\"{pi:.4f}\",\n",
    "    \"four digits and forced + sign\":  f\"{pi:+.4f}\",\n",
    "    \"                right aligned\":  f\"{pi:12.4f}\",\n",
    "    \"               center aligned\":  f\"{pi:^12.4f}\",\n",
    "    \"                 left aligned\":  f\"{pi:<12.4f}\",\n",
    "    \"            exponent notation\":  f\"{pi * 1000:.4e}\",\n",
    "    \"        with comma separators\":  f\"{pi * 1e6:,.2f}\",     # Note: the comma here is ok\n",
    "}\n"
   ]
  },
  {
   "cell_type": "code",
   "execution_count": 66,
   "metadata": {},
   "outputs": [
    {
     "name": "stdout",
     "output_type": "stream",
     "text": [
      "20\n"
     ]
    },
    {
     "data": {
      "text/plain": [
       "{0, 1, 2, 3, 4, 6, 7, 8, 9, 10}"
      ]
     },
     "execution_count": 66,
     "metadata": {},
     "output_type": "execute_result"
    }
   ],
   "source": [
    "# Self-study tasks\n",
    "## Generating random integers\n",
    "from random import randint\n",
    "vs = [randint(0, 10) for i in range(0, 20)]\n",
    "print(len(vs))\n",
    "set(vs)"
   ]
  },
  {
   "cell_type": "code",
   "execution_count": 73,
   "metadata": {},
   "outputs": [
    {
     "name": "stdout",
     "output_type": "stream",
     "text": [
      "{0: 1, 1: 1, 2: 1, 3: 1, 4: 1, 6: 1, 7: 1, 8: 1, 9: 1, 10: 1}\n"
     ]
    }
   ],
   "source": [
    "# Counting elements\n",
    "v2nct = {}\n",
    "for num in set(vs):\n",
    "    if num not in v2nct.keys():\n",
    "        v2nct[num] = 1\n",
    "    else:\n",
    "         v2nct[num] += 1\n",
    "print(v2nct)"
   ]
  },
  {
   "cell_type": "code",
   "execution_count": 74,
   "metadata": {},
   "outputs": [
    {
     "name": "stdout",
     "output_type": "stream",
     "text": [
      "<built-in method count of list object at 0x000002111C80BC40>\n"
     ]
    }
   ],
   "source": [
    "print(vs.count)"
   ]
  },
  {
   "cell_type": "markdown",
   "metadata": {},
   "source": [
    "# Removing from a dictionary all itmes of given values"
   ]
  },
  {
   "cell_type": "code",
   "execution_count": 76,
   "metadata": {},
   "outputs": [
    {
     "name": "stdout",
     "output_type": "stream",
     "text": [
      "['VA-111-V', 'AB-111-E', 'ER-222-U', 'BV-333-Z', 'CC-111-J', 'GF-333-U', 'WT-111-K', 'KJ-222-Q', 'LK-333-I']\n",
      "{'SB-222-W': 'red', 'XC-333-L': 'red', 'UI-222-R': 'green'}\n"
     ]
    }
   ],
   "source": [
    "licPlate2color = {\n",
    "    \"VA-111-V\": \"silver\", \"SB-222-W\": \"red\", \"XC-333-L\": \"red\",\n",
    "    \"AB-111-E\": \"white\", \"ER-222-U\": \"black\", \"BV-333-Z\": \"white\",\n",
    "    \"CC-111-J\": \"silver\", \"UI-222-R\": \"green\", \"GF-333-U\": \"silver\",\n",
    "    \"WT-111-K\": \"white\", \"KJ-222-Q\": \"silver\", \"LK-333-I\": \"black\",\n",
    "}\n",
    "toRemoveColors = [ \"white\", \"silver\", \"black\" ]\n",
    "\n",
    "toRemoveKeys = []\n",
    "for key, value in licPlate2color.items():\n",
    "    if value in toRemoveColors:\n",
    "        toRemoveKeys.append(key)\n",
    "    else: continue\n",
    "print(toRemoveKeys)\n",
    "\n",
    "for key in toRemoveKeys:\n",
    "    licPlate2color.pop(key, None)\n",
    "print(licPlate2color)"
   ]
  },
  {
   "cell_type": "markdown",
   "metadata": {},
   "source": [
    "# Build a dictionary with values being lists"
   ]
  },
  {
   "cell_type": "code",
   "execution_count": 4,
   "metadata": {},
   "outputs": [
    {
     "name": "stdout",
     "output_type": "stream",
     "text": [
      "{'pl': ['Grzegorz', 'Małgorzata', 'Paweł'], 'nl': ['Jeroen', 'Sanne'], 'es': ['Ana', 'Sofia', 'Javier', 'Sofia']}\n",
      "defaultdict(<class 'list'>, {'pl': ['Grzegorz', 'Małgorzata', 'Paweł'], 'nl': ['Jeroen', 'Sanne'], 'es': ['Ana', 'Sofia', 'Javier', 'Sofia']})\n"
     ]
    }
   ],
   "source": [
    "names =     [\"Grzegorz\", \"Małgorzata\", \"Paweł\", \"Jeroen\", \"Sanne\", \"Ana\", \"Sofia\", \"Javier\", \"Sofia\"]\n",
    "countries = [\"pl\",       \"pl\",         \"pl\",    \"nl\",     \"nl\",    \"es\",  \"es\",    \"es\",     \"es\"]\n",
    "\n",
    "from collections import defaultdict\n",
    "zippedList = list(zip(countries, names))\n",
    "#print(zippedList)\n",
    "\n",
    "country2names = {}\n",
    "for (country, name) in zippedList:\n",
    "    if country not in country2names.keys():\n",
    "        country2names[country] = [name]\n",
    "    else: \n",
    "        country2names[country].append(name)\n",
    "print(country2names)\n",
    "\n",
    "country2names = defaultdict(list) # generate an dict with its values beng an empty list; not necessary to check the exitence of keys every time\n",
    "for (country, name) in zippedList:\n",
    "     country2names[country].append(name)\n",
    "print(country2names)\n"
   ]
  },
  {
   "cell_type": "markdown",
   "metadata": {},
   "source": [
    "# Reverse a list and sample elements"
   ]
  },
  {
   "cell_type": "code",
   "execution_count": 5,
   "metadata": {},
   "outputs": [
    {
     "name": "stdout",
     "output_type": "stream",
     "text": [
      "defaultdict(<class 'list'>, {'setter': ['Chen', 'Martijn'], 'dia': ['Marnick', 'Simon'], 'middle': ['David', 'Luuk'], 'outside': ['Ronald', 'Alex', 'Kadir', 'Koen']})\n"
     ]
    },
    {
     "data": {
      "text/plain": [
       "{'setter': ['Chen'],\n",
       " 'dia': ['Marnick'],\n",
       " 'middle': ['Luuk', 'David'],\n",
       " 'outside': ['Ronald', 'Kadir']}"
      ]
     },
     "execution_count": 5,
     "metadata": {},
     "output_type": "execute_result"
    }
   ],
   "source": [
    "from random import sample\n",
    "\n",
    "role2num = { \"setter\": 1, \"dia\": 1, \"middle\": 2, \"outside\": 2 }\n",
    "\n",
    "player2role = { \n",
    "    \"Chen\": \"setter\", \"Martijn\": \"setter\",\n",
    "    \"Marnick\": \"dia\", \"Simon\": \"dia\",\n",
    "    \"David\": \"middle\", \"Luuk\": \"middle\",\n",
    "    \"Ronald\": \"outside\", \"Alex\": \"outside\", \"Kadir\": \"outside\", \"Koen\": \"outside\"\n",
    "}\n",
    "\n",
    "\n",
    "role2players = defaultdict(list)\n",
    "for player, role in player2role.items():\n",
    "    role2players[role].append(player)\n",
    "print(role2players)\n",
    "\n",
    "Team = {role:sample(players, role2num[role]) for role, players in role2players.items()}\n",
    "Team\n"
   ]
  },
  {
   "cell_type": "markdown",
   "metadata": {},
   "source": [
    "# NATO phonoetic alphabet"
   ]
  },
  {
   "cell_type": "code",
   "execution_count": 12,
   "metadata": {},
   "outputs": [
    {
     "name": "stdout",
     "output_type": "stream",
     "text": [
      "alpha bravo charlie delta echo foxtrot golf hotel india juliet kilo lima mike november oscar papa quebec romeo sierra tango uniform victor whiskey x-ray yankee zulu\n",
      "26\n",
      "['a', 'b', 'c', 'd', 'e', 'f', 'g', 'h', 'i', 'j', 'k', 'l', 'm', 'n', 'o', 'p', 'q', 'r', 's', 't', 'u', 'v', 'w', 'x', 'y', 'z']\n",
      "26\n",
      "{'a': 'alpha', 'b': 'bravo', 'c': 'charlie', 'd': 'delta', 'e': 'echo', 'f': 'foxtrot', 'g': 'golf', 'h': 'hotel', 'i': 'india', 'j': 'juliet', 'k': 'kilo', 'l': 'lima', 'm': 'mike', 'n': 'november', 'o': 'oscar', 'p': 'papa', 'q': 'quebec', 'r': 'romeo', 's': 'sierra', 't': 'tango', 'u': 'uniform', 'v': 'victor', 'w': 'whiskey', 'x': 'x-ray', 'y': 'yankee', 'z': 'zulu'}\n",
      "['sierra', 'tango', 'alpha', 'tango', 'india', 'sierra', 'tango', 'india', 'charlie', 'sierra']\n"
     ]
    }
   ],
   "source": [
    "codeWords = \"alpha bravo charlie delta echo foxtrot golf hotel india juliet kilo lima mike november oscar papa quebec romeo sierra tango uniform victor whiskey x-ray yankee zulu\"\n",
    "print(codeWords)\n",
    "print(len(codeWords.split(\" \")))\n",
    "chars = list(\"abcdefghijklmnopqrstuvwxyz\")\n",
    "print(chars)\n",
    "print(len(chars))\n",
    "char2codeWord = dict(zip(chars, codeWords.split(\" \")))\n",
    "print(char2codeWord)\n",
    "\n",
    "word = \"statistics\"\n",
    "wordchars = list(word)\n",
    "wordchars\n",
    "\n",
    "spell = []\n",
    "for key in wordchars:\n",
    "    spell.append(char2codeWord[key])\n",
    "print(spell)"
   ]
  },
  {
   "cell_type": "markdown",
   "metadata": {},
   "source": [
    "# Read wheather data"
   ]
  },
  {
   "cell_type": "code",
   "execution_count": 20,
   "metadata": {},
   "outputs": [
    {
     "name": "stdout",
     "output_type": "stream",
     "text": [
      "{'latitude': 52.16, 'longitude': 4.4999995, 'generationtime_ms': 0.048995018005371094, 'utc_offset_seconds': 0, 'timezone': 'GMT', 'timezone_abbreviation': 'GMT', 'elevation': 7.0, 'hourly_units': {'time': 'iso8601', 'temperature_2m': '°C'}, 'hourly': {'time': ['2024-02-13T00:00', '2024-02-13T01:00', '2024-02-13T02:00', '2024-02-13T03:00', '2024-02-13T04:00', '2024-02-13T05:00', '2024-02-13T06:00', '2024-02-13T07:00', '2024-02-13T08:00', '2024-02-13T09:00', '2024-02-13T10:00', '2024-02-13T11:00', '2024-02-13T12:00', '2024-02-13T13:00', '2024-02-13T14:00', '2024-02-13T15:00', '2024-02-13T16:00', '2024-02-13T17:00', '2024-02-13T18:00', '2024-02-13T19:00', '2024-02-13T20:00', '2024-02-13T21:00', '2024-02-13T22:00', '2024-02-13T23:00', '2024-02-14T00:00', '2024-02-14T01:00', '2024-02-14T02:00', '2024-02-14T03:00', '2024-02-14T04:00', '2024-02-14T05:00', '2024-02-14T06:00', '2024-02-14T07:00', '2024-02-14T08:00', '2024-02-14T09:00', '2024-02-14T10:00', '2024-02-14T11:00', '2024-02-14T12:00', '2024-02-14T13:00', '2024-02-14T14:00', '2024-02-14T15:00', '2024-02-14T16:00', '2024-02-14T17:00', '2024-02-14T18:00', '2024-02-14T19:00', '2024-02-14T20:00', '2024-02-14T21:00', '2024-02-14T22:00', '2024-02-14T23:00', '2024-02-15T00:00', '2024-02-15T01:00', '2024-02-15T02:00', '2024-02-15T03:00', '2024-02-15T04:00', '2024-02-15T05:00', '2024-02-15T06:00', '2024-02-15T07:00', '2024-02-15T08:00', '2024-02-15T09:00', '2024-02-15T10:00', '2024-02-15T11:00', '2024-02-15T12:00', '2024-02-15T13:00', '2024-02-15T14:00', '2024-02-15T15:00', '2024-02-15T16:00', '2024-02-15T17:00', '2024-02-15T18:00', '2024-02-15T19:00', '2024-02-15T20:00', '2024-02-15T21:00', '2024-02-15T22:00', '2024-02-15T23:00', '2024-02-16T00:00', '2024-02-16T01:00', '2024-02-16T02:00', '2024-02-16T03:00', '2024-02-16T04:00', '2024-02-16T05:00', '2024-02-16T06:00', '2024-02-16T07:00', '2024-02-16T08:00', '2024-02-16T09:00', '2024-02-16T10:00', '2024-02-16T11:00', '2024-02-16T12:00', '2024-02-16T13:00', '2024-02-16T14:00', '2024-02-16T15:00', '2024-02-16T16:00', '2024-02-16T17:00', '2024-02-16T18:00', '2024-02-16T19:00', '2024-02-16T20:00', '2024-02-16T21:00', '2024-02-16T22:00', '2024-02-16T23:00', '2024-02-17T00:00', '2024-02-17T01:00', '2024-02-17T02:00', '2024-02-17T03:00', '2024-02-17T04:00', '2024-02-17T05:00', '2024-02-17T06:00', '2024-02-17T07:00', '2024-02-17T08:00', '2024-02-17T09:00', '2024-02-17T10:00', '2024-02-17T11:00', '2024-02-17T12:00', '2024-02-17T13:00', '2024-02-17T14:00', '2024-02-17T15:00', '2024-02-17T16:00', '2024-02-17T17:00', '2024-02-17T18:00', '2024-02-17T19:00', '2024-02-17T20:00', '2024-02-17T21:00', '2024-02-17T22:00', '2024-02-17T23:00', '2024-02-18T00:00', '2024-02-18T01:00', '2024-02-18T02:00', '2024-02-18T03:00', '2024-02-18T04:00', '2024-02-18T05:00', '2024-02-18T06:00', '2024-02-18T07:00', '2024-02-18T08:00', '2024-02-18T09:00', '2024-02-18T10:00', '2024-02-18T11:00', '2024-02-18T12:00', '2024-02-18T13:00', '2024-02-18T14:00', '2024-02-18T15:00', '2024-02-18T16:00', '2024-02-18T17:00', '2024-02-18T18:00', '2024-02-18T19:00', '2024-02-18T20:00', '2024-02-18T21:00', '2024-02-18T22:00', '2024-02-18T23:00', '2024-02-19T00:00', '2024-02-19T01:00', '2024-02-19T02:00', '2024-02-19T03:00', '2024-02-19T04:00', '2024-02-19T05:00', '2024-02-19T06:00', '2024-02-19T07:00', '2024-02-19T08:00', '2024-02-19T09:00', '2024-02-19T10:00', '2024-02-19T11:00', '2024-02-19T12:00', '2024-02-19T13:00', '2024-02-19T14:00', '2024-02-19T15:00', '2024-02-19T16:00', '2024-02-19T17:00', '2024-02-19T18:00', '2024-02-19T19:00', '2024-02-19T20:00', '2024-02-19T21:00', '2024-02-19T22:00', '2024-02-19T23:00'], 'temperature_2m': [4.4, 4.3, 4.5, 4.5, 4.5, 4.4, 4.5, 4.1, 4.0, 5.5, 6.7, 7.9, 9.0, 8.9, 8.8, 9.4, 8.8, 8.2, 7.2, 7.2, 7.4, 7.5, 7.5, 8.0, 8.4, 8.6, 9.0, 9.3, 9.6, 10.0, 10.2, 10.3, 10.3, 10.6, 10.7, 10.7, 10.9, 11.2, 11.2, 11.2, 10.8, 10.5, 10.6, 10.7, 10.7, 10.7, 11.0, 11.1, 11.1, 10.8, 10.8, 11.0, 10.9, 11.1, 11.1, 11.1, 11.2, 11.6, 12.2, 12.9, 14.0, 14.6, 14.9, 15.0, 14.5, 13.6, 13.0, 12.9, 12.6, 12.3, 12.1, 11.8, 11.5, 11.3, 11.2, 11.2, 11.3, 11.4, 11.3, 10.3, 10.2, 10.3, 10.4, 10.4, 10.5, 10.5, 10.4, 10.1, 9.9, 9.5, 9.3, 9.1, 8.9, 8.7, 8.5, 8.3, 8.2, 8.0, 7.9, 7.8, 7.7, 7.6, 7.6, 7.8, 8.1, 8.5, 9.2, 10.0, 10.5, 10.5, 10.0, 9.6, 9.1, 8.5, 8.0, 7.6, 7.2, 7.0, 7.1, 7.4, 7.7, 7.9, 8.1, 8.2, 8.4, 8.5, 8.6, 8.7, 8.7, 8.8, 8.8, 8.9, 8.9, 8.9, 9.0, 9.0, 9.1, 9.1, 9.1, 9.0, 8.9, 8.7, 8.4, 7.9, 7.5, 7.2, 7.0, 6.7, 6.5, 6.2, 6.2, 6.6, 7.2, 7.9, 8.8, 9.7, 10.2, 10.3, 10.0, 9.6, 9.0, 8.3, 7.7, 7.3, 6.9, 6.6, 6.3, 6.2]}}\n",
      "dict_keys(['latitude', 'longitude', 'generationtime_ms', 'utc_offset_seconds', 'timezone', 'timezone_abbreviation', 'elevation', 'hourly_units', 'hourly'])\n"
     ]
    }
   ],
   "source": [
    "import urllib.request, json \n",
    "url = \"https://api.open-meteo.com/v1/forecast?latitude=52.16&longitude=4.49&hourly=temperature_2m\"\n",
    "data = json.load( urllib.request.urlopen(url) )\n",
    "print(data)          # use this to print the nested list with data\n",
    "print(data.keys())\n"
   ]
  },
  {
   "cell_type": "code",
   "execution_count": 23,
   "metadata": {},
   "outputs": [
    {
     "name": "stdout",
     "output_type": "stream",
     "text": [
      "dict_keys(['time', 'temperature_2m'])\n"
     ]
    },
    {
     "data": {
      "text/plain": [
       "{'2024-02-13T00:00': 4.4,\n",
       " '2024-02-13T01:00': 4.3,\n",
       " '2024-02-13T02:00': 4.5,\n",
       " '2024-02-13T03:00': 4.5,\n",
       " '2024-02-13T04:00': 4.5,\n",
       " '2024-02-13T05:00': 4.4,\n",
       " '2024-02-13T06:00': 4.5,\n",
       " '2024-02-13T07:00': 4.1,\n",
       " '2024-02-13T08:00': 4.0,\n",
       " '2024-02-13T09:00': 5.5,\n",
       " '2024-02-13T10:00': 6.7,\n",
       " '2024-02-13T11:00': 7.9,\n",
       " '2024-02-13T12:00': 9.0,\n",
       " '2024-02-13T13:00': 8.9,\n",
       " '2024-02-13T14:00': 8.8,\n",
       " '2024-02-13T15:00': 9.4,\n",
       " '2024-02-13T16:00': 8.8,\n",
       " '2024-02-13T17:00': 8.2,\n",
       " '2024-02-13T18:00': 7.2,\n",
       " '2024-02-13T19:00': 7.2,\n",
       " '2024-02-13T20:00': 7.4,\n",
       " '2024-02-13T21:00': 7.5,\n",
       " '2024-02-13T22:00': 7.5,\n",
       " '2024-02-13T23:00': 8.0,\n",
       " '2024-02-14T00:00': 8.4,\n",
       " '2024-02-14T01:00': 8.6,\n",
       " '2024-02-14T02:00': 9.0,\n",
       " '2024-02-14T03:00': 9.3,\n",
       " '2024-02-14T04:00': 9.6,\n",
       " '2024-02-14T05:00': 10.0,\n",
       " '2024-02-14T06:00': 10.2,\n",
       " '2024-02-14T07:00': 10.3,\n",
       " '2024-02-14T08:00': 10.3,\n",
       " '2024-02-14T09:00': 10.6,\n",
       " '2024-02-14T10:00': 10.7,\n",
       " '2024-02-14T11:00': 10.7,\n",
       " '2024-02-14T12:00': 10.9,\n",
       " '2024-02-14T13:00': 11.2,\n",
       " '2024-02-14T14:00': 11.2,\n",
       " '2024-02-14T15:00': 11.2,\n",
       " '2024-02-14T16:00': 10.8,\n",
       " '2024-02-14T17:00': 10.5,\n",
       " '2024-02-14T18:00': 10.6,\n",
       " '2024-02-14T19:00': 10.7,\n",
       " '2024-02-14T20:00': 10.7,\n",
       " '2024-02-14T21:00': 10.7,\n",
       " '2024-02-14T22:00': 11.0,\n",
       " '2024-02-14T23:00': 11.1,\n",
       " '2024-02-15T00:00': 11.1,\n",
       " '2024-02-15T01:00': 10.8,\n",
       " '2024-02-15T02:00': 10.8,\n",
       " '2024-02-15T03:00': 11.0,\n",
       " '2024-02-15T04:00': 10.9,\n",
       " '2024-02-15T05:00': 11.1,\n",
       " '2024-02-15T06:00': 11.1,\n",
       " '2024-02-15T07:00': 11.1,\n",
       " '2024-02-15T08:00': 11.2,\n",
       " '2024-02-15T09:00': 11.6,\n",
       " '2024-02-15T10:00': 12.2,\n",
       " '2024-02-15T11:00': 12.9,\n",
       " '2024-02-15T12:00': 14.0,\n",
       " '2024-02-15T13:00': 14.6,\n",
       " '2024-02-15T14:00': 14.9,\n",
       " '2024-02-15T15:00': 15.0,\n",
       " '2024-02-15T16:00': 14.5,\n",
       " '2024-02-15T17:00': 13.6,\n",
       " '2024-02-15T18:00': 13.0,\n",
       " '2024-02-15T19:00': 12.9,\n",
       " '2024-02-15T20:00': 12.6,\n",
       " '2024-02-15T21:00': 12.3,\n",
       " '2024-02-15T22:00': 12.1,\n",
       " '2024-02-15T23:00': 11.8,\n",
       " '2024-02-16T00:00': 11.5,\n",
       " '2024-02-16T01:00': 11.3,\n",
       " '2024-02-16T02:00': 11.2,\n",
       " '2024-02-16T03:00': 11.2,\n",
       " '2024-02-16T04:00': 11.3,\n",
       " '2024-02-16T05:00': 11.4,\n",
       " '2024-02-16T06:00': 11.3,\n",
       " '2024-02-16T07:00': 10.3,\n",
       " '2024-02-16T08:00': 10.2,\n",
       " '2024-02-16T09:00': 10.3,\n",
       " '2024-02-16T10:00': 10.4,\n",
       " '2024-02-16T11:00': 10.4,\n",
       " '2024-02-16T12:00': 10.5,\n",
       " '2024-02-16T13:00': 10.5,\n",
       " '2024-02-16T14:00': 10.4,\n",
       " '2024-02-16T15:00': 10.1,\n",
       " '2024-02-16T16:00': 9.9,\n",
       " '2024-02-16T17:00': 9.5,\n",
       " '2024-02-16T18:00': 9.3,\n",
       " '2024-02-16T19:00': 9.1,\n",
       " '2024-02-16T20:00': 8.9,\n",
       " '2024-02-16T21:00': 8.7,\n",
       " '2024-02-16T22:00': 8.5,\n",
       " '2024-02-16T23:00': 8.3,\n",
       " '2024-02-17T00:00': 8.2,\n",
       " '2024-02-17T01:00': 8.0,\n",
       " '2024-02-17T02:00': 7.9,\n",
       " '2024-02-17T03:00': 7.8,\n",
       " '2024-02-17T04:00': 7.7,\n",
       " '2024-02-17T05:00': 7.6,\n",
       " '2024-02-17T06:00': 7.6,\n",
       " '2024-02-17T07:00': 7.8,\n",
       " '2024-02-17T08:00': 8.1,\n",
       " '2024-02-17T09:00': 8.5,\n",
       " '2024-02-17T10:00': 9.2,\n",
       " '2024-02-17T11:00': 10.0,\n",
       " '2024-02-17T12:00': 10.5,\n",
       " '2024-02-17T13:00': 10.5,\n",
       " '2024-02-17T14:00': 10.0,\n",
       " '2024-02-17T15:00': 9.6,\n",
       " '2024-02-17T16:00': 9.1,\n",
       " '2024-02-17T17:00': 8.5,\n",
       " '2024-02-17T18:00': 8.0,\n",
       " '2024-02-17T19:00': 7.6,\n",
       " '2024-02-17T20:00': 7.2,\n",
       " '2024-02-17T21:00': 7.0,\n",
       " '2024-02-17T22:00': 7.1,\n",
       " '2024-02-17T23:00': 7.4,\n",
       " '2024-02-18T00:00': 7.7,\n",
       " '2024-02-18T01:00': 7.9,\n",
       " '2024-02-18T02:00': 8.1,\n",
       " '2024-02-18T03:00': 8.2,\n",
       " '2024-02-18T04:00': 8.4,\n",
       " '2024-02-18T05:00': 8.5,\n",
       " '2024-02-18T06:00': 8.6,\n",
       " '2024-02-18T07:00': 8.7,\n",
       " '2024-02-18T08:00': 8.7,\n",
       " '2024-02-18T09:00': 8.8,\n",
       " '2024-02-18T10:00': 8.8,\n",
       " '2024-02-18T11:00': 8.9,\n",
       " '2024-02-18T12:00': 8.9,\n",
       " '2024-02-18T13:00': 8.9,\n",
       " '2024-02-18T14:00': 9.0,\n",
       " '2024-02-18T15:00': 9.0,\n",
       " '2024-02-18T16:00': 9.1,\n",
       " '2024-02-18T17:00': 9.1,\n",
       " '2024-02-18T18:00': 9.1,\n",
       " '2024-02-18T19:00': 9.0,\n",
       " '2024-02-18T20:00': 8.9,\n",
       " '2024-02-18T21:00': 8.7,\n",
       " '2024-02-18T22:00': 8.4,\n",
       " '2024-02-18T23:00': 7.9,\n",
       " '2024-02-19T00:00': 7.5,\n",
       " '2024-02-19T01:00': 7.2,\n",
       " '2024-02-19T02:00': 7.0,\n",
       " '2024-02-19T03:00': 6.7,\n",
       " '2024-02-19T04:00': 6.5,\n",
       " '2024-02-19T05:00': 6.2,\n",
       " '2024-02-19T06:00': 6.2,\n",
       " '2024-02-19T07:00': 6.6,\n",
       " '2024-02-19T08:00': 7.2,\n",
       " '2024-02-19T09:00': 7.9,\n",
       " '2024-02-19T10:00': 8.8,\n",
       " '2024-02-19T11:00': 9.7,\n",
       " '2024-02-19T12:00': 10.2,\n",
       " '2024-02-19T13:00': 10.3,\n",
       " '2024-02-19T14:00': 10.0,\n",
       " '2024-02-19T15:00': 9.6,\n",
       " '2024-02-19T16:00': 9.0,\n",
       " '2024-02-19T17:00': 8.3,\n",
       " '2024-02-19T18:00': 7.7,\n",
       " '2024-02-19T19:00': 7.3,\n",
       " '2024-02-19T20:00': 6.9,\n",
       " '2024-02-19T21:00': 6.6,\n",
       " '2024-02-19T22:00': 6.3,\n",
       " '2024-02-19T23:00': 6.2}"
      ]
     },
     "execution_count": 23,
     "metadata": {},
     "output_type": "execute_result"
    }
   ],
   "source": [
    "print(data[\"hourly\"].keys())\n",
    "time2temp = dict(zip(data['hourly'][\"time\"], data['hourly'][\"temperature_2m\"]))\n",
    "time2temp"
   ]
  }
 ],
 "metadata": {
  "kernelspec": {
   "display_name": "base",
   "language": "python",
   "name": "python3"
  },
  "language_info": {
   "codemirror_mode": {
    "name": "ipython",
    "version": 3
   },
   "file_extension": ".py",
   "mimetype": "text/x-python",
   "name": "python",
   "nbconvert_exporter": "python",
   "pygments_lexer": "ipython3",
   "version": "3.11.5"
  }
 },
 "nbformat": 4,
 "nbformat_minor": 2
}
