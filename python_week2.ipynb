{
 "cells": [
  {
   "cell_type": "markdown",
   "metadata": {},
   "source": [
    "# Python sets and dictionaries\n",
    "\n",
    "## Lists/tuples (key points of the previous lesson)"
   ]
  },
  {
   "cell_type": "code",
   "execution_count": 7,
   "metadata": {},
   "outputs": [
    {
     "data": {
      "text/plain": [
       "['E', 'n', 'g', 'l', 'i', 's', 'h']"
      ]
     },
     "execution_count": 7,
     "metadata": {},
     "output_type": "execute_result"
    }
   ],
   "source": [
    "list(\"English\")"
   ]
  },
  {
   "cell_type": "code",
   "execution_count": 8,
   "metadata": {},
   "outputs": [
    {
     "name": "stdout",
     "output_type": "stream",
     "text": [
      "     digit2name: ('zero', 'one', 'two', 'three', 'four', 'five', 'six', 'seven', 'eight', 'nine')\n",
      "         digits: [5, 2, 6, 2, 0, 9, 2, 1, 9]\n",
      "    digitsNames: ['five', 'two', 'six', 'two', 'zero', 'nine', 'two', 'one', 'nine']\n",
      "    smallDigits: [2, 2, 0, 2, 1]\n",
      "digitsWithNames: [(5, 'five'), (2, 'two'), (6, 'six'), (2, 'two'), (0, 'zero'), (9, 'nine'), (2, 'two'), (1, 'one'), (9, 'nine')]\n"
     ]
    }
   ],
   "source": [
    "\n",
    "digit2name = ( 'zero', 'one', 'two', 'three', 'four', 'five', 'six', 'seven', 'eight', 'nine' )\n",
    "print( \"     digit2name:\", digit2name )\n",
    "\n",
    "digits = [ 5, 2, 6, 2, 0, 9, 2, 1, 9 ]                     # some random numbers\n",
    "print( \"         digits:\", digits )\n",
    "\n",
    "digitsNames = [ digit2name[d] for d in digits ]\n",
    "print( \"    digitsNames:\", digitsNames )\n",
    "\n",
    "smallDigits = [ d for d in digits if d <= 3 ]\n",
    "print( \"    smallDigits:\", smallDigits )\n",
    "digitsWithNames = [ (d, digit2name[d] ) for d in digits ]  # tuples are produced here\n",
    "print( \"digitsWithNames:\", digitsWithNames )"
   ]
  },
  {
   "cell_type": "markdown",
   "metadata": {},
   "source": [
    "## Set\n",
    "Set is a built-in data type with the following properties:\n",
    "\n",
    "an element is either in the set of not in the set.\n",
    "\n",
    "elements can be added to a set or remove from it\n",
    "\n",
    "an element added to a set cannot ever change, therefore only elements of immutable types are allowed\n",
    "\n",
    "fronzenset is an imuutable variant of a set - once created it cannot be changed but therefore a forzonset can be used as an element of a set\n"
   ]
  },
  {
   "cell_type": "code",
   "execution_count": 9,
   "metadata": {},
   "outputs": [
    {
     "name": "stdout",
     "output_type": "stream",
     "text": [
      "{'espresso', 'mascarpone', 'eggs', 'ladyfingers', 'sugar'}\n",
      "{'espresso', 'butter', 'strawberries', 'cocoa', 'eggs'}\n",
      "{'g', 'e'}\n",
      "{'egg'}\n"
     ]
    }
   ],
   "source": [
    "# A new set\n",
    "# two ways to create a set: {...} and set([...])\n",
    "# See https://www.recipesfromitaly.com/tiramisu-original-italian-recipe/\n",
    "# A *set* with ingredients needed for tiramisu:\n",
    "tiramisuIngredients = { \"ladyfingers\", \"mascarpone\", \"eggs\", \"sugar\", \"espresso\"}\n",
    "print(tiramisuIngredients)\n",
    "\n",
    "inHouseIngredients = set( [ \"eggs\", \"espresso\", \"cocoa\", \"butter\", \"strawberries\" ] )\n",
    "print(inHouseIngredients) \n",
    "# order information of the list is losted in set \n",
    "# even though it might happen to show the same order in the set, which is unreliable. \n",
    "\n",
    "print(set(\"egg\"))\n",
    "print(set([\"egg\"]))"
   ]
  },
  {
   "cell_type": "code",
   "execution_count": 10,
   "metadata": {},
   "outputs": [
    {
     "data": {
      "text/plain": [
       "5"
      ]
     },
     "execution_count": 10,
     "metadata": {},
     "output_type": "execute_result"
    }
   ],
   "source": [
    "len(inHouseIngredients)"
   ]
  },
  {
   "cell_type": "code",
   "execution_count": 11,
   "metadata": {},
   "outputs": [
    {
     "data": {
      "text/plain": [
       "set"
      ]
     },
     "execution_count": 11,
     "metadata": {},
     "output_type": "execute_result"
    }
   ],
   "source": [
    "type(inHouseIngredients)"
   ]
  },
  {
   "cell_type": "code",
   "execution_count": 12,
   "metadata": {},
   "outputs": [
    {
     "name": "stdout",
     "output_type": "stream",
     "text": [
      "<class 'dict'>\n",
      "<class 'set'>\n"
     ]
    }
   ],
   "source": [
    "# generate an empty set via set() but not {}\n",
    "print(type({}))\n",
    "print(type(set()))"
   ]
  },
  {
   "cell_type": "markdown",
   "metadata": {},
   "source": [
    "# Set algebra\n",
    "\n",
    "## Sets: is element in or not"
   ]
  },
  {
   "cell_type": "code",
   "execution_count": 13,
   "metadata": {},
   "outputs": [
    {
     "data": {
      "text/plain": [
       "False"
      ]
     },
     "execution_count": 13,
     "metadata": {},
     "output_type": "execute_result"
    }
   ],
   "source": [
    "\"milk\" in tiramisuIngredients"
   ]
  },
  {
   "cell_type": "code",
   "execution_count": 14,
   "metadata": {},
   "outputs": [
    {
     "data": {
      "text/plain": [
       "True"
      ]
     },
     "execution_count": 14,
     "metadata": {},
     "output_type": "execute_result"
    }
   ],
   "source": [
    "\"milk\" not in tiramisuIngredients"
   ]
  },
  {
   "cell_type": "code",
   "execution_count": 15,
   "metadata": {},
   "outputs": [
    {
     "name": "stdout",
     "output_type": "stream",
     "text": [
      "['espresso', 'butter', 'strawberries', 'cocoa', 'eggs']\n"
     ]
    },
    {
     "data": {
      "text/plain": [
       "[('espresso', False),\n",
       " ('butter', True),\n",
       " ('strawberries', True),\n",
       " ('cocoa', True),\n",
       " ('eggs', False)]"
      ]
     },
     "execution_count": 15,
     "metadata": {},
     "output_type": "execute_result"
    }
   ],
   "source": [
    "# A True/False map whether an in-house-ingredient is not needed for tiramisu\n",
    "print([ing for ing in inHouseIngredients])\n",
    "[(ing, ing not in tiramisuIngredients) for ing in inHouseIngredients]"
   ]
  },
  {
   "cell_type": "markdown",
   "metadata": {},
   "source": [
    "Note: the set methods issubset(...) and issuperset(...) allow to test whether all elements of one set are also present in the other set.The same functions are provided though <=, => operators. The == allows to check whether two sets have identical elements."
   ]
  },
  {
   "cell_type": "code",
   "execution_count": 16,
   "metadata": {},
   "outputs": [
    {
     "data": {
      "text/plain": [
       "False"
      ]
     },
     "execution_count": 16,
     "metadata": {},
     "output_type": "execute_result"
    }
   ],
   "source": [
    "tiramisuIngredients.issubset(inHouseIngredients)"
   ]
  },
  {
   "cell_type": "markdown",
   "metadata": {},
   "source": [
    "# Sets: adding/removing elements"
   ]
  },
  {
   "cell_type": "code",
   "execution_count": 17,
   "metadata": {},
   "outputs": [
    {
     "name": "stdout",
     "output_type": "stream",
     "text": [
      "{'espresso', 'butter', 'strawberries', 'cocoa', 'eggs'}\n",
      "{'espresso', 'butter', 'strawberries', 'bread', 'cocoa', 'eggs'}\n",
      "{'espresso', 'butter', 'salmi', 'strawberries', 'tomato', 'bread', 'cocoa', 'eggs'}\n",
      "None\n"
     ]
    }
   ],
   "source": [
    "print(inHouseIngredients)\n",
    "# for a single elment:\n",
    "inHouseIngredients.add(\"bread\")\n",
    "print(inHouseIngredients)\n",
    "\n",
    "# for an iterable collection of elements ( it can also be another set)\n",
    "inHouseIngredients.update([\"salmi\", \"tomato\"])\n",
    "print(inHouseIngredients)\n",
    "\n",
    "print(inHouseIngredients.update({\"food\"}))"
   ]
  },
  {
   "cell_type": "code",
   "execution_count": 18,
   "metadata": {},
   "outputs": [
    {
     "name": "stdout",
     "output_type": "stream",
     "text": [
      "{'espresso', 'butter', 'salmi', 'strawberries', 'tomato', 'food', 'cocoa', 'eggs'}\n",
      "{'espresso', 'butter', 'salmi', 'strawberries', 'tomato', 'food', 'cocoa', 'eggs'}\n"
     ]
    }
   ],
   "source": [
    "# For an element currently in the set\n",
    "inHouseIngredients.remove(\"bread\")\n",
    "print(inHouseIngredients)\n",
    "\n",
    "# Note: KeyError exception would be raised because \"BREAD\" is not in the set:\n",
    "# inHouseIngredients.remove( \"BREAD\" ) \n",
    "\n",
    "# For value which might be in the set but no error when the value is not there\n",
    "inHouseIngredients.discard(\"BREAD\")\n",
    "print(inHouseIngredients)"
   ]
  },
  {
   "cell_type": "markdown",
   "metadata": {},
   "source": [
    "# Sets: a loop over all elements"
   ]
  },
  {
   "cell_type": "code",
   "execution_count": 19,
   "metadata": {},
   "outputs": [
    {
     "name": "stdout",
     "output_type": "stream",
     "text": [
      "Needed for tiramisu: espresso\n",
      "Needed for tiramisu: espresso\n",
      "Needed for tiramisu: mascarpone\n",
      "Needed for tiramisu: mascarpone\n",
      "Needed for tiramisu: eggs\n",
      "Needed for tiramisu: eggs\n",
      "Needed for tiramisu: ladyfingers\n",
      "Needed for tiramisu: ladyfingers\n",
      "Needed for tiramisu: sugar\n",
      "Needed for tiramisu: sugar\n",
      "***\n"
     ]
    }
   ],
   "source": [
    "for ing in tiramisuIngredients:\n",
    "    print(\"Needed for tiramisu:\", ing)\n",
    "    print(f\"Needed for tiramisu: {ing}\")\n",
    "print(\"***\")"
   ]
  },
  {
   "cell_type": "markdown",
   "metadata": {},
   "source": [
    "# Dictionaries\n",
    "Dict is a built-in data type with the follwing properties:\n",
    "\n",
    "1. (key, value), key cannot be replicated; it is possible whether a key is in or not in a dict object\n",
    "\n",
    "2. the keys must be immutable type but the values corresponding to a key can be modified.\n",
    "\n",
    "3. new items can be added, existing items can be removed\n",
    "\n",
    "4. for loops can iterate over all items of a dictionary, or over the keys, or over values.\n",
    "\n",
    "5. the order of a dictionary is not trustworthy\n"
   ]
  },
  {
   "cell_type": "code",
   "execution_count": 20,
   "metadata": {},
   "outputs": [
    {
     "name": "stdout",
     "output_type": "stream",
     "text": [
      "{'Mon': 2330, 'Tue': 1990, 'Wed': 2150}\n",
      "dict_keys(['Mon', 'Tue', 'Wed'])\n",
      "2330\n"
     ]
    }
   ],
   "source": [
    "# A new dictionary\n",
    "day2KCal = {\"Mon\": 2330, \"Tue\":1990, \"Wed\": 2150}\n",
    "print(day2KCal)\n",
    "print(day2KCal.keys())\n",
    "print(day2KCal[\"Mon\"])"
   ]
  },
  {
   "cell_type": "code",
   "execution_count": 21,
   "metadata": {},
   "outputs": [
    {
     "data": {
      "text/plain": [
       "dict"
      ]
     },
     "execution_count": 21,
     "metadata": {},
     "output_type": "execute_result"
    }
   ],
   "source": [
    "type(day2KCal)"
   ]
  },
  {
   "cell_type": "code",
   "execution_count": 22,
   "metadata": {},
   "outputs": [
    {
     "data": {
      "text/plain": [
       "{'Mon': 1000, 'Tue': 1990, 'Wed': 2150}"
      ]
     },
     "execution_count": 22,
     "metadata": {},
     "output_type": "execute_result"
    }
   ],
   "source": [
    "{  \"Mon\": 2330, \"Tue\": 1990, \"Wed\": 2150, \"Mon\": 1000 }"
   ]
  },
  {
   "cell_type": "code",
   "execution_count": 23,
   "metadata": {},
   "outputs": [
    {
     "name": "stdout",
     "output_type": "stream",
     "text": [
      "{'Mon': 2330, 'Tue': 1990, 'Wed': 2150, 'Thu': 2290, 'Fri': 1920, 'Sat': 2370, 'Sun': 2050}\n",
      "7\n"
     ]
    }
   ],
   "source": [
    "days = (\"Mon\", \"Tue\", \"Wed\", \"Thu\", \"Fri\", \"Sat\", \"Sun\")     # a tuple, having an valid order\n",
    "dayKCals = [ 2330, 1990, 2150, 2290, 1920, 2370, 2050 ]         # a list, having an valid order\n",
    "zip( days, dayKCals )           # a generator, iterable over tuples (day, dayKCal)\n",
    "list( zip( days, dayKCals ) )   # a list of tuples generated by the generator\n",
    "\n",
    "day2KCal = dict( zip( days, dayKCals ) )\n",
    "print(day2KCal)\n",
    "print(len(day2KCal))"
   ]
  },
  {
   "cell_type": "markdown",
   "metadata": {},
   "source": [
    "# Dict: getting, adding or modifying elements"
   ]
  },
  {
   "cell_type": "code",
   "execution_count": 27,
   "metadata": {},
   "outputs": [
    {
     "name": "stdout",
     "output_type": "stream",
     "text": [
      "{'Mon': 2330, 'Tue': 1990, 'Wed': 2150}\n"
     ]
    },
    {
     "data": {
      "text/plain": [
       "{'Mon': 2330, 'Tue': 1990, 'Wed': 2150, 'Thu': 2290}"
      ]
     },
     "execution_count": 27,
     "metadata": {},
     "output_type": "execute_result"
    }
   ],
   "source": [
    "day2KCal = { \"Mon\": 2330, \"Tue\": 1990, \"Wed\": 2150 }\n",
    "print(day2KCal)\n",
    "\n",
    "# to add a new value or change a value for a single key\n",
    "day2KCal[\"Thu\"] = 2290\n",
    "day2KCal\n"
   ]
  },
  {
   "cell_type": "code",
   "execution_count": 28,
   "metadata": {},
   "outputs": [
    {
     "data": {
      "text/plain": [
       "{'Mon': 2330, 'Tue': 1990, 'Wed': 2150, 'Thu': 2290, 'Fri': 1920, 'Sat': 2370}"
      ]
     },
     "execution_count": 28,
     "metadata": {},
     "output_type": "execute_result"
    }
   ],
   "source": [
    "# Multiple items can be added/updated by calling update(), for an iterable over (key, value) items\n",
    "day2KCal.update([(\"Fri\", 1920), (\"Sat\", 2370)])\n",
    "day2KCal"
   ]
  },
  {
   "cell_type": "code",
   "execution_count": 30,
   "metadata": {},
   "outputs": [
    {
     "name": "stdout",
     "output_type": "stream",
     "text": [
      "2330\n"
     ]
    },
    {
     "ename": "KeyError",
     "evalue": "'Monday'",
     "output_type": "error",
     "traceback": [
      "\u001b[1;31m---------------------------------------------------------------------------\u001b[0m",
      "\u001b[1;31mKeyError\u001b[0m                                  Traceback (most recent call last)",
      "Cell \u001b[1;32mIn[30], line 3\u001b[0m\n\u001b[0;32m      1\u001b[0m \u001b[38;5;66;03m# to obatin the value for a provided key\u001b[39;00m\n\u001b[0;32m      2\u001b[0m \u001b[38;5;28mprint\u001b[39m(day2KCal[\u001b[38;5;124m\"\u001b[39m\u001b[38;5;124mMon\u001b[39m\u001b[38;5;124m\"\u001b[39m])\n\u001b[1;32m----> 3\u001b[0m day2KCal[\u001b[38;5;124m\"\u001b[39m\u001b[38;5;124mMonday\u001b[39m\u001b[38;5;124m\"\u001b[39m]\n",
      "\u001b[1;31mKeyError\u001b[0m: 'Monday'"
     ]
    }
   ],
   "source": [
    "# to obatin the value for a provided key\n",
    "print(day2KCal[\"Mon\"])\n",
    "day2KCal[\"Monday\"]"
   ]
  },
  {
   "cell_type": "code",
   "execution_count": 31,
   "metadata": {},
   "outputs": [
    {
     "data": {
      "text/plain": [
       "100"
      ]
     },
     "execution_count": 31,
     "metadata": {},
     "output_type": "execute_result"
    }
   ],
   "source": [
    "# The get(key, defaultValue) function may be used to avoid exceptins when the key is missing in the dictionary.\n",
    "# Then the defaultValue is returned\n",
    "\n",
    "day2KCal.get(\"Monday\", 100)"
   ]
  },
  {
   "cell_type": "code",
   "execution_count": 32,
   "metadata": {},
   "outputs": [
    {
     "data": {
      "text/plain": [
       "False"
      ]
     },
     "execution_count": 32,
     "metadata": {},
     "output_type": "execute_result"
    }
   ],
   "source": [
    "\"Tuesday\" in dayKCals"
   ]
  },
  {
   "cell_type": "code",
   "execution_count": 33,
   "metadata": {},
   "outputs": [
    {
     "data": {
      "text/plain": [
       "True"
      ]
     },
     "execution_count": 33,
     "metadata": {},
     "output_type": "execute_result"
    }
   ],
   "source": [
    "aKey = \"Tuesday\"\n",
    "aKey not in day2KCal"
   ]
  },
  {
   "cell_type": "markdown",
   "metadata": {},
   "source": [
    "# Dict: removing an element"
   ]
  },
  {
   "cell_type": "code",
   "execution_count": 39,
   "metadata": {},
   "outputs": [
    {
     "name": "stdout",
     "output_type": "stream",
     "text": [
      "1990\n"
     ]
    }
   ],
   "source": [
    "# A few possiblities exists to remove an element\n",
    "day2KCal = { \"Mon\": 2330, \"Tue\": 1990, \"Wed\": 2150}\n",
    "print(day2KCal.pop(\"Tue\")) # removes Tue but returns the value which Tue had\n",
    "                    # raises exception if the key is not found\n",
    "day2KCal.pop(\"Monday\", None) # remove only when the is present; return the second argument\n",
    "                             # does not raise exception if the key not found\n"
   ]
  },
  {
   "cell_type": "code",
   "execution_count": 41,
   "metadata": {},
   "outputs": [
    {
     "ename": "KeyError",
     "evalue": "'Mon'",
     "output_type": "error",
     "traceback": [
      "\u001b[1;31m---------------------------------------------------------------------------\u001b[0m",
      "\u001b[1;31mKeyError\u001b[0m                                  Traceback (most recent call last)",
      "Cell \u001b[1;32mIn[41], line 1\u001b[0m\n\u001b[1;32m----> 1\u001b[0m \u001b[38;5;28;01mdel\u001b[39;00m day2KCal[\u001b[38;5;124m\"\u001b[39m\u001b[38;5;124mMon\u001b[39m\u001b[38;5;124m\"\u001b[39m]\n",
      "\u001b[1;31mKeyError\u001b[0m: 'Mon'"
     ]
    }
   ],
   "source": [
    "del day2KCal[\"Mon\"] # also remove an existing element\n",
    "                    # raises exception if the key is not found"
   ]
  },
  {
   "cell_type": "markdown",
   "metadata": {},
   "source": [
    "# Dict: all keys, all values or their pairs"
   ]
  },
  {
   "cell_type": "code",
   "execution_count": 42,
   "metadata": {},
   "outputs": [
    {
     "data": {
      "text/plain": [
       "dict_values([2330, 1990, 2150])"
      ]
     },
     "execution_count": 42,
     "metadata": {},
     "output_type": "execute_result"
    }
   ],
   "source": [
    "# with values() it is possible to iterate over all values in a dictionary:\n",
    "day2KCal = {\"Mon\": 2330, \"Tue\": 1990, \"Wed\": 2150}\n",
    "day2KCal.values()"
   ]
  },
  {
   "cell_type": "code",
   "execution_count": 43,
   "metadata": {},
   "outputs": [
    {
     "data": {
      "text/plain": [
       "[9748.720000000001, 8326.16, 8995.6]"
      ]
     },
     "execution_count": 43,
     "metadata": {},
     "output_type": "execute_result"
    }
   ],
   "source": [
    "kJoules = [kCal * 4.184 for kCal in day2KCal.values()]\n",
    "kJoules"
   ]
  },
  {
   "cell_type": "code",
   "execution_count": 46,
   "metadata": {},
   "outputs": [
    {
     "name": "stdout",
     "output_type": "stream",
     "text": [
      "dict_items([('Mon', 2330), ('Tue', 1990), ('Wed', 2150)])\n"
     ]
    },
    {
     "data": {
      "text/plain": [
       "{'Mon': 9748.720000000001, 'Tue': 8326.16, 'Wed': 8995.6}"
      ]
     },
     "execution_count": 46,
     "metadata": {},
     "output_type": "execute_result"
    }
   ],
   "source": [
    "print(day2KCal.items())\n",
    "day2KJoule = {day:kCal*4.184 for day, kCal in day2KCal.items()}\n",
    "day2KJoule"
   ]
  },
  {
   "cell_type": "code",
   "execution_count": 48,
   "metadata": {},
   "outputs": [
    {
     "name": "stdout",
     "output_type": "stream",
     "text": [
      "dict_keys(['Mon', 'Tue', 'Wed'])\n"
     ]
    },
    {
     "data": {
      "text/plain": [
       "('Mon', 'Tue', 'Wed')"
      ]
     },
     "execution_count": 48,
     "metadata": {},
     "output_type": "execute_result"
    }
   ],
   "source": [
    "print(day2KCal.keys())\n",
    "days = tuple(day2KCal.keys())\n",
    "days"
   ]
  },
  {
   "cell_type": "markdown",
   "metadata": {},
   "source": [
    "# Dict: a loop over elements\n",
    "items(), values(), keys() can also be used in loops"
   ]
  },
  {
   "cell_type": "code",
   "execution_count": 51,
   "metadata": {},
   "outputs": [
    {
     "name": "stdout",
     "output_type": "stream",
     "text": [
      "On Mon consumed food was 2330 kCal or 9748.720000000001 kJ.\n",
      "On Tue consumed food was 1990 kCal or 8326.16 kJ.\n",
      "On Wed consumed food was 2150 kCal or 8995.6 kJ.\n"
     ]
    }
   ],
   "source": [
    "day2KCal = { \"Mon\": 2330, \"Tue\": 1990, \"Wed\": 2150 }\n",
    "for day, kCal in day2KCal.items():\n",
    "    print(\"On\", day, \"consumed food was\", kCal, \"kCal or\", kCal*4.184, \"kJ.\")"
   ]
  },
  {
   "cell_type": "markdown",
   "metadata": {},
   "source": [
    "# Formatting strings\n"
   ]
  },
  {
   "cell_type": "code",
   "execution_count": 52,
   "metadata": {},
   "outputs": [
    {
     "name": "stdout",
     "output_type": "stream",
     "text": [
      "On Mon consumed food was 2330 or 9748.720000000001 kJ.\n",
      "On Tue consumed food was 1990 or 8326.16 kJ.\n",
      "On Wed consumed food was 2150 or 8995.6 kJ.\n"
     ]
    }
   ],
   "source": [
    "day2KCal = {\"Mon\": 2330, \"Tue\":1990, \"Wed\":2150}\n",
    "for day, kCal in day2KCal.items():\n",
    "    print(f\"On {day} consumed food was {kCal} or {kCal * 4.184} kJ.\")\n"
   ]
  },
  {
   "cell_type": "code",
   "execution_count": 53,
   "metadata": {},
   "outputs": [
    {
     "data": {
      "text/plain": [
       "'Statistics and Data Science'"
      ]
     },
     "execution_count": 53,
     "metadata": {},
     "output_type": "execute_result"
    }
   ],
   "source": [
    "x = \"Statistics\"\n",
    "y = \"Data Science\"\n",
    "f\"{x} and {y}\""
   ]
  },
  {
   "cell_type": "code",
   "execution_count": 54,
   "metadata": {},
   "outputs": [
    {
     "data": {
      "text/plain": [
       "'Statistics and Data Science'"
      ]
     },
     "execution_count": 54,
     "metadata": {},
     "output_type": "execute_result"
    }
   ],
   "source": [
    "f\"{x}\" \" and \" f'{y}'            # Note, there are several strings here\n",
    "                                 # and they get concatenated"
   ]
  },
  {
   "cell_type": "code",
   "execution_count": 55,
   "metadata": {},
   "outputs": [
    {
     "data": {
      "text/plain": [
       "'Statistics and Data Science'"
      ]
     },
     "execution_count": 55,
     "metadata": {},
     "output_type": "execute_result"
    }
   ],
   "source": [
    "( f\"{x}\"\n",
    "\" and \"\n",
    "f\"{y}\" )"
   ]
  },
  {
   "cell_type": "code",
   "execution_count": 56,
   "metadata": {},
   "outputs": [
    {
     "data": {
      "text/plain": [
       "{'               full precision': '3.141592653589793',\n",
       " '                  four digits': '3.1416',\n",
       " 'four digits and forced + sign': '+3.1416',\n",
       " '                right aligned': '      3.1416',\n",
       " '               center aligned': '   3.1416   ',\n",
       " '                 left aligned': '3.1416      ',\n",
       " '            exponent notation': '3.1416e+03',\n",
       " '        with comma separators': '3,141,592.65'}"
      ]
     },
     "execution_count": 56,
     "metadata": {},
     "output_type": "execute_result"
    }
   ],
   "source": [
    "from math import pi\n",
    "{ \n",
    "    \"               full precision\":  f\"{pi}\",\n",
    "    \"                  four digits\":  f\"{pi:.4f}\",\n",
    "    \"four digits and forced + sign\":  f\"{pi:+.4f}\",\n",
    "    \"                right aligned\":  f\"{pi:12.4f}\",\n",
    "    \"               center aligned\":  f\"{pi:^12.4f}\",\n",
    "    \"                 left aligned\":  f\"{pi:<12.4f}\",\n",
    "    \"            exponent notation\":  f\"{pi * 1000:.4e}\",\n",
    "    \"        with comma separators\":  f\"{pi * 1e6:,.2f}\",     # Note: the comma here is ok\n",
    "}\n"
   ]
  },
  {
   "cell_type": "code",
   "execution_count": 66,
   "metadata": {},
   "outputs": [
    {
     "name": "stdout",
     "output_type": "stream",
     "text": [
      "20\n"
     ]
    },
    {
     "data": {
      "text/plain": [
       "{0, 1, 2, 3, 4, 6, 7, 8, 9, 10}"
      ]
     },
     "execution_count": 66,
     "metadata": {},
     "output_type": "execute_result"
    }
   ],
   "source": [
    "# Self-study tasks\n",
    "## Generating random integers\n",
    "from random import randint\n",
    "vs = [randint(0, 10) for i in range(0, 20)]\n",
    "print(len(vs))\n",
    "set(vs)"
   ]
  },
  {
   "cell_type": "code",
   "execution_count": 73,
   "metadata": {},
   "outputs": [
    {
     "name": "stdout",
     "output_type": "stream",
     "text": [
      "{0: 1, 1: 1, 2: 1, 3: 1, 4: 1, 6: 1, 7: 1, 8: 1, 9: 1, 10: 1}\n"
     ]
    }
   ],
   "source": [
    "# Counting elements\n",
    "v2nct = {}\n",
    "for num in set(vs):\n",
    "    if num not in v2nct.keys():\n",
    "        v2nct[num] = 1\n",
    "    else:\n",
    "         v2nct[num] += 1\n",
    "print(v2nct)"
   ]
  },
  {
   "cell_type": "code",
   "execution_count": 74,
   "metadata": {},
   "outputs": [
    {
     "name": "stdout",
     "output_type": "stream",
     "text": [
      "<built-in method count of list object at 0x000002111C80BC40>\n"
     ]
    }
   ],
   "source": [
    "print(vs.count)"
   ]
  },
  {
   "cell_type": "markdown",
   "metadata": {},
   "source": [
    "# Removing from a dictionary all itmes of given values"
   ]
  },
  {
   "cell_type": "code",
   "execution_count": 76,
   "metadata": {},
   "outputs": [
    {
     "name": "stdout",
     "output_type": "stream",
     "text": [
      "['VA-111-V', 'AB-111-E', 'ER-222-U', 'BV-333-Z', 'CC-111-J', 'GF-333-U', 'WT-111-K', 'KJ-222-Q', 'LK-333-I']\n",
      "{'SB-222-W': 'red', 'XC-333-L': 'red', 'UI-222-R': 'green'}\n"
     ]
    }
   ],
   "source": [
    "licPlate2color = {\n",
    "    \"VA-111-V\": \"silver\", \"SB-222-W\": \"red\", \"XC-333-L\": \"red\",\n",
    "    \"AB-111-E\": \"white\", \"ER-222-U\": \"black\", \"BV-333-Z\": \"white\",\n",
    "    \"CC-111-J\": \"silver\", \"UI-222-R\": \"green\", \"GF-333-U\": \"silver\",\n",
    "    \"WT-111-K\": \"white\", \"KJ-222-Q\": \"silver\", \"LK-333-I\": \"black\",\n",
    "}\n",
    "toRemoveColors = [ \"white\", \"silver\", \"black\" ]\n",
    "\n",
    "toRemoveKeys = []\n",
    "for key, value in licPlate2color.items():\n",
    "    if value in toRemoveColors:\n",
    "        toRemoveKeys.append(key)\n",
    "    else: continue\n",
    "print(toRemoveKeys)\n",
    "\n",
    "for key in toRemoveKeys:\n",
    "    licPlate2color.pop(key, None)\n",
    "print(licPlate2color)"
   ]
  },
  {
   "cell_type": "markdown",
   "metadata": {},
   "source": [
    "# Build a dictionary with values being lists"
   ]
  },
  {
   "cell_type": "code",
   "execution_count": 4,
   "metadata": {},
   "outputs": [
    {
     "name": "stdout",
     "output_type": "stream",
     "text": [
      "{'pl': ['Grzegorz', 'Małgorzata', 'Paweł'], 'nl': ['Jeroen', 'Sanne'], 'es': ['Ana', 'Sofia', 'Javier', 'Sofia']}\n",
      "defaultdict(<class 'list'>, {'pl': ['Grzegorz', 'Małgorzata', 'Paweł'], 'nl': ['Jeroen', 'Sanne'], 'es': ['Ana', 'Sofia', 'Javier', 'Sofia']})\n"
     ]
    }
   ],
   "source": [
    "names =     [\"Grzegorz\", \"Małgorzata\", \"Paweł\", \"Jeroen\", \"Sanne\", \"Ana\", \"Sofia\", \"Javier\", \"Sofia\"]\n",
    "countries = [\"pl\",       \"pl\",         \"pl\",    \"nl\",     \"nl\",    \"es\",  \"es\",    \"es\",     \"es\"]\n",
    "\n",
    "from collections import defaultdict\n",
    "zippedList = list(zip(countries, names))\n",
    "#print(zippedList)\n",
    "\n",
    "country2names = {}\n",
    "for (country, name) in zippedList:\n",
    "    if country not in country2names.keys():\n",
    "        country2names[country] = [name]\n",
    "    else: \n",
    "        country2names[country].append(name)\n",
    "print(country2names)\n",
    "\n",
    "country2names = defaultdict(list) # generate an dict with its values beng an empty list; not necessary to check the exitence of keys every time\n",
    "for (country, name) in zippedList:\n",
    "     country2names[country].append(name)\n",
    "print(country2names)\n"
   ]
  },
  {
   "cell_type": "markdown",
   "metadata": {},
   "source": [
    "# Reverse a list and sample elements"
   ]
  },
  {
   "cell_type": "code",
   "execution_count": 5,
   "metadata": {},
   "outputs": [
    {
     "name": "stdout",
     "output_type": "stream",
     "text": [
      "defaultdict(<class 'list'>, {'setter': ['Chen', 'Martijn'], 'dia': ['Marnick', 'Simon'], 'middle': ['David', 'Luuk'], 'outside': ['Ronald', 'Alex', 'Kadir', 'Koen']})\n"
     ]
    },
    {
     "data": {
      "text/plain": [
       "{'setter': ['Chen'],\n",
       " 'dia': ['Marnick'],\n",
       " 'middle': ['Luuk', 'David'],\n",
       " 'outside': ['Ronald', 'Kadir']}"
      ]
     },
     "execution_count": 5,
     "metadata": {},
     "output_type": "execute_result"
    }
   ],
   "source": [
    "from random import sample\n",
    "\n",
    "role2num = { \"setter\": 1, \"dia\": 1, \"middle\": 2, \"outside\": 2 }\n",
    "\n",
    "player2role = { \n",
    "    \"Chen\": \"setter\", \"Martijn\": \"setter\",\n",
    "    \"Marnick\": \"dia\", \"Simon\": \"dia\",\n",
    "    \"David\": \"middle\", \"Luuk\": \"middle\",\n",
    "    \"Ronald\": \"outside\", \"Alex\": \"outside\", \"Kadir\": \"outside\", \"Koen\": \"outside\"\n",
    "}\n",
    "\n",
    "\n",
    "role2players = defaultdict(list)\n",
    "for player, role in player2role.items():\n",
    "    role2players[role].append(player)\n",
    "print(role2players)\n",
    "\n",
    "Team = {role:sample(players, role2num[role]) for role, players in role2players.items()}\n",
    "Team\n"
   ]
  },
  {
   "cell_type": "markdown",
   "metadata": {},
   "source": [
    "# NATO phonoetic alphabet"
   ]
  },
  {
   "cell_type": "code",
   "execution_count": null,
   "metadata": {},
   "outputs": [],
   "source": []
  }
 ],
 "metadata": {
  "kernelspec": {
   "display_name": "base",
   "language": "python",
   "name": "python3"
  },
  "language_info": {
   "codemirror_mode": {
    "name": "ipython",
    "version": 3
   },
   "file_extension": ".py",
   "mimetype": "text/x-python",
   "name": "python",
   "nbconvert_exporter": "python",
   "pygments_lexer": "ipython3",
   "version": "3.11.5"
  }
 },
 "nbformat": 4,
 "nbformat_minor": 2
}
