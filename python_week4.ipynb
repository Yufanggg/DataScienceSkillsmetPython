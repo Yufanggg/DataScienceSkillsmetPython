{
 "cells": [
  {
   "cell_type": "markdown",
   "metadata": {},
   "source": [
    "# Object-oriented programming\n",
    "\n",
    "## 1. python object oriented programming\n",
    "## 2. Git/Github assignment preparation"
   ]
  },
  {
   "cell_type": "code",
   "execution_count": 7,
   "metadata": {},
   "outputs": [],
   "source": [
    "def my_mean():\n",
    "    return None\n",
    "\n",
    "class Supplement:\n",
    "    def __init__(self, name, kcal):\n",
    "        \"\"\"\n",
    "        :name the name of the supplement\n",
    "        :kcal kilocalorie per 100 gram\n",
    "        \"\"\"\n",
    "        self.__name__ = name\n",
    "        self.__kcal__ = kcal\n",
    "    \n",
    "    def __repr__(self):\n",
    "        return(f\"{self.__name__}: {self.__kcal__}kcal/100g\")\n",
    "\n",
    "pepper = Supplement(\"pepper\")"
   ]
  },
  {
   "cell_type": "code",
   "execution_count": 8,
   "metadata": {},
   "outputs": [
    {
     "data": {
      "text/plain": [
       "'sugar'"
      ]
     },
     "execution_count": 8,
     "metadata": {},
     "output_type": "execute_result"
    }
   ],
   "source": [
    "pepper.__name__"
   ]
  },
  {
   "cell_type": "code",
   "execution_count": 14,
   "metadata": {},
   "outputs": [
    {
     "data": {
      "text/plain": [
       "banana: 152kcal/165g"
      ]
     },
     "execution_count": 14,
     "metadata": {},
     "output_type": "execute_result"
    }
   ],
   "source": [
    "class Product:\n",
    "    def __init__(self, name, kcal, gram):\n",
    "        self._name = name\n",
    "        self._kcal = kcal\n",
    "        self._gram = gram\n",
    "    \n",
    "    def __repr__(self):\n",
    "        return (f\"{self._name}: {self._kcal}kcal/{self._gram}g\")\n",
    "    \n",
    "banana = Product(\"banana\", gram = 165, kcal =152)\n",
    "banana"
   ]
  },
  {
   "cell_type": "code",
   "execution_count": 16,
   "metadata": {},
   "outputs": [
    {
     "data": {
      "text/plain": [
       "57.0"
      ]
     },
     "execution_count": 16,
     "metadata": {},
     "output_type": "execute_result"
    }
   ],
   "source": [
    "class Supplement:\n",
    "    def __init__(self, name, kcal):\n",
    "        \"\"\"\n",
    "        111\n",
    "        \"\"\"\n",
    "        self._name = name\n",
    "        self._kcal = kcal\n",
    "    \n",
    "    def __repr__(self):\n",
    "        return (f\"{self._name}: {self._kcal}kcal/{self._gram}g\")\n",
    "    \n",
    "    def kcal_per_gram(self, gram):\n",
    "        return(self._kcal/100*gram)\n",
    "    \n",
    "sugar = Supplement(\"sugar\", kcal = 380)\n",
    "sugar.kcal_per_gram(15)"
   ]
  },
  {
   "cell_type": "code",
   "execution_count": 17,
   "metadata": {},
   "outputs": [
    {
     "name": "stdout",
     "output_type": "stream",
     "text": [
      "Help on class Supplement in module __main__:\n",
      "\n",
      "class Supplement(builtins.object)\n",
      " |  Supplement(name, kcal)\n",
      " |  \n",
      " |  Methods defined here:\n",
      " |  \n",
      " |  __init__(self, name, kcal)\n",
      " |      111\n",
      " |  \n",
      " |  __repr__(self)\n",
      " |      Return repr(self).\n",
      " |  \n",
      " |  kcal_per_gram(self, gram)\n",
      " |  \n",
      " |  ----------------------------------------------------------------------\n",
      " |  Data descriptors defined here:\n",
      " |  \n",
      " |  __dict__\n",
      " |      dictionary for instance variables (if defined)\n",
      " |  \n",
      " |  __weakref__\n",
      " |      list of weak references to the object (if defined)\n",
      "\n"
     ]
    }
   ],
   "source": [
    "help(Supplement)"
   ]
  },
  {
   "cell_type": "code",
   "execution_count": 18,
   "metadata": {},
   "outputs": [
    {
     "data": {
      "text/plain": [
       "<__main__.Mixed at 0x1c2e62d5ad0>"
      ]
     },
     "execution_count": 18,
     "metadata": {},
     "output_type": "execute_result"
    }
   ],
   "source": [
    "class Food:\n",
    "    def __init__(self, name):\n",
    "        self._name = name\n",
    "    \n",
    "    def name(self):\n",
    "        return (self._name)\n",
    "    \n",
    "    def kCalPerg(self, g):\n",
    "        raise TypeError()\n",
    "    \n",
    "    f = Food(\"mysterious food\")\n"
   ]
  },
  {
   "cell_type": "code",
   "execution_count": null,
   "metadata": {},
   "outputs": [],
   "source": [
    "\n",
    "class LooseFood(Food):\n",
    "    def __init__(self, name, kCalPer100g):\n",
    "        super().__init__(name)\n",
    "        self._kCalPer100g = kCalPer100g\n",
    "\n",
    "    def __repr__(self):\n",
    "        return(f\"{self._name}:{self._kCalPer100g}kCal/100g\")\n",
    "    \n",
    "    def kCalPerG(self, g):\n",
    "        return (self._kCalPer100g/100*g)"
   ]
  }
 ],
 "metadata": {
  "kernelspec": {
   "display_name": "base",
   "language": "python",
   "name": "python3"
  },
  "language_info": {
   "codemirror_mode": {
    "name": "ipython",
    "version": 3
   },
   "file_extension": ".py",
   "mimetype": "text/x-python",
   "name": "python",
   "nbconvert_exporter": "python",
   "pygments_lexer": "ipython3",
   "version": "3.11.5"
  }
 },
 "nbformat": 4,
 "nbformat_minor": 2
}
