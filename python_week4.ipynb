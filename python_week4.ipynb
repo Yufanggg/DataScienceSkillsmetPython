{
 "cells": [
  {
   "cell_type": "markdown",
   "metadata": {},
   "source": [
    "# Object-oriented programming\n",
    "\n",
    "## 1. python object oriented programming\n"
   ]
  },
  {
   "cell_type": "markdown",
   "metadata": {},
   "source": [
    "### A first class\n",
    "First, let's creat a class `looseFood`.\n",
    "It is supposed to keep data on this type of food which is typically eaten in different amounts and which is annotated with energy in 100g"
   ]
  },
  {
   "cell_type": "code",
   "execution_count": 13,
   "metadata": {},
   "outputs": [],
   "source": [
    "class LooseFood:\n",
    "    def __init__(self, name, kCalPer100g):\n",
    "        self._name = name\n",
    "        self._kCalPer100g = kCalPer100g"
   ]
  },
  {
   "cell_type": "markdown",
   "metadata": {},
   "source": [
    "The following code creates an instance of `LooseFood` (a new object of type `LooseFood` with its own data)"
   ]
  },
  {
   "cell_type": "code",
   "execution_count": 14,
   "metadata": {},
   "outputs": [
    {
     "name": "stdout",
     "output_type": "stream",
     "text": [
      "<__main__.LooseFood object at 0x00000220B2C04450>\n"
     ]
    }
   ],
   "source": [
    "sugar = LooseFood(name = \"sugar\", kCalPer100g = 380)\n",
    "print(sugar)"
   ]
  },
  {
   "cell_type": "markdown",
   "metadata": {},
   "source": [
    "The text shown above by the `print` command comes from a default `__repr__(...)` method.\n",
    "It is possible to override this method and provide an own text to be shown:"
   ]
  },
  {
   "cell_type": "code",
   "execution_count": 15,
   "metadata": {},
   "outputs": [],
   "source": [
    "class LooseFood:\n",
    "    def __init__(self, name, kCalPer100g):\n",
    "        self._name = name\n",
    "        self._kCalPer100g = kCalPer100g\n",
    "\n",
    "    def __repr__(self):\n",
    "        return(f\"{self._name}:{self._kCalPer100g}kCal/100g\")"
   ]
  },
  {
   "cell_type": "markdown",
   "metadata": {},
   "source": [
    "Note the output of the `print` command now:"
   ]
  },
  {
   "cell_type": "code",
   "execution_count": 22,
   "metadata": {},
   "outputs": [
    {
     "name": "stdout",
     "output_type": "stream",
     "text": [
      "sugar:380kCal/100g\n"
     ]
    }
   ],
   "source": [
    "sugar = LooseFood(name = \"sugar\", kCalPer100g = 380)\n",
    "print(sugar)"
   ]
  },
  {
   "cell_type": "markdown",
   "metadata": {},
   "source": [
    "Let's finally defines our own method `kCalPerG(g)`.\n",
    "\n",
    "This method calculates how many kCal of energy is in the amount of grams `g` of the food described by `self`:"
   ]
  },
  {
   "cell_type": "code",
   "execution_count": 23,
   "metadata": {},
   "outputs": [],
   "source": [
    "class LooseFood:\n",
    "    def __init__(self, name, kCalPer100g):\n",
    "        self._name = name\n",
    "        self._kCalPer100g = kCalPer100g\n",
    "    \n",
    "    def __repr__(self):\n",
    "        return(f\"{self._name}:{self._kCalPer100g}kCal/100g\")\n",
    "    \n",
    "    def kCalPerG(self, g):\n",
    "        return(self._kCalPer100g/100*g)"
   ]
  },
  {
   "cell_type": "markdown",
   "metadata": {},
   "source": [
    "Let's recrate the object with new class definition.\n",
    "Then, let's calculate the amount of kCal in 50 grams of surar:"
   ]
  },
  {
   "cell_type": "code",
   "execution_count": 25,
   "metadata": {},
   "outputs": [
    {
     "name": "stdout",
     "output_type": "stream",
     "text": [
      "50g of sugar of corresponds to 190.0 kCal\n"
     ]
    }
   ],
   "source": [
    "sugar = LooseFood(name = \"sugar\", kCalPer100g = 380)\n",
    "print(\"50g of sugar of corresponds to\", sugar.kCalPerG(50), \"kCal\")"
   ]
  },
  {
   "cell_type": "markdown",
   "metadata": {},
   "source": [
    "### A second class\n",
    "Let's follow the same scheme and define another class.\n",
    "`UnitFood` is a class supposed to describe food eaten in \"units\" (e.g., chocolate bars):"
   ]
  },
  {
   "cell_type": "code",
   "execution_count": 26,
   "metadata": {},
   "outputs": [
    {
     "data": {
      "text/plain": [
       "koop:138kCal/25g"
      ]
     },
     "execution_count": 26,
     "metadata": {},
     "output_type": "execute_result"
    }
   ],
   "source": [
    "class UnitFood:\n",
    "    def __init__(self, name, kCal, g):\n",
    "        self._name = name\n",
    "        self._kCal = kCal\n",
    "        self._g = g\n",
    "\n",
    "    def __repr__(self):\n",
    "        return(f\"{self._name}:{self._kCal}kCal/{self._g}g\")\n",
    "    \n",
    "    def kCalPerG(self, g):\n",
    "        return (self._kCal/self._g*g)\n",
    "    \n",
    "knop = UnitFood(name = \"koop\", kCal = 138, g = 25)\n",
    "knop"
   ]
  },
  {
   "cell_type": "markdown",
   "metadata": {},
   "source": [
    "### A base class\n",
    "Note, that `UnitFood` and `LooseFood` both store the `name`.\n",
    "The code to handle `name` should be identical for both classes.\n",
    "Let's define a base class `Food` which will be responsible for handling `name`.\n",
    "This will be an *abstract* class"
   ]
  },
  {
   "cell_type": "code",
   "execution_count": 28,
   "metadata": {},
   "outputs": [],
   "source": [
    "class Food:\n",
    "    def __init__(self, name):\n",
    "        self._name = name\n",
    "\n",
    "    def name(self):\n",
    "        return(self._name)\n",
    "    \n",
    "    def kCalPerG(self, g):\n",
    "        #abstract method: should be always overriden and never called here\n",
    "        raise TypeError\n",
    "    \n",
    "f = Food(\"mysterious food\") # This can be done, but we don't want that, this is an abstract classb"
   ]
  },
  {
   "cell_type": "markdown",
   "metadata": {},
   "source": [
    "Let's adjust `UnitFood` and `LooseFood` classes to express inheritance:"
   ]
  },
  {
   "cell_type": "code",
   "execution_count": 29,
   "metadata": {},
   "outputs": [],
   "source": [
    "class LooseFood(Food): #LooseFood inherits from Food\n",
    "    def __init__(self, name, kCalPer100g):\n",
    "        super().__init__(name)  #name is passed to the constuctor of Food\n",
    "        self._kCalPer100g = kCalPer100g\n",
    "\n",
    "    def __repr__(self):\n",
    "        return(f\"{self._name}:{self._kCalPer100g}kCal/100g\")\n",
    "    \n",
    "class UnitFood(Food):\n",
    "    def __init__(self, name, kCal, g):\n",
    "        super().__init__(name)\n",
    "        self._kCal = kCal\n",
    "        self._g = g\n",
    "    \n",
    "    def __repr__(self):\n",
    "        return(f\"{self._name}:{self._kCal}kCal/{self._g}g\")\n",
    "    \n",
    "    def kCalPerG(self, g):\n",
    "        return(self._kCal/self._g*g)\n"
   ]
  },
  {
   "cell_type": "markdown",
   "metadata": {},
   "source": [
    "We can create and use instances of the new classes"
   ]
  },
  {
   "cell_type": "code",
   "execution_count": 39,
   "metadata": {},
   "outputs": [
    {
     "name": "stdout",
     "output_type": "stream",
     "text": [
      "oat flakes:375kCal/100g\n",
      "knoppers:138kCal/25g\n",
      "552.0\n"
     ]
    }
   ],
   "source": [
    "of = LooseFood(\"oat flakes\", 375)\n",
    "print(of)\n",
    "# print(of.kCalPerG(g = 10))\n",
    "\n",
    "kp = UnitFood(\"knoppers\", kCal=138, g = 25)\n",
    "print(kp)\n",
    "print(kp.kCalPerG(100))\n"
   ]
  },
  {
   "cell_type": "markdown",
   "metadata": {},
   "source": [
    "The function `isinstance(obj, cls)` allows to check whether `obj` is an instance of the type `cls`:"
   ]
  },
  {
   "cell_type": "code",
   "execution_count": 40,
   "metadata": {},
   "outputs": [
    {
     "name": "stdout",
     "output_type": "stream",
     "text": [
      "isinstance (of, LooseFood): True\n",
      "isinstance(of, Food) True\n",
      "isinstance(of, UnitFood) False\n"
     ]
    }
   ],
   "source": [
    "print(\"isinstance (of, LooseFood):\", isinstance(of, LooseFood))\n",
    "print(\"isinstance(of, Food)\", isinstance(of, Food))\n",
    "print(\"isinstance(of, UnitFood)\", isinstance(of, UnitFood))"
   ]
  },
  {
   "cell_type": "markdown",
   "metadata": {},
   "source": [
    "The following example shows an array of elements which are of different types but they are also all `Food`:"
   ]
  },
  {
   "cell_type": "code",
   "execution_count": 35,
   "metadata": {},
   "outputs": [
    {
     "data": {
      "text/plain": [
       "True"
      ]
     },
     "execution_count": 35,
     "metadata": {},
     "output_type": "execute_result"
    }
   ],
   "source": [
    "foods = [LooseFood(\"oat flakes\", 375), UnitFood(\"knoppers\", kCal=138, g = 25)]\n",
    "all((isinstance(f, Food) for f in foods))"
   ]
  },
  {
   "cell_type": "markdown",
   "metadata": {},
   "source": [
    "### A third class\n",
    "Let's create the last class to describe food.\n",
    "This class is intended to represent a perfect mixture of different amounts of other `Food` elements."
   ]
  },
  {
   "cell_type": "code",
   "execution_count": 41,
   "metadata": {},
   "outputs": [],
   "source": [
    "class MixedFood(Food):\n",
    "    def __init__(self, name):\n",
    "        super().__init__(name)\n",
    "        self._foodGrams = []\n",
    "\n",
    "    def add(self, food, g): # add g grams of food to the mixture\n",
    "        self._foodGrams.append((food, g)) # add a tuple (food, g) to the instance list\n",
    "\n",
    "    def kCalPerG(self, g):\n",
    "        sumG = sum((fg[1] for fg in self._foodGrams))\n",
    "        sumKCal = sum((fg[0].kCalPerG(fg[1]) for fg in self._foodGrams))\n",
    "\n",
    "        return (sumKCal/sumG*g)\n",
    "    \n",
    "    def totalG(self):\n",
    "        return(sum(fg[1] for fg in self._foodGrams))\n",
    "    "
   ]
  },
  {
   "cell_type": "markdown",
   "metadata": {},
   "source": [
    "Let's create a mixture `porridge`"
   ]
  },
  {
   "cell_type": "code",
   "execution_count": 48,
   "metadata": {},
   "outputs": [
    {
     "ename": "TypeError",
     "evalue": "",
     "output_type": "error",
     "traceback": [
      "\u001b[1;31m---------------------------------------------------------------------------\u001b[0m",
      "\u001b[1;31mTypeError\u001b[0m                                 Traceback (most recent call last)",
      "Cell \u001b[1;32mIn[48], line 15\u001b[0m\n\u001b[0;32m     13\u001b[0m g\u001b[38;5;241m=\u001b[39mmf\u001b[38;5;241m.\u001b[39mtotalG()\n\u001b[0;32m     14\u001b[0m g\n\u001b[1;32m---> 15\u001b[0m mf\u001b[38;5;241m.\u001b[39mkCalPerG(\u001b[38;5;241m300\u001b[39m)\n",
      "Cell \u001b[1;32mIn[41], line 11\u001b[0m, in \u001b[0;36mMixedFood.kCalPerG\u001b[1;34m(self, g)\u001b[0m\n\u001b[0;32m      9\u001b[0m \u001b[38;5;28;01mdef\u001b[39;00m \u001b[38;5;21mkCalPerG\u001b[39m(\u001b[38;5;28mself\u001b[39m, g):\n\u001b[0;32m     10\u001b[0m     sumG \u001b[38;5;241m=\u001b[39m \u001b[38;5;28msum\u001b[39m((fg[\u001b[38;5;241m1\u001b[39m] \u001b[38;5;28;01mfor\u001b[39;00m fg \u001b[38;5;129;01min\u001b[39;00m \u001b[38;5;28mself\u001b[39m\u001b[38;5;241m.\u001b[39m_foodGrams))\n\u001b[1;32m---> 11\u001b[0m     sumKCal \u001b[38;5;241m=\u001b[39m \u001b[38;5;28msum\u001b[39m((fg[\u001b[38;5;241m0\u001b[39m]\u001b[38;5;241m.\u001b[39mkCalPerG(fg[\u001b[38;5;241m1\u001b[39m]) \u001b[38;5;28;01mfor\u001b[39;00m fg \u001b[38;5;129;01min\u001b[39;00m \u001b[38;5;28mself\u001b[39m\u001b[38;5;241m.\u001b[39m_foodGrams))\n\u001b[0;32m     13\u001b[0m     \u001b[38;5;28;01mreturn\u001b[39;00m (sumKCal\u001b[38;5;241m/\u001b[39msumG\u001b[38;5;241m*\u001b[39mg)\n",
      "Cell \u001b[1;32mIn[41], line 11\u001b[0m, in \u001b[0;36m<genexpr>\u001b[1;34m(.0)\u001b[0m\n\u001b[0;32m      9\u001b[0m \u001b[38;5;28;01mdef\u001b[39;00m \u001b[38;5;21mkCalPerG\u001b[39m(\u001b[38;5;28mself\u001b[39m, g):\n\u001b[0;32m     10\u001b[0m     sumG \u001b[38;5;241m=\u001b[39m \u001b[38;5;28msum\u001b[39m((fg[\u001b[38;5;241m1\u001b[39m] \u001b[38;5;28;01mfor\u001b[39;00m fg \u001b[38;5;129;01min\u001b[39;00m \u001b[38;5;28mself\u001b[39m\u001b[38;5;241m.\u001b[39m_foodGrams))\n\u001b[1;32m---> 11\u001b[0m     sumKCal \u001b[38;5;241m=\u001b[39m \u001b[38;5;28msum\u001b[39m((fg[\u001b[38;5;241m0\u001b[39m]\u001b[38;5;241m.\u001b[39mkCalPerG(fg[\u001b[38;5;241m1\u001b[39m]) \u001b[38;5;28;01mfor\u001b[39;00m fg \u001b[38;5;129;01min\u001b[39;00m \u001b[38;5;28mself\u001b[39m\u001b[38;5;241m.\u001b[39m_foodGrams))\n\u001b[0;32m     13\u001b[0m     \u001b[38;5;28;01mreturn\u001b[39;00m (sumKCal\u001b[38;5;241m/\u001b[39msumG\u001b[38;5;241m*\u001b[39mg)\n",
      "Cell \u001b[1;32mIn[28], line 10\u001b[0m, in \u001b[0;36mFood.kCalPerG\u001b[1;34m(self, g)\u001b[0m\n\u001b[0;32m      8\u001b[0m \u001b[38;5;28;01mdef\u001b[39;00m \u001b[38;5;21mkCalPerG\u001b[39m(\u001b[38;5;28mself\u001b[39m, g):\n\u001b[0;32m      9\u001b[0m     \u001b[38;5;66;03m#abstract method: should be always overriden and never called here\u001b[39;00m\n\u001b[1;32m---> 10\u001b[0m     \u001b[38;5;28;01mraise\u001b[39;00m \u001b[38;5;167;01mTypeError\u001b[39;00m\n",
      "\u001b[1;31mTypeError\u001b[0m: "
     ]
    }
   ],
   "source": [
    "of = LooseFood(name=\"oat flakes\", kCalPer100g=375)\n",
    "su = LooseFood(name=\"sugar\", kCalPer100g=380)\n",
    "hm = LooseFood(name=\"half milk\", kCalPer100g=46)\n",
    "bn = LooseFood(name=\"banana\", kCalPer100g=89)\n",
    "bb = LooseFood(name=\"blueberries\", kCalPer100g=57)\n",
    "\n",
    "mf = MixedFood(\"porridge\")\n",
    "mf.add(food=of, g=50)\n",
    "mf.add(food=su, g=5)\n",
    "mf.add(food=hm, g=75)\n",
    "mf.add(food=bn, g=100)\n",
    "mf.add(food=bb, g=70)\n",
    "g=mf.totalG()\n",
    "g\n",
    "mf.kCalPerG(300) # ?"
   ]
  },
  {
   "cell_type": "markdown",
   "metadata": {},
   "source": [
    "## Programming-related concepts\n",
    "\n",
    "### Scope of variables\n",
    "\n",
    "These are variables which exits or are accessible only in a part of a program.\n",
    "Consider the code:"
   ]
  },
  {
   "cell_type": "markdown",
   "metadata": {},
   "source": [
    "# Self-study tasks\n",
    "## Grid printing classes (simple inheritance, overriding functions)"
   ]
  },
  {
   "cell_type": "code",
   "execution_count": 61,
   "metadata": {},
   "outputs": [
    {
     "name": "stdout",
     "output_type": "stream",
     "text": [
      "##########\n",
      "#........#\n",
      "#........#\n",
      "#........#\n",
      "##########\n"
     ]
    }
   ],
   "source": [
    "\n",
    "class Grid:\n",
    "    def __init__(self, name):\n",
    "        self._name = name\n",
    "\n",
    "    def print(self, name):\n",
    "        print(self._name)\n",
    "    \n",
    "class XGrid(Grid):\n",
    "    def __init__(self, name, size):\n",
    "        super().__init__(name)\n",
    "        self._size = size\n",
    "\n",
    "    def print(self):\n",
    "        super().print(self._name)\n",
    "        for i in range(0, self._size):\n",
    "            for j in range(0, self._size):\n",
    "                if i == j or i + j == self._size - 1:\n",
    "                    print(\"#\", end = \"\")\n",
    "                else:\n",
    "                    print(\".\", end = \"\")\n",
    "            print(\"\\n\", end = \"\")\n",
    "\n",
    "class RectGrid(Grid):\n",
    "    def __init__(self, name, colSize, rowSize):\n",
    "        super().__init__(name)\n",
    "        self._colSize = colSize\n",
    "        self._rowSize = rowSize\n",
    "    \n",
    "    def print(self):\n",
    "        for i in range(0, self._rowSize):\n",
    "            for j in range(0, self._colSize):\n",
    "                if i in [0, self._rowSize-1] or j in [0, self._colSize - 1]:\n",
    "                    print(\"#\", end = \"\")\n",
    "                else:\n",
    "                    print(\".\", end = \"\")\n",
    "            print(\"\\n\", end = \"\")\n",
    "\n",
    "RG = RectGrid(name=\"A rectangle\", colSize=10, rowSize=5)\n",
    "RG.print()\n",
    "\n",
    "XG = XGrid(name = \"Large X\", size = 9)\n",
    "XG.print()"
   ]
  },
  {
   "cell_type": "markdown",
   "metadata": {},
   "source": [
    "### Matrix class (encapsulation, incremental code development, lambdas, raising exceptions)\n",
    "\n",
    "Python `list` can be used as a model of a mathematical one-dimensional vector.\n"
   ]
  },
  {
   "cell_type": "markdown",
   "metadata": {},
   "source": [
    "## 2. Git/Github assignment preparation"
   ]
  },
  {
   "cell_type": "code",
   "execution_count": null,
   "metadata": {},
   "outputs": [],
   "source": []
  },
  {
   "cell_type": "code",
   "execution_count": 17,
   "metadata": {},
   "outputs": [
    {
     "ename": "TypeError",
     "evalue": "Supplement.__init__() missing 1 required positional argument: 'kcal'",
     "output_type": "error",
     "traceback": [
      "\u001b[1;31m---------------------------------------------------------------------------\u001b[0m",
      "\u001b[1;31mTypeError\u001b[0m                                 Traceback (most recent call last)",
      "Cell \u001b[1;32mIn[17], line 16\u001b[0m\n\u001b[0;32m     13\u001b[0m     \u001b[38;5;28;01mdef\u001b[39;00m \u001b[38;5;21m__repr__\u001b[39m(\u001b[38;5;28mself\u001b[39m):\n\u001b[0;32m     14\u001b[0m         \u001b[38;5;28;01mreturn\u001b[39;00m(\u001b[38;5;124mf\u001b[39m\u001b[38;5;124m\"\u001b[39m\u001b[38;5;132;01m{\u001b[39;00m\u001b[38;5;28mself\u001b[39m\u001b[38;5;241m.\u001b[39m\u001b[38;5;18m__name__\u001b[39m\u001b[38;5;132;01m}\u001b[39;00m\u001b[38;5;124m: \u001b[39m\u001b[38;5;132;01m{\u001b[39;00m\u001b[38;5;28mself\u001b[39m\u001b[38;5;241m.\u001b[39m__kcal__\u001b[38;5;132;01m}\u001b[39;00m\u001b[38;5;124mkcal/100g\u001b[39m\u001b[38;5;124m\"\u001b[39m)\n\u001b[1;32m---> 16\u001b[0m pepper \u001b[38;5;241m=\u001b[39m Supplement(\u001b[38;5;124m\"\u001b[39m\u001b[38;5;124mpepper\u001b[39m\u001b[38;5;124m\"\u001b[39m)\n",
      "\u001b[1;31mTypeError\u001b[0m: Supplement.__init__() missing 1 required positional argument: 'kcal'"
     ]
    }
   ],
   "source": [
    "def my_mean():\n",
    "    return None\n",
    "\n",
    "class Supplement:\n",
    "    def __init__(self, name, kcal):\n",
    "        \"\"\"\n",
    "        :name the name of the supplement\n",
    "        :kcal kilocalorie per 100 gram\n",
    "        \"\"\"\n",
    "        self.__name__ = name\n",
    "        self.__kcal__ = kcal\n",
    "    \n",
    "    def __repr__(self):\n",
    "        return(f\"{self.__name__}: {self.__kcal__}kcal/100g\")\n",
    "\n",
    "pepper = Supplement(\"pepper\")"
   ]
  },
  {
   "cell_type": "code",
   "execution_count": null,
   "metadata": {},
   "outputs": [
    {
     "data": {
      "text/plain": [
       "'sugar'"
      ]
     },
     "execution_count": 8,
     "metadata": {},
     "output_type": "execute_result"
    }
   ],
   "source": [
    "pepper.__name__"
   ]
  },
  {
   "cell_type": "code",
   "execution_count": null,
   "metadata": {},
   "outputs": [
    {
     "data": {
      "text/plain": [
       "banana: 152kcal/165g"
      ]
     },
     "execution_count": 14,
     "metadata": {},
     "output_type": "execute_result"
    }
   ],
   "source": [
    "class Product:\n",
    "    def __init__(self, name, kcal, gram):\n",
    "        self._name = name\n",
    "        self._kcal = kcal\n",
    "        self._gram = gram\n",
    "    \n",
    "    def __repr__(self):\n",
    "        return (f\"{self._name}: {self._kcal}kcal/{self._gram}g\")\n",
    "    \n",
    "banana = Product(\"banana\", gram = 165, kcal =152)\n",
    "banana"
   ]
  },
  {
   "cell_type": "code",
   "execution_count": null,
   "metadata": {},
   "outputs": [
    {
     "data": {
      "text/plain": [
       "57.0"
      ]
     },
     "execution_count": 16,
     "metadata": {},
     "output_type": "execute_result"
    }
   ],
   "source": [
    "class Supplement:\n",
    "    def __init__(self, name, kcal):\n",
    "        \"\"\"\n",
    "        111\n",
    "        \"\"\"\n",
    "        self._name = name\n",
    "        self._kcal = kcal\n",
    "    \n",
    "    def __repr__(self):\n",
    "        return (f\"{self._name}: {self._kcal}kcal/{self._gram}g\")\n",
    "    \n",
    "    def kcal_per_gram(self, gram):\n",
    "        return(self._kcal/100*gram)\n",
    "    \n",
    "sugar = Supplement(\"sugar\", kcal = 380)\n",
    "sugar.kcal_per_gram(15)"
   ]
  },
  {
   "cell_type": "code",
   "execution_count": null,
   "metadata": {},
   "outputs": [
    {
     "name": "stdout",
     "output_type": "stream",
     "text": [
      "Help on class Supplement in module __main__:\n",
      "\n",
      "class Supplement(builtins.object)\n",
      " |  Supplement(name, kcal)\n",
      " |  \n",
      " |  Methods defined here:\n",
      " |  \n",
      " |  __init__(self, name, kcal)\n",
      " |      111\n",
      " |  \n",
      " |  __repr__(self)\n",
      " |      Return repr(self).\n",
      " |  \n",
      " |  kcal_per_gram(self, gram)\n",
      " |  \n",
      " |  ----------------------------------------------------------------------\n",
      " |  Data descriptors defined here:\n",
      " |  \n",
      " |  __dict__\n",
      " |      dictionary for instance variables (if defined)\n",
      " |  \n",
      " |  __weakref__\n",
      " |      list of weak references to the object (if defined)\n",
      "\n"
     ]
    }
   ],
   "source": [
    "help(Supplement)"
   ]
  },
  {
   "cell_type": "code",
   "execution_count": null,
   "metadata": {},
   "outputs": [
    {
     "data": {
      "text/plain": [
       "<__main__.Mixed at 0x1c2e62d5ad0>"
      ]
     },
     "execution_count": 18,
     "metadata": {},
     "output_type": "execute_result"
    }
   ],
   "source": [
    "class Food:\n",
    "    def __init__(self, name):\n",
    "        self._name = name\n",
    "    \n",
    "    def name(self):\n",
    "        return (self._name)\n",
    "    \n",
    "    def kCalPerg(self, g):\n",
    "        raise TypeError()\n",
    "    \n",
    "    f = Food(\"mysterious food\")\n"
   ]
  },
  {
   "cell_type": "code",
   "execution_count": null,
   "metadata": {},
   "outputs": [],
   "source": [
    "\n",
    "class LooseFood(Food):\n",
    "    def __init__(self, name, kCalPer100g):\n",
    "        super().__init__(name)\n",
    "        self._kCalPer100g = kCalPer100g\n",
    "\n",
    "    def __repr__(self):\n",
    "        return(f\"{self._name}:{self._kCalPer100g}kCal/100g\")\n",
    "    \n",
    "    def kCalPerG(self, g):\n",
    "        return (self._kCalPer100g/100*g)"
   ]
  }
 ],
 "metadata": {
  "kernelspec": {
   "display_name": "base",
   "language": "python",
   "name": "python3"
  },
  "language_info": {
   "codemirror_mode": {
    "name": "ipython",
    "version": 3
   },
   "file_extension": ".py",
   "mimetype": "text/x-python",
   "name": "python",
   "nbconvert_exporter": "python",
   "pygments_lexer": "ipython3",
   "version": "3.11.5"
  }
 },
 "nbformat": 4,
 "nbformat_minor": 2
}
